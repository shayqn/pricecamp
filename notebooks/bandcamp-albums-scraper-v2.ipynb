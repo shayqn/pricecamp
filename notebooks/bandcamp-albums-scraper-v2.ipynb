{
 "cells": [
  {
   "cell_type": "code",
   "execution_count": 1,
   "metadata": {
    "collapsed": true
   },
   "outputs": [],
   "source": [
    "import sklearn\n",
    "import matplotlib.pyplot as plt\n",
    "import seaborn as sns\n",
    "import pandas as pd\n",
    "import numpy as np\n",
    "from bs4 import BeautifulSoup\n",
    "import urllib\n",
    "import numpy as np\n",
    "import os\n",
    "import time\n",
    "from tqdm import tqdm\n",
    "from selenium import webdriver\n",
    "%matplotlib inline"
   ]
  },
  {
   "cell_type": "code",
   "execution_count": 2,
   "metadata": {},
   "outputs": [
    {
     "name": "stdout",
     "output_type": "stream",
     "text": [
      "There are 115586 unique records in the database now\n",
      "Total revenue: 867360.27\n"
     ]
    }
   ],
   "source": [
    "df = pd.read_csv('/Users/shayneufeld/Dropbox/insight/pricecamp/data/sales.csv',index_col=0)\n",
    "df = df.drop_duplicates()\n",
    "print('There are %.0f unique records in the database now' % df.shape[0])\n",
    "print('Total revenue: %.02f' % df.amount_paid_usd.sum())"
   ]
  },
  {
   "cell_type": "markdown",
   "metadata": {},
   "source": [
    "# define function for opening more albums"
   ]
  },
  {
   "cell_type": "code",
   "execution_count": 5,
   "metadata": {
    "collapsed": true
   },
   "outputs": [],
   "source": [
    "def reveal_albums(selenium_driver):    \n",
    "    #try implementing same thing for albums\n",
    "    showMore = selenium_driver.find_elements_by_css_selector('.showMore')\n",
    "    #there are 2 possible showMore buttons - for shows and for albums\n",
    "    #if there is a shows one, it comes first\n",
    "    el = []\n",
    "    if len(showMore) == 1:\n",
    "        el = showMore[0]\n",
    "    elif len(showMore) == 2:\n",
    "        el = showMore[1]\n",
    "    \n",
    "    #if there is a show more button, make sure it's 'more albums'\n",
    "    if el:\n",
    "        title = browser.title\n",
    "        text = el.find_element_by_tag_name('a').text\n",
    "        while text == 'more releases...':\n",
    "            el.click()\n",
    "            \n",
    "            if browser.title == title:\n",
    "                text = el.find_element_by_tag_name('a').text\n",
    "            else:\n",
    "                text = browser.title\n",
    "                \n",
    "    \n",
    "    return selenium_driver"
   ]
  },
  {
   "cell_type": "code",
   "execution_count": 6,
   "metadata": {
    "collapsed": true
   },
   "outputs": [],
   "source": [
    "def get_albums_urls(browser,page_type='album'):\n",
    "    \n",
    "    elems = []\n",
    "    if page_type == 'album':\n",
    "        elems = browser.find_elements_by_css_selector('.trackTitle')\n",
    "    elif page_type == 'music':\n",
    "        elems = browser.find_elements_by_css_selector('.music-grid-item')\n",
    "        \n",
    "    album_names,album_urls = [],[]\n",
    "\n",
    "    for elem in elems[1:]:\n",
    "        album_names.append(elem.text)\n",
    "        album_urls.append(elem.find_element_by_tag_name('a').get_attribute('href'))\n",
    "        #print(elem.text)\n",
    "        #print(elem.find_element_by_tag_name('a').get_attribute('href'))\n",
    "\n",
    "    browser.close()\n",
    "    \n",
    "    return album_names,album_urls"
   ]
  },
  {
   "cell_type": "markdown",
   "metadata": {},
   "source": [
    "# get artists to scrap\n"
   ]
  },
  {
   "cell_type": "code",
   "execution_count": 14,
   "metadata": {
    "collapsed": true
   },
   "outputs": [],
   "source": [
    "urls_to_scrape_df = pd.read_csv('/Users/shayneufeld/Dropbox/insight/pricecamp/urls_to_scrape.csv')"
   ]
  },
  {
   "cell_type": "code",
   "execution_count": 15,
   "metadata": {
    "collapsed": true
   },
   "outputs": [],
   "source": [
    "artist_names = []\n",
    "for url in urls_to_scrape_df.urls.values:\n",
    "    artist_name = df[df.url==url].head(1).artist_name.values\n",
    "    \n",
    "    if not artist_name:\n",
    "        artist_name = df[df.url==url[6:]].head(1).artist_name.values\n",
    "\n",
    "    if type(artist_name) is not str:\n",
    "        artist_name = artist_name[0]\n",
    "        \n",
    "    artist_names.append(artist_name)\n",
    "    "
   ]
  },
  {
   "cell_type": "code",
   "execution_count": 16,
   "metadata": {
    "collapsed": true
   },
   "outputs": [],
   "source": [
    "urls_to_scrape_df['artist_names'] = artist_names"
   ]
  },
  {
   "cell_type": "code",
   "execution_count": 17,
   "metadata": {
    "collapsed": true
   },
   "outputs": [],
   "source": [
    "urls_to_scrape = urls_to_scrape_df.urls.values"
   ]
  },
  {
   "cell_type": "markdown",
   "metadata": {},
   "source": [
    "# the scraper"
   ]
  },
  {
   "cell_type": "code",
   "execution_count": 18,
   "metadata": {},
   "outputs": [
    {
     "name": "stdout",
     "output_type": "stream",
     "text": [
      "/Users/shayneufeld/GitHub/pricecamp/scrapers/bandcamp_spider\n"
     ]
    }
   ],
   "source": [
    "cd '/Users/shayneufeld/github/pricecamp/scrapers/bandcamp_spider'"
   ]
  },
  {
   "cell_type": "code",
   "execution_count": 23,
   "metadata": {
    "collapsed": true
   },
   "outputs": [],
   "source": [
    "error_urls = []"
   ]
  },
  {
   "cell_type": "code",
   "execution_count": 30,
   "metadata": {},
   "outputs": [
    {
     "data": {
      "text/plain": [
       "'In Love With A Ghost'"
      ]
     },
     "execution_count": 30,
     "metadata": {},
     "output_type": "execute_result"
    }
   ],
   "source": [
    "artist_name"
   ]
  },
  {
   "cell_type": "code",
   "execution_count": 28,
   "metadata": {},
   "outputs": [
    {
     "data": {
      "text/plain": [
       "(array([0]),)"
      ]
     },
     "execution_count": 28,
     "metadata": {},
     "output_type": "execute_result"
    }
   ],
   "source": [
    "np.where(artist_name in artist_names)"
   ]
  },
  {
   "cell_type": "code",
   "execution_count": 29,
   "metadata": {
    "scrolled": true
   },
   "outputs": [
    {
     "data": {
      "text/plain": [
       "['Garoad',\n",
       " 'Boy Harsher',\n",
       " 'HALLEY LABS',\n",
       " 'Bucketheadland',\n",
       " 'Dirty Grave',\n",
       " 'Wolves in the Throne Room',\n",
       " 'Jay Som',\n",
       " 'LORN',\n",
       " 'The Dandy Warhols',\n",
       " 'In Love With A Ghost',\n",
       " 'FORCES',\n",
       " 'micronism',\n",
       " 'Film Junk',\n",
       " 'Mystery Skulls',\n",
       " 'Elder',\n",
       " 'DVNE',\n",
       " 'Dream Machine',\n",
       " 'Mega Drive',\n",
       " 'Keosz',\n",
       " 'Knxwledge.',\n",
       " 'Jute Gyte',\n",
       " 'Brock Berrigan',\n",
       " 'Danny Baranowsky',\n",
       " 'Scandroid',\n",
       " 'Ratboys',\n",
       " 'Haunt',\n",
       " 'Jake Kaufman',\n",
       " 'Anomalie',\n",
       " 'Miracle Of Sound',\n",
       " 'Cleveland',\n",
       " 'Deep Dark & Dangerous',\n",
       " 'Docetism',\n",
       " 'Stellardrone',\n",
       " 'Integrity',\n",
       " 'Cytotoxin',\n",
       " 'All India Radio',\n",
       " 'Mounika.',\n",
       " 'Anderson .Paak',\n",
       " 'Jakub Zytecki',\n",
       " '2814',\n",
       " 'HOME',\n",
       " '猫 シ Corp.',\n",
       " 'King Gizzard & The Lizard Wizard',\n",
       " 'Arch Echo',\n",
       " 'MIKE',\n",
       " 'Mønic',\n",
       " 'DANCE WITH THE DEAD',\n",
       " 'SHEER MAG',\n",
       " 'Welcome to Night Vale',\n",
       " 'Roosevelt',\n",
       " 'Youngblood Supercult',\n",
       " 'Papadosio',\n",
       " 'LIL UGLY MANE',\n",
       " 'Randal Collier-Ford',\n",
       " 'Griffin McElroy',\n",
       " 'soccer mommy',\n",
       " 'Trevor Something',\n",
       " 'Schwefelgelb',\n",
       " 'ALEX & Tokyo Rose',\n",
       " 'FM-84',\n",
       " 'Less Art',\n",
       " 'Robert Parker',\n",
       " 'マクロスMACROSS 82-99',\n",
       " 'PERTURBATOR',\n",
       " 'TOBACCO',\n",
       " 'Desert Dwellers',\n",
       " 'INTRCPTR',\n",
       " 'A Light in the Dark',\n",
       " 'Noname',\n",
       " \"world's end girlfriend\",\n",
       " 'doNormaal',\n",
       " '6Blocc',\n",
       " 'Mark System',\n",
       " 'Summer Salt',\n",
       " 'Car Seat Headrest',\n",
       " 'Sasquatch',\n",
       " 'Waxahatchee',\n",
       " 'Vanilla',\n",
       " 'Cosmic Fall, Aphodyl',\n",
       " 'Fazerdaze',\n",
       " 'Khruangbin',\n",
       " 'SAINT PEPSI',\n",
       " 'MASTER BOOT RECORD',\n",
       " 'Holy Fuck',\n",
       " 'HKE',\n",
       " 'Brian Ellis',\n",
       " 'ミカヅキBIGWAVE',\n",
       " 'Ross From Friends',\n",
       " 'Ex Eye',\n",
       " \"YUC'e\",\n",
       " 'Dynatron',\n",
       " 'scallops hotel',\n",
       " 'Wintergatan',\n",
       " 'Tau Cross',\n",
       " 'Filthy Casuals with Tommy Dassalo, Ben Vernel and Adam Knox',\n",
       " 'Edgelarks: Phillip Henry and Hannah Martin',\n",
       " 'Sam Redmore',\n",
       " 'Laboratorium Pieśni',\n",
       " 'KOKOKO!',\n",
       " 'Sudan Archives',\n",
       " 'Shakey Graves',\n",
       " 'None',\n",
       " 'Dead Cross',\n",
       " 'DoYogaWithMe',\n",
       " 'Danit',\n",
       " 'Idris Rahman, Leon Brichard, Emre Ramazanoglu, Yahael Camara-Onono',\n",
       " 'Plini',\n",
       " 'Idris Rahman, Leon Brichard, Tom Skinner',\n",
       " 'milo',\n",
       " 'Lycan Dese Beats',\n",
       " 'Com Truise',\n",
       " 'NVMERI',\n",
       " 'The Allergies',\n",
       " 'Lone',\n",
       " 'Sequentia Legenda',\n",
       " \"Snail's House\",\n",
       " 'Macintosh Plus',\n",
       " 'Florist',\n",
       " 'Endless Melancholy',\n",
       " 'Bei Bei & Shawn Lee',\n",
       " 'Theophany',\n",
       " 'Don Leisure',\n",
       " 'Desired',\n",
       " 'Hammock',\n",
       " 'Slowdive',\n",
       " 'Slime Girls',\n",
       " 'Tom Rosenthal',\n",
       " 'Ridiculon',\n",
       " 'Raw Soul Express',\n",
       " 'Z Tapes',\n",
       " 'Super Drama',\n",
       " 'Nervous Horizon',\n",
       " 'Birocratic',\n",
       " 'Lord Echo',\n",
       " 'Iron Bonehead Productions',\n",
       " 'Lump Records',\n",
       " 'Silva Hound',\n",
       " 'Rashida Prime',\n",
       " 'Savant',\n",
       " 'Seeming',\n",
       " 'Bonobo',\n",
       " 'Christian Scott aTunde Adjuah',\n",
       " 'NewRetroWave',\n",
       " 'Pogo',\n",
       " 'Chaos In The CBD',\n",
       " 'SAINT PEPSI // LUXURY ELITE',\n",
       " 'Peter Power',\n",
       " 'The Teskey Brothers',\n",
       " 'ProtoU & Hilyard',\n",
       " 'Eartheogen',\n",
       " 'Green Bay Wax',\n",
       " 'Chillhop Records',\n",
       " 'Night Tempo',\n",
       " 'Burial',\n",
       " 'Lucy Camp',\n",
       " 'elijah who',\n",
       " 'Heaters',\n",
       " 'CunninLynguists',\n",
       " 'YUNG BAE',\n",
       " 'SW.',\n",
       " 'Daniel Kitson',\n",
       " 'Alkalino',\n",
       " 'Detriti Records',\n",
       " 'Myrkur',\n",
       " 'DJ Frenzy',\n",
       " 'Yussef Kamaal',\n",
       " 'Destroyer of Light',\n",
       " 'Clanadonia',\n",
       " 'Alvvays',\n",
       " 'Sovereign Grace Music',\n",
       " 'Rodrigo Gallardo & Nicola Cruz',\n",
       " 'Quantic',\n",
       " 'Helvetia',\n",
       " 'Carpenter Brut',\n",
       " 'Magic Sword',\n",
       " 'I/O',\n",
       " 'jinsang',\n",
       " 'Costanza',\n",
       " 'Kemper Norton',\n",
       " 'Aversio Humanitatis',\n",
       " 'The Stuyvesants',\n",
       " 'Boris',\n",
       " 'The Hayman Kupa Band',\n",
       " 'Howling Giant',\n",
       " 'Melvins',\n",
       " 'Blank Banshee',\n",
       " 'Karen Gwyer',\n",
       " 'Null + Void',\n",
       " 'Boston 168',\n",
       " 'Beach House',\n",
       " 'Katie Von Schleicher',\n",
       " 'Multiple Man',\n",
       " 'Celldweller',\n",
       " '自決 9 6',\n",
       " 'Divider',\n",
       " 'Toxik',\n",
       " 'A Thousand Hours',\n",
       " 'Dream Void',\n",
       " 'Slow',\n",
       " '(Sandy) Alex G',\n",
       " 'Popskyy',\n",
       " 'Tuba Skinny',\n",
       " 'Mallard',\n",
       " 'Homestuck',\n",
       " 'Wretch',\n",
       " 'Flagland',\n",
       " 'The Midnight',\n",
       " 'VACATIONS',\n",
       " 'Grant',\n",
       " 'Euglossine',\n",
       " 'Hiss Golden Messenger',\n",
       " 'Converge',\n",
       " 'Disasterpeace',\n",
       " 'The Last Sighs Of The Wind',\n",
       " 'Brown Bird',\n",
       " 'Various Artists (Sangoma Records)',\n",
       " 'K.L.O',\n",
       " 'Aviators',\n",
       " 'Alec Holowka',\n",
       " 'Lazerhawk',\n",
       " 'Edamame',\n",
       " 'Neon Unicorn',\n",
       " 'Visionary Shamanics Records',\n",
       " 'MonoNeon',\n",
       " 'Avey Tare',\n",
       " 'Slaughter Beach, Dog',\n",
       " 'TCHORNOBOG',\n",
       " 'The Reflex',\n",
       " 'idaho',\n",
       " 'Mitski',\n",
       " 'Materia Collective',\n",
       " 'Vulfpeck',\n",
       " 'Hippy Soul',\n",
       " 'V.A.',\n",
       " 'Tricky',\n",
       " 'panthurr',\n",
       " 'Pinegrove',\n",
       " 'CHELSEA WOLFE',\n",
       " 'Silent Pendulum Records',\n",
       " 'Terrace Martin Presents The Pollyseeds',\n",
       " 'Judiciary',\n",
       " 'Distant Worlds: music from FINAL FANTASY',\n",
       " 'Pete Fij / Terry Bickers',\n",
       " 'Mortiis',\n",
       " 'Nu Era',\n",
       " 'NÍDIA',\n",
       " 'Fold',\n",
       " 'Sleep Token',\n",
       " 'People Like You',\n",
       " 'SALES',\n",
       " 'Sachin Sen',\n",
       " 'Stick Men',\n",
       " 'meniscus',\n",
       " 'Mgła',\n",
       " 'waterfront dining',\n",
       " 'Zack Hemsey',\n",
       " 'K, Le Maestro',\n",
       " 'Andrew Applepie',\n",
       " 'Limousine',\n",
       " 'Venetian Snares',\n",
       " 'V/A',\n",
       " 'odaxelagnia',\n",
       " 'Estas Tonne',\n",
       " 'Flamingosis',\n",
       " 'Tatham,Mensah,Lord & Ranks',\n",
       " 'Cynthia Lin',\n",
       " 'business casual',\n",
       " 'M.O.O.N.',\n",
       " 'Sadness',\n",
       " 'Igorrr',\n",
       " 'Amenra',\n",
       " 'Warmth',\n",
       " 'Big Big Train',\n",
       " 'Big Thief',\n",
       " 'Ponies at Dawn',\n",
       " 'Change Of Heart',\n",
       " 'João Donato e Donatinho',\n",
       " 'Tchornobog',\n",
       " 'The Huntress and Holder of Hands',\n",
       " 'SKASUCKS',\n",
       " 'Temple Of Void',\n",
       " 'Vitamin Wig C',\n",
       " 'Shabazz Palaces',\n",
       " '88 Fingers Louie',\n",
       " 'Days N Daze',\n",
       " 'Poseidon',\n",
       " 'Sundae Sauuce',\n",
       " 'yvette young',\n",
       " 'C418',\n",
       " 'Alfa Mist',\n",
       " 'Crumb',\n",
       " '36 Questions',\n",
       " 'Patience',\n",
       " 'Violet Cold',\n",
       " 'Washed Out',\n",
       " 'ACTORS',\n",
       " 'Tubby Love',\n",
       " 'Serpent Column',\n",
       " 'SUNN O)))',\n",
       " 'BURNING FLAG',\n",
       " 'PrinceWhateverer',\n",
       " 'Eneferens',\n",
       " 'Sun Of The Sleepless',\n",
       " 'Alder Deep',\n",
       " 'EPROM',\n",
       " 'Shelf Life',\n",
       " 'covet',\n",
       " 'Judd Madden',\n",
       " 'New York Haunted',\n",
       " 'Couch Slut',\n",
       " 'The Murlocs',\n",
       " 'Bezzbane Records',\n",
       " '40 Ounce Funk',\n",
       " 'TWRP',\n",
       " 'Mr. Lif & Akrobatik (The Perceptionists)',\n",
       " 'Sahalé',\n",
       " 'Mississippi Bones',\n",
       " 'Benoît Pioulard',\n",
       " 'Gaussian Curve',\n",
       " 'Chicha Dust',\n",
       " 'Odd Nosdam',\n",
       " 'Celer',\n",
       " 'GHOSTEMANE',\n",
       " 'Widek',\n",
       " '日没 Inc.',\n",
       " 'BACKWHEN',\n",
       " 'PLAYA',\n",
       " \"christoph el' truento\",\n",
       " 'SOUDIERE',\n",
       " 'Simon James',\n",
       " 'The Dead South',\n",
       " 'Soulacybin',\n",
       " '8 Bit Weapon',\n",
       " 'Cormorant',\n",
       " 'Fearofdark',\n",
       " 'Good Game',\n",
       " 'The Traffic',\n",
       " '77 Rise Recordings',\n",
       " 'Dillon & Diamond D',\n",
       " 'Ty Segall',\n",
       " 'Tera Melos',\n",
       " 'Uncle Dane',\n",
       " 'Goat',\n",
       " 'Real Numbers',\n",
       " 'Meteor',\n",
       " 'Sugarcream幻想',\n",
       " 'MHYSA',\n",
       " 'Airospace',\n",
       " 'Sinmara',\n",
       " 'Entheo',\n",
       " 'Dirtnap Records',\n",
       " 'Wolfgun',\n",
       " 'DARK CASTLE',\n",
       " 'Wintersun',\n",
       " 'DMVU, TRUTH',\n",
       " 'The Odyssey Cult',\n",
       " 'Renraku',\n",
       " '24 Hour Punks',\n",
       " 'Les Friction',\n",
       " 'Sentimony Records',\n",
       " 'Blue Hawaii',\n",
       " 'Ghost In The Machine',\n",
       " 'Gary Husband',\n",
       " 'Player',\n",
       " 'wavemob',\n",
       " 'High Priestess',\n",
       " 'Tenderlonious + Dennis Ayler',\n",
       " 'Robby Hale',\n",
       " 'Beyond Beyond is Beyond Records',\n",
       " 'I Come to Shanghai',\n",
       " 'VERB, DJ FOX, DRUM CYPHA, TIM REAPER, MPATHY, ZEBEDEE',\n",
       " 'Supercharger',\n",
       " 'Future Lied To Us',\n",
       " 'No Trigger',\n",
       " 'Dark Descent Records']"
      ]
     },
     "execution_count": 29,
     "metadata": {},
     "output_type": "execute_result"
    }
   ],
   "source": [
    "artist_names"
   ]
  },
  {
   "cell_type": "code",
   "execution_count": 44,
   "metadata": {},
   "outputs": [
    {
     "data": {
      "text/plain": [
       "'FORCES'"
      ]
     },
     "execution_count": 44,
     "metadata": {},
     "output_type": "execute_result"
    }
   ],
   "source": [
    "artist_names[10]"
   ]
  },
  {
   "cell_type": "code",
   "execution_count": 34,
   "metadata": {},
   "outputs": [
    {
     "data": {
      "text/plain": [
       "'//garoad.bandcamp.com/album/va-11-hall-a-second-round'"
      ]
     },
     "execution_count": 34,
     "metadata": {},
     "output_type": "execute_result"
    }
   ],
   "source": [
    "urls_to_scrape[0]"
   ]
  },
  {
   "cell_type": "code",
   "execution_count": null,
   "metadata": {
    "scrolled": true
   },
   "outputs": [
    {
     "name": "stdout",
     "output_type": "stream",
     "text": [
      "ERROR - page not album or music type: //filmjunk.bandcamp.com/album/david-lynch\n",
      "ERROR - no album urls: //catsystemcorp.bandcamp.com\n",
      "ERROR - page not album or music type: //liluglymane.bandcamp.com/album/third-side-of-tape\n",
      "ERROR - no album urls: //desired.bandcamp.com\n",
      "ERROR - no album urls: //ztapes.bandcamp.com\n",
      "ERROR - no album urls: //birocratic.bandcamp.com\n",
      "ERROR - no album urls: //silvahound.bandcamp.com\n"
     ]
    }
   ],
   "source": [
    "for artist_url,artist_name in zip(urls_to_scrape[10:],artist_names[10:]):\n",
    "    '''\n",
    "    get input parameters\n",
    "    '''\n",
    "    if artist_url[0] == 'h':\n",
    "        curr_url = artist_url\n",
    "    elif artist_url[0] == '/':\n",
    "        curr_url = 'https:' + artist_url\n",
    "    else:\n",
    "        print('URL BROKEN')\n",
    "        \n",
    "    #get list of albums and urls to go through for this artist\n",
    "    browser = webdriver.Firefox()\n",
    "    browser.get(curr_url)\n",
    "    browser_title = browser.title\n",
    "\n",
    "    #try to clicking throuhg more albums\n",
    "    browser = reveal_albums(browser)\n",
    "    \n",
    "    #if it went to the music page, the title should have changed\n",
    "    DO_NOT_SCRAPE = False\n",
    "    if browser.title == browser_title: #then we are on the same page\n",
    "        album_names,album_urls = get_albums_urls(browser,page_type='album')\n",
    "    elif 'Music' in browser.title:\n",
    "        album_names,album_urls = get_albums_urls(browser,page_type='music')\n",
    "    else:\n",
    "        DO_NOT_SCRAPE = True\n",
    "        print('ERROR - page not album or music type: %s' % artist_url)\n",
    "    \n",
    "    if not DO_NOT_SCRAPE:\n",
    "        if album_urls:\n",
    "            for url in album_urls:\n",
    "                os.system(\"scrapy crawl bandcamp -a start_urls='%s'\" % (str(url)))\n",
    "        else:\n",
    "            print('ERROR - no album urls: %s' % artist_url)\n",
    "            error_urls.append(artist_url)"
   ]
  },
  {
   "cell_type": "code",
   "execution_count": 1,
   "metadata": {},
   "outputs": [
    {
     "ename": "NameError",
     "evalue": "name 'artist_url' is not defined",
     "output_type": "error",
     "traceback": [
      "\u001b[0;31m---------------------------------------------------------------------------\u001b[0m",
      "\u001b[0;31mNameError\u001b[0m                                 Traceback (most recent call last)",
      "\u001b[0;32m<ipython-input-1-4d038e7804d5>\u001b[0m in \u001b[0;36m<module>\u001b[0;34m()\u001b[0m\n\u001b[0;32m----> 1\u001b[0;31m \u001b[0martist_url\u001b[0m\u001b[0;34m\u001b[0m\u001b[0m\n\u001b[0m",
      "\u001b[0;31mNameError\u001b[0m: name 'artist_url' is not defined"
     ]
    }
   ],
   "source": [
    "artist_url"
   ]
  },
  {
   "cell_type": "code",
   "execution_count": 99,
   "metadata": {},
   "outputs": [
    {
     "data": {
      "text/plain": [
       "'https://songs-of-arrakis.bandcamp.com/album/aurora-majesty'"
      ]
     },
     "execution_count": 99,
     "metadata": {},
     "output_type": "execute_result"
    }
   ],
   "source": [
    "artist_url"
   ]
  },
  {
   "cell_type": "code",
   "execution_count": 7,
   "metadata": {
    "collapsed": true
   },
   "outputs": [],
   "source": [
    "artist_url = 'https://cryochamber.bandcamp.com/album/deus-sive-natura'\n",
    "\n",
    "'''\n",
    "get input parameters\n",
    "'''\n",
    "if artist_url[0] == 'h':\n",
    "    curr_url = artist_url\n",
    "elif artist_url[0] == '/':\n",
    "    curr_url = 'https:' + artist_url\n",
    "else:\n",
    "    print('URL BROKEN')\n",
    "\n",
    "#get list of albums and urls to go through for this artist\n",
    "browser = webdriver.Firefox()\n",
    "browser.get(curr_url)\n",
    "browser_title = browser.title\n",
    "\n",
    "#try to clicking throuhg more albums\n",
    "browser = reveal_albums(browser)"
   ]
  },
  {
   "cell_type": "code",
   "execution_count": 8,
   "metadata": {
    "collapsed": true,
    "scrolled": true
   },
   "outputs": [],
   "source": [
    "#if it went to the music page, the title should have changed\n",
    "if browser.title == browser_title: #then we are on the same page\n",
    "    album_names,album_urls = get_albums_urls(browser,page_type='album')\n",
    "elif 'Music' in browser.title:\n",
    "    album_names,album_urls = get_albums_urls(browser,page_type='music')\n",
    "else:\n",
    "    DO_NOT_SCRAPE = True\n",
    "    print('ERROR - page not album or music type: %s' % artist_url)"
   ]
  },
  {
   "cell_type": "code",
   "execution_count": 9,
   "metadata": {},
   "outputs": [
    {
     "data": {
      "text/plain": [
       "['https://cryochamber.bandcamp.com/album/legends-of-the-wood',\n",
       " 'https://cryochamber.bandcamp.com/album/abduction']"
      ]
     },
     "execution_count": 9,
     "metadata": {},
     "output_type": "execute_result"
    }
   ],
   "source": [
    "album_urls[10:12]"
   ]
  },
  {
   "cell_type": "code",
   "execution_count": 12,
   "metadata": {
    "collapsed": true
   },
   "outputs": [],
   "source": [
    "#if not DO_NOT_SCRAPE:\n",
    "if album_urls:\n",
    "    for url in album_urls[10:12]:\n",
    "        os.system(\"scrapy crawl bandcamp -a start_urls='%s'\" % (str(url)))\n",
    "else:\n",
    "    print('ERROR - no album urls: %s' % artist_url)\n",
    "    error_urls.append(artist_url)"
   ]
  },
  {
   "cell_type": "code",
   "execution_count": 151,
   "metadata": {
    "collapsed": true
   },
   "outputs": [],
   "source": [
    "artist_name = 'Middle Kids'"
   ]
  },
  {
   "cell_type": "code",
   "execution_count": 231,
   "metadata": {
    "collapsed": true,
    "scrolled": false
   },
   "outputs": [],
   "source": [
    "'''\n",
    "run bandcamp spider\n",
    "'''\n",
    "cd '/Users/shayneufeld/github/pricecamp/scrapers/bandcamp_spider'\n",
    "\n",
    "album_url = album_urls\n",
    "artist_name = 'Middle Kids'\n",
    "\n",
    "for url in album_urls:\n",
    "    os.system(\"scrapy crawl bandcamp -a start_urls='%s' -a artist_name='%s'\" % (str(url),artist_name))"
   ]
  },
  {
   "cell_type": "code",
   "execution_count": 216,
   "metadata": {},
   "outputs": [
    {
     "data": {
      "text/plain": [
       "\"'\""
      ]
     },
     "execution_count": 216,
     "metadata": {},
     "output_type": "execute_result"
    }
   ],
   "source": [
    "test = str(album_url[1:])\n",
    "test[1]"
   ]
  },
  {
   "cell_type": "code",
   "execution_count": 217,
   "metadata": {
    "collapsed": true
   },
   "outputs": [],
   "source": [
    "test = test.replace(\"[\",'')\n",
    "test = test.replace(\"]\",'')\n",
    "test = test.replace(\"'\",'')\n",
    "test = test.replace(\" \",'')\n",
    "test = test.split(',')"
   ]
  },
  {
   "cell_type": "code",
   "execution_count": 221,
   "metadata": {},
   "outputs": [
    {
     "data": {
      "text/plain": [
       "'https://middlekids.bandcamp.com/track/egde-of-town'"
      ]
     },
     "execution_count": 221,
     "metadata": {},
     "output_type": "execute_result"
    }
   ],
   "source": [
    "test[1]"
   ]
  },
  {
   "cell_type": "code",
   "execution_count": 203,
   "metadata": {},
   "outputs": [
    {
     "data": {
      "text/plain": [
       "\"'\""
      ]
     },
     "execution_count": 203,
     "metadata": {},
     "output_type": "execute_result"
    }
   ],
   "source": [
    "test[0][1]"
   ]
  },
  {
   "cell_type": "code",
   "execution_count": 63,
   "metadata": {},
   "outputs": [
    {
     "ename": "TypeError",
     "evalue": "Mismatch between array dtype ('<U157') and format specifier ('%.18e')",
     "output_type": "error",
     "traceback": [
      "\u001b[0;31m---------------------------------------------------------------------------\u001b[0m",
      "\u001b[0;31mTypeError\u001b[0m                                 Traceback (most recent call last)",
      "\u001b[0;32m~/anaconda/envs/insight/lib/python3.6/site-packages/numpy/lib/npyio.py\u001b[0m in \u001b[0;36msavetxt\u001b[0;34m(fname, X, fmt, delimiter, newline, header, footer, comments)\u001b[0m\n\u001b[1;32m   1253\u001b[0m                 \u001b[0;32mtry\u001b[0m\u001b[0;34m:\u001b[0m\u001b[0;34m\u001b[0m\u001b[0m\n\u001b[0;32m-> 1254\u001b[0;31m                     \u001b[0mfh\u001b[0m\u001b[0;34m.\u001b[0m\u001b[0mwrite\u001b[0m\u001b[0;34m(\u001b[0m\u001b[0masbytes\u001b[0m\u001b[0;34m(\u001b[0m\u001b[0mformat\u001b[0m \u001b[0;34m%\u001b[0m \u001b[0mtuple\u001b[0m\u001b[0;34m(\u001b[0m\u001b[0mrow\u001b[0m\u001b[0;34m)\u001b[0m \u001b[0;34m+\u001b[0m \u001b[0mnewline\u001b[0m\u001b[0;34m)\u001b[0m\u001b[0;34m)\u001b[0m\u001b[0;34m\u001b[0m\u001b[0m\n\u001b[0m\u001b[1;32m   1255\u001b[0m                 \u001b[0;32mexcept\u001b[0m \u001b[0mTypeError\u001b[0m\u001b[0;34m:\u001b[0m\u001b[0;34m\u001b[0m\u001b[0m\n",
      "\u001b[0;31mTypeError\u001b[0m: must be real number, not numpy.str_",
      "\nDuring handling of the above exception, another exception occurred:\n",
      "\u001b[0;31mTypeError\u001b[0m                                 Traceback (most recent call last)",
      "\u001b[0;32m<ipython-input-63-8828ea8770f7>\u001b[0m in \u001b[0;36m<module>\u001b[0;34m()\u001b[0m\n\u001b[0;32m----> 1\u001b[0;31m \u001b[0mnp\u001b[0m\u001b[0;34m.\u001b[0m\u001b[0msavetxt\u001b[0m\u001b[0;34m(\u001b[0m\u001b[0;34m'/Users/shayneufeld/Dropbox/insight/pricecamp/urls_scraped'\u001b[0m\u001b[0;34m,\u001b[0m\u001b[0mlist\u001b[0m\u001b[0;34m(\u001b[0m\u001b[0murls_scraped\u001b[0m\u001b[0;34m)\u001b[0m\u001b[0;34m)\u001b[0m\u001b[0;34m\u001b[0m\u001b[0m\n\u001b[0m",
      "\u001b[0;32m~/anaconda/envs/insight/lib/python3.6/site-packages/numpy/lib/npyio.py\u001b[0m in \u001b[0;36msavetxt\u001b[0;34m(fname, X, fmt, delimiter, newline, header, footer, comments)\u001b[0m\n\u001b[1;32m   1256\u001b[0m                     raise TypeError(\"Mismatch between array dtype ('%s') and \"\n\u001b[1;32m   1257\u001b[0m                                     \u001b[0;34m\"format specifier ('%s')\"\u001b[0m\u001b[0;34m\u001b[0m\u001b[0m\n\u001b[0;32m-> 1258\u001b[0;31m                                     % (str(X.dtype), format))\n\u001b[0m\u001b[1;32m   1259\u001b[0m         \u001b[0;32mif\u001b[0m \u001b[0mlen\u001b[0m\u001b[0;34m(\u001b[0m\u001b[0mfooter\u001b[0m\u001b[0;34m)\u001b[0m \u001b[0;34m>\u001b[0m \u001b[0;36m0\u001b[0m\u001b[0;34m:\u001b[0m\u001b[0;34m\u001b[0m\u001b[0m\n\u001b[1;32m   1260\u001b[0m             \u001b[0mfooter\u001b[0m \u001b[0;34m=\u001b[0m \u001b[0mfooter\u001b[0m\u001b[0;34m.\u001b[0m\u001b[0mreplace\u001b[0m\u001b[0;34m(\u001b[0m\u001b[0;34m'\\n'\u001b[0m\u001b[0;34m,\u001b[0m \u001b[0;34m'\\n'\u001b[0m \u001b[0;34m+\u001b[0m \u001b[0mcomments\u001b[0m\u001b[0;34m)\u001b[0m\u001b[0;34m\u001b[0m\u001b[0m\n",
      "\u001b[0;31mTypeError\u001b[0m: Mismatch between array dtype ('<U157') and format specifier ('%.18e')"
     ]
    }
   ],
   "source": [
    "np.savetxt('/Users/shayneufeld/Dropbox/insight/pricecamp/urls_scraped',list(urls_scraped))"
   ]
  },
  {
   "cell_type": "code",
   "execution_count": 29,
   "metadata": {
    "collapsed": true
   },
   "outputs": [],
   "source": [
    "file_names = os.listdir(folder)"
   ]
  },
  {
   "cell_type": "code",
   "execution_count": 26,
   "metadata": {},
   "outputs": [
    {
     "data": {
      "text/plain": [
       "'/Users/shayneufeld/dropbox/insight/pricecamp/data/albums_fixed/that-positive-feeling-music-license-Alumo.csv'"
      ]
     },
     "execution_count": 26,
     "metadata": {},
     "output_type": "execute_result"
    }
   ],
   "source": [
    "file_name"
   ]
  },
  {
   "cell_type": "code",
   "execution_count": 32,
   "metadata": {},
   "outputs": [
    {
     "data": {
      "text/plain": [
       "'that-positive-feeling-music-license-Alumo.csv'"
      ]
     },
     "execution_count": 32,
     "metadata": {},
     "output_type": "execute_result"
    }
   ],
   "source": [
    "file_name = album_name + '-' + artist_name + '.csv'\n",
    "file_name"
   ]
  },
  {
   "cell_type": "code",
   "execution_count": 33,
   "metadata": {},
   "outputs": [
    {
     "data": {
      "text/plain": [
       "True"
      ]
     },
     "execution_count": 33,
     "metadata": {},
     "output_type": "execute_result"
    }
   ],
   "source": [
    "file_name in file_names"
   ]
  },
  {
   "cell_type": "code",
   "execution_count": null,
   "metadata": {
    "collapsed": true
   },
   "outputs": [],
   "source": [
    "artist_name = df[df.url==url[6:]].head(1).artist_name.values\n",
    "artist_name"
   ]
  },
  {
   "cell_type": "code",
   "execution_count": 31,
   "metadata": {},
   "outputs": [
    {
     "data": {
      "text/plain": [
       "'adrift-in-sleepwakefulness-[Bucketheadland].csv'"
      ]
     },
     "execution_count": 31,
     "metadata": {},
     "output_type": "execute_result"
    }
   ],
   "source": [
    "file_names[100]"
   ]
  },
  {
   "cell_type": "code",
   "execution_count": null,
   "metadata": {
    "collapsed": true
   },
   "outputs": [],
   "source": [
    "type(artist_name) is not str"
   ]
  },
  {
   "cell_type": "code",
   "execution_count": null,
   "metadata": {
    "collapsed": true
   },
   "outputs": [],
   "source": [
    "urls_scraped = []\n",
    "folder =  '/Users/shayneufeld/Dropbox/insight/pricecamp/data/albums_fixed/'\n",
    "files = os.listdir(folder)\n",
    "\n",
    "for i,file in enumerate(files):\n",
    "    try:\n",
    "        if not file[0] == '.':\n",
    "            df = pd.read_csv(os.path.join(folder,file))\n",
    "            url = df.album_url.values[0]\n",
    "            urls_scraped.append(url)\n",
    "    except:\n",
    "        pass"
   ]
  },
  {
   "cell_type": "code",
   "execution_count": null,
   "metadata": {
    "collapsed": true,
    "scrolled": true
   },
   "outputs": [],
   "source": [
    "urls_scraped"
   ]
  },
  {
   "cell_type": "code",
   "execution_count": null,
   "metadata": {
    "collapsed": true,
    "scrolled": false
   },
   "outputs": [],
   "source": [
    "d = {'url':urls_scraped}\n",
    "urls_scraped_df = pd.DataFrame(data = d)\n",
    "urls_scraped_df.to_csv('/Users/shayneufeld/Dropbox/insight/pricecamp/data/urls_scraped.csv')"
   ]
  },
  {
   "cell_type": "markdown",
   "metadata": {
    "collapsed": true
   },
   "source": []
  }
 ],
 "metadata": {
  "kernelspec": {
   "display_name": "Python 3",
   "language": "python",
   "name": "python3"
  },
  "language_info": {
   "codemirror_mode": {
    "name": "ipython",
    "version": 3
   },
   "file_extension": ".py",
   "mimetype": "text/x-python",
   "name": "python",
   "nbconvert_exporter": "python",
   "pygments_lexer": "ipython3",
   "version": "3.6.1"
  }
 },
 "nbformat": 4,
 "nbformat_minor": 2
}
