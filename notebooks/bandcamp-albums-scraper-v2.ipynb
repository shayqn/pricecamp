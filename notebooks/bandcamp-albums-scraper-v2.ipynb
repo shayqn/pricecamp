{
 "cells": [
  {
   "cell_type": "markdown",
   "metadata": {},
   "source": [
    "## as of 9:45am 8/1 i stopped it at (but not including) '//wolfgun.bandcamp.com/album/road-to-jupiter'  and saved the csv to focus on updating the database"
   ]
  },
  {
   "cell_type": "code",
   "execution_count": 1,
   "metadata": {
    "collapsed": true
   },
   "outputs": [],
   "source": [
    "import sklearn\n",
    "import matplotlib.pyplot as plt\n",
    "import seaborn as sns\n",
    "import pandas as pd\n",
    "import numpy as np\n",
    "from bs4 import BeautifulSoup\n",
    "import urllib\n",
    "import numpy as np\n",
    "import os\n",
    "import time\n",
    "from tqdm import tqdm\n",
    "from selenium import webdriver\n",
    "%matplotlib inline"
   ]
  },
  {
   "cell_type": "code",
   "execution_count": 50,
   "metadata": {},
   "outputs": [
    {
     "name": "stdout",
     "output_type": "stream",
     "text": [
      "There are 135872 unique records in the database now\n",
      "Total revenue: 1025668.04\n"
     ]
    }
   ],
   "source": [
    "df = pd.read_csv('/Users/shayneufeld/Dropbox/insight/pricecamp/data/sales.csv',index_col=0)\n",
    "df = df.drop_duplicates()\n",
    "print('There are %.0f unique records in the database now' % df.shape[0])\n",
    "print('Total revenue: %.02f' % df.amount_paid_usd.sum())"
   ]
  },
  {
   "cell_type": "markdown",
   "metadata": {},
   "source": [
    "# define function for opening more albums"
   ]
  },
  {
   "cell_type": "code",
   "execution_count": 3,
   "metadata": {
    "collapsed": true
   },
   "outputs": [],
   "source": [
    "def reveal_albums(selenium_driver):    \n",
    "    #try implementing same thing for albums\n",
    "    showMore = selenium_driver.find_elements_by_css_selector('.showMore')\n",
    "    #there are 2 possible showMore buttons - for shows and for albums\n",
    "    #if there is a shows one, it comes first\n",
    "    el = []\n",
    "    if len(showMore) == 1:\n",
    "        el = showMore[0]\n",
    "    elif len(showMore) == 2:\n",
    "        el = showMore[1]\n",
    "    \n",
    "    #if there is a show more button, make sure it's 'more albums'\n",
    "    if el:\n",
    "        title = browser.title\n",
    "        text = el.find_element_by_tag_name('a').text\n",
    "        while text == 'more releases...':\n",
    "            el.click()\n",
    "            \n",
    "            if browser.title == title:\n",
    "                text = el.find_element_by_tag_name('a').text\n",
    "            else:\n",
    "                text = browser.title\n",
    "                \n",
    "    \n",
    "    return selenium_driver"
   ]
  },
  {
   "cell_type": "code",
   "execution_count": 4,
   "metadata": {
    "collapsed": true
   },
   "outputs": [],
   "source": [
    "def get_albums_urls(browser,page_type='album'):\n",
    "    \n",
    "    elems = []\n",
    "    if page_type == 'album':\n",
    "        elems = browser.find_elements_by_css_selector('.trackTitle')\n",
    "    elif page_type == 'music':\n",
    "        elems = browser.find_elements_by_css_selector('.music-grid-item')\n",
    "        \n",
    "    album_names,album_urls = [],[]\n",
    "\n",
    "    for elem in elems[1:]:\n",
    "        album_names.append(elem.text)\n",
    "        album_urls.append(elem.find_element_by_tag_name('a').get_attribute('href'))\n",
    "        #print(elem.text)\n",
    "        #print(elem.find_element_by_tag_name('a').get_attribute('href'))\n",
    "\n",
    "    browser.close()\n",
    "    \n",
    "    return album_names,album_urls"
   ]
  },
  {
   "cell_type": "markdown",
   "metadata": {},
   "source": [
    "# get artists to scrap\n"
   ]
  },
  {
   "cell_type": "code",
   "execution_count": 13,
   "metadata": {},
   "outputs": [],
   "source": [
    "artist_names = []\n",
    "for url in urls_to_scrape:\n",
    "    \n",
    "    artist_name = df[df.url==url].head(1).artist_name.values\n",
    "    \n",
    "    if not artist_name:\n",
    "        artist_name = df[df.url==url[6:]].head(1).artist_name.values\n",
    "\n",
    "    if type(artist_name) is not str:\n",
    "        artist_name = artist_name[0]\n",
    "        \n",
    "    artist_names.append(artist_name)\n",
    "    "
   ]
  },
  {
   "cell_type": "markdown",
   "metadata": {},
   "source": [
    "## determine URLs already scraped"
   ]
  },
  {
   "cell_type": "code",
   "execution_count": 20,
   "metadata": {
    "collapsed": true
   },
   "outputs": [],
   "source": [
    "folder = '/Users/shayneufeld/Dropbox/insight/pricecamp/data/albums_supporters'\n",
    "files = os.listdir(folder)\n",
    "urls_scraped = []\n",
    "urls_0_supp = []\n",
    "for file in files:\n",
    "    if not file[0] == '.':\n",
    "        d = pd.read_csv(os.path.join(folder,file),nrows = 1)\n",
    "        if d.shape[0] > 0:\n",
    "            urls_scraped.append(d.album_url.values[0])\n",
    "        else:\n",
    "            urls_0_supp.append(file)"
   ]
  },
  {
   "cell_type": "markdown",
   "metadata": {},
   "source": [
    "# the scraper"
   ]
  },
  {
   "cell_type": "code",
   "execution_count": 32,
   "metadata": {
    "scrolled": true
   },
   "outputs": [
    {
     "name": "stdout",
     "output_type": "stream",
     "text": [
      "/Users/shayneufeld/GitHub/pricecamp/scrapers/bandcamp_spider\n"
     ]
    }
   ],
   "source": [
    "cd '/Users/shayneufeld/github/pricecamp/scrapers/bandcamp_spider'"
   ]
  },
  {
   "cell_type": "code",
   "execution_count": 96,
   "metadata": {
    "collapsed": true
   },
   "outputs": [],
   "source": [
    "urls_df = pd.DataFrame(data={'urls_to_scrape':urls_to_scrape})\n",
    "urls_df.to_csv('/Users/shayneufeld/Dropbox/insight/pricecamp/data/urls_to_scrape_0731_6pm.csv')"
   ]
  },
  {
   "cell_type": "markdown",
   "metadata": {},
   "source": [
    "## as of 9:45am 8/1 i stopped it at (but not including) '//wolfgun.bandcamp.com/album/road-to-jupiter'  and saved the csv to focus on updating the database"
   ]
  },
  {
   "cell_type": "code",
   "execution_count": 62,
   "metadata": {},
   "outputs": [
    {
     "data": {
      "text/plain": [
       "(750,)"
      ]
     },
     "execution_count": 62,
     "metadata": {},
     "output_type": "execute_result"
    }
   ],
   "source": [
    "urls_to_scrape_df = pd.read_csv('/Users/shayneufeld/Dropbox/insight/pricecamp/data/urls_to_scrape_0802.csv')\n",
    "urls_to_scrape = urls_to_scrape_df.urls.values\n",
    "urls_to_scrape.shape"
   ]
  },
  {
   "cell_type": "code",
   "execution_count": 51,
   "metadata": {},
   "outputs": [
    {
     "name": "stderr",
     "output_type": "stream",
     "text": [
      "100%|██████████| 666/666 [00:09<00:00, 71.50it/s]\n"
     ]
    }
   ],
   "source": [
    "artist_names = []\n",
    "for url in tqdm(urls_to_scrape):\n",
    "    \n",
    "    artist_name = df[df.url==url].head(1).artist_name.values\n",
    "    \n",
    "    if not artist_name:\n",
    "        artist_name = df[df.url==url[6:]].head(1).artist_name.values\n",
    "\n",
    "    if type(artist_name) is not str:\n",
    "        artist_name = artist_name[0]\n",
    "        \n",
    "    artist_names.append(artist_name)"
   ]
  },
  {
   "cell_type": "code",
   "execution_count": 61,
   "metadata": {},
   "outputs": [],
   "source": [
    "urls_scraped = pd.DataFrame(data={'url':urls_to_scrape})\n",
    "urls_scraped.to_csv('/Users/shayneufeld/Dropbox/insight/pricecamp/data/urls_scraped_0802.csv')"
   ]
  },
  {
   "cell_type": "code",
   "execution_count": 64,
   "metadata": {
    "scrolled": false
   },
   "outputs": [
    {
     "name": "stdout",
     "output_type": "stream",
     "text": [
      "//toomanyzooz.bandcamp.com/album/subway-gawdz\n",
      "//mygaybanjo.bandcamp.com/album/to-the-wolves\n",
      "//mclars.bandcamp.com/album/the-edgar-allan-poe-ep\n",
      "//acousticlub.bandcamp.com/track/vision-of-love-acoustic-guitar-karaoke\n",
      "//tomppabeats.bandcamp.com/album/harbor-lp\n",
      "//titanicsinclair.bandcamp.com\n",
      "ERROR - no album urls: //titanicsinclair.bandcamp.com\n",
      "//lemondemon.bandcamp.com/album/spirit-phone\n",
      "//steveroach.bandcamp.com/album/etheric-imprints\n",
      "http://music.gravitasrecordings.com/album/visions-remixed\n",
      "//machinedrum.bandcamp.com/track/white-crown-feat-tosin-abasi\n",
      "//nanobii.bandcamp.com/album/sunshine-express\n",
      "//pan-daijing.bandcamp.com/album/lack-pan79\n",
      "//shponglemusic.bandcamp.com/album/are-you-shpongled-remastered\n",
      "//scattle.bandcamp.com/album/scavenger\n",
      "//charlybliss.bandcamp.com/album/soft-serve\n",
      "//amplifier.bandcamp.com/album/mystoria\n",
      "//carbomb.bandcamp.com/album/meta\n",
      "//shredddders.bandcamp.com/album/shredders\n",
      "//slimhustla.bandcamp.com/track/she-broke-up-when-i-rolled-up\n",
      "//freshselects.bandcamp.com/album/cleo\n",
      "//riccolabel.bandcamp.com/album/tale\n",
      "//saor.bandcamp.com/album/aura\n",
      "//mosesboyd.bandcamp.com/album/footsteps-of-our-fathers-e-p\n",
      "//songbytoadrecords.bandcamp.com/album/there-are-no-saints appears to be a label, not an artist\n",
      "//priests.bandcamp.com/album/tape-two\n",
      "//gunshipmusic.bandcamp.com/track/fly-for-your-life\n",
      "//sandy.bandcamp.com/album/race\n",
      "//cryochamber.bandcamp.com/album/cellblock\n",
      "//therealwildfangrecords.bandcamp.com/track/vincent-gericke-lucid-dreams appears to be a label, not an artist\n",
      "http://lobstertheremin.com/album/ebb-vibe\n",
      "//agalloch.bandcamp.com/album/the-serpent-the-sphere\n",
      "//guerillatoss.bandcamp.com/album/gt-ultra\n",
      "//darkerlife.bandcamp.com/album/first-day-out\n",
      "//shadowkingdomrecords.bandcamp.com/album/allure-of-the-fallen appears to be a label, not an artist\n",
      "//mitchmurder.bandcamp.com/album/selection-3\n",
      "//goldclassbdr.bandcamp.com/album/drum\n",
      "//akasha-records-mx.bandcamp.com/track/nathan-hall-ft-shri-devi-dostorias appears to be a label, not an artist\n",
      "//8bituniverse.bandcamp.com/track/holiday-8-bit-tribute-to-green-day\n",
      "//stevejansen.bandcamp.com/track/now-he-dreams\n",
      "//vyletpony.bandcamp.com/album/mystic-acoustics\n",
      "//truthnz.bandcamp.com/album/the-ark\n",
      "//officialkoolkeith.bandcamp.com/album/demolition-crash-2\n",
      "//ccwhite.bandcamp.com/album/moodswing-ii\n",
      "//solstafir.bandcamp.com/album/berdreyminn\n",
      "//morfmuziik.bandcamp.com/album/morf-against-mmp-vol-3\n",
      "//elvisdepressedly.bandcamp.com/album/mickeys-dead\n",
      "//folkvangrrecords.bandcamp.com/album/disquiet appears to be a label, not an artist\n",
      "//braveinthegrave.bandcamp.com/album/street-reaper\n"
     ]
    }
   ],
   "source": [
    "error_urls = []\n",
    "\n",
    "for artist_url,artist_name in zip(urls_to_scrape[335:],artist_names[335:]):\n",
    "    if not artist_url in urls_scraped.url.values:\n",
    "        '''\n",
    "        get input parameters\n",
    "        '''\n",
    "        if (('records' in artist_url) or ('productions' in artist_url)):\n",
    "            print('%s appears to be a label, not an artist' % artist_url)\n",
    "        else:\n",
    "            print(artist_url)\n",
    "            if artist_url[0] == 'h':\n",
    "                curr_url = artist_url\n",
    "            elif artist_url[0] == '/':\n",
    "                curr_url = 'https:' + artist_url\n",
    "            else:\n",
    "                print('URL BROKEN')\n",
    "\n",
    "            #get list of albums and urls to go through for this artist\n",
    "            browser = webdriver.Firefox()\n",
    "            browser.get(curr_url)\n",
    "            browser_title = browser.title\n",
    "\n",
    "            #try to clicking throuhg more albums\n",
    "            browser = reveal_albums(browser)\n",
    "\n",
    "            #if it went to the music page, the title should have changed\n",
    "            DO_NOT_SCRAPE = False\n",
    "            if browser.title == browser_title: #then we are on the same page\n",
    "                album_names,album_urls = get_albums_urls(browser,page_type='album')\n",
    "            elif 'Music' in browser.title:\n",
    "                album_names,album_urls = get_albums_urls(browser,page_type='music')\n",
    "            else:\n",
    "                DO_NOT_SCRAPE = True\n",
    "                print('ERROR - page not album or music type: %s' % artist_url)\n",
    "\n",
    "            if not DO_NOT_SCRAPE:\n",
    "                if album_urls:\n",
    "                    if len(album_urls) > 10:\n",
    "                        album_urls = album_urls[:11]\n",
    "                    for url in album_urls:\n",
    "                        if not url in urls_scraped:\n",
    "                            os.system(\"scrapy crawl bandcamp -a start_urls='%s'\" % (str(url)))\n",
    "                        else:\n",
    "                            print('%s already scraped' % url)\n",
    "                else:\n",
    "                    print('ERROR - no album urls: %s' % artist_url)\n",
    "                    error_urls.append(artist_url)"
   ]
  }
 ],
 "metadata": {
  "kernelspec": {
   "display_name": "Python 3",
   "language": "python",
   "name": "python3"
  },
  "language_info": {
   "codemirror_mode": {
    "name": "ipython",
    "version": 3
   },
   "file_extension": ".py",
   "mimetype": "text/x-python",
   "name": "python",
   "nbconvert_exporter": "python",
   "pygments_lexer": "ipython3",
   "version": "3.6.1"
  }
 },
 "nbformat": 4,
 "nbformat_minor": 2
}
