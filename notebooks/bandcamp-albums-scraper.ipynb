{
 "cells": [
  {
   "cell_type": "code",
   "execution_count": 1,
   "metadata": {
    "collapsed": true
   },
   "outputs": [],
   "source": [
    "import sklearn\n",
    "import matplotlib.pyplot as plt\n",
    "import seaborn as sns\n",
    "import pandas as pd\n",
    "import numpy as np\n",
    "from bs4 import BeautifulSoup\n",
    "import urllib\n",
    "import numpy as np\n",
    "import os\n",
    "import time\n",
    "from tqdm import tqdm\n",
    "%matplotlib inline"
   ]
  },
  {
   "cell_type": "code",
   "execution_count": 29,
   "metadata": {},
   "outputs": [
    {
     "name": "stdout",
     "output_type": "stream",
     "text": [
      "There are 100712 unique records in the database now\n",
      "Total revenue: 758118.03\n"
     ]
    }
   ],
   "source": [
    "df = pd.read_csv('/Users/shayneufeld/Dropbox/insight/pricecamp/data/sales.csv',index_col=0)\n",
    "df = df.drop_duplicates()\n",
    "print('There are %.0f unique records in the database now' % df.shape[0])\n",
    "print('Total revenue: %.02f' % df.amount_paid_usd.sum())"
   ]
  },
  {
   "cell_type": "code",
   "execution_count": 30,
   "metadata": {
    "collapsed": true
   },
   "outputs": [],
   "source": [
    "spotify_df = pd.read_csv('/Users/shayneufeld/Dropbox/insight/pricecamp/spotify_df.csv',index_col=0)"
   ]
  },
  {
   "cell_type": "code",
   "execution_count": 31,
   "metadata": {},
   "outputs": [
    {
     "data": {
      "text/plain": [
       "28050"
      ]
     },
     "execution_count": 31,
     "metadata": {},
     "output_type": "execute_result"
    }
   ],
   "source": [
    "spotify_df.shape[0]"
   ]
  },
  {
   "cell_type": "code",
   "execution_count": 32,
   "metadata": {},
   "outputs": [
    {
     "data": {
      "text/plain": [
       "13737"
      ]
     },
     "execution_count": 32,
     "metadata": {},
     "output_type": "execute_result"
    }
   ],
   "source": [
    "matches = spotify_df[spotify_df.match == True]\n",
    "matches.shape[0]"
   ]
  },
  {
   "cell_type": "code",
   "execution_count": 33,
   "metadata": {
    "collapsed": true
   },
   "outputs": [],
   "source": [
    "artist_names = matches.bc_artist_name.values\n",
    "\n",
    "df_matches = df[df.artist_name.isin(artist_names)]\n",
    "urls_to_scrape = df_matches.url.values\n",
    "\n",
    "for i,url in enumerate(urls_to_scrape):\n",
    "    if url[0] == '/':\n",
    "        urls_to_scrape[i] = 'https:' + url"
   ]
  },
  {
   "cell_type": "markdown",
   "metadata": {},
   "source": [
    "Get urls already scraped:"
   ]
  },
  {
   "cell_type": "code",
   "execution_count": 34,
   "metadata": {
    "scrolled": true
   },
   "outputs": [
    {
     "name": "stdout",
     "output_type": "stream",
     "text": [
      "3231 albums have been scraped\n"
     ]
    }
   ],
   "source": [
    "urls_scraped = []\n",
    "folder =  '/Users/shayneufeld/Dropbox/insight/pricecamp/data/albums_fixed/'\n",
    "files = os.listdir(folder)\n",
    "\n",
    "for i,file in enumerate(files):\n",
    "    try:\n",
    "        if not file[0] == '.':\n",
    "            df_temp = pd.read_csv(os.path.join(folder,file))\n",
    "            url = df_temp.album_url.values[0]\n",
    "            if url[0] == '/':\n",
    "                url = 'https:' + url\n",
    "                print(url)\n",
    "            \n",
    "            urls_scraped.append(url)\n",
    "    except:\n",
    "        pass\n",
    "\n",
    "print('%.0f albums have been scraped' % len(files))"
   ]
  },
  {
   "cell_type": "code",
   "execution_count": 35,
   "metadata": {
    "collapsed": true
   },
   "outputs": [],
   "source": [
    "already = 0\n",
    "notyet = 0\n",
    "for url in urls_to_scrape:\n",
    "    \n",
    "    if url in urls_scraped:\n",
    "        already+=1\n",
    "    else:\n",
    "        notyet+=1"
   ]
  },
  {
   "cell_type": "code",
   "execution_count": 36,
   "metadata": {},
   "outputs": [
    {
     "data": {
      "text/plain": [
       "11165"
      ]
     },
     "execution_count": 36,
     "metadata": {},
     "output_type": "execute_result"
    }
   ],
   "source": [
    "already"
   ]
  },
  {
   "cell_type": "code",
   "execution_count": 37,
   "metadata": {},
   "outputs": [
    {
     "data": {
      "text/plain": [
       "34788"
      ]
     },
     "execution_count": 37,
     "metadata": {},
     "output_type": "execute_result"
    }
   ],
   "source": [
    "notyet"
   ]
  },
  {
   "cell_type": "code",
   "execution_count": 38,
   "metadata": {},
   "outputs": [
    {
     "data": {
      "text/plain": [
       "'https://thewarondrugs.bandcamp.com/album/lost-in-the-dream'"
      ]
     },
     "execution_count": 38,
     "metadata": {},
     "output_type": "execute_result"
    }
   ],
   "source": [
    "urls_to_scrape[-1]"
   ]
  },
  {
   "cell_type": "markdown",
   "metadata": {},
   "source": [
    "# LOOP THROUGH BANDCAMP SPIDER"
   ]
  },
  {
   "cell_type": "code",
   "execution_count": 39,
   "metadata": {},
   "outputs": [
    {
     "name": "stdout",
     "output_type": "stream",
     "text": [
      "/Users/shayneufeld/GitHub/pricecamp/scrapers/bandcamp_spider\n"
     ]
    }
   ],
   "source": [
    "cd '/Users/shayneufeld/github/pricecamp/scrapers/bandcamp_spider'"
   ]
  },
  {
   "cell_type": "code",
   "execution_count": 40,
   "metadata": {
    "collapsed": true
   },
   "outputs": [],
   "source": [
    "urls_to_scrape = np.asarray(urls_to_scrape)\n",
    "urls_to_scrape = np.unique(urls_to_scrape)\n",
    "urls_to_scrape = list(urls_to_scrape)"
   ]
  },
  {
   "cell_type": "code",
   "execution_count": 41,
   "metadata": {},
   "outputs": [
    {
     "name": "stdout",
     "output_type": "stream",
     "text": [
      "https://thewarondrugs.bandcamp.com/album/lost-in-the-dream\n"
     ]
    }
   ],
   "source": [
    "urls_to_scrape = ['https://thewarondrugs.bandcamp.com/album/lost-in-the-dream']\n",
    "for i in urls_to_scrape:\n",
    "    print(i)"
   ]
  },
  {
   "cell_type": "code",
   "execution_count": 42,
   "metadata": {},
   "outputs": [],
   "source": [
    "urls_to_scrape = ['https://thewarondrugs.bandcamp.com/album/lost-in-the-dream']\n",
    "urls_scraped = []"
   ]
  },
  {
   "cell_type": "code",
   "execution_count": 43,
   "metadata": {
    "scrolled": false
   },
   "outputs": [
    {
     "name": "stdout",
     "output_type": "stream",
     "text": [
      "lost-in-the-dream-TheWarOnDrugs.csv new file!\n",
      "3232.000000 albums scraped\n"
     ]
    }
   ],
   "source": [
    "for url in urls_to_scrape:\n",
    "    \n",
    "    if (url not in urls_scraped):\n",
    "        \n",
    "        '''\n",
    "        get input parameters\n",
    "        '''\n",
    "        if url[0] == 'h':\n",
    "            album_url = url\n",
    "        elif url[0] == '/':\n",
    "            album_url = 'https:' + url\n",
    "        else:\n",
    "            print('URL BROKEN')\n",
    "            #break\n",
    "        artist_name = df[df.url==url].head(1).artist_name.values\n",
    "        if not artist_name:\n",
    "            artist_name = df[df.url==url[6:]].head(1).artist_name.values\n",
    "\n",
    "        if type(artist_name) is not str:\n",
    "            artist_name = artist_name[0]\n",
    "            \n",
    "        al_start = url.find('album')\n",
    "            \n",
    "        if al_start == -1:\n",
    "            al_start = url.find('track')\n",
    "        if al_start == -1:\n",
    "            print(url)\n",
    "        album_name = url[al_start+6:]\n",
    "        \n",
    "        #test to see if it has been scraped but has no entries:\n",
    "        file_name = album_name + '-' + artist_name + '.csv'\n",
    "        file_name = file_name.replace(' ','')\n",
    "        \n",
    "        if file_name in os.listdir(folder):\n",
    "            print('%s already in folder' % file_name)\n",
    "        elif 'merch' in album_url:\n",
    "            print('%s is merch. Do not scrape' % file_name)\n",
    "        else:\n",
    "            print('%s new file!' % file_name)\n",
    "            '''\n",
    "            run bandcamp spider\n",
    "            '''\n",
    "            os.system(\"scrapy crawl bandcamp -a start_domain='%s' -a album_name='%s' -a artist_name='%s'\" % (album_url,album_name,artist_name))\n",
    "            #scrapy crawl bandcamp -a start_domain='https://andreabaroni.bandcamp.com/album/broken-space-ost' -a album_name='Broken Spaces' -a artist_name='Andrea Baroni'\n",
    "            urls_scraped = np.append(urls_scraped,url)\n",
    "            #np.savetxt('/Users/shayneufeld/Dropbox/insight/pricecamp/urls_scraped.csv',urls_scraped)\n",
    "            print('%0f albums scraped' % len(os.listdir(folder)))\n",
    "            time.sleep(1)"
   ]
  },
  {
   "cell_type": "code",
   "execution_count": 64,
   "metadata": {},
   "outputs": [
    {
     "data": {
      "text/plain": [
       "['https://dreamcatalogue.bandcamp.com/album/--18',\n",
       " 'https://telepathtelepath.bandcamp.com/album/--19',\n",
       " 'http://lobstertheremin.com/track/--4',\n",
       " 'https://grauenmetal.bandcamp.com/album/-',\n",
       " 'https://zuriaakecn.bandcamp.com/album/-',\n",
       " 'https://stefanvaldobrev.bandcamp.com/album/-',\n",
       " 'https://m-a-d-e-s.bandcamp.com',\n",
       " 'https://koantunes.bandcamp.com/track/06-koan-ananch-roeth-version',\n",
       " 'https://filthycasualspod.bandcamp.com/album/10-games-to-play-before-you-die',\n",
       " 'http://music.georgeclanton.com/album/100-electronica']"
      ]
     },
     "execution_count": 64,
     "metadata": {},
     "output_type": "execute_result"
    }
   ],
   "source": [
    "list(urls_scraped)[:10]"
   ]
  },
  {
   "cell_type": "code",
   "execution_count": 63,
   "metadata": {},
   "outputs": [
    {
     "ename": "TypeError",
     "evalue": "Mismatch between array dtype ('<U157') and format specifier ('%.18e')",
     "output_type": "error",
     "traceback": [
      "\u001b[0;31m---------------------------------------------------------------------------\u001b[0m",
      "\u001b[0;31mTypeError\u001b[0m                                 Traceback (most recent call last)",
      "\u001b[0;32m~/anaconda/envs/insight/lib/python3.6/site-packages/numpy/lib/npyio.py\u001b[0m in \u001b[0;36msavetxt\u001b[0;34m(fname, X, fmt, delimiter, newline, header, footer, comments)\u001b[0m\n\u001b[1;32m   1253\u001b[0m                 \u001b[0;32mtry\u001b[0m\u001b[0;34m:\u001b[0m\u001b[0;34m\u001b[0m\u001b[0m\n\u001b[0;32m-> 1254\u001b[0;31m                     \u001b[0mfh\u001b[0m\u001b[0;34m.\u001b[0m\u001b[0mwrite\u001b[0m\u001b[0;34m(\u001b[0m\u001b[0masbytes\u001b[0m\u001b[0;34m(\u001b[0m\u001b[0mformat\u001b[0m \u001b[0;34m%\u001b[0m \u001b[0mtuple\u001b[0m\u001b[0;34m(\u001b[0m\u001b[0mrow\u001b[0m\u001b[0;34m)\u001b[0m \u001b[0;34m+\u001b[0m \u001b[0mnewline\u001b[0m\u001b[0;34m)\u001b[0m\u001b[0;34m)\u001b[0m\u001b[0;34m\u001b[0m\u001b[0m\n\u001b[0m\u001b[1;32m   1255\u001b[0m                 \u001b[0;32mexcept\u001b[0m \u001b[0mTypeError\u001b[0m\u001b[0;34m:\u001b[0m\u001b[0;34m\u001b[0m\u001b[0m\n",
      "\u001b[0;31mTypeError\u001b[0m: must be real number, not numpy.str_",
      "\nDuring handling of the above exception, another exception occurred:\n",
      "\u001b[0;31mTypeError\u001b[0m                                 Traceback (most recent call last)",
      "\u001b[0;32m<ipython-input-63-8828ea8770f7>\u001b[0m in \u001b[0;36m<module>\u001b[0;34m()\u001b[0m\n\u001b[0;32m----> 1\u001b[0;31m \u001b[0mnp\u001b[0m\u001b[0;34m.\u001b[0m\u001b[0msavetxt\u001b[0m\u001b[0;34m(\u001b[0m\u001b[0;34m'/Users/shayneufeld/Dropbox/insight/pricecamp/urls_scraped'\u001b[0m\u001b[0;34m,\u001b[0m\u001b[0mlist\u001b[0m\u001b[0;34m(\u001b[0m\u001b[0murls_scraped\u001b[0m\u001b[0;34m)\u001b[0m\u001b[0;34m)\u001b[0m\u001b[0;34m\u001b[0m\u001b[0m\n\u001b[0m",
      "\u001b[0;32m~/anaconda/envs/insight/lib/python3.6/site-packages/numpy/lib/npyio.py\u001b[0m in \u001b[0;36msavetxt\u001b[0;34m(fname, X, fmt, delimiter, newline, header, footer, comments)\u001b[0m\n\u001b[1;32m   1256\u001b[0m                     raise TypeError(\"Mismatch between array dtype ('%s') and \"\n\u001b[1;32m   1257\u001b[0m                                     \u001b[0;34m\"format specifier ('%s')\"\u001b[0m\u001b[0;34m\u001b[0m\u001b[0m\n\u001b[0;32m-> 1258\u001b[0;31m                                     % (str(X.dtype), format))\n\u001b[0m\u001b[1;32m   1259\u001b[0m         \u001b[0;32mif\u001b[0m \u001b[0mlen\u001b[0m\u001b[0;34m(\u001b[0m\u001b[0mfooter\u001b[0m\u001b[0;34m)\u001b[0m \u001b[0;34m>\u001b[0m \u001b[0;36m0\u001b[0m\u001b[0;34m:\u001b[0m\u001b[0;34m\u001b[0m\u001b[0m\n\u001b[1;32m   1260\u001b[0m             \u001b[0mfooter\u001b[0m \u001b[0;34m=\u001b[0m \u001b[0mfooter\u001b[0m\u001b[0;34m.\u001b[0m\u001b[0mreplace\u001b[0m\u001b[0;34m(\u001b[0m\u001b[0;34m'\\n'\u001b[0m\u001b[0;34m,\u001b[0m \u001b[0;34m'\\n'\u001b[0m \u001b[0;34m+\u001b[0m \u001b[0mcomments\u001b[0m\u001b[0;34m)\u001b[0m\u001b[0;34m\u001b[0m\u001b[0m\n",
      "\u001b[0;31mTypeError\u001b[0m: Mismatch between array dtype ('<U157') and format specifier ('%.18e')"
     ]
    }
   ],
   "source": [
    "np.savetxt('/Users/shayneufeld/Dropbox/insight/pricecamp/urls_scraped',list(urls_scraped))"
   ]
  },
  {
   "cell_type": "code",
   "execution_count": 29,
   "metadata": {
    "collapsed": true
   },
   "outputs": [],
   "source": [
    "file_names = os.listdir(folder)"
   ]
  },
  {
   "cell_type": "code",
   "execution_count": 26,
   "metadata": {},
   "outputs": [
    {
     "data": {
      "text/plain": [
       "'/Users/shayneufeld/dropbox/insight/pricecamp/data/albums_fixed/that-positive-feeling-music-license-Alumo.csv'"
      ]
     },
     "execution_count": 26,
     "metadata": {},
     "output_type": "execute_result"
    }
   ],
   "source": [
    "file_name"
   ]
  },
  {
   "cell_type": "code",
   "execution_count": 32,
   "metadata": {},
   "outputs": [
    {
     "data": {
      "text/plain": [
       "'that-positive-feeling-music-license-Alumo.csv'"
      ]
     },
     "execution_count": 32,
     "metadata": {},
     "output_type": "execute_result"
    }
   ],
   "source": [
    "file_name = album_name + '-' + artist_name + '.csv'\n",
    "file_name"
   ]
  },
  {
   "cell_type": "code",
   "execution_count": 33,
   "metadata": {},
   "outputs": [
    {
     "data": {
      "text/plain": [
       "True"
      ]
     },
     "execution_count": 33,
     "metadata": {},
     "output_type": "execute_result"
    }
   ],
   "source": [
    "file_name in file_names"
   ]
  },
  {
   "cell_type": "code",
   "execution_count": null,
   "metadata": {
    "collapsed": true
   },
   "outputs": [],
   "source": [
    "artist_name = df[df.url==url[6:]].head(1).artist_name.values\n",
    "artist_name"
   ]
  },
  {
   "cell_type": "code",
   "execution_count": 31,
   "metadata": {},
   "outputs": [
    {
     "data": {
      "text/plain": [
       "'adrift-in-sleepwakefulness-[Bucketheadland].csv'"
      ]
     },
     "execution_count": 31,
     "metadata": {},
     "output_type": "execute_result"
    }
   ],
   "source": [
    "file_names[100]"
   ]
  },
  {
   "cell_type": "code",
   "execution_count": null,
   "metadata": {
    "collapsed": true
   },
   "outputs": [],
   "source": [
    "type(artist_name) is not str"
   ]
  },
  {
   "cell_type": "code",
   "execution_count": null,
   "metadata": {
    "collapsed": true
   },
   "outputs": [],
   "source": [
    "urls_scraped = []\n",
    "folder =  '/Users/shayneufeld/Dropbox/insight/pricecamp/data/albums_fixed/'\n",
    "files = os.listdir(folder)\n",
    "\n",
    "for i,file in enumerate(files):\n",
    "    try:\n",
    "        if not file[0] == '.':\n",
    "            df = pd.read_csv(os.path.join(folder,file))\n",
    "            url = df.album_url.values[0]\n",
    "            urls_scraped.append(url)\n",
    "    except:\n",
    "        pass"
   ]
  },
  {
   "cell_type": "code",
   "execution_count": null,
   "metadata": {
    "collapsed": true,
    "scrolled": true
   },
   "outputs": [],
   "source": [
    "urls_scraped"
   ]
  },
  {
   "cell_type": "code",
   "execution_count": null,
   "metadata": {
    "collapsed": true,
    "scrolled": false
   },
   "outputs": [],
   "source": [
    "d = {'url':urls_scraped}\n",
    "urls_scraped_df = pd.DataFrame(data = d)\n",
    "urls_scraped_df.to_csv('/Users/shayneufeld/Dropbox/insight/pricecamp/data/urls_scraped.csv')"
   ]
  },
  {
   "cell_type": "markdown",
   "metadata": {
    "collapsed": true
   },
   "source": []
  }
 ],
 "metadata": {
  "kernelspec": {
   "display_name": "Python 3",
   "language": "python",
   "name": "python3"
  },
  "language_info": {
   "codemirror_mode": {
    "name": "ipython",
    "version": 3
   },
   "file_extension": ".py",
   "mimetype": "text/x-python",
   "name": "python",
   "nbconvert_exporter": "python",
   "pygments_lexer": "ipython3",
   "version": "3.6.1"
  }
 },
 "nbformat": 4,
 "nbformat_minor": 2
}
