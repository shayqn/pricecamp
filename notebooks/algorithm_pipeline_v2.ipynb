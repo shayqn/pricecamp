{
 "cells": [
  {
   "cell_type": "markdown",
   "metadata": {},
   "source": [
    "# matrix factorization on artists (or albums) and supporters"
   ]
  },
  {
   "cell_type": "markdown",
   "metadata": {},
   "source": [
    "## 1. read in albums_supporters table\n",
    "## 2. construct similarity matrix (sparse I think!)\n",
    "## 3. try matrix similarity to return similar artists or albums"
   ]
  },
  {
   "cell_type": "code",
   "execution_count": 213,
   "metadata": {},
   "outputs": [],
   "source": [
    "import os\n",
    "import pandas as pd\n",
    "import sqlalchemy\n",
    "from sqlalchemy import create_engine\n",
    "from sqlalchemy_utils import database_exists, create_database\n",
    "from scipy.sparse import coo_matrix\n",
    "import scipy\n",
    "import psycopg2\n",
    "import tqdm\n",
    "import numpy as np\n",
    "from scipy.sparse import linalg\n",
    "import seaborn as sns\n",
    "import matplotlib.pyplot as plt\n",
    "import seaborn as sns\n",
    "import implicit\n",
    "from sklearn import linear_model\n",
    "from sklearn.tree import DecisionTreeRegressor\n",
    "from sklearn.decomposition import PCA\n",
    "from timeit import default_timer as timer\n",
    "%matplotlib inline"
   ]
  },
  {
   "cell_type": "markdown",
   "metadata": {},
   "source": [
    "## connect to database"
   ]
  },
  {
   "cell_type": "code",
   "execution_count": 3,
   "metadata": {
    "collapsed": true
   },
   "outputs": [],
   "source": [
    "#In Python: Define a database name (we're using a dataset on births, so I call it \n",
    "# birth_db), and your username for your computer (CHANGE IT BELOW). \n",
    "dbname = 'music_db'\n",
    "username = 'shayneufeld'\n",
    "\n",
    "# connect:\n",
    "con = None\n",
    "con = psycopg2.connect(database = dbname, user = username)"
   ]
  },
  {
   "cell_type": "markdown",
   "metadata": {},
   "source": [
    "## read in album_supporters table"
   ]
  },
  {
   "cell_type": "code",
   "execution_count": 4,
   "metadata": {
    "collapsed": true
   },
   "outputs": [],
   "source": [
    "# query:\n",
    "sql_query = \"\"\"\n",
    "SELECT * FROM album_supporters;\n",
    "\"\"\"\n",
    "album_supporters = pd.read_sql_query(sql_query,con)"
   ]
  },
  {
   "cell_type": "markdown",
   "metadata": {},
   "source": [
    "## read in album_info tabl"
   ]
  },
  {
   "cell_type": "code",
   "execution_count": 5,
   "metadata": {
    "collapsed": true
   },
   "outputs": [],
   "source": [
    "# query:\n",
    "sql_query = \"\"\"\n",
    "SELECT * FROM album_info;\n",
    "\"\"\"\n",
    "album_info = pd.read_sql_query(sql_query,con)"
   ]
  },
  {
   "cell_type": "markdown",
   "metadata": {},
   "source": [
    "## load in sales.csv"
   ]
  },
  {
   "cell_type": "code",
   "execution_count": 13,
   "metadata": {
    "collapsed": true
   },
   "outputs": [],
   "source": [
    "sales = pd.read_csv('/Users/shayneufeld/Dropbox/insight/pricecamp/data/sales.csv',index_col=0)"
   ]
  },
  {
   "cell_type": "markdown",
   "metadata": {},
   "source": [
    "### if artist table is already created, load it here. Otherwise, start making it below:"
   ]
  },
  {
   "cell_type": "code",
   "execution_count": 12,
   "metadata": {},
   "outputs": [
    {
     "data": {
      "text/html": [
       "<div>\n",
       "<style>\n",
       "    .dataframe thead tr:only-child th {\n",
       "        text-align: right;\n",
       "    }\n",
       "\n",
       "    .dataframe thead th {\n",
       "        text-align: left;\n",
       "    }\n",
       "\n",
       "    .dataframe tbody tr th {\n",
       "        vertical-align: top;\n",
       "    }\n",
       "</style>\n",
       "<table border=\"1\" class=\"dataframe\">\n",
       "  <thead>\n",
       "    <tr style=\"text-align: right;\">\n",
       "      <th></th>\n",
       "      <th>artist_id</th>\n",
       "      <th>name</th>\n",
       "      <th>num_albums</th>\n",
       "      <th>num_buyers</th>\n",
       "      <th>num_buys</th>\n",
       "      <th>tags</th>\n",
       "      <th>num_recorded_sales</th>\n",
       "    </tr>\n",
       "  </thead>\n",
       "  <tbody>\n",
       "    <tr>\n",
       "      <th>0</th>\n",
       "      <td>0</td>\n",
       "      <td>(Sandy) Alex G</td>\n",
       "      <td>4</td>\n",
       "      <td>2323</td>\n",
       "      <td>3441</td>\n",
       "      <td>'alex g', 'pop', 'domino''nsfw', 'pop''pop', '...</td>\n",
       "      <td>35.0</td>\n",
       "    </tr>\n",
       "    <tr>\n",
       "      <th>1</th>\n",
       "      <td>1</td>\n",
       "      <td>,,abrightfar,,</td>\n",
       "      <td>1</td>\n",
       "      <td>3</td>\n",
       "      <td>6</td>\n",
       "      <td>'experimental', 'abrightfar', 'ambient', 'brok...</td>\n",
       "      <td>0.0</td>\n",
       "    </tr>\n",
       "    <tr>\n",
       "      <th>2</th>\n",
       "      <td>2</td>\n",
       "      <td>...Of Sinking Ships</td>\n",
       "      <td>1</td>\n",
       "      <td>25</td>\n",
       "      <td>50</td>\n",
       "      <td>'atmospheric', 'hopesfall', 'indie', 'indie ro...</td>\n",
       "      <td>0.0</td>\n",
       "    </tr>\n",
       "    <tr>\n",
       "      <th>3</th>\n",
       "      <td>3</td>\n",
       "      <td>1800HaightStreet</td>\n",
       "      <td>1</td>\n",
       "      <td>166</td>\n",
       "      <td>166</td>\n",
       "      <td>'chicago house', 'deep techno', 'detroit house...</td>\n",
       "      <td>2.0</td>\n",
       "    </tr>\n",
       "    <tr>\n",
       "      <th>4</th>\n",
       "      <td>4</td>\n",
       "      <td>1970's Film Stock</td>\n",
       "      <td>1</td>\n",
       "      <td>5</td>\n",
       "      <td>10</td>\n",
       "      <td>'1970s', 'experimental', 'broken machine films...</td>\n",
       "      <td>0.0</td>\n",
       "    </tr>\n",
       "  </tbody>\n",
       "</table>\n",
       "</div>"
      ],
      "text/plain": [
       "   artist_id                 name  num_albums  num_buyers  num_buys  \\\n",
       "0          0       (Sandy) Alex G           4        2323      3441   \n",
       "1          1       ,,abrightfar,,           1           3         6   \n",
       "2          2  ...Of Sinking Ships           1          25        50   \n",
       "3          3     1800HaightStreet           1         166       166   \n",
       "4          4    1970's Film Stock           1           5        10   \n",
       "\n",
       "                                                tags  num_recorded_sales  \n",
       "0  'alex g', 'pop', 'domino''nsfw', 'pop''pop', '...                35.0  \n",
       "1  'experimental', 'abrightfar', 'ambient', 'brok...                 0.0  \n",
       "2  'atmospheric', 'hopesfall', 'indie', 'indie ro...                 0.0  \n",
       "3  'chicago house', 'deep techno', 'detroit house...                 2.0  \n",
       "4  '1970s', 'experimental', 'broken machine films...                 0.0  "
      ]
     },
     "execution_count": 12,
     "metadata": {},
     "output_type": "execute_result"
    }
   ],
   "source": [
    "artist_table = pd.read_csv('/Users/shayneufeld/Dropbox/insight/pricecamp/data/artist_table.csv', index_col=0)\n",
    "artist_table.head(5)"
   ]
  },
  {
   "cell_type": "markdown",
   "metadata": {},
   "source": [
    "## create a sparse matrix of artist and supporters. If already made, simply load it in the following cell"
   ]
  },
  {
   "cell_type": "code",
   "execution_count": null,
   "metadata": {
    "collapsed": true
   },
   "outputs": [],
   "source": [
    "artist_matrix = album_supporters[['artist_name', 'contrib_url']].copy()\n",
    "\n",
    "artist_matrix['artist_name'] = artist_matrix['artist_name'].astype('category')\n",
    "artist_matrix['contrib_url'] = artist_matrix['contrib_url'].astype('category')\n",
    "artist_matrix['buys'] = 1\n",
    "\n",
    "buys = coo_matrix((artist_matrix['buys'].astype(float),\n",
    "                  (artist_matrix['artist_name'].cat.codes,\n",
    "                  artist_matrix['contrib_url'].cat.codes)))\n",
    "\n",
    "artist_key = dict(enumerate(artist_matrix.artist_name.cat.categories))\n",
    "\n",
    "# try saving matrix\n",
    "scipy.sparse.save_npz('/Users/shayneufeld/Dropbox/insight/pricecamp/data/supporters_sparse_matrix.npz', buys)"
   ]
  },
  {
   "cell_type": "code",
   "execution_count": 27,
   "metadata": {},
   "outputs": [],
   "source": [
    "#load sparse matrix\n",
    "buys = scipy.sparse.load_npz('/Users/shayneufeld/Dropbox/insight/pricecamp/data/supporters_sparse_matrix.npz')"
   ]
  },
  {
   "cell_type": "markdown",
   "metadata": {},
   "source": [
    "# create an artist_table"
   ]
  },
  {
   "cell_type": "code",
   "execution_count": 165,
   "metadata": {},
   "outputs": [
    {
     "name": "stderr",
     "output_type": "stream",
     "text": [
      "1657it [06:48,  3.89it/s]\n"
     ]
    }
   ],
   "source": [
    "# create a table for each artist, containing number of albums & tags\n",
    "artist_table = pd.DataFrame()\n",
    "\n",
    "for i,key in tqdm.tqdm(enumerate(artist_key)):\n",
    "    artist = artist_key[key]\n",
    "    artist_info = album_info[album_info.artist_name == artist]\n",
    "    artist_supp = album_supporters[album_supporters.artist_name == artist]\n",
    "    \n",
    "    total_supp = artist_supp.shape[0]\n",
    "    unique_supp = artist_supp.contrib_url.unique().shape[0]\n",
    "    num_albums = artist_supp.album_name.unique().shape[0]\n",
    "    \n",
    "    artist_sales = sales[sales.artist_name==name]\n",
    "    num_sales = artist_sales.shape[0]\n",
    "    \n",
    "    artist_tags = str()\n",
    "    for album_tags in artist_info.tags.values:\n",
    "        artist_tags = artist_tags + str(album_tags[1:-1])\n",
    "    \n",
    "    d = {'name':artist,'tags':artist_tags,\n",
    "         'num_albums':num_albums,'num_buys':total_supp,\n",
    "        'num_buyers':unique_supp,'artist_id':key,'num_recorded_sales':num_sales}\n",
    "    \n",
    "    artist_table = artist_table.append(pd.DataFrame(data=d,index=[i]))"
   ]
  },
  {
   "cell_type": "code",
   "execution_count": 14,
   "metadata": {},
   "outputs": [
    {
     "data": {
      "text/html": [
       "<div>\n",
       "<style>\n",
       "    .dataframe thead tr:only-child th {\n",
       "        text-align: right;\n",
       "    }\n",
       "\n",
       "    .dataframe thead th {\n",
       "        text-align: left;\n",
       "    }\n",
       "\n",
       "    .dataframe tbody tr th {\n",
       "        vertical-align: top;\n",
       "    }\n",
       "</style>\n",
       "<table border=\"1\" class=\"dataframe\">\n",
       "  <thead>\n",
       "    <tr style=\"text-align: right;\">\n",
       "      <th></th>\n",
       "      <th>artist_id</th>\n",
       "      <th>name</th>\n",
       "      <th>num_albums</th>\n",
       "      <th>num_buyers</th>\n",
       "      <th>num_buys</th>\n",
       "      <th>tags</th>\n",
       "      <th>num_recorded_sales</th>\n",
       "    </tr>\n",
       "  </thead>\n",
       "  <tbody>\n",
       "    <tr>\n",
       "      <th>0</th>\n",
       "      <td>0</td>\n",
       "      <td>(Sandy) Alex G</td>\n",
       "      <td>4</td>\n",
       "      <td>2323</td>\n",
       "      <td>3441</td>\n",
       "      <td>'alex g', 'pop', 'domino''nsfw', 'pop''pop', '...</td>\n",
       "      <td>35.0</td>\n",
       "    </tr>\n",
       "    <tr>\n",
       "      <th>1</th>\n",
       "      <td>1</td>\n",
       "      <td>,,abrightfar,,</td>\n",
       "      <td>1</td>\n",
       "      <td>3</td>\n",
       "      <td>6</td>\n",
       "      <td>'experimental', 'abrightfar', 'ambient', 'brok...</td>\n",
       "      <td>0.0</td>\n",
       "    </tr>\n",
       "    <tr>\n",
       "      <th>2</th>\n",
       "      <td>2</td>\n",
       "      <td>...Of Sinking Ships</td>\n",
       "      <td>1</td>\n",
       "      <td>25</td>\n",
       "      <td>50</td>\n",
       "      <td>'atmospheric', 'hopesfall', 'indie', 'indie ro...</td>\n",
       "      <td>0.0</td>\n",
       "    </tr>\n",
       "    <tr>\n",
       "      <th>3</th>\n",
       "      <td>3</td>\n",
       "      <td>1800HaightStreet</td>\n",
       "      <td>1</td>\n",
       "      <td>166</td>\n",
       "      <td>166</td>\n",
       "      <td>'chicago house', 'deep techno', 'detroit house...</td>\n",
       "      <td>2.0</td>\n",
       "    </tr>\n",
       "    <tr>\n",
       "      <th>4</th>\n",
       "      <td>4</td>\n",
       "      <td>1970's Film Stock</td>\n",
       "      <td>1</td>\n",
       "      <td>5</td>\n",
       "      <td>10</td>\n",
       "      <td>'1970s', 'experimental', 'broken machine films...</td>\n",
       "      <td>0.0</td>\n",
       "    </tr>\n",
       "  </tbody>\n",
       "</table>\n",
       "</div>"
      ],
      "text/plain": [
       "   artist_id                 name  num_albums  num_buyers  num_buys  \\\n",
       "0          0       (Sandy) Alex G           4        2323      3441   \n",
       "1          1       ,,abrightfar,,           1           3         6   \n",
       "2          2  ...Of Sinking Ships           1          25        50   \n",
       "3          3     1800HaightStreet           1         166       166   \n",
       "4          4    1970's Film Stock           1           5        10   \n",
       "\n",
       "                                                tags  num_recorded_sales  \n",
       "0  'alex g', 'pop', 'domino''nsfw', 'pop''pop', '...                35.0  \n",
       "1  'experimental', 'abrightfar', 'ambient', 'brok...                 0.0  \n",
       "2  'atmospheric', 'hopesfall', 'indie', 'indie ro...                 0.0  \n",
       "3  'chicago house', 'deep techno', 'detroit house...                 2.0  \n",
       "4  '1970s', 'experimental', 'broken machine films...                 0.0  "
      ]
     },
     "execution_count": 14,
     "metadata": {},
     "output_type": "execute_result"
    }
   ],
   "source": [
    "artist_table.head(5)"
   ]
  },
  {
   "cell_type": "code",
   "execution_count": 24,
   "metadata": {
    "collapsed": true
   },
   "outputs": [],
   "source": [
    "def bm25_weight(X, K1=100, B=0.8):\n",
    "    \"\"\" Weighs each row of a sparse matrix X  by BM25 weighting \"\"\"\n",
    "    # calculate idf per term (user)\n",
    "    X = coo_matrix(X)\n",
    "\n",
    "    N = float(X.shape[0])\n",
    "    idf = np.log(N / (1 + np.bincount(X.col)))\n",
    "\n",
    "    # calculate length_norm per document (artist)\n",
    "    row_sums = np.ravel(X.sum(axis=1))\n",
    "    average_length = row_sums.mean()\n",
    "    length_norm = (1.0 - B) + B * row_sums / average_length\n",
    "\n",
    "    # weight matrix rows by bm25\n",
    "    X.data = X.data * (K1 + 1.0) / (K1 * length_norm[X.row] + X.data) * idf[X.col]\n",
    "    return X"
   ]
  },
  {
   "cell_type": "markdown",
   "metadata": {},
   "source": [
    "## Implicit Alternating Least Squares"
   ]
  },
  {
   "cell_type": "code",
   "execution_count": 25,
   "metadata": {
    "collapsed": true
   },
   "outputs": [],
   "source": [
    "# initialize a model\n",
    "als = implicit.als.AlternatingLeastSquares(factors=50)"
   ]
  },
  {
   "cell_type": "code",
   "execution_count": 28,
   "metadata": {},
   "outputs": [
    {
     "name": "stdout",
     "output_type": "stream",
     "text": [
      "Time to fit als model: 13 s\n"
     ]
    }
   ],
   "source": [
    "# train the model on a sparse matrix of item/user/confidence weights\n",
    "start = timer()\n",
    "als.fit(buys)\n",
    "end = timer()\n",
    "print('Time to fit als model: %.0f s' % (end-start))"
   ]
  },
  {
   "cell_type": "code",
   "execution_count": 588,
   "metadata": {},
   "outputs": [
    {
     "data": {
      "text/plain": [
       "(1657, 50)"
      ]
     },
     "execution_count": 588,
     "metadata": {},
     "output_type": "execute_result"
    }
   ],
   "source": [
    "als.item_factors.shape"
   ]
  },
  {
   "cell_type": "code",
   "execution_count": 589,
   "metadata": {},
   "outputs": [
    {
     "data": {
      "text/plain": [
       "(1657, 242214)"
      ]
     },
     "execution_count": 589,
     "metadata": {},
     "output_type": "execute_result"
    }
   ],
   "source": [
    "buys.shape"
   ]
  },
  {
   "cell_type": "code",
   "execution_count": 593,
   "metadata": {},
   "outputs": [],
   "source": [
    "artist_id = 0\n",
    "als_result = als.similar_items(artist_id,N=50)\n",
    "\n",
    "results = als_result\n",
    "als_ = pd.DataFrame()\n",
    "\n",
    "for als_r in results:\n",
    "    als_ = als_.append(artist_table[artist_table.artist_id==als_r[0]])\n",
    "    \n",
    "#print('Artist: %s' % artist_key[artist_id])\n",
    "#print('Related artists: %s' % related_artists)"
   ]
  },
  {
   "cell_type": "code",
   "execution_count": 594,
   "metadata": {
    "collapsed": true
   },
   "outputs": [],
   "source": [
    "related_artists = als_.name.values\n",
    "related_sales_als = pd.DataFrame()\n",
    "\n",
    "for als_artist in related_artists:\n",
    "    related_sales_als_ = sales[sales.artist_name==als_artist].copy()\n",
    "    related_sales_als = related_sales_als.append(related_sales_als_)"
   ]
  },
  {
   "cell_type": "code",
   "execution_count": 595,
   "metadata": {},
   "outputs": [
    {
     "name": "stdout",
     "output_type": "stream",
     "text": [
      "Num related sales (als): 1694\n"
     ]
    }
   ],
   "source": [
    "print('Num related sales (als): %.0f' % related_sales_als.shape[0])"
   ]
  },
  {
   "cell_type": "code",
   "execution_count": 596,
   "metadata": {},
   "outputs": [
    {
     "data": {
      "text/html": [
       "<div>\n",
       "<style>\n",
       "    .dataframe thead tr:only-child th {\n",
       "        text-align: right;\n",
       "    }\n",
       "\n",
       "    .dataframe thead th {\n",
       "        text-align: left;\n",
       "    }\n",
       "\n",
       "    .dataframe tbody tr th {\n",
       "        vertical-align: top;\n",
       "    }\n",
       "</style>\n",
       "<table border=\"1\" class=\"dataframe\">\n",
       "  <thead>\n",
       "    <tr style=\"text-align: right;\">\n",
       "      <th></th>\n",
       "      <th>a</th>\n",
       "      <th>b</th>\n",
       "      <th>t</th>\n",
       "      <th>p</th>\n",
       "    </tr>\n",
       "  </thead>\n",
       "  <tbody>\n",
       "    <tr>\n",
       "      <th>Price</th>\n",
       "      <td>0.0</td>\n",
       "      <td>0.0</td>\n",
       "      <td>0.0</td>\n",
       "      <td>0.0</td>\n",
       "    </tr>\n",
       "    <tr>\n",
       "      <th>Revenue</th>\n",
       "      <td>0.0</td>\n",
       "      <td>0.0</td>\n",
       "      <td>0.0</td>\n",
       "      <td>0.0</td>\n",
       "    </tr>\n",
       "    <tr>\n",
       "      <th>Frac_Revenue</th>\n",
       "      <td>0.0</td>\n",
       "      <td>0.0</td>\n",
       "      <td>0.0</td>\n",
       "      <td>0.0</td>\n",
       "    </tr>\n",
       "  </tbody>\n",
       "</table>\n",
       "</div>"
      ],
      "text/plain": [
       "                a    b    t    p\n",
       "Price         0.0  0.0  0.0  0.0\n",
       "Revenue       0.0  0.0  0.0  0.0\n",
       "Frac_Revenue  0.0  0.0  0.0  0.0"
      ]
     },
     "execution_count": 596,
     "metadata": {},
     "output_type": "execute_result"
    }
   ],
   "source": [
    "price_analysis = pd.DataFrame(data=np.zeros((3,4)),index=['Price','Revenue','Frac_Revenue'],columns=['a','b','t','p'])\n",
    "price_analysis"
   ]
  },
  {
   "cell_type": "code",
   "execution_count": 600,
   "metadata": {},
   "outputs": [
    {
     "data": {
      "text/plain": [
       "array(['a', 'p', 't', 'b'], dtype=object)"
      ]
     },
     "execution_count": 600,
     "metadata": {},
     "output_type": "execute_result"
    }
   ],
   "source": [
    "item_types"
   ]
  },
  {
   "cell_type": "code",
   "execution_count": 601,
   "metadata": {
    "collapsed": true
   },
   "outputs": [],
   "source": [
    "item_labels = ['digital album','physical album','single track download','bundle']"
   ]
  },
  {
   "cell_type": "code",
   "execution_count": 614,
   "metadata": {},
   "outputs": [
    {
     "data": {
      "text/plain": [
       "(0, 55)"
      ]
     },
     "execution_count": 614,
     "metadata": {},
     "output_type": "execute_result"
    },
    {
     "data": {
      "image/png": "[encoded data removed]",
      "text/plain": [
       "<matplotlib.figure.Figure at 0x18d7c6cc0>"
      ]
     },
     "metadata": {},
     "output_type": "display_data"
    }
   ],
   "source": [
    "related_sales = related_sales_als\n",
    "item_types = related_sales.item_type.unique()\n",
    "best_price = {}\n",
    "revs = {}\n",
    "price_analysis = pd.DataFrame(data=None,index=['Price','Revenue','Frac_Revenue'],columns=['a','b','t','p'])\n",
    "plt.figure(figsize=(8,5))\n",
    "fontsize=20\n",
    "for i,item_type in enumerate(item_types):\n",
    "    test=related_sales[related_sales.item_type==item_type]\n",
    "    x = np.histogram(test.amount_paid_usd.values)[1][:-1]\n",
    "    y = np.histogram(test.amount_paid_usd.values)[0]*x\n",
    "    \n",
    "    opt = x[np.where(y==y.max())]\n",
    "    rev = y.max()\n",
    "    best_price[item_type] = np.round(opt[0])\n",
    "    revs[item_type] = rev\n",
    "    price_analysis.loc['Price',item_type] = np.round(opt[0])\n",
    "    price_analysis.loc['Revenue',item_type] = rev\n",
    "    \n",
    "    plt.plot(x,y,linewidth=5)\n",
    "    plt.scatter(x,y,label=item_labels[i],linewidth=5)\n",
    "plt.legend(bbox_to_anchor=(0.4,0.5),fontsize=fontsize)\n",
    "plt.xticks(fontsize=fontsize,color='white')\n",
    "plt.yticks(fontsize=fontsize,color='white')\n",
    "plt.xlabel('item price ($)',fontsize=fontsize,color='white')\n",
    "plt.ylabel('revenue ($)', fontsize=fontsize,color='white')\n",
    "plt.xlim(0,55)"
   ]
  },
  {
   "cell_type": "code",
   "execution_count": 441,
   "metadata": {},
   "outputs": [
    {
     "data": {
      "text/html": [
       "<div>\n",
       "<style>\n",
       "    .dataframe thead tr:only-child th {\n",
       "        text-align: right;\n",
       "    }\n",
       "\n",
       "    .dataframe thead th {\n",
       "        text-align: left;\n",
       "    }\n",
       "\n",
       "    .dataframe tbody tr th {\n",
       "        vertical-align: top;\n",
       "    }\n",
       "</style>\n",
       "<table border=\"1\" class=\"dataframe\">\n",
       "  <thead>\n",
       "    <tr style=\"text-align: right;\">\n",
       "      <th></th>\n",
       "      <th>a</th>\n",
       "      <th>b</th>\n",
       "      <th>t</th>\n",
       "      <th>p</th>\n",
       "    </tr>\n",
       "  </thead>\n",
       "  <tbody>\n",
       "    <tr>\n",
       "      <th>Price</th>\n",
       "      <td>4</td>\n",
       "      <td>9</td>\n",
       "      <td>2</td>\n",
       "      <td>7</td>\n",
       "    </tr>\n",
       "    <tr>\n",
       "      <th>Revenue</th>\n",
       "      <td>21.95</td>\n",
       "      <td>51.24</td>\n",
       "      <td>1.9</td>\n",
       "      <td>116.88</td>\n",
       "    </tr>\n",
       "    <tr>\n",
       "      <th>Frac_Revenue</th>\n",
       "      <td>NaN</td>\n",
       "      <td>NaN</td>\n",
       "      <td>NaN</td>\n",
       "      <td>NaN</td>\n",
       "    </tr>\n",
       "  </tbody>\n",
       "</table>\n",
       "</div>"
      ],
      "text/plain": [
       "                  a      b    t       p\n",
       "Price             4      9    2       7\n",
       "Revenue       21.95  51.24  1.9  116.88\n",
       "Frac_Revenue    NaN    NaN  NaN     NaN"
      ]
     },
     "execution_count": 441,
     "metadata": {},
     "output_type": "execute_result"
    }
   ],
   "source": [
    "price_analysis"
   ]
  },
  {
   "cell_type": "code",
   "execution_count": 454,
   "metadata": {},
   "outputs": [
    {
     "data": {
      "text/html": [
       "<div>\n",
       "<style>\n",
       "    .dataframe thead tr:only-child th {\n",
       "        text-align: right;\n",
       "    }\n",
       "\n",
       "    .dataframe thead th {\n",
       "        text-align: left;\n",
       "    }\n",
       "\n",
       "    .dataframe tbody tr th {\n",
       "        vertical-align: top;\n",
       "    }\n",
       "</style>\n",
       "<table border=\"1\" class=\"dataframe\">\n",
       "  <thead>\n",
       "    <tr style=\"text-align: right;\">\n",
       "      <th></th>\n",
       "      <th>a</th>\n",
       "      <th>b</th>\n",
       "      <th>t</th>\n",
       "      <th>p</th>\n",
       "    </tr>\n",
       "  </thead>\n",
       "  <tbody>\n",
       "    <tr>\n",
       "      <th>Price</th>\n",
       "      <td>4</td>\n",
       "      <td>9</td>\n",
       "      <td>2</td>\n",
       "      <td>7</td>\n",
       "    </tr>\n",
       "    <tr>\n",
       "      <th>Revenue</th>\n",
       "      <td>21.95</td>\n",
       "      <td>51.24</td>\n",
       "      <td>1.9</td>\n",
       "      <td>116.88</td>\n",
       "    </tr>\n",
       "    <tr>\n",
       "      <th>Frac_Revenue</th>\n",
       "      <td>0.114341</td>\n",
       "      <td>0.266917</td>\n",
       "      <td>0.00989738</td>\n",
       "      <td>0.608845</td>\n",
       "    </tr>\n",
       "  </tbody>\n",
       "</table>\n",
       "</div>"
      ],
      "text/plain": [
       "                     a         b           t         p\n",
       "Price                4         9           2         7\n",
       "Revenue          21.95     51.24         1.9    116.88\n",
       "Frac_Revenue  0.114341  0.266917  0.00989738  0.608845"
      ]
     },
     "execution_count": 454,
     "metadata": {},
     "output_type": "execute_result"
    }
   ],
   "source": [
    "price_analysis.loc['Frac_Revenue',:] = price_analysis.loc['Revenue',:].values / price_analysis.loc['Revenue',:].values.sum(axis=0)\n",
    "price_analysis"
   ]
  },
  {
   "cell_type": "code",
   "execution_count": 469,
   "metadata": {},
   "outputs": [],
   "source": [
    "rec['Frac_Revenue'] = np.round(rec.Frac_Revenue.values / rec.Frac_Revenue.values.sum(),2)"
   ]
  },
  {
   "cell_type": "code",
   "execution_count": 488,
   "metadata": {},
   "outputs": [
    {
     "data": {
      "text/plain": [
       "'<table border=\"1\" class=\"dataframe\">\\n  <thead>\\n    <tr style=\"text-align: right;\">\\n      <th></th>\\n      <th>Frac_Revenue</th>\\n      <th>Price</th>\\n      <th>Revenue</th>\\n    </tr>\\n  </thead>\\n  <tbody>\\n    <tr>\\n      <th>b</th>\\n      <td>0.3</td>\\n      <td>9.0</td>\\n      <td>51.24</td>\\n    </tr>\\n    <tr>\\n      <th>p</th>\\n      <td>0.7</td>\\n      <td>7.0</td>\\n      <td>116.88</td>\\n    </tr>\\n  </tbody>\\n</table>'"
      ]
     },
     "execution_count": 488,
     "metadata": {},
     "output_type": "execute_result"
    }
   ],
   "source": [
    "rec.to_html()"
   ]
  },
  {
   "cell_type": "code",
   "execution_count": 490,
   "metadata": {},
   "outputs": [
    {
     "data": {
      "text/html": [
       "<div>\n",
       "<style>\n",
       "    .dataframe thead tr:only-child th {\n",
       "        text-align: right;\n",
       "    }\n",
       "\n",
       "    .dataframe thead th {\n",
       "        text-align: left;\n",
       "    }\n",
       "\n",
       "    .dataframe tbody tr th {\n",
       "        vertical-align: top;\n",
       "    }\n",
       "</style>\n",
       "<table border=\"1\" class=\"dataframe\">\n",
       "  <thead>\n",
       "    <tr style=\"text-align: right;\">\n",
       "      <th></th>\n",
       "      <th>artist_id</th>\n",
       "      <th>name</th>\n",
       "      <th>num_albums</th>\n",
       "      <th>num_buyers</th>\n",
       "      <th>num_buys</th>\n",
       "      <th>tags</th>\n",
       "      <th>num_recorded_sales</th>\n",
       "      <th>num_recorded_sales_by_related</th>\n",
       "    </tr>\n",
       "  </thead>\n",
       "  <tbody>\n",
       "    <tr>\n",
       "      <th>0</th>\n",
       "      <td>0</td>\n",
       "      <td>(Sandy) Alex G</td>\n",
       "      <td>4</td>\n",
       "      <td>2323</td>\n",
       "      <td>3441</td>\n",
       "      <td>'alex g', 'pop', 'domino''nsfw', 'pop''pop', '...</td>\n",
       "      <td>35.0</td>\n",
       "      <td>1694</td>\n",
       "    </tr>\n",
       "    <tr>\n",
       "      <th>1</th>\n",
       "      <td>1</td>\n",
       "      <td>,,abrightfar,,</td>\n",
       "      <td>1</td>\n",
       "      <td>3</td>\n",
       "      <td>6</td>\n",
       "      <td>'experimental', 'abrightfar', 'ambient', 'brok...</td>\n",
       "      <td>0.0</td>\n",
       "      <td>100</td>\n",
       "    </tr>\n",
       "    <tr>\n",
       "      <th>2</th>\n",
       "      <td>2</td>\n",
       "      <td>...Of Sinking Ships</td>\n",
       "      <td>1</td>\n",
       "      <td>25</td>\n",
       "      <td>50</td>\n",
       "      <td>'atmospheric', 'hopesfall', 'indie', 'indie ro...</td>\n",
       "      <td>0.0</td>\n",
       "      <td>170</td>\n",
       "    </tr>\n",
       "    <tr>\n",
       "      <th>3</th>\n",
       "      <td>3</td>\n",
       "      <td>1800HaightStreet</td>\n",
       "      <td>1</td>\n",
       "      <td>166</td>\n",
       "      <td>166</td>\n",
       "      <td>'chicago house', 'deep techno', 'detroit house...</td>\n",
       "      <td>2.0</td>\n",
       "      <td>259</td>\n",
       "    </tr>\n",
       "    <tr>\n",
       "      <th>4</th>\n",
       "      <td>4</td>\n",
       "      <td>1970's Film Stock</td>\n",
       "      <td>1</td>\n",
       "      <td>5</td>\n",
       "      <td>10</td>\n",
       "      <td>'1970s', 'experimental', 'broken machine films...</td>\n",
       "      <td>0.0</td>\n",
       "      <td>10</td>\n",
       "    </tr>\n",
       "    <tr>\n",
       "      <th>5</th>\n",
       "      <td>5</td>\n",
       "      <td>28</td>\n",
       "      <td>1</td>\n",
       "      <td>1</td>\n",
       "      <td>2</td>\n",
       "      <td>'electronic', 'psy trance', 'chillout', 'downt...</td>\n",
       "      <td>0.0</td>\n",
       "      <td>75</td>\n",
       "    </tr>\n",
       "    <tr>\n",
       "      <th>6</th>\n",
       "      <td>6</td>\n",
       "      <td>2814</td>\n",
       "      <td>2</td>\n",
       "      <td>2641</td>\n",
       "      <td>5474</td>\n",
       "      <td>'electronic', 'ambient', 'cyberpunk', 'downtem...</td>\n",
       "      <td>45.0</td>\n",
       "      <td>325</td>\n",
       "    </tr>\n",
       "    <tr>\n",
       "      <th>7</th>\n",
       "      <td>7</td>\n",
       "      <td>3 Ninjasks</td>\n",
       "      <td>1</td>\n",
       "      <td>29</td>\n",
       "      <td>29</td>\n",
       "      <td>'3ds', 'electronic', 'ambient', 'chillwave', '...</td>\n",
       "      <td>0.0</td>\n",
       "      <td>50</td>\n",
       "    </tr>\n",
       "    <tr>\n",
       "      <th>8</th>\n",
       "      <td>8</td>\n",
       "      <td>36 Questions</td>\n",
       "      <td>2</td>\n",
       "      <td>23</td>\n",
       "      <td>39</td>\n",
       "      <td>'soundtrack', 'anti-folk', 'contemporary', 'mu...</td>\n",
       "      <td>45.0</td>\n",
       "      <td>232</td>\n",
       "    </tr>\n",
       "    <tr>\n",
       "      <th>9</th>\n",
       "      <td>9</td>\n",
       "      <td>5ive</td>\n",
       "      <td>2</td>\n",
       "      <td>1</td>\n",
       "      <td>4</td>\n",
       "      <td>'5ive', 'boston', 'pelican', 'punk', 'hardcore...</td>\n",
       "      <td>4.0</td>\n",
       "      <td>68</td>\n",
       "    </tr>\n",
       "    <tr>\n",
       "      <th>10</th>\n",
       "      <td>10</td>\n",
       "      <td>6Blocc</td>\n",
       "      <td>96</td>\n",
       "      <td>765</td>\n",
       "      <td>4220</td>\n",
       "      <td>'dnb', 'electronic', 'amen', 'amen break', 'br...</td>\n",
       "      <td>49.0</td>\n",
       "      <td>463</td>\n",
       "    </tr>\n",
       "    <tr>\n",
       "      <th>11</th>\n",
       "      <td>11</td>\n",
       "      <td>6Blocc and J5</td>\n",
       "      <td>1</td>\n",
       "      <td>21</td>\n",
       "      <td>42</td>\n",
       "      <td>'electronic', 'cumbia', 'cumbia bass', 'dnb', ...</td>\n",
       "      <td>0.0</td>\n",
       "      <td>436</td>\n",
       "    </tr>\n",
       "    <tr>\n",
       "      <th>12</th>\n",
       "      <td>12</td>\n",
       "      <td>6Blocc and Junior Demus</td>\n",
       "      <td>1</td>\n",
       "      <td>13</td>\n",
       "      <td>26</td>\n",
       "      <td>'electronic', 'urban', 'bass', 'dancehall', 'd...</td>\n",
       "      <td>0.0</td>\n",
       "      <td>337</td>\n",
       "    </tr>\n",
       "    <tr>\n",
       "      <th>13</th>\n",
       "      <td>13</td>\n",
       "      <td>6Blocc and Wulf</td>\n",
       "      <td>1</td>\n",
       "      <td>11</td>\n",
       "      <td>22</td>\n",
       "      <td>'electronic', 'electronica', 'bass', 'darkside...</td>\n",
       "      <td>0.0</td>\n",
       "      <td>340</td>\n",
       "    </tr>\n",
       "    <tr>\n",
       "      <th>14</th>\n",
       "      <td>14</td>\n",
       "      <td>6Blocc, Capitol City Rockers, Johnny Osbourne,...</td>\n",
       "      <td>1</td>\n",
       "      <td>11</td>\n",
       "      <td>22</td>\n",
       "      <td>'electronic', 'big bass', 'dubstep', 'footwork...</td>\n",
       "      <td>0.0</td>\n",
       "      <td>340</td>\n",
       "    </tr>\n",
       "    <tr>\n",
       "      <th>15</th>\n",
       "      <td>15</td>\n",
       "      <td>77 Rise Recordings</td>\n",
       "      <td>3</td>\n",
       "      <td>28</td>\n",
       "      <td>43</td>\n",
       "      <td>'hip-hop', 'instrumental hip-hop', 'lofi hip h...</td>\n",
       "      <td>22.0</td>\n",
       "      <td>314</td>\n",
       "    </tr>\n",
       "    <tr>\n",
       "      <th>16</th>\n",
       "      <td>16</td>\n",
       "      <td>8 Bit Weapon</td>\n",
       "      <td>6</td>\n",
       "      <td>425</td>\n",
       "      <td>861</td>\n",
       "      <td>'8-bit', 'amiga', 'apple ii', 'atari', 'c64', ...</td>\n",
       "      <td>30.0</td>\n",
       "      <td>233</td>\n",
       "    </tr>\n",
       "    <tr>\n",
       "      <th>17</th>\n",
       "      <td>17</td>\n",
       "      <td>8 Bit Weapon &amp; ComputeHer</td>\n",
       "      <td>2</td>\n",
       "      <td>222</td>\n",
       "      <td>303</td>\n",
       "      <td>'8-bit', 'amiga', 'apple ii', 'atari', 'c64', ...</td>\n",
       "      <td>0.0</td>\n",
       "      <td>122</td>\n",
       "    </tr>\n",
       "    <tr>\n",
       "      <th>18</th>\n",
       "      <td>18</td>\n",
       "      <td>90's Bambino</td>\n",
       "      <td>1</td>\n",
       "      <td>13</td>\n",
       "      <td>26</td>\n",
       "      <td>'experimental', 'broken machine films', 'cryst...</td>\n",
       "      <td>0.0</td>\n",
       "      <td>51</td>\n",
       "    </tr>\n",
       "    <tr>\n",
       "      <th>19</th>\n",
       "      <td>19</td>\n",
       "      <td>A K A N E I N T O K I O</td>\n",
       "      <td>1</td>\n",
       "      <td>46</td>\n",
       "      <td>46</td>\n",
       "      <td>'electronic', 'bedroom electronica', 'deep vap...</td>\n",
       "      <td>0.0</td>\n",
       "      <td>168</td>\n",
       "    </tr>\n",
       "    <tr>\n",
       "      <th>20</th>\n",
       "      <td>20</td>\n",
       "      <td>A Light in the Dark</td>\n",
       "      <td>3</td>\n",
       "      <td>253</td>\n",
       "      <td>740</td>\n",
       "      <td>'metal', 'atmospheric', 'blackgaze', 'electron...</td>\n",
       "      <td>26.0</td>\n",
       "      <td>1122</td>\n",
       "    </tr>\n",
       "    <tr>\n",
       "      <th>21</th>\n",
       "      <td>21</td>\n",
       "      <td>A Scanner Darkly</td>\n",
       "      <td>1</td>\n",
       "      <td>24</td>\n",
       "      <td>48</td>\n",
       "      <td>'atmospheric metal', 'doom', 'drone', 'grind',...</td>\n",
       "      <td>0.0</td>\n",
       "      <td>210</td>\n",
       "    </tr>\n",
       "    <tr>\n",
       "      <th>22</th>\n",
       "      <td>22</td>\n",
       "      <td>A Stick And A Stone</td>\n",
       "      <td>1</td>\n",
       "      <td>17</td>\n",
       "      <td>17</td>\n",
       "      <td>'black metal', 'metal', 'crust', 'doom metal',...</td>\n",
       "      <td>5.0</td>\n",
       "      <td>243</td>\n",
       "    </tr>\n",
       "    <tr>\n",
       "      <th>23</th>\n",
       "      <td>23</td>\n",
       "      <td>A Thousand Hours</td>\n",
       "      <td>3</td>\n",
       "      <td>140</td>\n",
       "      <td>199</td>\n",
       "      <td>'alternative', 'dream pop', 'dreampop', 'dream...</td>\n",
       "      <td>34.0</td>\n",
       "      <td>1032</td>\n",
       "    </tr>\n",
       "    <tr>\n",
       "      <th>24</th>\n",
       "      <td>24</td>\n",
       "      <td>ACTORS</td>\n",
       "      <td>5</td>\n",
       "      <td>93</td>\n",
       "      <td>165</td>\n",
       "      <td>'alternative', 'coldwave', 'darkwave', 'goth',...</td>\n",
       "      <td>27.0</td>\n",
       "      <td>695</td>\n",
       "    </tr>\n",
       "    <tr>\n",
       "      <th>25</th>\n",
       "      <td>25</td>\n",
       "      <td>AIR Japan</td>\n",
       "      <td>1</td>\n",
       "      <td>50</td>\n",
       "      <td>100</td>\n",
       "      <td>'electronic', 'cyberpunk', 'dream', 'dreampunk...</td>\n",
       "      <td>0.0</td>\n",
       "      <td>97</td>\n",
       "    </tr>\n",
       "    <tr>\n",
       "      <th>26</th>\n",
       "      <td>26</td>\n",
       "      <td>ALEX</td>\n",
       "      <td>2</td>\n",
       "      <td>580</td>\n",
       "      <td>1374</td>\n",
       "      <td>\"80's\", '80s', 'electronic', 'cyberpunk', 'dar...</td>\n",
       "      <td>16.0</td>\n",
       "      <td>673</td>\n",
       "    </tr>\n",
       "    <tr>\n",
       "      <th>27</th>\n",
       "      <td>27</td>\n",
       "      <td>ALEX &amp; Tokyo Rose</td>\n",
       "      <td>1</td>\n",
       "      <td>444</td>\n",
       "      <td>888</td>\n",
       "      <td>'80s', 'electronic', 'newwave', 'darksynth', '...</td>\n",
       "      <td>47.0</td>\n",
       "      <td>601</td>\n",
       "    </tr>\n",
       "    <tr>\n",
       "      <th>28</th>\n",
       "      <td>28</td>\n",
       "      <td>AMyn</td>\n",
       "      <td>1</td>\n",
       "      <td>17</td>\n",
       "      <td>17</td>\n",
       "      <td>'electronic', 'ambient', 'house'</td>\n",
       "      <td>0.0</td>\n",
       "      <td>108</td>\n",
       "    </tr>\n",
       "    <tr>\n",
       "      <th>29</th>\n",
       "      <td>29</td>\n",
       "      <td>ASC</td>\n",
       "      <td>1</td>\n",
       "      <td>2</td>\n",
       "      <td>4</td>\n",
       "      <td>'autonomic', 'drum &amp; bass', 'electronic', 'bas...</td>\n",
       "      <td>18.0</td>\n",
       "      <td>88</td>\n",
       "    </tr>\n",
       "    <tr>\n",
       "      <th>...</th>\n",
       "      <td>...</td>\n",
       "      <td>...</td>\n",
       "      <td>...</td>\n",
       "      <td>...</td>\n",
       "      <td>...</td>\n",
       "      <td>...</td>\n",
       "      <td>...</td>\n",
       "      <td>...</td>\n",
       "    </tr>\n",
       "    <tr>\n",
       "      <th>1627</th>\n",
       "      <td>1627</td>\n",
       "      <td>アレックス H O R R O R 666</td>\n",
       "      <td>1</td>\n",
       "      <td>62</td>\n",
       "      <td>124</td>\n",
       "      <td>'electronic', 'experimental', 'terrorwave', 'a...</td>\n",
       "      <td>2.0</td>\n",
       "      <td>472</td>\n",
       "    </tr>\n",
       "    <tr>\n",
       "      <th>1628</th>\n",
       "      <td>1628</td>\n",
       "      <td>コンベアーCONVEYOR and Digital Voyager</td>\n",
       "      <td>1</td>\n",
       "      <td>66</td>\n",
       "      <td>66</td>\n",
       "      <td>'electronic', 'elevator', 'internet', 'jazz', ...</td>\n",
       "      <td>0.0</td>\n",
       "      <td>109</td>\n",
       "    </tr>\n",
       "    <tr>\n",
       "      <th>1629</th>\n",
       "      <td>1629</td>\n",
       "      <td>サイバー '98</td>\n",
       "      <td>1</td>\n",
       "      <td>54</td>\n",
       "      <td>108</td>\n",
       "      <td>'electronic', 'cyberpunk', 'dream', 'dreampunk...</td>\n",
       "      <td>0.0</td>\n",
       "      <td>94</td>\n",
       "    </tr>\n",
       "    <tr>\n",
       "      <th>1630</th>\n",
       "      <td>1630</td>\n",
       "      <td>サイバー '98</td>\n",
       "      <td>1</td>\n",
       "      <td>89</td>\n",
       "      <td>178</td>\n",
       "      <td>'electronic', 'cyberpunk', 'dream', 'dreampunk...</td>\n",
       "      <td>1.0</td>\n",
       "      <td>128</td>\n",
       "    </tr>\n",
       "    <tr>\n",
       "      <th>1631</th>\n",
       "      <td>1631</td>\n",
       "      <td>チェスマスター</td>\n",
       "      <td>5</td>\n",
       "      <td>659</td>\n",
       "      <td>1678</td>\n",
       "      <td>'electronic', 'cyberpunk', 'dream', 'dreampunk...</td>\n",
       "      <td>4.0</td>\n",
       "      <td>284</td>\n",
       "    </tr>\n",
       "    <tr>\n",
       "      <th>1632</th>\n",
       "      <td>1632</td>\n",
       "      <td>バミューダ b e r m u d a</td>\n",
       "      <td>1</td>\n",
       "      <td>37</td>\n",
       "      <td>37</td>\n",
       "      <td>'electronic', 'eccojams', 'new age', 'psychede...</td>\n",
       "      <td>0.0</td>\n",
       "      <td>143</td>\n",
       "    </tr>\n",
       "    <tr>\n",
       "      <th>1633</th>\n",
       "      <td>1633</td>\n",
       "      <td>バーチャルボーイＡ ｔ ｓ ｕ</td>\n",
       "      <td>2</td>\n",
       "      <td>68</td>\n",
       "      <td>70</td>\n",
       "      <td>'electronic', 'dream', 'future', 'internet', '...</td>\n",
       "      <td>0.0</td>\n",
       "      <td>106</td>\n",
       "    </tr>\n",
       "    <tr>\n",
       "      <th>1634</th>\n",
       "      <td>1634</td>\n",
       "      <td>バーチャルボーイＡ ｔ ｓ ｕ x Lisergishnu</td>\n",
       "      <td>1</td>\n",
       "      <td>2</td>\n",
       "      <td>2</td>\n",
       "      <td>'aol', 'electronic', 'os', 'reverbnetics', 'va...</td>\n",
       "      <td>0.0</td>\n",
       "      <td>112</td>\n",
       "    </tr>\n",
       "    <tr>\n",
       "      <th>1635</th>\n",
       "      <td>1635</td>\n",
       "      <td>バーチャルボーイＡ Ｔ Ｓ Ｕ x Lisergishnu</td>\n",
       "      <td>1</td>\n",
       "      <td>31</td>\n",
       "      <td>31</td>\n",
       "      <td>'electronic', 'ambient', 'internet', 'lofi', '...</td>\n",
       "      <td>0.0</td>\n",
       "      <td>96</td>\n",
       "    </tr>\n",
       "    <tr>\n",
       "      <th>1636</th>\n",
       "      <td>1636</td>\n",
       "      <td>ヘア ZNC metals</td>\n",
       "      <td>1</td>\n",
       "      <td>21</td>\n",
       "      <td>21</td>\n",
       "      <td>'electronic', 'arena vapour', 'domestic', 'ecc...</td>\n",
       "      <td>0.0</td>\n",
       "      <td>114</td>\n",
       "    </tr>\n",
       "    <tr>\n",
       "      <th>1637</th>\n",
       "      <td>1637</td>\n",
       "      <td>マクロスMACROSS 82-99</td>\n",
       "      <td>1</td>\n",
       "      <td>524</td>\n",
       "      <td>1048</td>\n",
       "      <td>'electronic', 'japanese pop', 'dance', 'future...</td>\n",
       "      <td>149.0</td>\n",
       "      <td>462</td>\n",
       "    </tr>\n",
       "    <tr>\n",
       "      <th>1638</th>\n",
       "      <td>1638</td>\n",
       "      <td>ミカヅキBIGWAVE</td>\n",
       "      <td>1</td>\n",
       "      <td>116</td>\n",
       "      <td>232</td>\n",
       "      <td>'electronic', 'anime', 'dance', 'future funk',...</td>\n",
       "      <td>47.0</td>\n",
       "      <td>486</td>\n",
       "    </tr>\n",
       "    <tr>\n",
       "      <th>1639</th>\n",
       "      <td>1639</td>\n",
       "      <td>メトロノリ</td>\n",
       "      <td>2</td>\n",
       "      <td>29</td>\n",
       "      <td>68</td>\n",
       "      <td>'alternative', 'japan', 'tokyo', 'music''alter...</td>\n",
       "      <td>4.0</td>\n",
       "      <td>91</td>\n",
       "    </tr>\n",
       "    <tr>\n",
       "      <th>1640</th>\n",
       "      <td>1640</td>\n",
       "      <td>モール g h o s t</td>\n",
       "      <td>1</td>\n",
       "      <td>51</td>\n",
       "      <td>51</td>\n",
       "      <td>'electronic', 'future funk', 'mallsoft', 'vapo...</td>\n",
       "      <td>0.0</td>\n",
       "      <td>102</td>\n",
       "    </tr>\n",
       "    <tr>\n",
       "      <th>1641</th>\n",
       "      <td>1641</td>\n",
       "      <td>ライフターン [Life Turns]</td>\n",
       "      <td>1</td>\n",
       "      <td>34</td>\n",
       "      <td>34</td>\n",
       "      <td>'electronic', 'bedroom electronica', 'deep vap...</td>\n",
       "      <td>0.0</td>\n",
       "      <td>18</td>\n",
       "    </tr>\n",
       "    <tr>\n",
       "      <th>1642</th>\n",
       "      <td>1642</td>\n",
       "      <td>ロフト tapes</td>\n",
       "      <td>3</td>\n",
       "      <td>48</td>\n",
       "      <td>54</td>\n",
       "      <td>'electronic', 'instrumental hip-hop', 'beats',...</td>\n",
       "      <td>11.0</td>\n",
       "      <td>135</td>\n",
       "    </tr>\n",
       "    <tr>\n",
       "      <th>1643</th>\n",
       "      <td>1643</td>\n",
       "      <td>仮想夢プラザ</td>\n",
       "      <td>1</td>\n",
       "      <td>288</td>\n",
       "      <td>576</td>\n",
       "      <td>'electronic', 'ambient', 'dream', 'dreampunk',...</td>\n",
       "      <td>4.0</td>\n",
       "      <td>281</td>\n",
       "    </tr>\n",
       "    <tr>\n",
       "      <th>1644</th>\n",
       "      <td>1644</td>\n",
       "      <td>夕方の犬 (dog in the evening)</td>\n",
       "      <td>1</td>\n",
       "      <td>24</td>\n",
       "      <td>24</td>\n",
       "      <td>'electronic', 'abstract', 'ambient', 'cassette...</td>\n",
       "      <td>0.0</td>\n",
       "      <td>66</td>\n",
       "    </tr>\n",
       "    <tr>\n",
       "      <th>1645</th>\n",
       "      <td>1645</td>\n",
       "      <td>悲しい ANDROID - APARTMENT¶</td>\n",
       "      <td>1</td>\n",
       "      <td>491</td>\n",
       "      <td>491</td>\n",
       "      <td>'electronic', 'nu disco', 'chillwave', 'future...</td>\n",
       "      <td>16.0</td>\n",
       "      <td>1966</td>\n",
       "    </tr>\n",
       "    <tr>\n",
       "      <th>1646</th>\n",
       "      <td>1646</td>\n",
       "      <td>情報デスクVIRTUAL</td>\n",
       "      <td>1</td>\n",
       "      <td>451</td>\n",
       "      <td>902</td>\n",
       "      <td>'electronic'</td>\n",
       "      <td>3.0</td>\n",
       "      <td>209</td>\n",
       "    </tr>\n",
       "    <tr>\n",
       "      <th>1647</th>\n",
       "      <td>1647</td>\n",
       "      <td>戸川純 with Vampillia</td>\n",
       "      <td>1</td>\n",
       "      <td>29</td>\n",
       "      <td>58</td>\n",
       "      <td>'alternative', 'japan', 'tokyo', 'music'</td>\n",
       "      <td>23.0</td>\n",
       "      <td>155</td>\n",
       "    </tr>\n",
       "    <tr>\n",
       "      <th>1648</th>\n",
       "      <td>1648</td>\n",
       "      <td>日没 Inc.</td>\n",
       "      <td>1</td>\n",
       "      <td>31</td>\n",
       "      <td>31</td>\n",
       "      <td>'experimental', 'ambient', 'late night lofi', ...</td>\n",
       "      <td>29.0</td>\n",
       "      <td>85</td>\n",
       "    </tr>\n",
       "    <tr>\n",
       "      <th>1649</th>\n",
       "      <td>1649</td>\n",
       "      <td>猫 シ Corp</td>\n",
       "      <td>1</td>\n",
       "      <td>229</td>\n",
       "      <td>229</td>\n",
       "      <td>'electronic', 'mallsoft', 'plunderphonics', 'p...</td>\n",
       "      <td>0.0</td>\n",
       "      <td>112</td>\n",
       "    </tr>\n",
       "    <tr>\n",
       "      <th>1650</th>\n",
       "      <td>1650</td>\n",
       "      <td>自決 9 6</td>\n",
       "      <td>1</td>\n",
       "      <td>64</td>\n",
       "      <td>64</td>\n",
       "      <td>'electronic', 'ambient', 'dreampunk', 'experim...</td>\n",
       "      <td>35.0</td>\n",
       "      <td>127</td>\n",
       "    </tr>\n",
       "    <tr>\n",
       "      <th>1651</th>\n",
       "      <td>1651</td>\n",
       "      <td>蜃気楼MIRAGE</td>\n",
       "      <td>1</td>\n",
       "      <td>40</td>\n",
       "      <td>40</td>\n",
       "      <td>'electronic', 'ambient', 'lofi', 'luxury', 'ni...</td>\n",
       "      <td>0.0</td>\n",
       "      <td>104</td>\n",
       "    </tr>\n",
       "    <tr>\n",
       "      <th>1652</th>\n",
       "      <td>1652</td>\n",
       "      <td>豊平区民TOYOHIRAKUMIN</td>\n",
       "      <td>3</td>\n",
       "      <td>123</td>\n",
       "      <td>151</td>\n",
       "      <td>'electronic', 'comedy', 'dream', 'easylistenin...</td>\n",
       "      <td>4.0</td>\n",
       "      <td>96</td>\n",
       "    </tr>\n",
       "    <tr>\n",
       "      <th>1653</th>\n",
       "      <td>1653</td>\n",
       "      <td>루카스</td>\n",
       "      <td>1</td>\n",
       "      <td>12</td>\n",
       "      <td>24</td>\n",
       "      <td>'experimental', 'beats', 'broken machine films...</td>\n",
       "      <td>0.0</td>\n",
       "      <td>53</td>\n",
       "    </tr>\n",
       "    <tr>\n",
       "      <th>1654</th>\n",
       "      <td>1654</td>\n",
       "      <td>회사AUTO</td>\n",
       "      <td>1</td>\n",
       "      <td>174</td>\n",
       "      <td>348</td>\n",
       "      <td>'electronic', 'ambient', 'cassette', 'cyberpun...</td>\n",
       "      <td>4.0</td>\n",
       "      <td>128</td>\n",
       "    </tr>\n",
       "    <tr>\n",
       "      <th>1655</th>\n",
       "      <td>1655</td>\n",
       "      <td>１９９６</td>\n",
       "      <td>1</td>\n",
       "      <td>5</td>\n",
       "      <td>10</td>\n",
       "      <td>'experimental', 'drone', 'electronic', 'experi...</td>\n",
       "      <td>0.0</td>\n",
       "      <td>7</td>\n",
       "    </tr>\n",
       "    <tr>\n",
       "      <th>1656</th>\n",
       "      <td>1656</td>\n",
       "      <td>Ｗｅｓｔｅｒｎ Ｄｉｇｉｔａｌand Digital Sex</td>\n",
       "      <td>1</td>\n",
       "      <td>56</td>\n",
       "      <td>56</td>\n",
       "      <td>'electronic', 'afterhours', 'ambient', 'dead s...</td>\n",
       "      <td>0.0</td>\n",
       "      <td>100</td>\n",
       "    </tr>\n",
       "  </tbody>\n",
       "</table>\n",
       "<p>1657 rows × 8 columns</p>\n",
       "</div>"
      ],
      "text/plain": [
       "      artist_id                                               name  \\\n",
       "0             0                                     (Sandy) Alex G   \n",
       "1             1                                     ,,abrightfar,,   \n",
       "2             2                                ...Of Sinking Ships   \n",
       "3             3                                   1800HaightStreet   \n",
       "4             4                                  1970's Film Stock   \n",
       "5             5                                                 28   \n",
       "6             6                                               2814   \n",
       "7             7                                         3 Ninjasks   \n",
       "8             8                                       36 Questions   \n",
       "9             9                                               5ive   \n",
       "10           10                                             6Blocc   \n",
       "11           11                                      6Blocc and J5   \n",
       "12           12                            6Blocc and Junior Demus   \n",
       "13           13                                    6Blocc and Wulf   \n",
       "14           14  6Blocc, Capitol City Rockers, Johnny Osbourne,...   \n",
       "15           15                                 77 Rise Recordings   \n",
       "16           16                                       8 Bit Weapon   \n",
       "17           17                          8 Bit Weapon & ComputeHer   \n",
       "18           18                                       90's Bambino   \n",
       "19           19                            A K A N E I N T O K I O   \n",
       "20           20                                A Light in the Dark   \n",
       "21           21                                   A Scanner Darkly   \n",
       "22           22                                A Stick And A Stone   \n",
       "23           23                                   A Thousand Hours   \n",
       "24           24                                             ACTORS   \n",
       "25           25                                          AIR Japan   \n",
       "26           26                                               ALEX   \n",
       "27           27                                  ALEX & Tokyo Rose   \n",
       "28           28                                               AMyn   \n",
       "29           29                                                ASC   \n",
       "...         ...                                                ...   \n",
       "1627       1627                              アレックス H O R R O R 666   \n",
       "1628       1628                 コンベアーCONVEYOR and Digital Voyager   \n",
       "1629       1629                                          サイバー '98   \n",
       "1630       1630                                           サイバー '98   \n",
       "1631       1631                                            チェスマスター   \n",
       "1632       1632                              バミューダ b e r m u d a   \n",
       "1633       1633                                  バーチャルボーイＡ ｔ ｓ ｕ   \n",
       "1634       1634                    バーチャルボーイＡ ｔ ｓ ｕ x Lisergishnu   \n",
       "1635       1635                      バーチャルボーイＡ Ｔ Ｓ Ｕ x Lisergishnu   \n",
       "1636       1636                                      ヘア ZNC metals   \n",
       "1637       1637                                  マクロスMACROSS 82-99   \n",
       "1638       1638                                        ミカヅキBIGWAVE   \n",
       "1639       1639                                              メトロノリ   \n",
       "1640       1640                                      モール g h o s t   \n",
       "1641       1641                                ライフターン [Life Turns]   \n",
       "1642       1642                                          ロフト tapes   \n",
       "1643       1643                                             仮想夢プラザ   \n",
       "1644       1644                          夕方の犬 (dog in the evening)   \n",
       "1645       1645                           悲しい ANDROID - APARTMENT¶   \n",
       "1646       1646                                       情報デスクVIRTUAL   \n",
       "1647       1647                                 戸川純 with Vampillia   \n",
       "1648       1648                                            日没 Inc.   \n",
       "1649       1649                                           猫 シ Corp   \n",
       "1650       1650                                             自決 9 6   \n",
       "1651       1651                                          蜃気楼MIRAGE   \n",
       "1652       1652                                  豊平区民TOYOHIRAKUMIN   \n",
       "1653       1653                                                루카스   \n",
       "1654       1654                                             회사AUTO   \n",
       "1655       1655                                               １９９６   \n",
       "1656       1656                     Ｗｅｓｔｅｒｎ Ｄｉｇｉｔａｌand Digital Sex   \n",
       "\n",
       "      num_albums  num_buyers  num_buys  \\\n",
       "0              4        2323      3441   \n",
       "1              1           3         6   \n",
       "2              1          25        50   \n",
       "3              1         166       166   \n",
       "4              1           5        10   \n",
       "5              1           1         2   \n",
       "6              2        2641      5474   \n",
       "7              1          29        29   \n",
       "8              2          23        39   \n",
       "9              2           1         4   \n",
       "10            96         765      4220   \n",
       "11             1          21        42   \n",
       "12             1          13        26   \n",
       "13             1          11        22   \n",
       "14             1          11        22   \n",
       "15             3          28        43   \n",
       "16             6         425       861   \n",
       "17             2         222       303   \n",
       "18             1          13        26   \n",
       "19             1          46        46   \n",
       "20             3         253       740   \n",
       "21             1          24        48   \n",
       "22             1          17        17   \n",
       "23             3         140       199   \n",
       "24             5          93       165   \n",
       "25             1          50       100   \n",
       "26             2         580      1374   \n",
       "27             1         444       888   \n",
       "28             1          17        17   \n",
       "29             1           2         4   \n",
       "...          ...         ...       ...   \n",
       "1627           1          62       124   \n",
       "1628           1          66        66   \n",
       "1629           1          54       108   \n",
       "1630           1          89       178   \n",
       "1631           5         659      1678   \n",
       "1632           1          37        37   \n",
       "1633           2          68        70   \n",
       "1634           1           2         2   \n",
       "1635           1          31        31   \n",
       "1636           1          21        21   \n",
       "1637           1         524      1048   \n",
       "1638           1         116       232   \n",
       "1639           2          29        68   \n",
       "1640           1          51        51   \n",
       "1641           1          34        34   \n",
       "1642           3          48        54   \n",
       "1643           1         288       576   \n",
       "1644           1          24        24   \n",
       "1645           1         491       491   \n",
       "1646           1         451       902   \n",
       "1647           1          29        58   \n",
       "1648           1          31        31   \n",
       "1649           1         229       229   \n",
       "1650           1          64        64   \n",
       "1651           1          40        40   \n",
       "1652           3         123       151   \n",
       "1653           1          12        24   \n",
       "1654           1         174       348   \n",
       "1655           1           5        10   \n",
       "1656           1          56        56   \n",
       "\n",
       "                                                   tags  num_recorded_sales  \\\n",
       "0     'alex g', 'pop', 'domino''nsfw', 'pop''pop', '...                35.0   \n",
       "1     'experimental', 'abrightfar', 'ambient', 'brok...                 0.0   \n",
       "2     'atmospheric', 'hopesfall', 'indie', 'indie ro...                 0.0   \n",
       "3     'chicago house', 'deep techno', 'detroit house...                 2.0   \n",
       "4     '1970s', 'experimental', 'broken machine films...                 0.0   \n",
       "5     'electronic', 'psy trance', 'chillout', 'downt...                 0.0   \n",
       "6     'electronic', 'ambient', 'cyberpunk', 'downtem...                45.0   \n",
       "7     '3ds', 'electronic', 'ambient', 'chillwave', '...                 0.0   \n",
       "8     'soundtrack', 'anti-folk', 'contemporary', 'mu...                45.0   \n",
       "9     '5ive', 'boston', 'pelican', 'punk', 'hardcore...                 4.0   \n",
       "10    'dnb', 'electronic', 'amen', 'amen break', 'br...                49.0   \n",
       "11    'electronic', 'cumbia', 'cumbia bass', 'dnb', ...                 0.0   \n",
       "12    'electronic', 'urban', 'bass', 'dancehall', 'd...                 0.0   \n",
       "13    'electronic', 'electronica', 'bass', 'darkside...                 0.0   \n",
       "14    'electronic', 'big bass', 'dubstep', 'footwork...                 0.0   \n",
       "15    'hip-hop', 'instrumental hip-hop', 'lofi hip h...                22.0   \n",
       "16    '8-bit', 'amiga', 'apple ii', 'atari', 'c64', ...                30.0   \n",
       "17    '8-bit', 'amiga', 'apple ii', 'atari', 'c64', ...                 0.0   \n",
       "18    'experimental', 'broken machine films', 'cryst...                 0.0   \n",
       "19    'electronic', 'bedroom electronica', 'deep vap...                 0.0   \n",
       "20    'metal', 'atmospheric', 'blackgaze', 'electron...                26.0   \n",
       "21    'atmospheric metal', 'doom', 'drone', 'grind',...                 0.0   \n",
       "22    'black metal', 'metal', 'crust', 'doom metal',...                 5.0   \n",
       "23    'alternative', 'dream pop', 'dreampop', 'dream...                34.0   \n",
       "24    'alternative', 'coldwave', 'darkwave', 'goth',...                27.0   \n",
       "25    'electronic', 'cyberpunk', 'dream', 'dreampunk...                 0.0   \n",
       "26    \"80's\", '80s', 'electronic', 'cyberpunk', 'dar...                16.0   \n",
       "27    '80s', 'electronic', 'newwave', 'darksynth', '...                47.0   \n",
       "28                     'electronic', 'ambient', 'house'                 0.0   \n",
       "29    'autonomic', 'drum & bass', 'electronic', 'bas...                18.0   \n",
       "...                                                 ...                 ...   \n",
       "1627  'electronic', 'experimental', 'terrorwave', 'a...                 2.0   \n",
       "1628  'electronic', 'elevator', 'internet', 'jazz', ...                 0.0   \n",
       "1629  'electronic', 'cyberpunk', 'dream', 'dreampunk...                 0.0   \n",
       "1630  'electronic', 'cyberpunk', 'dream', 'dreampunk...                 1.0   \n",
       "1631  'electronic', 'cyberpunk', 'dream', 'dreampunk...                 4.0   \n",
       "1632  'electronic', 'eccojams', 'new age', 'psychede...                 0.0   \n",
       "1633  'electronic', 'dream', 'future', 'internet', '...                 0.0   \n",
       "1634  'aol', 'electronic', 'os', 'reverbnetics', 'va...                 0.0   \n",
       "1635  'electronic', 'ambient', 'internet', 'lofi', '...                 0.0   \n",
       "1636  'electronic', 'arena vapour', 'domestic', 'ecc...                 0.0   \n",
       "1637  'electronic', 'japanese pop', 'dance', 'future...               149.0   \n",
       "1638  'electronic', 'anime', 'dance', 'future funk',...                47.0   \n",
       "1639  'alternative', 'japan', 'tokyo', 'music''alter...                 4.0   \n",
       "1640  'electronic', 'future funk', 'mallsoft', 'vapo...                 0.0   \n",
       "1641  'electronic', 'bedroom electronica', 'deep vap...                 0.0   \n",
       "1642  'electronic', 'instrumental hip-hop', 'beats',...                11.0   \n",
       "1643  'electronic', 'ambient', 'dream', 'dreampunk',...                 4.0   \n",
       "1644  'electronic', 'abstract', 'ambient', 'cassette...                 0.0   \n",
       "1645  'electronic', 'nu disco', 'chillwave', 'future...                16.0   \n",
       "1646                                       'electronic'                 3.0   \n",
       "1647           'alternative', 'japan', 'tokyo', 'music'                23.0   \n",
       "1648  'experimental', 'ambient', 'late night lofi', ...                29.0   \n",
       "1649  'electronic', 'mallsoft', 'plunderphonics', 'p...                 0.0   \n",
       "1650  'electronic', 'ambient', 'dreampunk', 'experim...                35.0   \n",
       "1651  'electronic', 'ambient', 'lofi', 'luxury', 'ni...                 0.0   \n",
       "1652  'electronic', 'comedy', 'dream', 'easylistenin...                 4.0   \n",
       "1653  'experimental', 'beats', 'broken machine films...                 0.0   \n",
       "1654  'electronic', 'ambient', 'cassette', 'cyberpun...                 4.0   \n",
       "1655  'experimental', 'drone', 'electronic', 'experi...                 0.0   \n",
       "1656  'electronic', 'afterhours', 'ambient', 'dead s...                 0.0   \n",
       "\n",
       "      num_recorded_sales_by_related  \n",
       "0                              1694  \n",
       "1                               100  \n",
       "2                               170  \n",
       "3                               259  \n",
       "4                                10  \n",
       "5                                75  \n",
       "6                               325  \n",
       "7                                50  \n",
       "8                               232  \n",
       "9                                68  \n",
       "10                              463  \n",
       "11                              436  \n",
       "12                              337  \n",
       "13                              340  \n",
       "14                              340  \n",
       "15                              314  \n",
       "16                              233  \n",
       "17                              122  \n",
       "18                               51  \n",
       "19                              168  \n",
       "20                             1122  \n",
       "21                              210  \n",
       "22                              243  \n",
       "23                             1032  \n",
       "24                              695  \n",
       "25                               97  \n",
       "26                              673  \n",
       "27                              601  \n",
       "28                              108  \n",
       "29                               88  \n",
       "...                             ...  \n",
       "1627                            472  \n",
       "1628                            109  \n",
       "1629                             94  \n",
       "1630                            128  \n",
       "1631                            284  \n",
       "1632                            143  \n",
       "1633                            106  \n",
       "1634                            112  \n",
       "1635                             96  \n",
       "1636                            114  \n",
       "1637                            462  \n",
       "1638                            486  \n",
       "1639                             91  \n",
       "1640                            102  \n",
       "1641                             18  \n",
       "1642                            135  \n",
       "1643                            281  \n",
       "1644                             66  \n",
       "1645                           1966  \n",
       "1646                            209  \n",
       "1647                            155  \n",
       "1648                             85  \n",
       "1649                            112  \n",
       "1650                            127  \n",
       "1651                            104  \n",
       "1652                             96  \n",
       "1653                             53  \n",
       "1654                            128  \n",
       "1655                              7  \n",
       "1656                            100  \n",
       "\n",
       "[1657 rows x 8 columns]"
      ]
     },
     "execution_count": 490,
     "metadata": {},
     "output_type": "execute_result"
    }
   ],
   "source": [
    "artist_table"
   ]
  },
  {
   "cell_type": "code",
   "execution_count": 485,
   "metadata": {},
   "outputs": [],
   "source": [
    "num_sales = 1000\n",
    "revenue = 0\n",
    "for item in rec.iterrows():\n",
    "    num_sales = item[1].Frac_Revenue*num_sales\n",
    "    revenue += num_sales*item[1].Price"
   ]
  },
  {
   "cell_type": "code",
   "execution_count": 486,
   "metadata": {},
   "outputs": [
    {
     "data": {
      "text/plain": [
       "4170.0"
      ]
     },
     "execution_count": 486,
     "metadata": {},
     "output_type": "execute_result"
    }
   ],
   "source": [
    "revenue"
   ]
  },
  {
   "cell_type": "code",
   "execution_count": 279,
   "metadata": {
    "collapsed": true
   },
   "outputs": [],
   "source": [
    "#split into training and testing\n",
    "n_trials = x.shape[0]\n",
    "shuf_inds = np.random.permutation(n_trials)\n",
    "split_ind = int(n_trials*0.8)\n",
    "\n",
    "x_train = x[shuf_inds[:split_ind],:]\n",
    "y_train = y[shuf_inds[:split_ind]]\n",
    "\n",
    "x_test = x[shuf_inds[split_ind:],:]\n",
    "y_test = y[shuf_inds[split_ind:]]"
   ]
  },
  {
   "cell_type": "code",
   "execution_count": 281,
   "metadata": {},
   "outputs": [
    {
     "data": {
      "text/plain": [
       "0.018450576394634433"
      ]
     },
     "execution_count": 281,
     "metadata": {},
     "output_type": "execute_result"
    }
   ],
   "source": [
    "linreg = linear_model.LinearRegression(normalize=True)\n",
    "\n",
    "linreg.fit(x_train,y_train)\n",
    "linreg.score(x_test,y_test)"
   ]
  },
  {
   "cell_type": "markdown",
   "metadata": {},
   "source": [
    "That is very bad. Let's try a decision tree before I start doing any feature engineering"
   ]
  },
  {
   "cell_type": "code",
   "execution_count": 280,
   "metadata": {},
   "outputs": [
    {
     "data": {
      "text/plain": [
       "0.28173373756668885"
      ]
     },
     "execution_count": 280,
     "metadata": {},
     "output_type": "execute_result"
    }
   ],
   "source": [
    "tree = DecisionTreeRegressor()\n",
    "tree.fit(x_train,y_train)\n",
    "tree.score(x_test,y_test)"
   ]
  },
  {
   "cell_type": "code",
   "execution_count": 499,
   "metadata": {},
   "outputs": [],
   "source": [
    "rec = pd.DataFrame()\n",
    "for col in price_analysis.columns.values:\n",
    "    if price_analysis.loc['Frac_Revenue',col] > 0.2:\n",
    "        if col == 'a':\n",
    "            items = 'digital album'\n",
    "        elif col == 'p':\n",
    "            item = 'physical'\n",
    "        elif col == 'b':\n",
    "            item = 'bundle'\n",
    "        elif col == 't':\n",
    "            item = 'track'\n",
    "        \n",
    "        \n",
    "        \n",
    "        rec = rec.append(price_analysis[col])"
   ]
  },
  {
   "cell_type": "code",
   "execution_count": 519,
   "metadata": {},
   "outputs": [
    {
     "data": {
      "text/html": [
       "<div>\n",
       "<style>\n",
       "    .dataframe thead tr:only-child th {\n",
       "        text-align: right;\n",
       "    }\n",
       "\n",
       "    .dataframe thead th {\n",
       "        text-align: left;\n",
       "    }\n",
       "\n",
       "    .dataframe tbody tr th {\n",
       "        vertical-align: top;\n",
       "    }\n",
       "</style>\n",
       "<table border=\"1\" class=\"dataframe\">\n",
       "  <thead>\n",
       "    <tr style=\"text-align: right;\">\n",
       "      <th></th>\n",
       "      <th>Frac_Revenue</th>\n",
       "      <th>Price</th>\n",
       "      <th>Revenue</th>\n",
       "    </tr>\n",
       "  </thead>\n",
       "  <tbody>\n",
       "    <tr>\n",
       "      <th>b</th>\n",
       "      <td>0.266917</td>\n",
       "      <td>9.0</td>\n",
       "      <td>51.24</td>\n",
       "    </tr>\n",
       "    <tr>\n",
       "      <th>p</th>\n",
       "      <td>0.608845</td>\n",
       "      <td>7.0</td>\n",
       "      <td>116.88</td>\n",
       "    </tr>\n",
       "  </tbody>\n",
       "</table>\n",
       "</div>"
      ],
      "text/plain": [
       "   Frac_Revenue  Price  Revenue\n",
       "b      0.266917    9.0    51.24\n",
       "p      0.608845    7.0   116.88"
      ]
     },
     "execution_count": 519,
     "metadata": {},
     "output_type": "execute_result"
    }
   ],
   "source": [
    "rec"
   ]
  },
  {
   "cell_type": "code",
   "execution_count": 518,
   "metadata": {},
   "outputs": [
    {
     "data": {
      "text/html": [
       "<div>\n",
       "<style>\n",
       "    .dataframe thead tr:only-child th {\n",
       "        text-align: right;\n",
       "    }\n",
       "\n",
       "    .dataframe thead th {\n",
       "        text-align: left;\n",
       "    }\n",
       "\n",
       "    .dataframe tbody tr th {\n",
       "        vertical-align: top;\n",
       "    }\n",
       "</style>\n",
       "<table border=\"1\" class=\"dataframe\">\n",
       "  <thead>\n",
       "    <tr style=\"text-align: right;\">\n",
       "      <th></th>\n",
       "      <th>p</th>\n",
       "    </tr>\n",
       "  </thead>\n",
       "  <tbody>\n",
       "    <tr>\n",
       "      <th>Price</th>\n",
       "      <td>7</td>\n",
       "    </tr>\n",
       "    <tr>\n",
       "      <th>Revenue</th>\n",
       "      <td>116.88</td>\n",
       "    </tr>\n",
       "    <tr>\n",
       "      <th>Frac_Revenue</th>\n",
       "      <td>0.608845</td>\n",
       "    </tr>\n",
       "  </tbody>\n",
       "</table>\n",
       "</div>"
      ],
      "text/plain": [
       "                     p\n",
       "Price                7\n",
       "Revenue         116.88\n",
       "Frac_Revenue  0.608845"
      ]
     },
     "execution_count": 518,
     "metadata": {},
     "output_type": "execute_result"
    }
   ],
   "source": [
    "pd.DataFrame(data=price_analysis[col])"
   ]
  },
  {
   "cell_type": "code",
   "execution_count": 512,
   "metadata": {},
   "outputs": [
    {
     "data": {
      "text/plain": [
       "Price                  7\n",
       "Revenue           116.88\n",
       "Frac_Revenue    0.608845\n",
       "Name: p, dtype: object"
      ]
     },
     "execution_count": 512,
     "metadata": {},
     "output_type": "execute_result"
    }
   ],
   "source": [
    "price_analysis[col]"
   ]
  },
  {
   "cell_type": "code",
   "execution_count": 495,
   "metadata": {},
   "outputs": [
    {
     "ename": "TypeError",
     "evalue": "'numpy.float64' object cannot be interpreted as an integer",
     "output_type": "error",
     "traceback": [
      "\u001b[0;31m---------------------------------------------------------------------------\u001b[0m",
      "\u001b[0;31mTypeError\u001b[0m                                 Traceback (most recent call last)",
      "\u001b[0;32m<ipython-input-495-d0c284337ac4>\u001b[0m in \u001b[0;36m<module>\u001b[0;34m()\u001b[0m\n\u001b[1;32m     17\u001b[0m \u001b[0;34m\u001b[0m\u001b[0m\n\u001b[1;32m     18\u001b[0m \u001b[0;32mfor\u001b[0m \u001b[0mitem\u001b[0m \u001b[0;32min\u001b[0m \u001b[0mrec_items\u001b[0m\u001b[0;34m.\u001b[0m\u001b[0miterrows\u001b[0m\u001b[0;34m(\u001b[0m\u001b[0;34m)\u001b[0m\u001b[0;34m:\u001b[0m\u001b[0;34m\u001b[0m\u001b[0m\n\u001b[0;32m---> 19\u001b[0;31m     \u001b[0mnum_sales\u001b[0m \u001b[0;34m=\u001b[0m \u001b[0mitem\u001b[0m\u001b[0;34m[\u001b[0m\u001b[0;36m1\u001b[0m\u001b[0;34m]\u001b[0m\u001b[0;34m.\u001b[0m\u001b[0mFrac_Revenue\u001b[0m\u001b[0;34m*\u001b[0m\u001b[0mnum_sales\u001b[0m\u001b[0;34m\u001b[0m\u001b[0m\n\u001b[0m\u001b[1;32m     20\u001b[0m     \u001b[0mlower_bound\u001b[0m \u001b[0;34m+=\u001b[0m \u001b[0mlower\u001b[0m\u001b[0;34m*\u001b[0m\u001b[0mitem\u001b[0m\u001b[0;34m[\u001b[0m\u001b[0;36m1\u001b[0m\u001b[0;34m]\u001b[0m\u001b[0;34m.\u001b[0m\u001b[0mPrice\u001b[0m\u001b[0;34m\u001b[0m\u001b[0m\n\u001b[1;32m     21\u001b[0m     \u001b[0mupper_bound\u001b[0m \u001b[0;34m+=\u001b[0m \u001b[0mhigher\u001b[0m\u001b[0;34m*\u001b[0m\u001b[0mitem\u001b[0m\u001b[0;34m[\u001b[0m\u001b[0;36m1\u001b[0m\u001b[0;34m]\u001b[0m\u001b[0;34m.\u001b[0m\u001b[0mPrice\u001b[0m\u001b[0;34m\u001b[0m\u001b[0m\n",
      "\u001b[0;31mTypeError\u001b[0m: 'numpy.float64' object cannot be interpreted as an integer"
     ]
    }
   ],
   "source": [
    "num_sales = 'med'\n",
    "rec_items = rec.copy()\n",
    "lower_bound,upp_bound = 0,0\n",
    "    \n",
    "if num_sales == 'low':\n",
    "    lower = 0\n",
    "    higher = 100\n",
    "\n",
    "elif num_sales == 'med':\n",
    "    lower = 100\n",
    "    higher = 500\n",
    "\n",
    "elif num_sales == 'hi':\n",
    "    lower = 500\n",
    "    higher = 0\n",
    "\n",
    "\n",
    "for item in rec_items.iterrows():\n",
    "    lower_bound += lower*item[1].Price\n",
    "    upper_bound += higher*item[1].Price\n",
    "\n",
    "if num_sales == 'low':\n",
    "    revenue = '$<' + str(upper_bound)\n",
    "elif num_sales == 'med':\n",
    "    revenue = '$ ' + str(lower_bound) + '-' + str(upper_bound)\n",
    "elif num_sames == 'hi':\n",
    "    revenue = '$>' + str(lower_bound)"
   ]
  },
  {
   "cell_type": "code",
   "execution_count": 497,
   "metadata": {},
   "outputs": [
    {
     "data": {
      "text/plain": [
       "'med'"
      ]
     },
     "execution_count": 497,
     "metadata": {},
     "output_type": "execute_result"
    }
   ],
   "source": [
    "num_sales"
   ]
  },
  {
   "cell_type": "code",
   "execution_count": 496,
   "metadata": {},
   "outputs": [
    {
     "data": {
      "text/plain": [
       "0.26691670573527115"
      ]
     },
     "execution_count": 496,
     "metadata": {},
     "output_type": "execute_result"
    }
   ],
   "source": [
    "item[1].Frac_Revenue"
   ]
  },
  {
   "cell_type": "code",
   "execution_count": 430,
   "metadata": {},
   "outputs": [],
   "source": [
    "rev_sum = 0\n",
    "frac_rev = {}\n",
    "for key in revs:\n",
    "    rev_sum += revs[key]\n",
    "for key in best_price:\n",
    "    frac = revs[key]/rev_sum\n",
    "    if frac > .20:\n",
    "        frac_rev[key] = frac"
   ]
  },
  {
   "cell_type": "code",
   "execution_count": 431,
   "metadata": {
    "scrolled": true
   },
   "outputs": [
    {
     "data": {
      "text/plain": [
       "{'b': 0.26691670573527121, 'p': 0.60884513205188306}"
      ]
     },
     "execution_count": 431,
     "metadata": {},
     "output_type": "execute_result"
    }
   ],
   "source": [
    "frac_rev"
   ]
  },
  {
   "cell_type": "markdown",
   "metadata": {},
   "source": [
    "## determine number of artists who have related sales >= 400"
   ]
  },
  {
   "cell_type": "code",
   "execution_count": 397,
   "metadata": {},
   "outputs": [
    {
     "name": "stderr",
     "output_type": "stream",
     "text": [
      "100%|██████████| 1657/1657 [34:02<00:00,  1.06s/it]\n"
     ]
    }
   ],
   "source": [
    "num_related_sales = []\n",
    "for key in tqdm.tqdm(artist_table.artist_id):\n",
    "    als_result = als.similar_items(key,N=50)\n",
    "\n",
    "    results = als_result\n",
    "    als_ = pd.DataFrame()\n",
    "\n",
    "    for als_r in results:\n",
    "        als_ = als_.append(artist_table[artist_table.artist_id==als_r[0]])\n",
    "        \n",
    "    related_artists = als_.name.values\n",
    "    related_sales_als = pd.DataFrame()\n",
    "\n",
    "    for als_artist in related_artists:\n",
    "        related_sales_als_ = sales[sales.artist_name==als_artist].copy()\n",
    "        related_sales_als = related_sales_als.append(related_sales_als_)\n",
    "        \n",
    "    num_related_sales.append(related_sales_als.shape[0])"
   ]
  },
  {
   "cell_type": "code",
   "execution_count": 404,
   "metadata": {},
   "outputs": [
    {
     "data": {
      "text/plain": [
       "853"
      ]
     },
     "execution_count": 404,
     "metadata": {},
     "output_type": "execute_result"
    }
   ],
   "source": [
    "np.sum(np.asarray(num_related_sales)>200)"
   ]
  },
  {
   "cell_type": "code",
   "execution_count": 406,
   "metadata": {},
   "outputs": [],
   "source": [
    "artist_table['num_recorded_sales_by_related'] = num_related_sales"
   ]
  },
  {
   "cell_type": "code",
   "execution_count": 408,
   "metadata": {},
   "outputs": [],
   "source": [
    "artist_table.to_csv('/Users/shayneufeld/Dropbox/insight/pricecamp/data/artist_table.csv')"
   ]
  },
  {
   "cell_type": "code",
   "execution_count": 427,
   "metadata": {},
   "outputs": [
    {
     "data": {
      "text/html": [
       "<div>\n",
       "<style>\n",
       "    .dataframe thead tr:only-child th {\n",
       "        text-align: right;\n",
       "    }\n",
       "\n",
       "    .dataframe thead th {\n",
       "        text-align: left;\n",
       "    }\n",
       "\n",
       "    .dataframe tbody tr th {\n",
       "        vertical-align: top;\n",
       "    }\n",
       "</style>\n",
       "<table border=\"1\" class=\"dataframe\">\n",
       "  <thead>\n",
       "    <tr style=\"text-align: right;\">\n",
       "      <th></th>\n",
       "      <th>artist_id</th>\n",
       "      <th>name</th>\n",
       "      <th>num_albums</th>\n",
       "      <th>num_buyers</th>\n",
       "      <th>num_buys</th>\n",
       "      <th>tags</th>\n",
       "      <th>num_recorded_sales</th>\n",
       "      <th>num_recorded_sales_by_related</th>\n",
       "    </tr>\n",
       "  </thead>\n",
       "  <tbody>\n",
       "    <tr>\n",
       "      <th>0</th>\n",
       "      <td>0</td>\n",
       "      <td>(Sandy) Alex G</td>\n",
       "      <td>4</td>\n",
       "      <td>2323</td>\n",
       "      <td>3441</td>\n",
       "      <td>'alex g', 'pop', 'domino''nsfw', 'pop''pop', '...</td>\n",
       "      <td>35.0</td>\n",
       "      <td>1694</td>\n",
       "    </tr>\n",
       "    <tr>\n",
       "      <th>1</th>\n",
       "      <td>1</td>\n",
       "      <td>,,abrightfar,,</td>\n",
       "      <td>1</td>\n",
       "      <td>3</td>\n",
       "      <td>6</td>\n",
       "      <td>'experimental', 'abrightfar', 'ambient', 'brok...</td>\n",
       "      <td>0.0</td>\n",
       "      <td>100</td>\n",
       "    </tr>\n",
       "    <tr>\n",
       "      <th>2</th>\n",
       "      <td>2</td>\n",
       "      <td>...Of Sinking Ships</td>\n",
       "      <td>1</td>\n",
       "      <td>25</td>\n",
       "      <td>50</td>\n",
       "      <td>'atmospheric', 'hopesfall', 'indie', 'indie ro...</td>\n",
       "      <td>0.0</td>\n",
       "      <td>170</td>\n",
       "    </tr>\n",
       "    <tr>\n",
       "      <th>3</th>\n",
       "      <td>3</td>\n",
       "      <td>1800HaightStreet</td>\n",
       "      <td>1</td>\n",
       "      <td>166</td>\n",
       "      <td>166</td>\n",
       "      <td>'chicago house', 'deep techno', 'detroit house...</td>\n",
       "      <td>2.0</td>\n",
       "      <td>259</td>\n",
       "    </tr>\n",
       "    <tr>\n",
       "      <th>4</th>\n",
       "      <td>4</td>\n",
       "      <td>1970's Film Stock</td>\n",
       "      <td>1</td>\n",
       "      <td>5</td>\n",
       "      <td>10</td>\n",
       "      <td>'1970s', 'experimental', 'broken machine films...</td>\n",
       "      <td>0.0</td>\n",
       "      <td>10</td>\n",
       "    </tr>\n",
       "  </tbody>\n",
       "</table>\n",
       "</div>"
      ],
      "text/plain": [
       "   artist_id                 name  num_albums  num_buyers  num_buys  \\\n",
       "0          0       (Sandy) Alex G           4        2323      3441   \n",
       "1          1       ,,abrightfar,,           1           3         6   \n",
       "2          2  ...Of Sinking Ships           1          25        50   \n",
       "3          3     1800HaightStreet           1         166       166   \n",
       "4          4    1970's Film Stock           1           5        10   \n",
       "\n",
       "                                                tags  num_recorded_sales  \\\n",
       "0  'alex g', 'pop', 'domino''nsfw', 'pop''pop', '...                35.0   \n",
       "1  'experimental', 'abrightfar', 'ambient', 'brok...                 0.0   \n",
       "2  'atmospheric', 'hopesfall', 'indie', 'indie ro...                 0.0   \n",
       "3  'chicago house', 'deep techno', 'detroit house...                 2.0   \n",
       "4  '1970s', 'experimental', 'broken machine films...                 0.0   \n",
       "\n",
       "   num_recorded_sales_by_related  \n",
       "0                           1694  \n",
       "1                            100  \n",
       "2                            170  \n",
       "3                            259  \n",
       "4                             10  "
      ]
     },
     "execution_count": 427,
     "metadata": {},
     "output_type": "execute_result"
    }
   ],
   "source": [
    "artist_table.head(5)"
   ]
  },
  {
   "cell_type": "markdown",
   "metadata": {},
   "source": [
    "# model to predict number of buyers given prices"
   ]
  },
  {
   "cell_type": "code",
   "execution_count": 63,
   "metadata": {},
   "outputs": [
    {
     "data": {
      "text/html": [
       "<div>\n",
       "<style>\n",
       "    .dataframe thead tr:only-child th {\n",
       "        text-align: right;\n",
       "    }\n",
       "\n",
       "    .dataframe thead th {\n",
       "        text-align: left;\n",
       "    }\n",
       "\n",
       "    .dataframe tbody tr th {\n",
       "        vertical-align: top;\n",
       "    }\n",
       "</style>\n",
       "<table border=\"1\" class=\"dataframe\">\n",
       "  <thead>\n",
       "    <tr style=\"text-align: right;\">\n",
       "      <th></th>\n",
       "      <th>index</th>\n",
       "      <th>Bundle</th>\n",
       "      <th>Vinyl</th>\n",
       "      <th>CD</th>\n",
       "      <th>Tape</th>\n",
       "      <th>Digital</th>\n",
       "      <th>Unclassified</th>\n",
       "      <th>album_name</th>\n",
       "      <th>artist_name</th>\n",
       "      <th>location</th>\n",
       "      <th>tags</th>\n",
       "      <th>year</th>\n",
       "    </tr>\n",
       "  </thead>\n",
       "  <tbody>\n",
       "    <tr>\n",
       "      <th>0</th>\n",
       "      <td>0</td>\n",
       "      <td>None</td>\n",
       "      <td>None</td>\n",
       "      <td>None</td>\n",
       "      <td>None</td>\n",
       "      <td>$1</td>\n",
       "      <td>None</td>\n",
       "      <td>\"Condos\"-LiveatTheBellHouse</td>\n",
       "      <td>Welcome to Night Vale</td>\n",
       "      <td>New York</td>\n",
       "      <td>['podcasts']</td>\n",
       "      <td>2014.0</td>\n",
       "    </tr>\n",
       "    <tr>\n",
       "      <th>1</th>\n",
       "      <td>1</td>\n",
       "      <td>(</td>\n",
       "      <td>None</td>\n",
       "      <td>None</td>\n",
       "      <td>None</td>\n",
       "      <td>70.4</td>\n",
       "      <td>None</td>\n",
       "      <td>\"Emerson\"UnreleasedDemo</td>\n",
       "      <td>Wintergatan</td>\n",
       "      <td>Gothenburg</td>\n",
       "      <td>['pop']</td>\n",
       "      <td>2017.0</td>\n",
       "    </tr>\n",
       "    <tr>\n",
       "      <th>2</th>\n",
       "      <td>2</td>\n",
       "      <td>$60.30</td>\n",
       "      <td>None</td>\n",
       "      <td>None</td>\n",
       "      <td>None</td>\n",
       "      <td>$13</td>\n",
       "      <td>None</td>\n",
       "      <td>\"ILLESTRUSSIA\"</td>\n",
       "      <td>PLAYA x TIGHT EYEZ x MMP</td>\n",
       "      <td>Ukraine</td>\n",
       "      <td>['300', 'hip-hop/rap', 'instrumental hip-hop',...</td>\n",
       "      <td>2016.0</td>\n",
       "    </tr>\n",
       "    <tr>\n",
       "      <th>3</th>\n",
       "      <td>3</td>\n",
       "      <td>None</td>\n",
       "      <td>None</td>\n",
       "      <td>None</td>\n",
       "      <td>None</td>\n",
       "      <td>$1</td>\n",
       "      <td>None</td>\n",
       "      <td>\"TheDebate\"-LiveatRoulette</td>\n",
       "      <td>Welcome to Night Vale</td>\n",
       "      <td>New York</td>\n",
       "      <td>['podcasts', 'night vale']</td>\n",
       "      <td>2014.0</td>\n",
       "    </tr>\n",
       "    <tr>\n",
       "      <th>4</th>\n",
       "      <td>4</td>\n",
       "      <td>None</td>\n",
       "      <td>None</td>\n",
       "      <td>None</td>\n",
       "      <td>None</td>\n",
       "      <td>$5</td>\n",
       "      <td>None</td>\n",
       "      <td>\"TheInvestigators\"Live</td>\n",
       "      <td>Welcome to Night Vale</td>\n",
       "      <td>New York</td>\n",
       "      <td>['podcasts', 'cecil baldwin', 'comedy', 'night...</td>\n",
       "      <td>2016.0</td>\n",
       "    </tr>\n",
       "  </tbody>\n",
       "</table>\n",
       "</div>"
      ],
      "text/plain": [
       "   index   Bundle Vinyl    CD  Tape Digital Unclassified  \\\n",
       "0      0     None  None  None  None      $1         None   \n",
       "1      1        (  None  None  None    70.4         None   \n",
       "2      2  $60.30   None  None  None     $13         None   \n",
       "3      3     None  None  None  None      $1         None   \n",
       "4      4     None  None  None  None      $5         None   \n",
       "\n",
       "                    album_name               artist_name    location  \\\n",
       "0  \"Condos\"-LiveatTheBellHouse     Welcome to Night Vale    New York   \n",
       "1      \"Emerson\"UnreleasedDemo               Wintergatan  Gothenburg   \n",
       "2               \"ILLESTRUSSIA\"  PLAYA x TIGHT EYEZ x MMP     Ukraine   \n",
       "3   \"TheDebate\"-LiveatRoulette     Welcome to Night Vale    New York   \n",
       "4       \"TheInvestigators\"Live     Welcome to Night Vale    New York   \n",
       "\n",
       "                                                tags    year  \n",
       "0                                       ['podcasts']  2014.0  \n",
       "1                                            ['pop']  2017.0  \n",
       "2  ['300', 'hip-hop/rap', 'instrumental hip-hop',...  2016.0  \n",
       "3                         ['podcasts', 'night vale']  2014.0  \n",
       "4  ['podcasts', 'cecil baldwin', 'comedy', 'night...  2016.0  "
      ]
     },
     "execution_count": 63,
     "metadata": {},
     "output_type": "execute_result"
    }
   ],
   "source": [
    "album_feat.head(5)"
   ]
  },
  {
   "cell_type": "code",
   "execution_count": 85,
   "metadata": {},
   "outputs": [],
   "source": [
    "album_feat = album_info.copy()\n",
    "for col in album_feat:\n",
    "    album_feat.loc[album_feat[col].isnull(),col] = 0"
   ]
  },
  {
   "cell_type": "code",
   "execution_count": 75,
   "metadata": {},
   "outputs": [
    {
     "name": "stderr",
     "output_type": "stream",
     "text": [
      "100%|██████████| 5477/5477 [17:43<00:00,  4.76it/s]\n"
     ]
    }
   ],
   "source": [
    "#get number of buyers for each albums\n",
    "for album in tqdm.tqdm(album_feat.album_name.values):\n",
    "    num_buyers = album_supporters[album_supporters.album_name == album].shape[0]\n",
    "    album_feat.loc[album_feat.album_name == album,'num_buyers'] = num_buyers"
   ]
  },
  {
   "cell_type": "code",
   "execution_count": 87,
   "metadata": {},
   "outputs": [],
   "source": [
    "album_feat['num_buyers'] = num_buyers"
   ]
  },
  {
   "cell_type": "code",
   "execution_count": 88,
   "metadata": {},
   "outputs": [
    {
     "data": {
      "text/html": [
       "<div>\n",
       "<style>\n",
       "    .dataframe thead tr:only-child th {\n",
       "        text-align: right;\n",
       "    }\n",
       "\n",
       "    .dataframe thead th {\n",
       "        text-align: left;\n",
       "    }\n",
       "\n",
       "    .dataframe tbody tr th {\n",
       "        vertical-align: top;\n",
       "    }\n",
       "</style>\n",
       "<table border=\"1\" class=\"dataframe\">\n",
       "  <thead>\n",
       "    <tr style=\"text-align: right;\">\n",
       "      <th></th>\n",
       "      <th>index</th>\n",
       "      <th>Bundle</th>\n",
       "      <th>Vinyl</th>\n",
       "      <th>CD</th>\n",
       "      <th>Tape</th>\n",
       "      <th>Digital</th>\n",
       "      <th>Unclassified</th>\n",
       "      <th>album_name</th>\n",
       "      <th>artist_name</th>\n",
       "      <th>location</th>\n",
       "      <th>tags</th>\n",
       "      <th>year</th>\n",
       "      <th>num_buyers</th>\n",
       "    </tr>\n",
       "  </thead>\n",
       "  <tbody>\n",
       "    <tr>\n",
       "      <th>0</th>\n",
       "      <td>0</td>\n",
       "      <td>0</td>\n",
       "      <td>0</td>\n",
       "      <td>0</td>\n",
       "      <td>0</td>\n",
       "      <td>$1</td>\n",
       "      <td>0</td>\n",
       "      <td>\"Condos\"-LiveatTheBellHouse</td>\n",
       "      <td>Welcome to Night Vale</td>\n",
       "      <td>New York</td>\n",
       "      <td>['podcasts']</td>\n",
       "      <td>2014.0</td>\n",
       "      <td>13326.0</td>\n",
       "    </tr>\n",
       "    <tr>\n",
       "      <th>1</th>\n",
       "      <td>1</td>\n",
       "      <td>(</td>\n",
       "      <td>0</td>\n",
       "      <td>0</td>\n",
       "      <td>0</td>\n",
       "      <td>70.4</td>\n",
       "      <td>0</td>\n",
       "      <td>\"Emerson\"UnreleasedDemo</td>\n",
       "      <td>Wintergatan</td>\n",
       "      <td>Gothenburg</td>\n",
       "      <td>['pop']</td>\n",
       "      <td>2017.0</td>\n",
       "      <td>988.0</td>\n",
       "    </tr>\n",
       "    <tr>\n",
       "      <th>2</th>\n",
       "      <td>2</td>\n",
       "      <td>$60.30</td>\n",
       "      <td>0</td>\n",
       "      <td>0</td>\n",
       "      <td>0</td>\n",
       "      <td>$13</td>\n",
       "      <td>0</td>\n",
       "      <td>\"ILLESTRUSSIA\"</td>\n",
       "      <td>PLAYA x TIGHT EYEZ x MMP</td>\n",
       "      <td>Ukraine</td>\n",
       "      <td>['300', 'hip-hop/rap', 'instrumental hip-hop',...</td>\n",
       "      <td>2016.0</td>\n",
       "      <td>140.0</td>\n",
       "    </tr>\n",
       "    <tr>\n",
       "      <th>3</th>\n",
       "      <td>3</td>\n",
       "      <td>0</td>\n",
       "      <td>0</td>\n",
       "      <td>0</td>\n",
       "      <td>0</td>\n",
       "      <td>$1</td>\n",
       "      <td>0</td>\n",
       "      <td>\"TheDebate\"-LiveatRoulette</td>\n",
       "      <td>Welcome to Night Vale</td>\n",
       "      <td>New York</td>\n",
       "      <td>['podcasts', 'night vale']</td>\n",
       "      <td>2014.0</td>\n",
       "      <td>1803.0</td>\n",
       "    </tr>\n",
       "    <tr>\n",
       "      <th>4</th>\n",
       "      <td>4</td>\n",
       "      <td>0</td>\n",
       "      <td>0</td>\n",
       "      <td>0</td>\n",
       "      <td>0</td>\n",
       "      <td>$5</td>\n",
       "      <td>0</td>\n",
       "      <td>\"TheInvestigators\"Live</td>\n",
       "      <td>Welcome to Night Vale</td>\n",
       "      <td>New York</td>\n",
       "      <td>['podcasts', 'cecil baldwin', 'comedy', 'night...</td>\n",
       "      <td>2016.0</td>\n",
       "      <td>9981.0</td>\n",
       "    </tr>\n",
       "  </tbody>\n",
       "</table>\n",
       "</div>"
      ],
      "text/plain": [
       "   index   Bundle Vinyl CD Tape Digital Unclassified  \\\n",
       "0      0        0     0  0    0      $1            0   \n",
       "1      1        (     0  0    0    70.4            0   \n",
       "2      2  $60.30      0  0    0     $13            0   \n",
       "3      3        0     0  0    0      $1            0   \n",
       "4      4        0     0  0    0      $5            0   \n",
       "\n",
       "                    album_name               artist_name    location  \\\n",
       "0  \"Condos\"-LiveatTheBellHouse     Welcome to Night Vale    New York   \n",
       "1      \"Emerson\"UnreleasedDemo               Wintergatan  Gothenburg   \n",
       "2               \"ILLESTRUSSIA\"  PLAYA x TIGHT EYEZ x MMP     Ukraine   \n",
       "3   \"TheDebate\"-LiveatRoulette     Welcome to Night Vale    New York   \n",
       "4       \"TheInvestigators\"Live     Welcome to Night Vale    New York   \n",
       "\n",
       "                                                tags    year  num_buyers  \n",
       "0                                       ['podcasts']  2014.0     13326.0  \n",
       "1                                            ['pop']  2017.0       988.0  \n",
       "2  ['300', 'hip-hop/rap', 'instrumental hip-hop',...  2016.0       140.0  \n",
       "3                         ['podcasts', 'night vale']  2014.0      1803.0  \n",
       "4  ['podcasts', 'cecil baldwin', 'comedy', 'night...  2016.0      9981.0  "
      ]
     },
     "execution_count": 88,
     "metadata": {},
     "output_type": "execute_result"
    }
   ],
   "source": [
    "album_feat.head(5)"
   ]
  },
  {
   "cell_type": "code",
   "execution_count": 94,
   "metadata": {},
   "outputs": [],
   "source": [
    "album_feat2 = album_feat.copy()\n",
    "for col in ['Bundle','Vinyl','CD','Tape','Digital','Unclassified']:\n",
    "    items = album_feat[col].values\n",
    "    prices = []\n",
    "    for item in items:\n",
    "        if not item == 0:\n",
    "            if ((item[0] == '$') or (item[0] == '£') or (item[0] == '€')):\n",
    "                price = float(item[1:])\n",
    "\n",
    "            else:\n",
    "                try:\n",
    "                    price = (float(item))\n",
    "                except:\n",
    "                    price = None\n",
    "        else:\n",
    "            price = 0\n",
    "        \n",
    "        prices.append(price)\n",
    "        \n",
    "    album_feat2.loc[:,col] = prices"
   ]
  },
  {
   "cell_type": "code",
   "execution_count": 95,
   "metadata": {
    "scrolled": false
   },
   "outputs": [
    {
     "data": {
      "text/html": [
       "<div>\n",
       "<style>\n",
       "    .dataframe thead tr:only-child th {\n",
       "        text-align: right;\n",
       "    }\n",
       "\n",
       "    .dataframe thead th {\n",
       "        text-align: left;\n",
       "    }\n",
       "\n",
       "    .dataframe tbody tr th {\n",
       "        vertical-align: top;\n",
       "    }\n",
       "</style>\n",
       "<table border=\"1\" class=\"dataframe\">\n",
       "  <thead>\n",
       "    <tr style=\"text-align: right;\">\n",
       "      <th></th>\n",
       "      <th>index</th>\n",
       "      <th>Bundle</th>\n",
       "      <th>Vinyl</th>\n",
       "      <th>CD</th>\n",
       "      <th>Tape</th>\n",
       "      <th>Digital</th>\n",
       "      <th>Unclassified</th>\n",
       "      <th>album_name</th>\n",
       "      <th>artist_name</th>\n",
       "      <th>location</th>\n",
       "      <th>tags</th>\n",
       "      <th>year</th>\n",
       "      <th>num_buyers</th>\n",
       "    </tr>\n",
       "  </thead>\n",
       "  <tbody>\n",
       "    <tr>\n",
       "      <th>0</th>\n",
       "      <td>0</td>\n",
       "      <td>0.0</td>\n",
       "      <td>0.0</td>\n",
       "      <td>0.0</td>\n",
       "      <td>0.0</td>\n",
       "      <td>1.0</td>\n",
       "      <td>0.0</td>\n",
       "      <td>\"Condos\"-LiveatTheBellHouse</td>\n",
       "      <td>Welcome to Night Vale</td>\n",
       "      <td>New York</td>\n",
       "      <td>['podcasts']</td>\n",
       "      <td>2014.0</td>\n",
       "      <td>13326.0</td>\n",
       "    </tr>\n",
       "    <tr>\n",
       "      <th>1</th>\n",
       "      <td>1</td>\n",
       "      <td>NaN</td>\n",
       "      <td>0.0</td>\n",
       "      <td>0.0</td>\n",
       "      <td>0.0</td>\n",
       "      <td>70.4</td>\n",
       "      <td>0.0</td>\n",
       "      <td>\"Emerson\"UnreleasedDemo</td>\n",
       "      <td>Wintergatan</td>\n",
       "      <td>Gothenburg</td>\n",
       "      <td>['pop']</td>\n",
       "      <td>2017.0</td>\n",
       "      <td>988.0</td>\n",
       "    </tr>\n",
       "    <tr>\n",
       "      <th>2</th>\n",
       "      <td>2</td>\n",
       "      <td>60.3</td>\n",
       "      <td>0.0</td>\n",
       "      <td>0.0</td>\n",
       "      <td>0.0</td>\n",
       "      <td>13.0</td>\n",
       "      <td>0.0</td>\n",
       "      <td>\"ILLESTRUSSIA\"</td>\n",
       "      <td>PLAYA x TIGHT EYEZ x MMP</td>\n",
       "      <td>Ukraine</td>\n",
       "      <td>['300', 'hip-hop/rap', 'instrumental hip-hop',...</td>\n",
       "      <td>2016.0</td>\n",
       "      <td>140.0</td>\n",
       "    </tr>\n",
       "    <tr>\n",
       "      <th>3</th>\n",
       "      <td>3</td>\n",
       "      <td>0.0</td>\n",
       "      <td>0.0</td>\n",
       "      <td>0.0</td>\n",
       "      <td>0.0</td>\n",
       "      <td>1.0</td>\n",
       "      <td>0.0</td>\n",
       "      <td>\"TheDebate\"-LiveatRoulette</td>\n",
       "      <td>Welcome to Night Vale</td>\n",
       "      <td>New York</td>\n",
       "      <td>['podcasts', 'night vale']</td>\n",
       "      <td>2014.0</td>\n",
       "      <td>1803.0</td>\n",
       "    </tr>\n",
       "    <tr>\n",
       "      <th>4</th>\n",
       "      <td>4</td>\n",
       "      <td>0.0</td>\n",
       "      <td>0.0</td>\n",
       "      <td>0.0</td>\n",
       "      <td>0.0</td>\n",
       "      <td>5.0</td>\n",
       "      <td>0.0</td>\n",
       "      <td>\"TheInvestigators\"Live</td>\n",
       "      <td>Welcome to Night Vale</td>\n",
       "      <td>New York</td>\n",
       "      <td>['podcasts', 'cecil baldwin', 'comedy', 'night...</td>\n",
       "      <td>2016.0</td>\n",
       "      <td>9981.0</td>\n",
       "    </tr>\n",
       "    <tr>\n",
       "      <th>5</th>\n",
       "      <td>5</td>\n",
       "      <td>0.0</td>\n",
       "      <td>0.0</td>\n",
       "      <td>0.0</td>\n",
       "      <td>0.0</td>\n",
       "      <td>1.0</td>\n",
       "      <td>0.0</td>\n",
       "      <td>\"TheLibrarian\"-LiveatSkirball</td>\n",
       "      <td>Welcome to Night Vale</td>\n",
       "      <td>New York</td>\n",
       "      <td>['night vale', 'podcasts', 'welcome to night v...</td>\n",
       "      <td>2015.0</td>\n",
       "      <td>2955.0</td>\n",
       "    </tr>\n",
       "    <tr>\n",
       "      <th>6</th>\n",
       "      <td>6</td>\n",
       "      <td>0.0</td>\n",
       "      <td>0.0</td>\n",
       "      <td>0.0</td>\n",
       "      <td>0.0</td>\n",
       "      <td>7.0</td>\n",
       "      <td>0.0</td>\n",
       "      <td>\"Thisiswhatyoulearned.\"</td>\n",
       "      <td>People Like You</td>\n",
       "      <td>Boston</td>\n",
       "      <td>['alternative', 'broken world media', 'drum &amp; ...</td>\n",
       "      <td>2014.0</td>\n",
       "      <td>145.0</td>\n",
       "    </tr>\n",
       "    <tr>\n",
       "      <th>7</th>\n",
       "      <td>7</td>\n",
       "      <td>0.0</td>\n",
       "      <td>0.0</td>\n",
       "      <td>0.0</td>\n",
       "      <td>0.0</td>\n",
       "      <td>0.0</td>\n",
       "      <td>0.0</td>\n",
       "      <td>#BASEDSHARK</td>\n",
       "      <td>Mayhem</td>\n",
       "      <td>Hamilton</td>\n",
       "      <td>['electronic']</td>\n",
       "      <td>2011.0</td>\n",
       "      <td>2157.0</td>\n",
       "    </tr>\n",
       "    <tr>\n",
       "      <th>8</th>\n",
       "      <td>8</td>\n",
       "      <td>0.0</td>\n",
       "      <td>0.0</td>\n",
       "      <td>0.0</td>\n",
       "      <td>0.0</td>\n",
       "      <td>10.0</td>\n",
       "      <td>NaN</td>\n",
       "      <td>#extrasinamovie|1.20.16|Raleigh,NC|TheRitz</td>\n",
       "      <td>Papadosio</td>\n",
       "      <td>Asheville</td>\n",
       "      <td>['rock', 'alternative', 'electronic', 'improv'...</td>\n",
       "      <td>2016.0</td>\n",
       "      <td>878.0</td>\n",
       "    </tr>\n",
       "    <tr>\n",
       "      <th>9</th>\n",
       "      <td>9</td>\n",
       "      <td>0.0</td>\n",
       "      <td>0.0</td>\n",
       "      <td>0.0</td>\n",
       "      <td>0.0</td>\n",
       "      <td>10.0</td>\n",
       "      <td>NaN</td>\n",
       "      <td>#extrasinamovie|1.21.16|Nashville,TN</td>\n",
       "      <td>Papadosio</td>\n",
       "      <td>Asheville</td>\n",
       "      <td>['rock', 'alternative', 'electronic', 'improv'...</td>\n",
       "      <td>2016.0</td>\n",
       "      <td>880.0</td>\n",
       "    </tr>\n",
       "  </tbody>\n",
       "</table>\n",
       "</div>"
      ],
      "text/plain": [
       "   index  Bundle  Vinyl   CD  Tape  Digital  Unclassified  \\\n",
       "0      0     0.0    0.0  0.0   0.0      1.0           0.0   \n",
       "1      1     NaN    0.0  0.0   0.0     70.4           0.0   \n",
       "2      2    60.3    0.0  0.0   0.0     13.0           0.0   \n",
       "3      3     0.0    0.0  0.0   0.0      1.0           0.0   \n",
       "4      4     0.0    0.0  0.0   0.0      5.0           0.0   \n",
       "5      5     0.0    0.0  0.0   0.0      1.0           0.0   \n",
       "6      6     0.0    0.0  0.0   0.0      7.0           0.0   \n",
       "7      7     0.0    0.0  0.0   0.0      0.0           0.0   \n",
       "8      8     0.0    0.0  0.0   0.0     10.0           NaN   \n",
       "9      9     0.0    0.0  0.0   0.0     10.0           NaN   \n",
       "\n",
       "                                   album_name               artist_name  \\\n",
       "0                 \"Condos\"-LiveatTheBellHouse     Welcome to Night Vale   \n",
       "1                     \"Emerson\"UnreleasedDemo               Wintergatan   \n",
       "2                              \"ILLESTRUSSIA\"  PLAYA x TIGHT EYEZ x MMP   \n",
       "3                  \"TheDebate\"-LiveatRoulette     Welcome to Night Vale   \n",
       "4                      \"TheInvestigators\"Live     Welcome to Night Vale   \n",
       "5               \"TheLibrarian\"-LiveatSkirball     Welcome to Night Vale   \n",
       "6                     \"Thisiswhatyoulearned.\"           People Like You   \n",
       "7                                 #BASEDSHARK                    Mayhem   \n",
       "8  #extrasinamovie|1.20.16|Raleigh,NC|TheRitz                 Papadosio   \n",
       "9        #extrasinamovie|1.21.16|Nashville,TN                 Papadosio   \n",
       "\n",
       "     location                                               tags    year  \\\n",
       "0    New York                                       ['podcasts']  2014.0   \n",
       "1  Gothenburg                                            ['pop']  2017.0   \n",
       "2     Ukraine  ['300', 'hip-hop/rap', 'instrumental hip-hop',...  2016.0   \n",
       "3    New York                         ['podcasts', 'night vale']  2014.0   \n",
       "4    New York  ['podcasts', 'cecil baldwin', 'comedy', 'night...  2016.0   \n",
       "5    New York  ['night vale', 'podcasts', 'welcome to night v...  2015.0   \n",
       "6      Boston  ['alternative', 'broken world media', 'drum & ...  2014.0   \n",
       "7    Hamilton                                     ['electronic']  2011.0   \n",
       "8   Asheville  ['rock', 'alternative', 'electronic', 'improv'...  2016.0   \n",
       "9   Asheville  ['rock', 'alternative', 'electronic', 'improv'...  2016.0   \n",
       "\n",
       "   num_buyers  \n",
       "0     13326.0  \n",
       "1       988.0  \n",
       "2       140.0  \n",
       "3      1803.0  \n",
       "4      9981.0  \n",
       "5      2955.0  \n",
       "6       145.0  \n",
       "7      2157.0  \n",
       "8       878.0  \n",
       "9       880.0  "
      ]
     },
     "execution_count": 95,
     "metadata": {},
     "output_type": "execute_result"
    }
   ],
   "source": [
    "album_feat2.head(10)"
   ]
  },
  {
   "cell_type": "code",
   "execution_count": 119,
   "metadata": {},
   "outputs": [
    {
     "name": "stderr",
     "output_type": "stream",
     "text": [
      "5477it [00:29, 188.72it/s]\n"
     ]
    }
   ],
   "source": [
    "album_feat3 = pd.DataFrame()\n",
    "for row in tqdm.tqdm(album_feat2.iterrows()):\n",
    "    if row[1][['Bundle','Vinyl','Digital','Tape','CD']].sum() > 0:\n",
    "        album_feat3 = album_feat3.append(row[1])"
   ]
  },
  {
   "cell_type": "code",
   "execution_count": 120,
   "metadata": {},
   "outputs": [
    {
     "data": {
      "text/plain": [
       "(4675, 13)"
      ]
     },
     "execution_count": 120,
     "metadata": {},
     "output_type": "execute_result"
    }
   ],
   "source": [
    "album_feat3.shape"
   ]
  },
  {
   "cell_type": "code",
   "execution_count": 124,
   "metadata": {},
   "outputs": [],
   "source": [
    "album_feat3 = album_feat3.fillna(value=0)"
   ]
  },
  {
   "cell_type": "code",
   "execution_count": 386,
   "metadata": {},
   "outputs": [],
   "source": [
    "x = album_feat3[['Bundle','Vinyl','Digital','Tape','CD']].values\n",
    "y = album_feat3['num_buyers'].values"
   ]
  },
  {
   "cell_type": "code",
   "execution_count": 279,
   "metadata": {
    "collapsed": true
   },
   "outputs": [],
   "source": [
    "#split into training and testing\n",
    "n_trials = x.shape[0]\n",
    "shuf_inds = np.random.permutation(n_trials)\n",
    "split_ind = int(n_trials*0.8)\n",
    "\n",
    "x_train = x[shuf_inds[:split_ind],:]\n",
    "y_train = y[shuf_inds[:split_ind]]\n",
    "\n",
    "x_test = x[shuf_inds[split_ind:],:]\n",
    "y_test = y[shuf_inds[split_ind:]]"
   ]
  },
  {
   "cell_type": "code",
   "execution_count": 281,
   "metadata": {},
   "outputs": [
    {
     "data": {
      "text/plain": [
       "0.018450576394634433"
      ]
     },
     "execution_count": 281,
     "metadata": {},
     "output_type": "execute_result"
    }
   ],
   "source": [
    "linreg = linear_model.LinearRegression(normalize=True)\n",
    "\n",
    "linreg.fit(x_train,y_train)\n",
    "linreg.score(x_test,y_test)"
   ]
  },
  {
   "cell_type": "markdown",
   "metadata": {},
   "source": [
    "That is very bad. Let's try a decision tree before I start doing any feature engineering"
   ]
  },
  {
   "cell_type": "code",
   "execution_count": 280,
   "metadata": {},
   "outputs": [
    {
     "data": {
      "text/plain": [
       "0.28173373756668885"
      ]
     },
     "execution_count": 280,
     "metadata": {},
     "output_type": "execute_result"
    }
   ],
   "source": [
    "tree = DecisionTreeRegressor()\n",
    "tree.fit(x_train,y_train)\n",
    "tree.score(x_test,y_test)"
   ]
  },
  {
   "cell_type": "markdown",
   "metadata": {},
   "source": [
    "already a considerable improvement. but it's also pretty sensitive to the specific training/testing set (from just manually trying it a few different times). \n",
    "\n",
    "a couple different ways forward:\n",
    "\n",
    "1. add in the tags as features. probably reduce dimensions using PCAs.\n",
    "    - then you would use the optimal prices as input features and determine the predicted number of buys\n",
    "    - downside: it could be that the tags dominate the feature importance, and the optimal prices don't make much of a difference? but if that's true ... it's true ... \n",
    "    \n",
    "2. get all the tags. do PCA. do clustering on the PCs. look for ~10 clusters or something. now fit separate prediction models for each cluster."
   ]
  },
  {
   "cell_type": "markdown",
   "metadata": {},
   "source": [
    "Okay - plan:\n",
    "\n",
    "1. get all the tags. one hot encode them. PCA --> reduce dimensions. use to predict # sold. see how it does"
   ]
  },
  {
   "cell_type": "code",
   "execution_count": 214,
   "metadata": {
    "collapsed": true
   },
   "outputs": [],
   "source": [
    "def get_tags_from_str(tag_str):\n",
    "    tag_str = tag_str.replace('[','')\n",
    "    tag_str = tag_str.replace(']','')\n",
    "    tag_str = tag_str.replace(\"'\",'')\n",
    "    tag_str = tag_str.replace(\" \",'')\n",
    "    tags = tag_str.split(sep=',')\n",
    "    return tags"
   ]
  },
  {
   "cell_type": "code",
   "execution_count": 206,
   "metadata": {},
   "outputs": [
    {
     "name": "stderr",
     "output_type": "stream",
     "text": [
      "4675it [00:00, 6463.77it/s]\n"
     ]
    }
   ],
   "source": [
    "tags = []\n",
    "for row in tqdm.tqdm(album_feat3.iterrows()):\n",
    "    tag_str = row[1].tags\n",
    "    tag_str = tag_str.replace('[','')\n",
    "    tag_str = tag_str.replace(']','')\n",
    "    tag_str = tag_str.replace(\"'\",'')\n",
    "    tag_str = tag_str.replace(\" \",'')\n",
    "    for tag in tag_str.split(sep=','):\n",
    "        tags.append(tag)"
   ]
  },
  {
   "cell_type": "code",
   "execution_count": 215,
   "metadata": {},
   "outputs": [
    {
     "name": "stderr",
     "output_type": "stream",
     "text": [
      "4675it [27:26,  1.37it/s]\n"
     ]
    }
   ],
   "source": [
    "tags = np.unique(tags)\n",
    "tag_df = pd.DataFrame(data=None,columns=tags)\n",
    "\n",
    "for i,row in tqdm.tqdm(enumerate(album_feat3.iterrows())):\n",
    "    row_tags = get_tags_from_str(row[1].tags)\n",
    "    tag_df.loc[i,row_tags] = 1"
   ]
  },
  {
   "cell_type": "code",
   "execution_count": 224,
   "metadata": {},
   "outputs": [],
   "source": [
    "tag_df = tag_df.fillna(value=0)"
   ]
  },
  {
   "cell_type": "code",
   "execution_count": 240,
   "metadata": {},
   "outputs": [
    {
     "data": {
      "text/plain": [
       "PCA(copy=True, iterated_power='auto', n_components=100, random_state=None,\n",
       "  svd_solver='auto', tol=0.0, whiten=False)"
      ]
     },
     "execution_count": 240,
     "metadata": {},
     "output_type": "execute_result"
    }
   ],
   "source": [
    "tag_matrix = tag_df.values\n",
    "pca_tags = PCA(n_components=100)\n",
    "pca_tags.fit(tag_matrix)"
   ]
  },
  {
   "cell_type": "code",
   "execution_count": 241,
   "metadata": {},
   "outputs": [
    {
     "data": {
      "text/plain": [
       "<matplotlib.text.Text at 0x150b51630>"
      ]
     },
     "execution_count": 241,
     "metadata": {},
     "output_type": "execute_result"
    },
    {
     "data": {
      "image/png": "[encoded data removed]",
      "text/plain": [
       "<matplotlib.figure.Figure at 0x156d919b0>"
      ]
     },
     "metadata": {},
     "output_type": "display_data"
    }
   ],
   "source": [
    "plt.figure(figsize=(7,7))\n",
    "plt.plot(pca_tags.explained_variance_ratio_.cumsum())\n",
    "plt.xlabel('PC #')\n",
    "plt.ylabel('variance explained')"
   ]
  },
  {
   "cell_type": "code",
   "execution_count": 243,
   "metadata": {},
   "outputs": [],
   "source": [
    "tags_reduced = pca_tags.transform(tag_matrix)"
   ]
  },
  {
   "cell_type": "code",
   "execution_count": 287,
   "metadata": {},
   "outputs": [],
   "source": [
    "prices_genres = np.append(x,tags_reduced,axis=1)"
   ]
  },
  {
   "cell_type": "code",
   "execution_count": 298,
   "metadata": {
    "collapsed": true
   },
   "outputs": [],
   "source": [
    "#split into training and testing\n",
    "n_trials = prices_genres.shape[0]\n",
    "shuf_inds = np.random.permutation(n_trials)\n",
    "split_ind = int(n_trials*0.8)\n",
    "\n",
    "x_train = prices_genres[shuf_inds[:split_ind],:]\n",
    "y_train = y[shuf_inds[:split_ind]]\n",
    "\n",
    "x_test = prices_genres[shuf_inds[split_ind:],:]\n",
    "y_test = y[shuf_inds[split_ind:]]"
   ]
  },
  {
   "cell_type": "code",
   "execution_count": 299,
   "metadata": {},
   "outputs": [
    {
     "data": {
      "text/plain": [
       "0.16613121711845824"
      ]
     },
     "execution_count": 299,
     "metadata": {},
     "output_type": "execute_result"
    }
   ],
   "source": [
    "linreg = linear_model.LinearRegression(normalize=True)\n",
    "\n",
    "linreg.fit(x_train,y_train)\n",
    "linreg.score(x_test,y_test)"
   ]
  },
  {
   "cell_type": "markdown",
   "metadata": {},
   "source": [
    "That is very bad. Let's try a decision tree before I start doing any feature engineering"
   ]
  },
  {
   "cell_type": "code",
   "execution_count": 292,
   "metadata": {},
   "outputs": [
    {
     "data": {
      "text/plain": [
       "-0.87663527865016189"
      ]
     },
     "execution_count": 292,
     "metadata": {},
     "output_type": "execute_result"
    }
   ],
   "source": [
    "tree = DecisionTreeRegressor()\n",
    "tree.fit(x_train,y_train)\n",
    "tree.score(x_test,y_test)"
   ]
  },
  {
   "cell_type": "code",
   "execution_count": 305,
   "metadata": {},
   "outputs": [],
   "source": [
    "album_feat3.to_csv('/Users/shayneufeld/Dropbox/insight/pricecamp/data/album_features.csv')"
   ]
  },
  {
   "cell_type": "code",
   "execution_count": 322,
   "metadata": {},
   "outputs": [
    {
     "data": {
      "text/plain": [
       "(0, 1)"
      ]
     },
     "execution_count": 322,
     "metadata": {},
     "output_type": "execute_result"
    },
    {
     "data": {
      "image/png": "[encoded data removed]",
      "text/plain": [
       "<matplotlib.figure.Figure at 0x16b9eed68>"
      ]
     },
     "metadata": {},
     "output_type": "display_data"
    }
   ],
   "source": [
    "plt.hist(album_feat3.num_buyers.values,bins=400)\n",
    "plt.title('Num Buyers')\n",
    "plt.xlim(0,15000)\n",
    "plt.ylim(0,1)"
   ]
  },
  {
   "cell_type": "code",
   "execution_count": 315,
   "metadata": {},
   "outputs": [
    {
     "data": {
      "text/plain": [
       "0.47679144385026739"
      ]
     },
     "execution_count": 315,
     "metadata": {},
     "output_type": "execute_result"
    }
   ],
   "source": [
    "np.sum(album_feat3.num_buyers.values > 100) / album_feat3.num_buyers.values.shape[0]"
   ]
  },
  {
   "cell_type": "code",
   "execution_count": 357,
   "metadata": {},
   "outputs": [
    {
     "data": {
      "text/plain": [
       "array(['low', 'low', 'low', ..., 'low', 'low', 'low'],\n",
       "      dtype='<U3')"
      ]
     },
     "execution_count": 357,
     "metadata": {},
     "output_type": "execute_result"
    }
   ],
   "source": [
    "np.asarray(y_class)"
   ]
  },
  {
   "cell_type": "code",
   "execution_count": 363,
   "metadata": {},
   "outputs": [],
   "source": [
    "y_class = ['low']*y.shape[0]\n",
    "y_class = np.asarray(y_class)\n",
    "y_class[album_feat3.num_buyers.values > 100] = 'med'\n",
    "y_class[album_feat3.num_buyers.values > 500] = 'hi'"
   ]
  },
  {
   "cell_type": "code",
   "execution_count": 325,
   "metadata": {
    "collapsed": true
   },
   "outputs": [],
   "source": [
    "from sklearn.ensemble import RandomForestClassifier"
   ]
  },
  {
   "cell_type": "code",
   "execution_count": 392,
   "metadata": {
    "collapsed": true
   },
   "outputs": [],
   "source": [
    "#split into training and testing\n",
    "x = prices_genres"
   ]
  },
  {
   "cell_type": "code",
   "execution_count": 426,
   "metadata": {},
   "outputs": [],
   "source": [
    "np.savetxt('/Users/shayneufeld/Dropbox/insight/pricecamp/data/prices_genres_features.csv',prices_genres)"
   ]
  },
  {
   "cell_type": "code",
   "execution_count": 546,
   "metadata": {},
   "outputs": [
    {
     "name": "stderr",
     "output_type": "stream",
     "text": [
      "100%|██████████| 100/100 [00:16<00:00,  6.41it/s]\n"
     ]
    }
   ],
   "source": [
    "y = y_class\n",
    "x = prices_genres\n",
    "n_trials = prices_genres.shape[0]\n",
    "overall,low,med,hi = np.zeros(100),np.zeros(100),np.zeros(100),np.zeros(100)\n",
    "\n",
    "for i in tqdm.tqdm(range(100)):\n",
    "    shuf_inds = np.random.permutation(n_trials)\n",
    "    split_ind = int(n_trials*0.8)\n",
    "\n",
    "    x_train = x[shuf_inds[:split_ind],:]\n",
    "    y_train = y[shuf_inds[:split_ind]]\n",
    "\n",
    "    x_test = x[shuf_inds[split_ind:],:]\n",
    "    y_test = y[shuf_inds[split_ind:]]\n",
    "\n",
    "\n",
    "    forest = RandomForestClassifier()\n",
    "    forest.fit(x_train,y_train)\n",
    "    \n",
    "    y_predict = forest.predict(x_test)\n",
    "    \n",
    "    overall[i] = forest.score(x_test,y_test)\n",
    "    med[i] = np.mean(y_predict[y_test=='med'] == 'med')\n",
    "    hi[i] = np.mean(y_predict[y_test=='hi'] == 'hi')\n",
    "    low[i] = np.mean(y_predict[y_test=='low'] == 'low')"
   ]
  },
  {
   "cell_type": "code",
   "execution_count": 549,
   "metadata": {},
   "outputs": [],
   "source": [
    "scores_df = pd.DataFrame(data={'score':low,'class':'low'})\n",
    "scores_df = scores_df.append(pd.DataFrame(data={'score':med,'class':'medium'}))\n",
    "scores_df = scores_df.append(pd.DataFrame(data={'score':hi,'class':'high'}))"
   ]
  },
  {
   "cell_type": "code",
   "execution_count": 571,
   "metadata": {},
   "outputs": [
    {
     "data": {
      "text/plain": [
       "0.25176470588235295"
      ]
     },
     "execution_count": 571,
     "metadata": {},
     "output_type": "execute_result"
    }
   ],
   "source": [
    "y_class[y_class=='hi'].shape[0] / y_class.shape[0]"
   ]
  },
  {
   "cell_type": "code",
   "execution_count": null,
   "metadata": {
    "collapsed": true
   },
   "outputs": [],
   "source": []
  },
  {
   "cell_type": "code",
   "execution_count": 586,
   "metadata": {},
   "outputs": [
    {
     "data": {
      "text/plain": [
       "<matplotlib.legend.Legend at 0x18d7d34a8>"
      ]
     },
     "execution_count": 586,
     "metadata": {},
     "output_type": "execute_result"
    },
    {
     "data": {
      "image/png": "[encoded data removed]",
      "text/plain": [
       "<matplotlib.figure.Figure at 0x18d5daf28>"
      ]
     },
     "metadata": {},
     "output_type": "display_data"
    }
   ],
   "source": [
    "plt.figure(figsize=(9,9))\n",
    "fontsize=30\n",
    "sns.barplot(x='class',y='score',data=scores_df,ci=99)\n",
    "plt.xticks(fontsize=fontsize,color='white')\n",
    "plt.xlabel('')\n",
    "plt.yticks(fontsize=fontsize,color='white')\n",
    "plt.ylabel('model accuracy',fontsize=fontsize,color='white')\n",
    "plt.ylim(0,1)\n",
    "plt.hlines(y=0.52,xmin=-0.35,xmax=0.35,linestyles='dotted')\n",
    "plt.hlines(y=0.22,xmin= 0.65,xmax=1.35,linestyles='dotted')\n",
    "plt.hlines(y=0.25,xmin= 1.65,xmax=2.35,linestyles='dotted',label='random chance')\n",
    "plt.legend(loc='best',fontsize=20)"
   ]
  },
  {
   "cell_type": "code",
   "execution_count": null,
   "metadata": {
    "collapsed": true
   },
   "outputs": [],
   "source": []
  },
  {
   "cell_type": "code",
   "execution_count": 523,
   "metadata": {},
   "outputs": [
    {
     "data": {
      "text/plain": [
       "'med'"
      ]
     },
     "execution_count": 523,
     "metadata": {},
     "output_type": "execute_result"
    }
   ],
   "source": [
    "y_class[2]"
   ]
  },
  {
   "cell_type": "code",
   "execution_count": 409,
   "metadata": {
    "collapsed": true
   },
   "outputs": [],
   "source": [
    "import pickle"
   ]
  },
  {
   "cell_type": "code",
   "execution_count": 413,
   "metadata": {},
   "outputs": [],
   "source": [
    "filename = '/Users/shayneufeld/GitHub/pricecamp/models/rf_model.sav'\n",
    "pickle.dump(forest, open(filename, 'wb'))"
   ]
  },
  {
   "cell_type": "markdown",
   "metadata": {},
   "source": [
    "# accuracy of random forest"
   ]
  },
  {
   "cell_type": "code",
   "execution_count": 531,
   "metadata": {},
   "outputs": [
    {
     "data": {
      "text/plain": [
       "(935,)"
      ]
     },
     "execution_count": 531,
     "metadata": {},
     "output_type": "execute_result"
    }
   ],
   "source": [
    "y_predict.shape"
   ]
  },
  {
   "cell_type": "code",
   "execution_count": 533,
   "metadata": {},
   "outputs": [
    {
     "data": {
      "text/plain": [
       "(935,)"
      ]
     },
     "execution_count": 533,
     "metadata": {},
     "output_type": "execute_result"
    }
   ],
   "source": [
    "y_test.shape"
   ]
  },
  {
   "cell_type": "code",
   "execution_count": 541,
   "metadata": {},
   "outputs": [
    {
     "data": {
      "text/plain": [
       "0.51818181818181819"
      ]
     },
     "execution_count": 541,
     "metadata": {},
     "output_type": "execute_result"
    }
   ],
   "source": [
    "np.mean(y_predict[y_test=='med'] == 'med')"
   ]
  },
  {
   "cell_type": "code",
   "execution_count": 542,
   "metadata": {
    "scrolled": true
   },
   "outputs": [
    {
     "data": {
      "text/plain": [
       "0.81981981981981977"
      ]
     },
     "execution_count": 542,
     "metadata": {},
     "output_type": "execute_result"
    }
   ],
   "source": [
    "np.mean(y_predict[y_test=='hi'] == 'hi')"
   ]
  },
  {
   "cell_type": "code",
   "execution_count": 543,
   "metadata": {},
   "outputs": [
    {
     "data": {
      "text/plain": [
       "0.90060851926977692"
      ]
     },
     "execution_count": 543,
     "metadata": {},
     "output_type": "execute_result"
    }
   ],
   "source": [
    "np.mean(y_predict[y_test=='low'] == 'low')"
   ]
  }
 ],
 "metadata": {
  "kernelspec": {
   "display_name": "Python 3",
   "language": "python",
   "name": "python3"
  },
  "language_info": {
   "codemirror_mode": {
    "name": "ipython",
    "version": 3
   },
   "file_extension": ".py",
   "mimetype": "text/x-python",
   "name": "python",
   "nbconvert_exporter": "python",
   "pygments_lexer": "ipython3",
   "version": "3.6.1"
  }
 },
 "nbformat": 4,
 "nbformat_minor": 2
}
