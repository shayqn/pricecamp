{
 "cells": [
  {
   "cell_type": "code",
   "execution_count": 1,
   "metadata": {
    "collapsed": true
   },
   "outputs": [],
   "source": [
    "import os\n",
    "import pandas as pd\n",
    "import sqlalchemy\n",
    "from sqlalchemy import create_engine\n",
    "from sqlalchemy_utils import database_exists, create_database\n",
    "import psycopg2\n",
    "import tqdm\n",
    "import numpy as np"
   ]
  },
  {
   "cell_type": "code",
   "execution_count": 2,
   "metadata": {
    "collapsed": true
   },
   "outputs": [],
   "source": [
    "#In Python: Define a database name (we're using a dataset on births, so I call it \n",
    "# birth_db), and your username for your computer (CHANGE IT BELOW). \n",
    "dbname = 'music_db'\n",
    "username = 'shayneufeld'"
   ]
  },
  {
   "cell_type": "code",
   "execution_count": 3,
   "metadata": {},
   "outputs": [
    {
     "name": "stdout",
     "output_type": "stream",
     "text": [
      "postgres://shayneufeld@localhost/music_db\n"
     ]
    }
   ],
   "source": [
    "## 'engine' is a connection to a database\n",
    "## Here, we're using postgres, but sqlalchemy can connect to other things too.\n",
    "engine = create_engine('postgres://%s@localhost/%s'%(username,dbname))\n",
    "print(engine.url)"
   ]
  },
  {
   "cell_type": "code",
   "execution_count": 4,
   "metadata": {},
   "outputs": [
    {
     "name": "stdout",
     "output_type": "stream",
     "text": [
      "True\n"
     ]
    }
   ],
   "source": [
    "## create a database (if it doesn't exist)\n",
    "if not database_exists(engine.url):\n",
    "    create_database(engine.url)\n",
    "print(database_exists(engine.url))"
   ]
  },
  {
   "cell_type": "markdown",
   "metadata": {},
   "source": [
    "# create album supporter and album info tables fromd bandcamp album scraper"
   ]
  },
  {
   "cell_type": "code",
   "execution_count": 6,
   "metadata": {
    "collapsed": true
   },
   "outputs": [],
   "source": [
    "info_folder = '/Users/shayneufeld/Dropbox/insight/pricecamp/data/albums_info'\n",
    "supporter_folder = '/Users/shayneufeld/Dropbox/insight/pricecamp/data/albums_supporters'\n",
    "files_info = os.listdir(info_folder)\n",
    "files_supporter = os.listdir(supporter_folder)\n",
    "info_files_stored = []"
   ]
  },
  {
   "cell_type": "code",
   "execution_count": 7,
   "metadata": {},
   "outputs": [
    {
     "name": "stderr",
     "output_type": "stream",
     "text": [
      "100%|██████████| 3140/3140 [01:16<00:00, 16.68it/s] \n"
     ]
    }
   ],
   "source": [
    "info_master = pd.DataFrame()\n",
    "for info in tqdm.tqdm(files_info):\n",
    "    temp_info = pd.read_csv(os.path.join(info_folder,info),index_col = 0)\n",
    "    info_master = info_master.append(temp_info)"
   ]
  },
  {
   "cell_type": "code",
   "execution_count": 8,
   "metadata": {
    "collapsed": true
   },
   "outputs": [],
   "source": [
    "info_master.index = np.arange(info_master.shape[0])"
   ]
  },
  {
   "cell_type": "code",
   "execution_count": 10,
   "metadata": {},
   "outputs": [
    {
     "data": {
      "text/plain": [
       "array(['\"Arch Echo\" Debut Compact Disc', '\"Gire\" Jewel Case CD',\n",
       "       '\"Wormhole Edition\" CD',\n",
       "       \"'Kumiko, the Treasure Hunter' Original Soundtrack by the Octopus Project LIMITED EDITION RED SHELL CASSETTE!\",\n",
       "       \"'THICK' Double 90 Minute Cassette Version\",\n",
       "       '\\'WORKED ON\\' LIMITED 11x17\" GLITCH ART LITHOGRAPH POSTER',\n",
       "       \"'WORKED ON' LIVE CASSETTE MIXTAPE\",\n",
       "       \"'Yes! I need.' Handmade Limited Cassette Version\",\n",
       "       '(IN)DEFINITE LYFE CASSETTE VERSION',\n",
       "       '(SALE) Outcasts (COLLECTION) (4 CD)',\n",
       "       '***PRE-ORDER*** 12\" Vinyl LP (Translucent Gold)', '10 CD Bundle',\n",
       "       '10 CD Sabled Sun Bundle', '12\" Black Vinyl Repress',\n",
       "       '12\" Double LP', '12\" EP', '12\" Future Blue Vinyl [84V1]',\n",
       "       '12\" Gatefold LP + Booklet', '12\" Gatefold LP + Poster',\n",
       "       '12\" Gatefold MLP', '12\" LP (Black 180g)', '12\" LP (Opaque Purple)',\n",
       "       '12\" Limited Edition White Vinyl', '12\" MLP',\n",
       "       '12\" Red Vinyl [126V1]', '12\" Turquoise Vinyl [23XV1]',\n",
       "       '12\" Vinly EP', '12\" Vinyl', '12\" Vinyl + Download', '12\" Vinyl EP',\n",
       "       '12\" Vinyl LP', '12\" Vinyl LP (Standard Version)',\n",
       "       '12\" Vinyl Single', '12\" White Vinyl [222V1]',\n",
       "       '12\" Yellow Vinyl [116V1]', '12\", 140g transparent red vinyl',\n",
       "       '12\"Gatefold LP', '12\"LP', '12\"LP + Booklet',\n",
       "       '12\"LP + Booklet & Poster', '12\"LP + Poster', '12\"MLP',\n",
       "       '12\"MLP + Poster', '12\"MLP with Etching & A2 Poster', \"12'' Vinyl\",\n",
       "       '12-inch 180g EP', '12-inch EP',\n",
       "       '180-Gram Black Vinyl: Limited Edition Package',\n",
       "       '180-Gram Fuschia Vinyl + Instant MP3',\n",
       "       '180-Gram Orange Vinyl + Instant MP3', '180g full-length LP',\n",
       "       '180gram blue Vinyl (lncludes album CD, bonus CD, Download, Prints) (SECOND PRESSING)',\n",
       "       '2 x 7\"', '20 Track CD Digipack', '25th Anniversary Compact Disc',\n",
       "       '2nd Edition CD', '2nd Installment of this MIXTAPE series!',\n",
       "       '2nd Press 12\" Black Vinyl LP', '2xLP Silver Vinyl Limited Edition',\n",
       "       '2xVinyl LP', '3rd EYE CLARITY CASSETTE VERSION', '3rd Edition CD',\n",
       "       '5 CD Bundle', '5\" sleeve CD', '6 CD Lovecraftian Bundle',\n",
       "       '7 Inch Vinyl Version', '7 inch vinyl', '7\" Vinyl',\n",
       "       '7\" Vinyl Version Restock - Very Limited', '7\"EP', '7\"EP + Poster',\n",
       "       '88 SCORE pdf', 'A WHALE(Z) of a CASSETTE',\n",
       "       'AMBIENT CASSETTE SWEETNESS', 'AMBIENT SWEETNESS CASSETTE',\n",
       "       'AMBIENT TAPE EXPERIENCE', 'ANALOG CASSETTE VERSION',\n",
       "       'AUDITORY BLISS CASSETTE VERSION',\n",
       "       'Absolute Valentine - Sunset Love Limited Edition Cassette',\n",
       "       'Absolute Valentine Logo T-Shirt', 'Aegri Somnia, 2 CD Bundle',\n",
       "       'Aileron Logo T-Shirt',\n",
       "       'Alias Funk & Soul - Well Good 7 inch Vinyl (STRICLY 500 ONLY COPIES)',\n",
       "       'Ambivert Tools Volume One 12\" Vinyl', \"Angel Dust 'Enabler'\",\n",
       "       'Anubis - Ecology - 7\" Vinyl Single',\n",
       "       'Apocryphos, Kammarheit, Atrium Carceri, 2 CD bundle',\n",
       "       'Arch Echo T-Shirt', 'Arms of Night Limited Edition Graphic Tee',\n",
       "       'Aurora Majesty', 'BEAT TAPE ACTION!', 'BEYOND CASSETTE ACTION',\n",
       "       'Back Lounge', \"Bearded Smoking Cherub Tee - Men's\",\n",
       "       'Black 12\" Vinyl + Digital', 'Black Cassette [126T1]',\n",
       "       'Black Fairy CD', 'Black Fairy VInyl (Tip-On Hand made Sleeve)',\n",
       "       'Black Vinyl LP', \"Bonobo - 'Migration' 2LP [ZEN236]\",\n",
       "       \"Bonobo - 'Migration' CD [ZENCD236]\",\n",
       "       'Bonobo - Black Sands 2xLP + MP3 (ZEN140)',\n",
       "       'Bonobo - Black Sands CD + MP3 (ZENCD140)',\n",
       "       'Bonobo - Black Sands Remixed 3xLP + MP3 (ZEN178)',\n",
       "       'Bonobo - Black Sands Remixed CD + MP3 (ZENCD178)',\n",
       "       'Bonobo - Days To Come 2xLP + MP3 (ZEN119)',\n",
       "       'Bonobo - Days To Come CD + MP3 (ZENCD119)',\n",
       "       \"Bonobo - Dial 'M' for Monkey CD + MP3 (ZENCD80)\",\n",
       "       'Bonobo - The North Boarders Tour - Live CD + MP3 (ZENCD202)',\n",
       "       'Bonobo - The North Borders 2xLP + MP3 (ZEN195)',\n",
       "       'Bonobo - The North Borders CD + MP3 (ZENCD195)',\n",
       "       'Bonobo - The North Borders Deluxe 10\" Boxset + MP3 (ZEN195X)',\n",
       "       'Bonobo - The North Borders Tour - Live Book + CD + DVD (ZENCD202X)',\n",
       "       'Bubba Suggs - Everything That Looks Good 7 Inch Single.',\n",
       "       'CASSETTE LIMITED FOR YOU!', 'CASSETTE OF VINTAGE LIMITEDNESS',\n",
       "       'CASSETTE REVOLUTION VERSION', 'CASSETTE SWEETNESS JUST FOR YOU!',\n",
       "       'CASSETTE THAT IS LIMITED', 'CASSETTE UBER LIMITED!',\n",
       "       'CASSETTE VERSION EXTRAORDINAIRE', 'CASSETTE VERSION FOR YOU',\n",
       "       'CASSETTE VERSION ROBOT ACTION!', 'CD', 'CD  [10XC1]',\n",
       "       'CD (JAPAN EDITION)', 'CD (JAPAN EDITION) + Postcard, Sticker',\n",
       "       'CD (JAPAN Edition), 16p Booklet', 'CD + Bonus DATA',\n",
       "       'CD + Bonus Disc', 'CD + Digital', 'CD + Download',\n",
       "       'CD + Download (Remastered 2013)', 'CD + Instant MP3',\n",
       "       'CD + Limited Edition Poster', 'CD + extra Disc',\n",
       "       'CD Album + Download', 'CD Digipack', 'CD Digipak',\n",
       "       'CD JAPAN EDITION', 'CD [125C1]', 'CD [777C1]', 'CD collection',\n",
       "       'CD with 24 page booklet, extensive sleeve notes and pictures.',\n",
       "       'CD • Download', 'CDr Digifile', 'CDr Digipack',\n",
       "       'CDr Digipack 6 pages', 'CHANNELING LIMITED CASSETTE',\n",
       "       'CHOP SHOP STYLE LO-FI CASSETTE', 'COLLECTED CASSETTE VERSION',\n",
       "       'COMETA Poster', 'COSMIC CASSETTE VERSION', 'Cassette',\n",
       "       'Cassette - US Customers', 'Cassette/Poster/Sticker Set',\n",
       "       'Clear/Red/Black Swirl LP with Glow-In-The-Dark artwork',\n",
       "       'Clear/Swirl Vinyl: Limited Edition Package', 'Collectors Club',\n",
       "       'Compact Disc', 'Compact Disc (Double CD) + Download',\n",
       "       'Compact Disc (PRE-ORDER)',\n",
       "       'Compact Disc + Bonus Tracks CD + Download',\n",
       "       'Compact Disc + Download', 'Compact Disc + Extra Disc',\n",
       "       'Compact Disc + Soundtrack Download',\n",
       "       'Compact Disc + The Silent (Bonus Disc) + Download',\n",
       "       'Compact Disc - Non-US Customers', 'Compact Disc - US Customers',\n",
       "       'Compact Disc - first album by Laboratorium Pieśni',\n",
       "       'Compact Disc - special album with funeral songs',\n",
       "       'Compact Disc Rieka + V hmle', 'Compact Disc V hmle + Rieka',\n",
       "       'Compact disc - first pressing', 'Compact disc EP',\n",
       "       'Cosmic Fall Shirt Blue', 'Cosmic Fall Shirt Brown',\n",
       "       'Council of Nine, 3 CD Bundle', 'Crypt of the Necrodancer CD',\n",
       "       'Crypt of the Necrodancer Vinyl', 'DDD Slipmats (Pair)',\n",
       "       'DEADLIFE - Bionic Chrysalis - Black Color Limited Edition Cassette',\n",
       "       'DEADLIFE Logo T shirt', 'DIVINE MERCY CASSETTE VERSION',\n",
       "       'DOUBLE ARTIST CASSETTE', 'DREAMY HANDMADE CASSETTE VERSION',\n",
       "       'Daddy Majestic Mask', 'Dakhma, 2 CD Bundle',\n",
       "       'Dean Logo 3/4 Sleeve Baseball Jersey (US Sizes)',\n",
       "       \"Dean Logo Tee - Men's\", \"Dean Logo Tee - Women's\",\n",
       "       'Deluxe Edition CD', 'Deluxe pre-order', 'Diaspora Compact Disc',\n",
       "       'Digipack CD', 'Digipak CD', 'Digipak CD + 20 Page Booklet',\n",
       "       'Digipak CD with Glow-In-The-Dark artwork', 'Digipak MCD',\n",
       "       'Digital Album', 'Digital Track',\n",
       "       'Double 12\" Transparent Vinyl [777V1]',\n",
       "       \"Double 12'', 140g black vinyl\", 'Double CDr Digipack',\n",
       "       'Double Gatefold Vinyl Set (Remastered 2013)', 'Double LP',\n",
       "       'Double LP Re-Issue',\n",
       "       'Double Vinyl Gatefold LP with extensive sleeve notes and pictures.',\n",
       "       'Double Vinyl • CD (Sleeve) • Download', 'Double gatefold 3LP',\n",
       "       'Drive Radio Robot Logo T-Shirt',\n",
       "       'Driving to Hawaii 12\" EP *PRE-ORDER*',\n",
       "       'Dual Label Cassette Sweetness', 'EP 7\" vinyl',\n",
       "       'EXPANDED HANDMADE CASSETTE VERSION',\n",
       "       'EXTRA AWESOME CASSETTE VERSION', 'EXTRA NAUGHTY CASSETTE VERSION',\n",
       "       'EXTREMELY LIMITED CASSETTE',\n",
       "       'EXTREMELY LIMITED HANDMADE CASSETTE SWEETNESS',\n",
       "       'East Of Underground - Smiling Faces 7\" Vinyl.',\n",
       "       'Enmarta, 2 CD Bundle', 'Ex Eye CD', 'Ex Eye LP (Black)',\n",
       "       'Ex Eye T Shirt', 'Extras In A Movie CD',\n",
       "       'FINAL INSTALLMENT IN FOUR PART SERIES',\n",
       "       'FIRST IN THE SERIES CASSETTE ACTION!',\n",
       "       'FLIGHT OUTWARD CASSETTE VERSION',\n",
       "       'FREEDOM FROM NO MUSIC CASSETTE VERSION', 'FREZH CAZZETTE VERZION',\n",
       "       'Feuding Cassette Version', 'First Fall Purple Vinyl 180g',\n",
       "       'Flowers for Bodysnatchers, 2 CD Bundle',\n",
       "       'Formula 1 - 7 inch Vinyl Single', 'Fruit CD',\n",
       "       'Full Digital Discography', 'Full-length 12\" LP',\n",
       "       'Full-length 12\" vinyl', 'Full-length 180g LP', 'Full-length CD',\n",
       "       'Full-length LP', 'Full-length cassette tape',\n",
       "       'Full-length collaborative LP',\n",
       "       'GYRE CASSETTE w/ BONUS DVD HOOKED UP VERSION',\n",
       "       'Gatefold 12\" Double LP', 'Gatefold 12\"LP', 'Gatefold 12\"LP + 7\"EP',\n",
       "       'Gatefold 12\"LP + Poster', 'Gatefold 12\"LP with Poster & Booklet',\n",
       "       'Gatefold 180g 2LP', 'Gatefold 2CD compilation', 'Gatefold 2LP',\n",
       "       'Gatefold CD', 'Gatefold Digipak CD', 'Gatefold Double LP',\n",
       "       'Gatefold LP',\n",
       "       'Gatefold LP + Booklet, Poster & Printed Innersleeve',\n",
       "       'Gatefold LP + Poster', 'Gatefold Soft Pack Compact Disc',\n",
       "       'Gatefold Vinyl (180g)', 'Gatefold compact disc EP',\n",
       "       'Gatefold full-length CD', 'Gatefold vinyl 2LP',\n",
       "       'God Body Disconnect, 2 CD Bundle', \"Gold Record Tee - Women's\",\n",
       "       'Green Cassette [129T1]',\n",
       "       'HAND CREATED STREET JAZZ-Y CASSETTE VERSION',\n",
       "       'HAND MADE BLURRED VISION CASSETTE',\n",
       "       'HANDMADE AND RECORDED LIMITED CASSETTE VERSION',\n",
       "       'HANDMADE BEAT TAPE FOR YOU VERSION',\n",
       "       'HANDMADE CASSETTE AMBIENTNESS', 'HANDMADE LIMITED CASSETTE COPY',\n",
       "       'HANDMADE TO YOU CASSETTE', 'HIGH LO-FI CASSETTE ACTION!',\n",
       "       'HOMEMADE TAPE w/ EXCLUSIVE BONUS TRACKS!',\n",
       "       'HOTNESS CASSETTE VERSION',\n",
       "       'Hampshire and Foat - Galaxys Like Grains of Sand LP - Hand made paste back sleeve with 60s Style gloss overprint..',\n",
       "       'Handmade Limited Fureon Cassette Action!',\n",
       "       'Hard Drivers - Since I Was A Little Girl',\n",
       "       'Henry Thomas & Rise - My Dreams Are Couded / Don\\'t Wait Too Long 7\" Vinyl Single',\n",
       "       'Hyperion Graphic Tee',\n",
       "       'ILL CONSIDERED LP Second pressing PRE-ORDER',\n",
       "       'IP CASSETTE VERSION ACTION!', 'IP LIMITED CASSETTE VERSION',\n",
       "       'Inter Arma - Destroyer gatefold CDEP', 'Iteration Tee',\n",
       "       'J.O.B - Live at the Point After 20 Aug 1977 (VINYL LP)',\n",
       "       'JAPAN EDITION CD(07 Dec 2014 release)', 'JAPAN EDITION DISC',\n",
       "       'Jewel case CD', 'Jewelcase CD', 'Jewelcase MCD',\n",
       "       'Keosz, 2 CD Bundle', 'Killawatt - émigré LP',\n",
       "       'Kyrie Electron Limited Edition 180g Single LP - **PRE ORDER***',\n",
       "       'Kyrie Electron Premium Poster', 'LIMITED 99 FLOWERS IP CASSETTE',\n",
       "       'LIMITED CASSETTE', 'LIMITED CASSETTE + VHS + DIGITAL BUNDLE!',\n",
       "       'LIMITED CASSETTE EDITION', 'LIMITED CASSETTE EDITION ACTION!',\n",
       "       'LIMITED CASSETTE FOR MORNING CONSUMPTION',\n",
       "       'LIMITED CASSETTE FOR YOU!', 'LIMITED CASSETTE SWEETNESS',\n",
       "       'LIMITED CASSETTE SWEETNESS!', 'LIMITED CASSETTE VERSION',\n",
       "       'LIMITED CASSETTE VERSION FOR YOU!', 'LIMITED CASSETTE VINTAGE',\n",
       "       'LIMITED EDITION CASSETTE ACTION!', 'LIMITED EDITION CASSETTE EP',\n",
       "       'LIMITED EDITION CASSETTE FOR YOU!',\n",
       "       'LIMITED EDITION CASSETTE MEDITATION FOR YOU!',\n",
       "       'LIMITED EDITION CASSETTE STYLE VHS VERSION',\n",
       "       'LIMITED EDITION CASSETTE!', 'LIMITED EDITION LO-FI CASSETTE',\n",
       "       'LIMITED EDITION PROFESSIONALLY CREATED AND SEALED GOLDEN SUNSET VERSION!',\n",
       "       'LIMITED EDITION SEALED PUSSY PINK EDITION w/ VINTAGE HUSTLER TRADING CARD!',\n",
       "       'LIMITED EDITION SEALED RED SHELL CASSETTE TAPE',\n",
       "       'LIMITED EDITION VHS STYLE CASSETTE VERSION',\n",
       "       'LIMITED EDITION WHITE SHELL CASSETTE',\n",
       "       'LIMITED FLIGHT OF FANCY HANDMADE CASSETTE VERSION',\n",
       "       'LIMITED FOR REAL CASSETTE', 'LIMITED HAND ROLLED CASSETTE VERSION',\n",
       "       'LIMITED HANDMADE CASSETTE SWEETNESS',\n",
       "       'LIMITED HANDMADE DRONE-E CASSETTE', 'LIMITED HANDMADE ELEGANCE',\n",
       "       'LIMITED HANDMADE MIXTAPE', 'LIMITED HANDMADE SWEET SWEET CASSETTE',\n",
       "       'LIMITED HANDMADE TOUR EDITION!',\n",
       "       'LIMITED HAUNTED CASSETTE VERSION', 'LIMITED LIMITED CASSETTE',\n",
       "       'LIMITED LIMITED CASSETTE CASSETTE',\n",
       "       'LIMITED LIMITED CASSETTE CASSETTE WITH WITH BONUSES BONUSES!',\n",
       "       'LIMITED LIMITED CASSETTE VERSION', 'LIMITED MEME CASSETTE VERSION',\n",
       "       'LIMITED MIXTAPE VERSION', 'LIMITED PUNKED OUT CASSETTE',\n",
       "       'LIMITED RAY OF LIGHT HANDMADE CASSETTE',\n",
       "       'LIMITED SPEAK-EASY CASSETTE', 'LIMITED VERSION ON CASSETTE',\n",
       "       'LIMITED VINTAGE CASSETTE STOCK',\n",
       "       'LO-FI VAPORPUNK 90min. CASSETTE ACTION', 'LONDON CASSETTE ACTION!',\n",
       "       'LOVINGLY CREATED CASSETTE', 'LOW CITY LO-FI CASSETTE VERSION',\n",
       "       'LP', 'LP pre-order', 'Les Là-Bas (Bonobo Remix)',\n",
       "       'Limited 12\" Clear Smoke Vinyl', 'Limited 12\" Vinyl',\n",
       "       'Limited 140g 12\" Vinyl', 'Limited Cassette Version',\n",
       "       'Limited Edition 12\" Double LP',\n",
       "       'Limited Edition 12\" Vinyl (black)',\n",
       "       'Limited Edition 12\" Vinyl + Download',\n",
       "       'Limited Edition 12\"Gatefold LP + Poster', 'Limited Edition 12\"LP',\n",
       "       'Limited Edition 12\"LP + Booklet', 'Limited Edition 12\"MLP',\n",
       "       'Limited Edition 12\"MLP + 4 Inserts',\n",
       "       'Limited Edition 3 Cassette Set!',\n",
       "       'Limited Edition 7\" (BLUE cover, RED vinyl - MAILORDER ONLY!)',\n",
       "       'Limited Edition 7\" (WHITE cover, RED vinyl - MAILORDER ONLY!)',\n",
       "       'Limited Edition 7\" EP', 'Limited Edition 7\" Vinyl',\n",
       "       'Limited Edition 7\"EP', 'Limited Edition 7\"EP GREY VINYL',\n",
       "       'Limited Edition 7\"EP RED VINYL',\n",
       "       'Limited Edition Arms of Night Digipak® CD', 'Limited Edition CD',\n",
       "       'Limited Edition CD (Ships 5.22.17)', 'Limited Edition Cassette',\n",
       "       \"Limited Edition Cassette w/ BONUS DVD 'HARD MACHINES' by Broken Machine Films!\",\n",
       "       'Limited Edition Clear Orange Shell Cassette',\n",
       "       'Limited Edition Compact Disc',\n",
       "       \"Limited Edition Compact Disc 'None - Narcomania'\",\n",
       "       'Limited Edition Double 12\"',\n",
       "       'Limited Edition Double Vinyl of Extras In A Movie',\n",
       "       'Limited Edition Forecast Cassette',\n",
       "       'Limited Edition Gatefold 12\"LP',\n",
       "       'Limited Edition Gatefold 12\"LP + Poster',\n",
       "       'Limited Edition Gatefold 12\"MLP', 'Limited Edition Gatefold MLP',\n",
       "       'Limited Edition MCD', 'Limited Edition Neon Grafitti Digipak® CD',\n",
       "       'Limited Edition Vinyl', 'Limited Edition Vinyl LP',\n",
       "       'Limited Edition Vinyl • CD (Sleeve) •\\xa0Download',\n",
       "       'Limited Tea and a Cassette Version',\n",
       "       'Limited edition CD (Reissue, Preserved Sound)',\n",
       "       'Limited edition deluxe 2-LP',\n",
       "       'Live In Calstock - compact disc (first pressing)',\n",
       "       'Live In The Living Room CD', 'Lo-Fi Handmade Cassette',\n",
       "       'Lo-Fi Handmade Excellence Cassette',\n",
       "       \"Lone 'Lemurian' Black Vinyl LP\", 'Loom Shirt',\n",
       "       'MAN CREATED CASSETTE VERSION', 'MORE TRUSTING CASSETTE VERSION',\n",
       "       'MOVIE-ESC HANDMADE SCORE CASSETTE',\n",
       "       'MYSTERIOUS CASSETTE VERSION w/ BONUS TRACKS!',\n",
       "       'Maybe They Will Sing for Us Tomorrow Poster',\n",
       "       'Metatron Omega, 2 CD bundle', 'Music Cassette',\n",
       "       'Mynd compact disc', 'NECROPSIED CASSETTE VERSION',\n",
       "       'NEW AGE VINTAGE VIBE CASSETTE VERSION',\n",
       "       'NOT MISERABLE CASSETTE VERSION', 'Neon Graffiti Eye Tee',\n",
       "       'Neoslave - Blood Arcade - Red Color Limited Edition Cassette',\n",
       "       'New World - World Today / J.R - 7\" Vinyl',\n",
       "       'Niky Nine Logo T-Shirt',\n",
       "       'Nobody - I Saw You / Heaven\\'s Love 7\" Vinyl',\n",
       "       'Nocturn Limited Edition Tee', 'Nocturn Premium Gloss Poster',\n",
       "       'Northumbria, 2 CD Bundle',\n",
       "       'Nubia - The Time Is Right (7 inch vinyl)',\n",
       "       'ON CASSETTE FOR YOU FROM IP', 'ORAX Logo tee',\n",
       "       'OSMUK018 12\" Vinyl', 'OSMUK036EP 12\" Vinyl',\n",
       "       'OSMUK037EP 12\" Vinyl', 'OSMUK042EP 12\" Vinyl',\n",
       "       'OSMUK043EP 12\" Vinyl', 'OSMUK044LP 9 track 12\" Vinyl',\n",
       "       'OSMUK045EP 12\" Vinyl', 'OSMUK047LP 10 track 12\" Vinyl',\n",
       "       'OSMUK048EP 12\" Vinyl', 'OSMUK049 Cassette Tape',\n",
       "       'OSMUK050a 12\" Vinyl',\n",
       "       'OUT OF THIS WORLD HANDMADE CASSETTE VERSION',\n",
       "       'OUTSTANDING CASSETTE VERSION', 'Objective cassette version',\n",
       "       'Official Motion Picture Soundtrack CD',\n",
       "       'PRE-ORDER**Limited Edition Hyperion Digipak® CD (REPRESS)',\n",
       "       'PROF. CREATED AND SEALED VERSION',\n",
       "       'PROFESSIONALLY CREATED AND SEALED VERSION!',\n",
       "       'Penny Goodwin (CD Digipack)', 'Phonothek, 2 CD Bundle',\n",
       "       'Pillar of Fire 2LP (Black)', 'Pillar of Fire CD',\n",
       "       'Pillar of Fire T Shirt', \"Pills Tee - Men's\",\n",
       "       'Police Heartbreaker Blue Limited Edition Cassette',\n",
       "       'ProtoU, 2 CD Bundle', 'RACU01CD', 'REALISTIC CASSETTE VERSION',\n",
       "       'RECOVERY ROOM LIMITED CASSETTE VERSION', 'RLYR - Delayer LP',\n",
       "       \"Rasputin's Stash - Hidden Stash CD\", 'Red Cassette + Digital',\n",
       "       'Regular Edition CD', 'Retail Black Vinyl', 'Retail CD',\n",
       "       'Rhythm Cassette', 'Robert Parker Awakening Logo T-Shirt',\n",
       "       'Robert Parker Crystal City Logo Tee', 'Ruler Rebel Compact Disc',\n",
       "       \"Ryan Harris 'Android Skeleton' LIMITED DVD VERSION!\",\n",
       "       'S H O R E L I N E  S P E C I A L CASSETTE VERSION',\n",
       "       'SEASONAL CASSETTE VERSION', 'SHINE-E NEW CASSETTE VERSION',\n",
       "       'SIN-FULL CASSETTE VERSION', 'SMOKING CASSETTE STYLE VERSION',\n",
       "       'SODA LOVE HANDMADE CASSETTE VERSION',\n",
       "       'SOUND AND EXCELLENCE CASSETTE VERSION',\n",
       "       'SPECIAL PEACEFUL CASSETTE VERSION', 'STELLAR CASSETTE VERSION',\n",
       "       'STELLAR HANDMADE CASSETTE VERSION',\n",
       "       'STEREOKROMATIKA CASSETTE VERSION',\n",
       "       'SUN BAKED HANDMADE CASSETTE VERSION',\n",
       "       'SUPER AWESOME LIMITED LIMITED CASSETTE VERSION',\n",
       "       'SUPER LIMITED CASSETTE VERSION',\n",
       "       'SUPER LIMITED HANDMADE DVD FOR YOU!',\n",
       "       'SUPER LIMITED SUPER AWESOME CASSETTE VERSION',\n",
       "       'SUPERB CASSETTE ACTION',\n",
       "       'Second Re$$urrection - Keep On Keeping On - 7\" VINYL',\n",
       "       'Seeming. Madness & Extinction. CD.',\n",
       "       'Seeming. Worldburners. 7\" Vinyl.',\n",
       "       'Self-released Compact Disc of Odium in a printed cardboard pocket',\n",
       "       'Sepia - Eclipse EP (Vinyl Pre-Order)',\n",
       "       'Shakey Graves And The Horse He Rode In On... (Ltd. Edition Clear Vinyl)',\n",
       "       'Singing The Bones full album cd', 'Single-sided 12-inch EP',\n",
       "       'Sleepover CD Bundle', 'Sol. 2CD.', 'Sol. Blue Vinyl.',\n",
       "       'Special Edition CD + Download',\n",
       "       'Special Packing Gatefold LP + Poster', 'Special Packing LP',\n",
       "       \"Spirit Of Love - The Power Of Your Love / He's Alright\",\n",
       "       'Split 7\" EP (Pink Robot)', 'Split Decision Band 7\" Vinyl',\n",
       "       'Standard 2xLP - Non-US Customers',\n",
       "       'Standard 2xLP - US Customers Only', 'Station Nova Poster',\n",
       "       'Stilz - Starcrash - Petrol Blue Color Limited Edition Cassette',\n",
       "       'Stilz Logo T-Shirt', 'Stretch Music CD', 'Stretch Music LP',\n",
       "       'Subscription', 'Sweatbox Dynasty CD',\n",
       "       'T\\'Spoon - If You Dance Tonight / Say Yea - Vinyl 7\"',\n",
       "       'TANGIBLE CASSETTE VERSION', 'TAPE EDITED CASSETTE',\n",
       "       'TAPE FLUTTER CASSETTE VERSION', 'THIRD TAPE OF 4 PART SERIES',\n",
       "       'TOA OF CASSETTE VERSION', 'Tape + Instant MP3',\n",
       "       'Tapioca OST Cassette Re-issue', 'Tau Cross CD',\n",
       "       'Tau Cross LP (Black)', 'That Limited Cassette Style', 'The Ark',\n",
       "       'To End The Illusion of Separation Physical Copy',\n",
       "       'Tonistics Holding On - 7\" Inch Vinyl',\n",
       "       'Transparent Blue Cassette [10XT1]', 'Transparent Cassette [501T1]',\n",
       "       'Transparent Purple Cassette [IGS3T1]',\n",
       "       'Turboslash EP II Gloss Poster', 'Turboslash EP II Tee',\n",
       "       \"ULTIMATE 'WORKED ON' BUNDLE!\", 'ULTRA LIMITED CASSETTE DARKNESS',\n",
       "       'Uber-Limited Cassette Version', 'Ultra Rare Vol 1 CD',\n",
       "       'Unnamed: 1', 'Unnamed: 2', 'VAPORWAVED OUT CASSETTE VERSION',\n",
       "       'VINTAGE CASSETTE LIMITED', 'VINTAGE SUN-BAKED CASSETTE VERSION',\n",
       "       'VINTAGE UNCUT CHINA WHITE CASSETTE STOCK',\n",
       "       'VISIONARY CASSETTE VERSION', 'Vinyl', 'Vinyl 140g', 'Vinyl EP',\n",
       "       'Vinyl LP', 'Vinyl LP + Download',\n",
       "       'WILDFLOWER 2nd Press Edition of 250', 'WILDFLOWER Compact Disc',\n",
       "       'Waveshaper Logo tee',\n",
       "       'Willie Dale - Let Your Light Shine (7 inch single)',\n",
       "       'Yellow Cassette [129T2]', 'Yr Body is Nothing 12\"',\n",
       "       'Zebra - Simple Song 7\" Vinyl', 'Zombie Hyperdrive Logo tee',\n",
       "       '_H A N D M A D E_C A S S E T T E_A C T I O N_-', 'album_name',\n",
       "       'artist_name', 'darker forest cassette version',\n",
       "       'ear*health cassette version', 'limited cassette sweetness',\n",
       "       'limited cassette version', 'location',\n",
       "       'lost & found cassette version',\n",
       "       'super limited vintage cassette version', 'tags', 'year'], dtype=object)"
      ]
     },
     "execution_count": 10,
     "metadata": {},
     "output_type": "execute_result"
    }
   ],
   "source": [
    "info_master.columns.values"
   ]
  },
  {
   "cell_type": "code",
   "execution_count": 11,
   "metadata": {
    "collapsed": true
   },
   "outputs": [],
   "source": [
    "col_dict = {}\n",
    "df = pd.DataFrame(columns=['Bundle','Vinyl','CD','Tape','Digital','Unclassified'])\n",
    "df['album_name'] = info_master.album_name\n",
    "df['artist_name'] = info_master.artist_name\n",
    "df['location'] = info_master.location\n",
    "df['tags'] = info_master.tags\n",
    "df['year'] = info_master.year"
   ]
  },
  {
   "cell_type": "code",
   "execution_count": 41,
   "metadata": {
    "scrolled": true
   },
   "outputs": [],
   "source": [
    "info_master.loc[info_master.year.isnull(),'year'] = 1900"
   ]
  },
  {
   "cell_type": "code",
   "execution_count": 48,
   "metadata": {
    "scrolled": false
   },
   "outputs": [
    {
     "name": "stderr",
     "output_type": "stream",
     "text": [
      "100%|██████████| 3139/3139 [00:07<00:00, 412.03it/s]\n"
     ]
    }
   ],
   "source": [
    "for i in tqdm.tqdm(np.arange(info_master.shape[0])):\n",
    "    curr = info_master.iloc[i]\n",
    "    a = curr[~pd.isnull(curr)]\n",
    "    cols = a.index\n",
    "    cols = cols.drop(['album_name','artist_name','location','tags','year'])\n",
    "    \n",
    "    for col in cols:\n",
    "        if (('Bundle' in col) or ('Discography' in col) or ('bundle' in col)):\n",
    "            #print('Bundle: %s' % col)\n",
    "            #col_dict.update({col:'Bundle'})\n",
    "            df.loc[i,'Bundle'] = info_master.loc[i,col]\n",
    "                   \n",
    "        elif (('Vinyl' in col) or ('12\"' in col) or ('vinyl' in col) or ('LP' in col)):\n",
    "            #print('Vinyl: %s' % col)\n",
    "            #col_dict.update({col:'Vinyl'})\n",
    "            df.loc[i,'Vinyl'] = info_master.loc[i,col]\n",
    "                   \n",
    "        elif (('Compact' in col) or ('CD' in col)):\n",
    "            #print('CD: %s' % col)\n",
    "            #col_dict.update({col:'CD'})\n",
    "            df.loc[i,'CD'] = info_master.loc[i,col]\n",
    "                   \n",
    "        elif(('Cassette' in col) or ('Tape' in col) or ('CASSETTE' in col)):\n",
    "            #print('Tape: %s' % col)\n",
    "            #col_dict.update({col:'Tape'})\n",
    "            df.loc[i,'Tape'] = info_master.loc[i,col]\n",
    "                   \n",
    "        elif(('Digital' in col) or ('Download' in col)):\n",
    "            #print('Digital: %s' % col)\n",
    "            #col_dict.update({col:'Digital'})\n",
    "            df.loc[i,'Digital'] = info_master.loc[i,col]\n",
    "                   \n",
    "        else:\n",
    "            #print('Unclassified: %s' % col)\n",
    "            #col_dict.update({col:'Unclassified'})\n",
    "            df.loc[i,'Unclassified'] = info_master.loc[i,col]\n",
    "                   "
   ]
  },
  {
   "cell_type": "code",
   "execution_count": 43,
   "metadata": {},
   "outputs": [
    {
     "data": {
      "text/plain": [
       "(3139, 11)"
      ]
     },
     "execution_count": 43,
     "metadata": {},
     "output_type": "execute_result"
    }
   ],
   "source": [
    "df.shape"
   ]
  },
  {
   "cell_type": "code",
   "execution_count": 44,
   "metadata": {},
   "outputs": [
    {
     "data": {
      "text/plain": [
       "(3139, 557)"
      ]
     },
     "execution_count": 44,
     "metadata": {},
     "output_type": "execute_result"
    }
   ],
   "source": [
    "info_master.shape"
   ]
  },
  {
   "cell_type": "code",
   "execution_count": 60,
   "metadata": {},
   "outputs": [
    {
     "data": {
      "text/html": [
       "<div>\n",
       "<style>\n",
       "    .dataframe thead tr:only-child th {\n",
       "        text-align: right;\n",
       "    }\n",
       "\n",
       "    .dataframe thead th {\n",
       "        text-align: left;\n",
       "    }\n",
       "\n",
       "    .dataframe tbody tr th {\n",
       "        vertical-align: top;\n",
       "    }\n",
       "</style>\n",
       "<table border=\"1\" class=\"dataframe\">\n",
       "  <thead>\n",
       "    <tr style=\"text-align: right;\">\n",
       "      <th></th>\n",
       "      <th>Bundle</th>\n",
       "      <th>Vinyl</th>\n",
       "      <th>CD</th>\n",
       "      <th>Tape</th>\n",
       "      <th>Digital</th>\n",
       "      <th>Unclassified</th>\n",
       "      <th>album_name</th>\n",
       "      <th>artist_name</th>\n",
       "      <th>location</th>\n",
       "      <th>tags</th>\n",
       "      <th>year</th>\n",
       "    </tr>\n",
       "  </thead>\n",
       "  <tbody>\n",
       "    <tr>\n",
       "      <th>0</th>\n",
       "      <td>NaN</td>\n",
       "      <td>NaN</td>\n",
       "      <td>NaN</td>\n",
       "      <td>NaN</td>\n",
       "      <td>$1</td>\n",
       "      <td>NaN</td>\n",
       "      <td>\"Condos\"-LiveatTheBellHouse</td>\n",
       "      <td>Welcome to Night Vale</td>\n",
       "      <td>New York</td>\n",
       "      <td>['podcasts']</td>\n",
       "      <td>2014.0</td>\n",
       "    </tr>\n",
       "    <tr>\n",
       "      <th>1</th>\n",
       "      <td>(</td>\n",
       "      <td>NaN</td>\n",
       "      <td>NaN</td>\n",
       "      <td>NaN</td>\n",
       "      <td>70.4</td>\n",
       "      <td>NaN</td>\n",
       "      <td>\"Emerson\"UnreleasedDemo</td>\n",
       "      <td>Wintergatan</td>\n",
       "      <td>Gothenburg</td>\n",
       "      <td>['pop']</td>\n",
       "      <td>2017.0</td>\n",
       "    </tr>\n",
       "    <tr>\n",
       "      <th>2</th>\n",
       "      <td>NaN</td>\n",
       "      <td>NaN</td>\n",
       "      <td>NaN</td>\n",
       "      <td>NaN</td>\n",
       "      <td>$1</td>\n",
       "      <td>NaN</td>\n",
       "      <td>\"TheDebate\"-LiveatRoulette</td>\n",
       "      <td>Welcome to Night Vale</td>\n",
       "      <td>New York</td>\n",
       "      <td>['podcasts', 'night vale']</td>\n",
       "      <td>2014.0</td>\n",
       "    </tr>\n",
       "    <tr>\n",
       "      <th>3</th>\n",
       "      <td>NaN</td>\n",
       "      <td>NaN</td>\n",
       "      <td>NaN</td>\n",
       "      <td>NaN</td>\n",
       "      <td>$5</td>\n",
       "      <td>NaN</td>\n",
       "      <td>\"TheInvestigators\"Live</td>\n",
       "      <td>Welcome to Night Vale</td>\n",
       "      <td>New York</td>\n",
       "      <td>['podcasts', 'cecil baldwin', 'comedy', 'night...</td>\n",
       "      <td>2016.0</td>\n",
       "    </tr>\n",
       "    <tr>\n",
       "      <th>4</th>\n",
       "      <td>NaN</td>\n",
       "      <td>NaN</td>\n",
       "      <td>NaN</td>\n",
       "      <td>NaN</td>\n",
       "      <td>$1</td>\n",
       "      <td>NaN</td>\n",
       "      <td>\"TheLibrarian\"-LiveatSkirball</td>\n",
       "      <td>Welcome to Night Vale</td>\n",
       "      <td>New York</td>\n",
       "      <td>['night vale', 'podcasts', 'welcome to night v...</td>\n",
       "      <td>2015.0</td>\n",
       "    </tr>\n",
       "  </tbody>\n",
       "</table>\n",
       "</div>"
      ],
      "text/plain": [
       "  Bundle Vinyl   CD Tape Digital Unclassified                     album_name  \\\n",
       "0    NaN   NaN  NaN  NaN      $1          NaN    \"Condos\"-LiveatTheBellHouse   \n",
       "1      (   NaN  NaN  NaN    70.4          NaN        \"Emerson\"UnreleasedDemo   \n",
       "2    NaN   NaN  NaN  NaN      $1          NaN     \"TheDebate\"-LiveatRoulette   \n",
       "3    NaN   NaN  NaN  NaN      $5          NaN         \"TheInvestigators\"Live   \n",
       "4    NaN   NaN  NaN  NaN      $1          NaN  \"TheLibrarian\"-LiveatSkirball   \n",
       "\n",
       "             artist_name    location  \\\n",
       "0  Welcome to Night Vale    New York   \n",
       "1            Wintergatan  Gothenburg   \n",
       "2  Welcome to Night Vale    New York   \n",
       "3  Welcome to Night Vale    New York   \n",
       "4  Welcome to Night Vale    New York   \n",
       "\n",
       "                                                tags    year  \n",
       "0                                       ['podcasts']  2014.0  \n",
       "1                                            ['pop']  2017.0  \n",
       "2                         ['podcasts', 'night vale']  2014.0  \n",
       "3  ['podcasts', 'cecil baldwin', 'comedy', 'night...  2016.0  \n",
       "4  ['night vale', 'podcasts', 'welcome to night v...  2015.0  "
      ]
     },
     "execution_count": 60,
     "metadata": {},
     "output_type": "execute_result"
    }
   ],
   "source": [
    "df.head(5)"
   ]
  },
  {
   "cell_type": "code",
   "execution_count": 61,
   "metadata": {
    "scrolled": false
   },
   "outputs": [],
   "source": [
    "#insert into db\n",
    "df.to_sql('album_info',engine,if_exists='replace')"
   ]
  },
  {
   "cell_type": "code",
   "execution_count": 50,
   "metadata": {
    "collapsed": true
   },
   "outputs": [],
   "source": [
    "supporter_folder = '/Users/shayneufeld/Dropbox/insight/pricecamp/data/albums_supporters'\n",
    "files_supp = os.listdir(supporter_folder)\n",
    "supp_files_stored = []"
   ]
  },
  {
   "cell_type": "markdown",
   "metadata": {},
   "source": [
    "# Add supporters files to DB"
   ]
  },
  {
   "cell_type": "code",
   "execution_count": 51,
   "metadata": {
    "scrolled": true
   },
   "outputs": [
    {
     "name": "stderr",
     "output_type": "stream",
     "text": [
      "100%|██████████| 3140/3140 [03:07<00:00, 16.76it/s]\n"
     ]
    }
   ],
   "source": [
    "for supp in tqdm.tqdm(files_supporter):\n",
    "    STORED = supp in supp_files_stored\n",
    "\n",
    "    if not STORED:\n",
    "        temp_supp = pd.read_csv(os.path.join(supporter_folder,supp),index_col=0)\n",
    "        temp_supp.to_sql('album_supporters',engine,if_exists='append')\n",
    "        supp_files_stored.append(supp)"
   ]
  },
  {
   "cell_type": "code",
   "execution_count": 58,
   "metadata": {},
   "outputs": [],
   "source": [
    "#change supp_files_stored to pandas so I can save it\n",
    "files_stored_df = pd.DataFrame(data={'files_stored':supp_files_stored})\n",
    "files_stored_df.to_csv('/Users/shayneufeld/Dropbox/insight/pricecamp/data/supp_files_stored_0731.csv')"
   ]
  },
  {
   "cell_type": "markdown",
   "metadata": {},
   "source": [
    "# Create spotify table"
   ]
  },
  {
   "cell_type": "code",
   "execution_count": 55,
   "metadata": {},
   "outputs": [
    {
     "data": {
      "text/plain": [
       "'/Users/shayneufeld/GitHub/pricecamp/notebooks'"
      ]
     },
     "execution_count": 55,
     "metadata": {},
     "output_type": "execute_result"
    }
   ],
   "source": [
    "pwd"
   ]
  },
  {
   "cell_type": "code",
   "execution_count": 256,
   "metadata": {
    "collapsed": true
   },
   "outputs": [],
   "source": [
    "spotify_df = pd.read_csv('/Users/shayneufeld/Dropbox/insight/pricecamp/spotify_df.csv',index_col=0)\n",
    "spotify_df.to_sql('spotify_table', engine, if_exists='replace')"
   ]
  },
  {
   "cell_type": "markdown",
   "metadata": {},
   "source": [
    "# Create bandcamp table"
   ]
  },
  {
   "cell_type": "code",
   "execution_count": 8,
   "metadata": {},
   "outputs": [
    {
     "name": "stdout",
     "output_type": "stream",
     "text": [
      "/Users/shayneufeld/Dropbox/insight/pricecamp/data/albums_fixed\n"
     ]
    }
   ],
   "source": [
    "cd '/Users/shayneufeld/Dropbox/insight/pricecamp/data/albums_fixed/'"
   ]
  },
  {
   "cell_type": "code",
   "execution_count": 9,
   "metadata": {
    "collapsed": true,
    "scrolled": false
   },
   "outputs": [],
   "source": [
    "folder = '/Users/shayneufeld/Dropbox/insight/pricecamp/data/albums_fixed'\n",
    "files = os.listdir(folder)\n",
    "\n",
    "for file in files:\n",
    "    curr_df = pd.read_csv(file,index_col=0)\n",
    "    if not len(curr_df) == 0:\n",
    "        if curr_df.columns[0] == 'Unnamed: 0.1':\n",
    "            curr_df = curr_df.drop('Unnamed: 0.1',axis=1)\n",
    "        curr_df.to_sql('bandcamp_table',engine,if_exists='append')"
   ]
  },
  {
   "cell_type": "markdown",
   "metadata": {},
   "source": [
    "# Create sales table"
   ]
  },
  {
   "cell_type": "code",
   "execution_count": 10,
   "metadata": {
    "collapsed": true
   },
   "outputs": [],
   "source": [
    "sales_df = pd.read_csv('/Users/shayneufeld/Dropbox/insight/pricecamp/data/sales.csv',index_col=0)\n",
    "sales_df.to_sql('sales_table', engine, if_exists='replace')"
   ]
  },
  {
   "cell_type": "code",
   "execution_count": 11,
   "metadata": {},
   "outputs": [
    {
     "data": {
      "text/plain": [
       "(74073, 22)"
      ]
     },
     "execution_count": 11,
     "metadata": {},
     "output_type": "execute_result"
    }
   ],
   "source": [
    "sales_df.shape"
   ]
  },
  {
   "cell_type": "markdown",
   "metadata": {},
   "source": [
    "# Query from database"
   ]
  },
  {
   "cell_type": "code",
   "execution_count": 1,
   "metadata": {},
   "outputs": [
    {
     "ename": "NameError",
     "evalue": "name 'psycopg2' is not defined",
     "output_type": "error",
     "traceback": [
      "\u001b[0;31m---------------------------------------------------------------------------\u001b[0m",
      "\u001b[0;31mNameError\u001b[0m                                 Traceback (most recent call last)",
      "\u001b[0;32m<ipython-input-1-cde7750f356a>\u001b[0m in \u001b[0;36m<module>\u001b[0;34m()\u001b[0m\n\u001b[1;32m      1\u001b[0m \u001b[0;31m# connect:\u001b[0m\u001b[0;34m\u001b[0m\u001b[0;34m\u001b[0m\u001b[0m\n\u001b[1;32m      2\u001b[0m \u001b[0mcon\u001b[0m \u001b[0;34m=\u001b[0m \u001b[0;32mNone\u001b[0m\u001b[0;34m\u001b[0m\u001b[0m\n\u001b[0;32m----> 3\u001b[0;31m \u001b[0mcon\u001b[0m \u001b[0;34m=\u001b[0m \u001b[0mpsycopg2\u001b[0m\u001b[0;34m.\u001b[0m\u001b[0mconnect\u001b[0m\u001b[0;34m(\u001b[0m\u001b[0mdatabase\u001b[0m \u001b[0;34m=\u001b[0m \u001b[0mdbname\u001b[0m\u001b[0;34m,\u001b[0m \u001b[0muser\u001b[0m \u001b[0;34m=\u001b[0m \u001b[0musername\u001b[0m\u001b[0;34m)\u001b[0m\u001b[0;34m\u001b[0m\u001b[0m\n\u001b[0m\u001b[1;32m      4\u001b[0m \u001b[0;34m\u001b[0m\u001b[0m\n\u001b[1;32m      5\u001b[0m \u001b[0;31m# query:\u001b[0m\u001b[0;34m\u001b[0m\u001b[0;34m\u001b[0m\u001b[0m\n",
      "\u001b[0;31mNameError\u001b[0m: name 'psycopg2' is not defined"
     ]
    }
   ],
   "source": [
    "# connect:\n",
    "con = None\n",
    "con = psycopg2.connect(database = dbname, user = username)\n",
    "\n",
    "# query:\n",
    "sql_query = \"\"\"\n",
    "SELECT * FROM spotify_table WHERE match='True';\n",
    "\"\"\"\n",
    "sp_data_matches = pd.read_sql_query(sql_query,con)\n",
    "\n",
    "sp_data_matches.shape[0]"
   ]
  },
  {
   "cell_type": "code",
   "execution_count": 262,
   "metadata": {
    "collapsed": true
   },
   "outputs": [],
   "source": [
    "sql_query = \"\"\"\n",
    "SELECT * FROM bandcamp_table;\n",
    "\"\"\"\n",
    "bandcamp_table = pd.read_sql_query(sql_query,con)"
   ]
  },
  {
   "cell_type": "code",
   "execution_count": 263,
   "metadata": {},
   "outputs": [
    {
     "data": {
      "text/plain": [
       "582344"
      ]
     },
     "execution_count": 263,
     "metadata": {},
     "output_type": "execute_result"
    }
   ],
   "source": [
    "bandcamp_table.shape[0]"
   ]
  }
 ],
 "metadata": {
  "kernelspec": {
   "display_name": "Python 3",
   "language": "python",
   "name": "python3"
  },
  "language_info": {
   "codemirror_mode": {
    "name": "ipython",
    "version": 3
   },
   "file_extension": ".py",
   "mimetype": "text/x-python",
   "name": "python",
   "nbconvert_exporter": "python",
   "pygments_lexer": "ipython3",
   "version": "3.6.1"
  }
 },
 "nbformat": 4,
 "nbformat_minor": 2
}
