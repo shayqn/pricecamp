{
 "cells": [
  {
   "cell_type": "code",
   "execution_count": 1,
   "metadata": {
    "collapsed": true
   },
   "outputs": [],
   "source": [
    "import os\n",
    "import pandas as pd\n",
    "from sqlalchemy import create_engine\n",
    "from sqlalchemy_utils import database_exists, create_database\n",
    "import psycopg2\n",
    "import matplotlib.pyplot as plt\n",
    "import seaborn as sns\n",
    "import numpy as np\n",
    "from tqdm import tqdm\n",
    "%matplotlib inline\n"
   ]
  },
  {
   "cell_type": "markdown",
   "metadata": {},
   "source": [
    "## connect to database"
   ]
  },
  {
   "cell_type": "code",
   "execution_count": 16,
   "metadata": {},
   "outputs": [
    {
     "name": "stdout",
     "output_type": "stream",
     "text": [
      "bandcamp_table has 13737 rows\n"
     ]
    }
   ],
   "source": [
    "#In Python: Define a database name (we're using a dataset on births, so I call it \n",
    "# birth_db), and your username for your computer (CHANGE IT BELOW). \n",
    "dbname = 'music_db'\n",
    "username = 'shayneufeld'\n",
    "\n",
    "# connect:\n",
    "con = None\n",
    "con = psycopg2.connect(database = dbname, user = username)\n",
    "\n",
    "sql_query = \"\"\"\n",
    "SELECT * FROM spotify_table WHERE match=True;\n",
    "\"\"\"\n",
    "sp_table = pd.read_sql_query(sql_query,con)\n",
    "print('bandcamp_table has %.0f rows' % sp_table.shape[0])"
   ]
  },
  {
   "cell_type": "code",
   "execution_count": 17,
   "metadata": {},
   "outputs": [
    {
     "data": {
      "text/html": [
       "<div>\n",
       "<style>\n",
       "    .dataframe thead tr:only-child th {\n",
       "        text-align: right;\n",
       "    }\n",
       "\n",
       "    .dataframe thead th {\n",
       "        text-align: left;\n",
       "    }\n",
       "\n",
       "    .dataframe tbody tr th {\n",
       "        vertical-align: top;\n",
       "    }\n",
       "</style>\n",
       "<table border=\"1\" class=\"dataframe\">\n",
       "  <thead>\n",
       "    <tr style=\"text-align: right;\">\n",
       "      <th></th>\n",
       "      <th>artist_genres</th>\n",
       "      <th>artist_id</th>\n",
       "      <th>artist_name</th>\n",
       "      <th>artist_spotify_url</th>\n",
       "      <th>artist_total_followers</th>\n",
       "      <th>bc_artist_name</th>\n",
       "      <th>match</th>\n",
       "      <th>popularity</th>\n",
       "      <th>related_artists_sp</th>\n",
       "    </tr>\n",
       "  </thead>\n",
       "  <tbody>\n",
       "    <tr>\n",
       "      <th>0</th>\n",
       "      <td>['deep psytrance']</td>\n",
       "      <td>4mcgQslFqVoXe78ADfBoLX</td>\n",
       "      <td>Whitebear</td>\n",
       "      <td>https://open.spotify.com/artist/4mcgQslFqVoXe7...</td>\n",
       "      <td>3264</td>\n",
       "      <td>Whitebear</td>\n",
       "      <td>True</td>\n",
       "      <td>27</td>\n",
       "      <td>['Mr. Bill', 'Bumble', 'Kalya Scintilla', 'SIX...</td>\n",
       "    </tr>\n",
       "    <tr>\n",
       "      <th>1</th>\n",
       "      <td>none</td>\n",
       "      <td>43YBvuW0iMYrQlpSsJJQWp</td>\n",
       "      <td>We Were Friends</td>\n",
       "      <td>https://open.spotify.com/artist/43YBvuW0iMYrQl...</td>\n",
       "      <td>69</td>\n",
       "      <td>We Were Friends</td>\n",
       "      <td>True</td>\n",
       "      <td>3</td>\n",
       "      <td>['Matt Steele', 'Flowerpot Press', 'The Auspic...</td>\n",
       "    </tr>\n",
       "    <tr>\n",
       "      <th>2</th>\n",
       "      <td>['alternative emo', 'emo', 'emo punk', 'indie ...</td>\n",
       "      <td>1BfYXNfaB5HBwHn4gxnEQE</td>\n",
       "      <td>Algernon Cadwallader</td>\n",
       "      <td>https://open.spotify.com/artist/1BfYXNfaB5HBwH...</td>\n",
       "      <td>9972</td>\n",
       "      <td>Algernon Cadwallader</td>\n",
       "      <td>True</td>\n",
       "      <td>31</td>\n",
       "      <td>['Snowing', 'Hightide Hotel', 'Everyone Everyw...</td>\n",
       "    </tr>\n",
       "  </tbody>\n",
       "</table>\n",
       "</div>"
      ],
      "text/plain": [
       "                                       artist_genres               artist_id  \\\n",
       "0                                 ['deep psytrance']  4mcgQslFqVoXe78ADfBoLX   \n",
       "1                                               none  43YBvuW0iMYrQlpSsJJQWp   \n",
       "2  ['alternative emo', 'emo', 'emo punk', 'indie ...  1BfYXNfaB5HBwHn4gxnEQE   \n",
       "\n",
       "            artist_name                                 artist_spotify_url  \\\n",
       "0             Whitebear  https://open.spotify.com/artist/4mcgQslFqVoXe7...   \n",
       "1       We Were Friends  https://open.spotify.com/artist/43YBvuW0iMYrQl...   \n",
       "2  Algernon Cadwallader  https://open.spotify.com/artist/1BfYXNfaB5HBwH...   \n",
       "\n",
       "  artist_total_followers        bc_artist_name  match popularity  \\\n",
       "0                   3264             Whitebear   True         27   \n",
       "1                     69       We Were Friends   True          3   \n",
       "2                   9972  Algernon Cadwallader   True         31   \n",
       "\n",
       "                                  related_artists_sp  \n",
       "0  ['Mr. Bill', 'Bumble', 'Kalya Scintilla', 'SIX...  \n",
       "1  ['Matt Steele', 'Flowerpot Press', 'The Auspic...  \n",
       "2  ['Snowing', 'Hightide Hotel', 'Everyone Everyw...  "
      ]
     },
     "execution_count": 17,
     "metadata": {},
     "output_type": "execute_result"
    }
   ],
   "source": [
    "#clean up the weird unnamed columns:\n",
    "columns = sp_table.columns.values\n",
    "sp_table = sp_table.loc[:,columns[3:]]\n",
    "sp_table.head(3)"
   ]
  },
  {
   "cell_type": "code",
   "execution_count": 98,
   "metadata": {},
   "outputs": [],
   "source": [
    "# how many genres are there?\n",
    "all_genres = []\n",
    "for row in sp_table.iterrows():\n",
    "    genres = row[1].artist_genres\n",
    "    \n",
    "    #tidy up the string into a list\n",
    "    genres = genres.replace('[','')\n",
    "    genres = genres.replace(']','')\n",
    "    genres = genres.split(sep=',')\n",
    "    \n",
    "    for genre in genres:\n",
    "        if genre not in all_genres:\n",
    "            all_genres.append(genre)"
   ]
  },
  {
   "cell_type": "code",
   "execution_count": 125,
   "metadata": {},
   "outputs": [
    {
     "data": {
      "text/plain": [
       "(1643,)"
      ]
     },
     "execution_count": 125,
     "metadata": {},
     "output_type": "execute_result"
    }
   ],
   "source": [
    "a.shape"
   ]
  },
  {
   "cell_type": "code",
   "execution_count": 143,
   "metadata": {
    "collapsed": true
   },
   "outputs": [],
   "source": [
    "g = np.empty_like(a)\n",
    "for i,genre in enumerate(all_genres):\n",
    "    g[i] = str(genre[1:-1])"
   ]
  },
  {
   "cell_type": "code",
   "execution_count": 148,
   "metadata": {},
   "outputs": [],
   "source": [
    "genre_df = pd.DataFrame(data = {'genre':g})"
   ]
  },
  {
   "cell_type": "code",
   "execution_count": 149,
   "metadata": {},
   "outputs": [],
   "source": [
    "genre_df.loc[1,'genre'] = 'none'"
   ]
  },
  {
   "cell_type": "code",
   "execution_count": 152,
   "metadata": {},
   "outputs": [],
   "source": [
    "genre_df.to_csv('/Users/shayneufeld/Dropbox/insight/pricecamp/all_genres.csv')"
   ]
  },
  {
   "cell_type": "code",
   "execution_count": 141,
   "metadata": {
    "scrolled": false
   },
   "outputs": [
    {
     "ename": "TypeError",
     "evalue": "Mismatch between array dtype ('<U32') and format specifier ('%.18e')",
     "output_type": "error",
     "traceback": [
      "\u001b[0;31m---------------------------------------------------------------------------\u001b[0m",
      "\u001b[0;31mTypeError\u001b[0m                                 Traceback (most recent call last)",
      "\u001b[0;32m~/anaconda/envs/insight/lib/python3.6/site-packages/numpy/lib/npyio.py\u001b[0m in \u001b[0;36msavetxt\u001b[0;34m(fname, X, fmt, delimiter, newline, header, footer, comments)\u001b[0m\n\u001b[1;32m   1253\u001b[0m                 \u001b[0;32mtry\u001b[0m\u001b[0;34m:\u001b[0m\u001b[0;34m\u001b[0m\u001b[0m\n\u001b[0;32m-> 1254\u001b[0;31m                     \u001b[0mfh\u001b[0m\u001b[0;34m.\u001b[0m\u001b[0mwrite\u001b[0m\u001b[0;34m(\u001b[0m\u001b[0masbytes\u001b[0m\u001b[0;34m(\u001b[0m\u001b[0mformat\u001b[0m \u001b[0;34m%\u001b[0m \u001b[0mtuple\u001b[0m\u001b[0;34m(\u001b[0m\u001b[0mrow\u001b[0m\u001b[0;34m)\u001b[0m \u001b[0;34m+\u001b[0m \u001b[0mnewline\u001b[0m\u001b[0;34m)\u001b[0m\u001b[0;34m)\u001b[0m\u001b[0;34m\u001b[0m\u001b[0m\n\u001b[0m\u001b[1;32m   1255\u001b[0m                 \u001b[0;32mexcept\u001b[0m \u001b[0mTypeError\u001b[0m\u001b[0;34m:\u001b[0m\u001b[0;34m\u001b[0m\u001b[0m\n",
      "\u001b[0;31mTypeError\u001b[0m: must be real number, not numpy.str_",
      "\nDuring handling of the above exception, another exception occurred:\n",
      "\u001b[0;31mTypeError\u001b[0m                                 Traceback (most recent call last)",
      "\u001b[0;32m<ipython-input-141-89e46665d8cc>\u001b[0m in \u001b[0;36m<module>\u001b[0;34m()\u001b[0m\n\u001b[1;32m      1\u001b[0m \u001b[0;34m\u001b[0m\u001b[0m\n\u001b[0;32m----> 2\u001b[0;31m \u001b[0mnp\u001b[0m\u001b[0;34m.\u001b[0m\u001b[0msavetxt\u001b[0m\u001b[0;34m(\u001b[0m\u001b[0;34m'/Users/shayneufeld/Dropbox/insight/pricecamp/all_genres.csv'\u001b[0m\u001b[0;34m,\u001b[0m\u001b[0mg\u001b[0m\u001b[0;34m)\u001b[0m\u001b[0;34m\u001b[0m\u001b[0m\n\u001b[0m",
      "\u001b[0;32m~/anaconda/envs/insight/lib/python3.6/site-packages/numpy/lib/npyio.py\u001b[0m in \u001b[0;36msavetxt\u001b[0;34m(fname, X, fmt, delimiter, newline, header, footer, comments)\u001b[0m\n\u001b[1;32m   1256\u001b[0m                     raise TypeError(\"Mismatch between array dtype ('%s') and \"\n\u001b[1;32m   1257\u001b[0m                                     \u001b[0;34m\"format specifier ('%s')\"\u001b[0m\u001b[0;34m\u001b[0m\u001b[0m\n\u001b[0;32m-> 1258\u001b[0;31m                                     % (str(X.dtype), format))\n\u001b[0m\u001b[1;32m   1259\u001b[0m         \u001b[0;32mif\u001b[0m \u001b[0mlen\u001b[0m\u001b[0;34m(\u001b[0m\u001b[0mfooter\u001b[0m\u001b[0;34m)\u001b[0m \u001b[0;34m>\u001b[0m \u001b[0;36m0\u001b[0m\u001b[0;34m:\u001b[0m\u001b[0;34m\u001b[0m\u001b[0m\n\u001b[1;32m   1260\u001b[0m             \u001b[0mfooter\u001b[0m \u001b[0;34m=\u001b[0m \u001b[0mfooter\u001b[0m\u001b[0;34m.\u001b[0m\u001b[0mreplace\u001b[0m\u001b[0;34m(\u001b[0m\u001b[0;34m'\\n'\u001b[0m\u001b[0;34m,\u001b[0m \u001b[0;34m'\\n'\u001b[0m \u001b[0;34m+\u001b[0m \u001b[0mcomments\u001b[0m\u001b[0;34m)\u001b[0m\u001b[0;34m\u001b[0m\u001b[0m\n",
      "\u001b[0;31mTypeError\u001b[0m: Mismatch between array dtype ('<U32') and format specifier ('%.18e')"
     ]
    }
   ],
   "source": [
    "\n",
    "np.savetxt('/Users/shayneufeld/Dropbox/insight/pricecamp/all_genres.csv',g)"
   ]
  },
  {
   "cell_type": "code",
   "execution_count": 73,
   "metadata": {},
   "outputs": [
    {
     "data": {
      "text/plain": [
       "'hi'"
      ]
     },
     "execution_count": 73,
     "metadata": {},
     "output_type": "execute_result"
    }
   ],
   "source": [
    "test = 'hi my name is shay'\n",
    "test_split = test.split(sep=' ')\n",
    "test_split[0]"
   ]
  },
  {
   "cell_type": "code",
   "execution_count": 75,
   "metadata": {},
   "outputs": [
    {
     "data": {
      "text/plain": [
       "[\"['alternative emo'\",\n",
       " \" 'emo'\",\n",
       " \" 'emo punk'\",\n",
       " \" 'indie punk'\",\n",
       " \" 'math pop']\"]"
      ]
     },
     "execution_count": 75,
     "metadata": {},
     "output_type": "execute_result"
    }
   ],
   "source": [
    "genres"
   ]
  },
  {
   "cell_type": "code",
   "execution_count": 95,
   "metadata": {},
   "outputs": [
    {
     "data": {
      "text/plain": [
       "\"['deep psytrance']\""
      ]
     },
     "execution_count": 95,
     "metadata": {},
     "output_type": "execute_result"
    }
   ],
   "source": [
    "genres"
   ]
  },
  {
   "cell_type": "code",
   "execution_count": 96,
   "metadata": {},
   "outputs": [],
   "source": [
    "genres = genres.replace('[','')\n",
    "genres = genres.replace(']','')\n",
    "genres = genres.split(sep=',')"
   ]
  },
  {
   "cell_type": "code",
   "execution_count": 97,
   "metadata": {},
   "outputs": [
    {
     "name": "stdout",
     "output_type": "stream",
     "text": [
      "'deep psytrance'\n"
     ]
    }
   ],
   "source": [
    "for genre in genres:\n",
    "    print(genre)"
   ]
  }
 ],
 "metadata": {
  "kernelspec": {
   "display_name": "Python 3",
   "language": "python",
   "name": "python3"
  },
  "language_info": {
   "codemirror_mode": {
    "name": "ipython",
    "version": 3
   },
   "file_extension": ".py",
   "mimetype": "text/x-python",
   "name": "python",
   "nbconvert_exporter": "python",
   "pygments_lexer": "ipython3",
   "version": "3.6.1"
  }
 },
 "nbformat": 4,
 "nbformat_minor": 2
}
