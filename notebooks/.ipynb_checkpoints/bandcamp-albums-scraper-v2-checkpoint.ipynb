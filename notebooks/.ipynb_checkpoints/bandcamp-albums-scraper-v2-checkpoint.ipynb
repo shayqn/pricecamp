{
 "cells": [
  {
   "cell_type": "code",
   "execution_count": 1,
   "metadata": {
    "collapsed": true
   },
   "outputs": [],
   "source": [
    "import sklearn\n",
    "import matplotlib.pyplot as plt\n",
    "import seaborn as sns\n",
    "import pandas as pd\n",
    "import numpy as np\n",
    "from bs4 import BeautifulSoup\n",
    "import urllib\n",
    "import numpy as np\n",
    "import os\n",
    "import time\n",
    "from tqdm import tqdm\n",
    "from selenium import webdriver\n",
    "%matplotlib inline"
   ]
  },
  {
   "cell_type": "code",
   "execution_count": 2,
   "metadata": {},
   "outputs": [
    {
     "name": "stdout",
     "output_type": "stream",
     "text": [
      "There are 105803 unique records in the database now\n",
      "Total revenue: 794764.74\n"
     ]
    }
   ],
   "source": [
    "df = pd.read_csv('/Users/shayneufeld/Dropbox/insight/pricecamp/data/sales.csv',index_col=0)\n",
    "df = df.drop_duplicates()\n",
    "print('There are %.0f unique records in the database now' % df.shape[0])\n",
    "print('Total revenue: %.02f' % df.amount_paid_usd.sum())"
   ]
  },
  {
   "cell_type": "markdown",
   "metadata": {},
   "source": [
    "# define function for opening more albums"
   ]
  },
  {
   "cell_type": "code",
   "execution_count": 3,
   "metadata": {
    "collapsed": true
   },
   "outputs": [],
   "source": [
    "def reveal_albums(selenium_driver):    \n",
    "    #try implementing same thing for albums\n",
    "    showMore = selenium_driver.find_elements_by_css_selector('.showMore')\n",
    "    #there are 2 possible showMore buttons - for shows and for albums\n",
    "    #if there is a shows one, it comes first\n",
    "    el = []\n",
    "    if len(showMore) == 1:\n",
    "        el = showMore[0]\n",
    "    elif len(showMore) == 2:\n",
    "        el = showMore[1]\n",
    "    \n",
    "    #if there is a show more button, make sure it's 'more albums'\n",
    "    if el:\n",
    "        title = browser.title\n",
    "        text = el.find_element_by_tag_name('a').text\n",
    "        while text == 'more releases...':\n",
    "            el.click()\n",
    "            \n",
    "            if browser.title == title:\n",
    "                text = el.find_element_by_tag_name('a').text\n",
    "            else:\n",
    "                text = browser.title\n",
    "                \n",
    "    \n",
    "    return selenium_driver"
   ]
  },
  {
   "cell_type": "code",
   "execution_count": 4,
   "metadata": {
    "collapsed": true
   },
   "outputs": [],
   "source": [
    "def get_albums_urls(browser,page_type='album'):\n",
    "    \n",
    "    elems = []\n",
    "    if page_type == 'album':\n",
    "        elems = browser.find_elements_by_css_selector('.trackTitle')\n",
    "    elif page_type == 'music':\n",
    "        elems = browser.find_elements_by_css_selector('.music-grid-item')\n",
    "        \n",
    "    album_names,album_urls = [],[]\n",
    "\n",
    "    for elem in elems[1:]:\n",
    "        album_names.append(elem.text)\n",
    "        album_urls.append(elem.find_element_by_tag_name('a').get_attribute('href'))\n",
    "        print(elem.text)\n",
    "        print(elem.find_element_by_tag_name('a').get_attribute('href'))\n",
    "\n",
    "    browser.close()\n",
    "    \n",
    "    return album_names,album_urls"
   ]
  },
  {
   "cell_type": "markdown",
   "metadata": {},
   "source": [
    "# get artists to scrap\n"
   ]
  },
  {
   "cell_type": "code",
   "execution_count": 5,
   "metadata": {},
   "outputs": [],
   "source": [
    "urls_to_scrape = pd.read_csv('/Users/shayneufeld/Dropbox/insight/pricecamp/urls_to_scrape.csv')"
   ]
  },
  {
   "cell_type": "code",
   "execution_count": 38,
   "metadata": {
    "collapsed": true
   },
   "outputs": [],
   "source": [
    "urls_to_scrape = urls_to_scrape.urls.values"
   ]
  },
  {
   "cell_type": "code",
   "execution_count": 6,
   "metadata": {},
   "outputs": [
    {
     "name": "stdout",
     "output_type": "stream",
     "text": [
      "/Users/shayneufeld/GitHub/pricecamp/scrapers/bandcamp_spider\n"
     ]
    }
   ],
   "source": [
    "cd '/Users/shayneufeld/github/pricecamp/scrapers/bandcamp_spider'"
   ]
  },
  {
   "cell_type": "code",
   "execution_count": 28,
   "metadata": {},
   "outputs": [],
   "source": [
    "artist_names = []\n",
    "for url in urls_to_scrape.urls.values:\n",
    "    artist_name = df[df.url==url].head(1).artist_name.values\n",
    "    \n",
    "    if not artist_name:\n",
    "        artist_name = df[df.url==url[6:]].head(1).artist_name.values\n",
    "\n",
    "    if type(artist_name) is not str:\n",
    "        artist_name = artist_name[0]\n",
    "        \n",
    "    artist_names.append(artist_name)\n",
    "    "
   ]
  },
  {
   "cell_type": "code",
   "execution_count": 29,
   "metadata": {},
   "outputs": [],
   "source": [
    "urls_to_scrape['artist_names'] = artist_names"
   ]
  },
  {
   "cell_type": "code",
   "execution_count": 46,
   "metadata": {
    "scrolled": true
   },
   "outputs": [
    {
     "data": {
      "text/plain": [
       "(array([18]),)"
      ]
     },
     "execution_count": 46,
     "metadata": {},
     "output_type": "execute_result"
    }
   ],
   "source": [
    "np.where(urls_to_scrape == artist_url)"
   ]
  },
  {
   "cell_type": "markdown",
   "metadata": {},
   "source": [
    "# the scraper"
   ]
  },
  {
   "cell_type": "code",
   "execution_count": null,
   "metadata": {
    "scrolled": false
   },
   "outputs": [
    {
     "name": "stdout",
     "output_type": "stream",
     "text": [
      "NEWBODY\n",
      "https://forcesofficial.bandcamp.com/album/newbody\n",
      "FORCES - IDOLIZE (FLEISCH EDIT)\n",
      "https://forcesofficial.bandcamp.com/track/forces-idolize-fleisch-edit\n",
      "FORCES\n",
      "https://forcesofficial.bandcamp.com/album/forces\n",
      "\n",
      "https://micronism.bandcamp.com/album/inside-a-quiet-mind\n",
      "ERROR - page not album or music type: //filmjunk.bandcamp.com/album/david-lynch\n",
      "Ultra Rare Vol 1\n",
      "https://mysteryskulls.bandcamp.com/album/ultra-rare-vol-1\n",
      "EP\n",
      "https://mysteryskulls.bandcamp.com/album/ep\n",
      "Reflections of a Floating World\n",
      "https://beholdtheelder.bandcamp.com/album/reflections-of-a-floating-world\n",
      "Lore\n",
      "https://beholdtheelder.bandcamp.com/album/lore\n",
      "Spires Burn/Release\n",
      "https://beholdtheelder.bandcamp.com/album/spires-burn-release\n",
      "Dead Roots Stirring\n",
      "https://beholdtheelder.bandcamp.com/album/dead-roots-stirring-2\n",
      "Elder\n",
      "https://beholdtheelder.bandcamp.com/album/elder\n",
      "Asheran\n",
      "https://songs-of-arrakis.bandcamp.com/album/asheran\n",
      "Aurora Majesty\n",
      "https://songs-of-arrakis.bandcamp.com/album/aurora-majesty\n",
      "Progenitor\n",
      "https://songs-of-arrakis.bandcamp.com/album/progenitor\n",
      "Night Life\n",
      "https://dreammachine432.bandcamp.com/album/night-life\n",
      "The Illusion\n",
      "https://dreammachine432.bandcamp.com/album/the-illusion\n",
      "Seas Of Infinity\n",
      "https://megadrive.bandcamp.com/album/seas-of-infinity\n",
      "Crimewave 2\n",
      "https://megadrive.bandcamp.com/track/crimewave-2-2\n",
      "198XAD\n",
      "https://megadrive.bandcamp.com/album/198xad\n",
      "Hardwired V1.4\n",
      "https://megadrive.bandcamp.com/album/hardwired-v14\n",
      "V1.4 remixes\n",
      "https://megadrive.bandcamp.com/album/v14-remixes\n",
      "Mega Drive\n",
      "https://megadrive.bandcamp.com/album/mega-drive\n",
      "REWIND\n",
      "https://megadrive.bandcamp.com/album/rewind-3\n",
      "Hardwired\n",
      "https://megadrive.bandcamp.com/album/hardwired\n",
      "Futurescape\n",
      "https://megadrive.bandcamp.com/album/futurescape\n",
      "VHS\n",
      "https://megadrive.bandcamp.com/album/vhs\n",
      "3:33\n",
      "https://megadrive.bandcamp.com/album/3-33\n",
      "CD Bundles\n",
      "CD Bundles\n",
      "https://cryochamber.bandcamp.com/album/cd-bundles\n",
      "Alpine Respire\n",
      "ProtoU & Hilyard\n",
      "https://cryochamber.bandcamp.com/album/alpine-respire\n",
      "Trinity\n",
      "Council of Nine\n",
      "https://cryochamber.bandcamp.com/album/trinity\n",
      "AVA\n",
      "Keosz\n",
      "https://cryochamber.bandcamp.com/album/ava\n",
      "Be Left to Oneself\n",
      "Keosz\n",
      "https://cryochamber.bandcamp.com/album/be-left-to-oneself\n",
      "Remnants\n",
      "Randal Collier-Ford\n",
      "https://cryochamber.bandcamp.com/album/remnants\n",
      "The Architects\n",
      "Randal Collier-Ford\n",
      "https://cryochamber.bandcamp.com/album/the-architects\n",
      "Sleeper's Fate\n",
      "God Body Disconnect\n",
      "https://cryochamber.bandcamp.com/album/sleepers-fate\n",
      "Deus Sive Natura\n",
      "Creation VI\n",
      "https://cryochamber.bandcamp.com/album/deus-sive-natura\n",
      "Book of the Black Earth\n",
      "Ager Sonus\n",
      "https://cryochamber.bandcamp.com/album/book-of-the-black-earth\n",
      "Legends of the Wood\n",
      "Dead Melodies\n",
      "https://cryochamber.bandcamp.com/album/legends-of-the-wood\n",
      "Abduction\n",
      "Dronny Darko\n",
      "https://cryochamber.bandcamp.com/album/abduction\n",
      "Red Moon\n",
      "Phonothek\n",
      "https://cryochamber.bandcamp.com/album/red-moon\n",
      "Markland\n",
      "Northumbria\n",
      "https://cryochamber.bandcamp.com/album/markland\n",
      "Seishinbyouin\n",
      "Atrium Carceri\n",
      "https://cryochamber.bandcamp.com/album/seishinbyouin\n",
      "Kapnobatai\n",
      "Atrium Carceri\n",
      "https://cryochamber.bandcamp.com/album/kapnobatai\n",
      "Endtime Psalms\n",
      "Aegri Somnia\n",
      "https://cryochamber.bandcamp.com/album/endtime-psalms\n",
      "The Time Machine\n",
      "SiJ\n",
      "https://cryochamber.bandcamp.com/album/the-time-machine\n",
      "Tomb of Seers\n",
      "Council of Nine, Alphaxone, Xerxes The Dark, Wolves and Horses\n",
      "https://cryochamber.bandcamp.com/album/tomb-of-seers\n",
      "Stardust\n",
      "Alphaxone & ProtoU\n",
      "https://cryochamber.bandcamp.com/album/stardust\n",
      "Echo\n",
      "Apocryphos, Kammarheit, Atrium Carceri\n",
      "https://cryochamber.bandcamp.com/album/echo\n",
      "Dark Ambient of 2016\n",
      "https://cryochamber.bandcamp.com/album/dark-ambient-of-2016\n",
      "Genesis\n",
      "Paleowolf\n",
      "https://cryochamber.bandcamp.com/album/genesis\n",
      "Border of Worlds\n",
      "Ugasanie\n",
      "https://cryochamber.bandcamp.com/album/border-of-worlds\n",
      "The Hermit\n",
      "Enmarta\n",
      "https://cryochamber.bandcamp.com/album/the-hermit\n",
      "2148\n",
      "Sabled Sun\n",
      "https://cryochamber.bandcamp.com/album/2148\n",
      "Spira Igneus\n",
      "Dronny Darko\n",
      "https://cryochamber.bandcamp.com/album/spira-igneus\n",
      "Khmaoch\n",
      "ProtoU\n",
      "https://cryochamber.bandcamp.com/album/khmaoch\n",
      "Nyarlathotep\n",
      "Cryo Chamber Collaboration\n",
      "https://cryochamber.bandcamp.com/album/nyarlathotep\n",
      "Path of Dissolutions\n",
      "Hoshin\n",
      "https://cryochamber.bandcamp.com/album/path-of-dissolutions\n",
      "Love Like Blood\n",
      "Flowers for Bodysnatchers\n",
      "https://cryochamber.bandcamp.com/album/love-like-blood\n",
      "Sanctum\n",
      "Metatron Omega\n",
      "https://cryochamber.bandcamp.com/album/sanctum\n",
      "Monuments of Power\n",
      "Kolhoosi 13\n",
      "https://cryochamber.bandcamp.com/album/monuments-of-power\n",
      "Locus Arcadia\n",
      "Randal Collier-Ford, Flowers for Bodysnatchers, Council of Nine, God Body Disconnect\n",
      "https://cryochamber.bandcamp.com/album/locus-arcadia\n",
      "Cellblock\n",
      "Atrium Carceri\n",
      "https://cryochamber.bandcamp.com/album/cellblock\n",
      "Stone Speak\n",
      "Apocryphos\n",
      "https://cryochamber.bandcamp.com/album/stone-speak\n",
      "The Humming Tapes\n",
      "Cities Last Broadcast\n",
      "https://cryochamber.bandcamp.com/album/the-humming-tapes\n",
      "Lost in Fog\n",
      "Phonothek\n",
      "https://cryochamber.bandcamp.com/album/lost-in-fog\n",
      "Archives I-II\n",
      "Atrium Carceri\n",
      "https://cryochamber.bandcamp.com/album/archives-i-ii\n",
      "Lost Here\n",
      "protoU\n",
      "https://cryochamber.bandcamp.com/album/lost-here\n",
      "Echoes from Outer Silence\n",
      "Alphaxone\n",
      "https://cryochamber.bandcamp.com/album/echoes-from-outer-silence\n",
      "Reflections under the sky\n",
      "SiJ & Textere Oris\n",
      "https://cryochamber.bandcamp.com/album/reflections-under-the-sky\n",
      "Neuroplasticity\n",
      "Dronny Darko\n",
      "https://cryochamber.bandcamp.com/album/neuroplasticity\n",
      "Dredge Portals\n",
      "God Body Disconnect\n",
      "https://cryochamber.bandcamp.com/album/dredge-portals\n",
      "Dark Ambient of 2015\n",
      "https://cryochamber.bandcamp.com/album/dark-ambient-of-2015\n",
      "Self Destruction Themes\n",
      "Wordclock\n",
      "https://cryochamber.bandcamp.com/album/self-destruction-themes\n",
      "Diagnosis\n",
      "Council of Nine\n",
      "https://cryochamber.bandcamp.com/album/diagnosis\n",
      "Signals IV-V-VI\n",
      "Sabled Sun\n",
      "https://cryochamber.bandcamp.com/album/signals-iv-v-vi\n",
      "Signals VI\n",
      "Sabled Sun\n",
      "https://cryochamber.bandcamp.com/album/signals-vi\n",
      "Aokigahara\n",
      "Flowers for Bodysnatchers\n",
      "https://cryochamber.bandcamp.com/album/aokigahara\n",
      "Azathoth\n",
      "Cryo Chamber Collaboration\n",
      "https://cryochamber.bandcamp.com/album/azathoth\n",
      "Onyx\n",
      "Apocryphos, Kammarheit, Atrium Carceri\n",
      "https://cryochamber.bandcamp.com/album/onyx\n",
      "Eye of Tunguska\n",
      "Ugasanie\n",
      "https://cryochamber.bandcamp.com/album/eye-of-tunguska\n",
      "Absence of Motion\n",
      "Alphaxone\n",
      "https://cryochamber.bandcamp.com/album/absence-of-motion\n",
      "Signals V\n",
      "Sabled Sun\n",
      "https://cryochamber.bandcamp.com/album/signals-v\n",
      "Earth Songs\n",
      "Dronny Darko & protoU\n",
      "https://cryochamber.bandcamp.com/album/earth-songs\n",
      "Gnosis Dei\n",
      "Metatron Omega\n",
      "https://cryochamber.bandcamp.com/album/gnosis-dei\n",
      "Sea of Black\n",
      "Enmarta\n",
      "https://cryochamber.bandcamp.com/album/sea-of-black\n",
      "Metropolis\n",
      "Atrium Carceri\n",
      "https://cryochamber.bandcamp.com/album/metropolis\n",
      "Monde Obscure\n",
      "Aegri Somnia\n",
      "https://cryochamber.bandcamp.com/album/monde-obscure\n",
      "Dakhma\n",
      "Council of Nine\n",
      "https://cryochamber.bandcamp.com/album/dakhma\n",
      "Helluland\n",
      "Northumbria\n",
      "https://cryochamber.bandcamp.com/album/helluland\n",
      "Inner Stasis\n",
      "Cryobiosis\n",
      "https://cryochamber.bandcamp.com/album/inner-stasis\n",
      "2147\n",
      "Sabled Sun\n",
      "https://cryochamber.bandcamp.com/album/2147\n",
      "The Old City - OST\n",
      "Atrium Carceri\n",
      "https://cryochamber.bandcamp.com/album/the-old-city-ost\n",
      "Altered Dimensions\n",
      "Alphaxone\n",
      "https://cryochamber.bandcamp.com/album/altered-dimensions\n",
      "Dark Ambient of 2014\n",
      "https://cryochamber.bandcamp.com/album/dark-ambient-of-2014\n",
      "Call of the North\n",
      "Ugasanie\n",
      "https://cryochamber.bandcamp.com/album/call-of-the-north\n",
      "Outer Tehom\n",
      "Dronny Darko\n",
      "https://cryochamber.bandcamp.com/album/outer-tehom\n",
      "Tomb of Empires\n",
      "Foundation Hope / Council of Nine / Alphaxone / Coph`antae Tryr\n",
      "https://cryochamber.bandcamp.com/album/tomb-of-empires\n",
      "Cthulhu\n",
      "Cryo Chamber Collaboration\n",
      "https://cryochamber.bandcamp.com/album/cthulhu\n",
      "Landscapes over the Sea\n",
      "Aveparthe\n",
      "https://cryochamber.bandcamp.com/album/landscapes-over-the-sea\n",
      "Endless\n",
      "Wordclock\n",
      "https://cryochamber.bandcamp.com/album/endless\n",
      "Signals I-III\n",
      "Sabled Sun\n",
      "https://cryochamber.bandcamp.com/album/signals-i-iii\n",
      "Signals IV\n",
      "Sabled Sun\n",
      "https://cryochamber.bandcamp.com/album/signals-iv\n",
      "Eschate Thule\n",
      "Mystified\n",
      "https://cryochamber.bandcamp.com/album/eschate-thule\n",
      "Dubbed in Black\n",
      "Alt3r3d Stat3\n",
      "https://cryochamber.bandcamp.com/album/dubbed-in-black\n",
      "Living in the Grayland\n",
      "Alphaxone\n",
      "https://cryochamber.bandcamp.com/album/living-in-the-grayland\n",
      "The Whole Path of War and Acceptance\n",
      "Halgrath\n",
      "https://cryochamber.bandcamp.com/album/the-whole-path-of-war-and-acceptance\n"
     ]
    },
    {
     "name": "stdout",
     "output_type": "stream",
     "text": [
      "The Untold\n",
      "Atrium Carceri\n",
      "https://cryochamber.bandcamp.com/album/the-untold\n",
      "White Silence\n",
      "Ugasanie\n",
      "https://cryochamber.bandcamp.com/album/white-silence\n",
      "Psychosis\n",
      "Aseptic Void\n",
      "https://cryochamber.bandcamp.com/album/psychosis\n",
      "Signals III\n",
      "Sabled Sun\n",
      "https://cryochamber.bandcamp.com/album/signals-iii\n",
      "How cold is the sun\n",
      "Dark Matter\n",
      "https://cryochamber.bandcamp.com/album/how-cold-is-the-sun\n",
      "Majak\n",
      "Neizvestija\n",
      "https://cryochamber.bandcamp.com/album/majak\n",
      "Within Ruins\n",
      "Cryobiosis\n",
      "https://cryochamber.bandcamp.com/album/within-ruins\n",
      "Transmission Lost\n",
      "Sjellos\n",
      "https://cryochamber.bandcamp.com/album/transmission-lost\n",
      "The Anthropic Principle\n",
      "Anatomia De Vanitats\n",
      "https://cryochamber.bandcamp.com/album/the-anthropic-principle\n",
      "Signals I\n",
      "Sabled Sun\n",
      "https://cryochamber.bandcamp.com/album/signals-i\n",
      "Signals II\n",
      "Sabled Sun\n",
      "https://cryochamber.bandcamp.com/album/signals-ii\n",
      "2146\n",
      "Sabled Sun\n",
      "https://cryochamber.bandcamp.com/album/2146\n",
      "Compilation - Behind the Canvas of Time\n",
      "https://cryochamber.bandcamp.com/album/compilation-behind-the-canvas-of-time\n",
      "Out of Time\n",
      "Halgrath\n",
      "https://cryochamber.bandcamp.com/album/out-of-time\n",
      "Sacrosanct\n",
      "Atrium Carceri & Eldar\n",
      "https://cryochamber.bandcamp.com/album/sacrosanct\n",
      "2145\n",
      "Sabled Sun\n",
      "https://cryochamber.bandcamp.com/album/2145\n",
      "Void\n",
      "Atrium Carceri\n",
      "https://cryochamber.bandcamp.com/album/void\n",
      "Reliquiae\n",
      "Atrium Carceri\n",
      "https://cryochamber.bandcamp.com/album/reliquiae\n",
      "Phrenitis\n",
      "Atrium Carceri\n",
      "https://cryochamber.bandcamp.com/album/phrenitis\n",
      "Souyuan\n",
      "Atrium Carceri\n",
      "https://cryochamber.bandcamp.com/album/souyuan\n",
      "Ptahil\n",
      "Atrium Carceri\n",
      "https://cryochamber.bandcamp.com/album/ptahil\n"
     ]
    }
   ],
   "source": [
    "for artist_url,artist_name in zip(urls_to_scrape[10:],artist_names[10:]):\n",
    "    '''\n",
    "    get input parameters\n",
    "    '''\n",
    "    if artist_url[0] == 'h':\n",
    "        curr_url = artist_url\n",
    "    elif artist_url[0] == '/':\n",
    "        curr_url = 'https:' + artist_url\n",
    "    else:\n",
    "        print('URL BROKEN')\n",
    "        \n",
    "    #get list of albums and urls to go through for this artist\n",
    "    browser = webdriver.Firefox()\n",
    "    browser.get(curr_url)\n",
    "    browser_title = browser.title\n",
    "\n",
    "    #try to clicking throuhg more albums\n",
    "    browser = reveal_albums(browser)\n",
    "    \n",
    "    #if it went to the music page, the title should have changed\n",
    "    DO_NOT_SCRAPE = False\n",
    "    if browser.title == browser_title: #then we are on the same page\n",
    "        album_names,album_urls = get_albums_urls(browser,page_type='album')\n",
    "    elif 'Music' in browser.title:\n",
    "        album_names,album_urls = get_albums_urls(browser,page_type='music')\n",
    "    else:\n",
    "        DO_NOT_SCRAPE = True\n",
    "        print('ERROR - page not album or music type: %s' % artist_url)\n",
    "    \n",
    "    if not DO_NOT_SCRAPE:\n",
    "        if album_urls:\n",
    "            for url in album_urls:\n",
    "                os.system(\"scrapy crawl bandcamp -a start_urls='%s' -a artist_name='%s'\" % (str(url),artist_name))\n",
    "        else:\n",
    "            print('ERROR - no album urls: %s' % artist_url)\n",
    "            error_urls.append(artist_url)"
   ]
  },
  {
   "cell_type": "code",
   "execution_count": 99,
   "metadata": {},
   "outputs": [
    {
     "data": {
      "text/plain": [
       "'https://songs-of-arrakis.bandcamp.com/album/aurora-majesty'"
      ]
     },
     "execution_count": 99,
     "metadata": {},
     "output_type": "execute_result"
    }
   ],
   "source": [
    "artist_url"
   ]
  },
  {
   "cell_type": "code",
   "execution_count": 124,
   "metadata": {},
   "outputs": [],
   "source": [
    "artist_url = 'https://knxwledge.bandcamp.com/album/hex-108'\n",
    "artist_name = 'knxledge'\n",
    "\n",
    "'''\n",
    "get input parameters\n",
    "'''\n",
    "if artist_url[0] == 'h':\n",
    "    curr_url = artist_url\n",
    "elif artist_url[0] == '/':\n",
    "    curr_url = 'https:' + artist_url\n",
    "else:\n",
    "    print('URL BROKEN')\n",
    "\n",
    "#get list of albums and urls to go through for this artist\n",
    "browser = webdriver.Firefox()\n",
    "browser.get(curr_url)\n",
    "browser_title = browser.title\n",
    "\n",
    "#try to clicking throuhg more albums\n",
    "browser = reveal_albums(browser)"
   ]
  },
  {
   "cell_type": "code",
   "execution_count": 127,
   "metadata": {
    "scrolled": true
   },
   "outputs": [
    {
     "name": "stdout",
     "output_type": "stream",
     "text": [
      "WT.PRT.11_\n",
      "https://knxwledge.bandcamp.com/album/wt-prt-11\n",
      "GREENTXTS.V1\n",
      "https://knxwledge.bandcamp.com/album/greentxts-v1\n",
      "WT.PRT10.8_\n",
      "https://knxwledge.bandcamp.com/album/wt-prt108\n",
      "Fa-lala_\n",
      "https://knxwledge.bandcamp.com/track/fa-lala\n",
      "WT.PRT10_\n",
      "https://knxwledge.bandcamp.com/album/wt-prt10\n",
      "HEX10.\n",
      "https://knxwledge.bandcamp.com/album/hex10\n",
      "WT.9.8_\n",
      "https://knxwledge.bandcamp.com/album/wt-98\n",
      "HEX.9.8_\n",
      "https://knxwledge.bandcamp.com/album/hex-98\n",
      "Knxwledge - WrapTaypes\n",
      "https://knxwledge.bandcamp.com/album/knxwledge-wraptaypes\n",
      "WT.PRT9_\n",
      "https://knxwledge.bandcamp.com/album/wt-prt9\n",
      "H.S.PRT9_\n",
      "https://knxwledge.bandcamp.com/album/h-s-prt9\n",
      "HS8.8_\n",
      "https://knxwledge.bandcamp.com/album/hs88\n",
      "Hud Dreems\n",
      "https://knxwledge.bandcamp.com/album/hud-dreems\n",
      "WT.PRT.8_\n",
      "https://knxwledge.bandcamp.com/album/wt-prt-8\n",
      "WT.PRT.7.5_\n",
      "https://knxwledge.bandcamp.com/album/wt-prt-75\n",
      "H.S.PRT.8*\n",
      "https://knxwledge.bandcamp.com/album/h-s-prt-8\n",
      "2PK.4TRK_\n",
      "https://knxwledge.bandcamp.com/album/2pk-4trk\n",
      "WrapTaypes.Prt.7_\n",
      "https://knxwledge.bandcamp.com/album/wraptaypes-prt-7\n",
      "Hexual.Sealings.PRT.7.5\n",
      "https://knxwledge.bandcamp.com/album/hexual-sealings-prt-75\n",
      "Kauliflowr\n",
      "https://knxwledge.bandcamp.com/album/kauliflowr\n",
      "Knxwledge - Rap Jointz Vol.1\n",
      "https://knxwledge.bandcamp.com/album/knxwledge-rap-jointz-vol-1\n",
      "HexualSealings.Prt.7\n",
      "https://knxwledge.bandcamp.com/album/hexualsealings-prt-7\n",
      "WrapTaypes.Prt6.6_[bootleg]\n",
      "https://knxwledge.bandcamp.com/album/wraptaypes-prt66-bootleg\n",
      "Hexual.Sealings.Prt.6_\n",
      "https://knxwledge.bandcamp.com/album/hexual-sealings-prt-6\n",
      "WrapTaypes.Prt.6\n",
      "https://knxwledge.bandcamp.com/album/wraptaypes-prt-6\n",
      "Hexual.Sealings.Prt5.5_\n",
      "https://knxwledge.bandcamp.com/album/hexual-sealings-prt55\n",
      "Ovrstnd.∆.Sde\n",
      "https://knxwledge.bandcamp.com/album/ovrstnd-sde\n",
      "Ovrstnd.B.Sde_\n",
      "https://knxwledge.bandcamp.com/album/ovrstnd-b-sde\n",
      "WrapTaypes.PRT.5.5[bootleg]\n",
      "https://knxwledge.bandcamp.com/album/wraptaypes-prt-55-bootleg\n",
      "Hexual.Sealings.Prt.5\n",
      "https://knxwledge.bandcamp.com/album/hexual-sealings-prt-5\n",
      "karma.loops.PRT.5\n",
      "https://knxwledge.bandcamp.com/album/karma-loops-prt-5\n",
      "Hexual.Sealings.Prt.4.5_\n",
      "https://knxwledge.bandcamp.com/album/hexual-sealings-prt-45\n",
      "WrapTaypes.PRT.5\n",
      "https://knxwledge.bandcamp.com/album/wraptaypes-prt-5\n",
      "relevnt.b/sde_LP.\n",
      "https://knxwledge.bandcamp.com/album/relevnt-b-sde-lp\n",
      "Hud.Dreems.PRT.1.5\n",
      "https://knxwledge.bandcamp.com/album/hud-dreems-prt-15\n",
      "hex.4.∆.side_\n",
      "https://knxwledge.bandcamp.com/album/hex-4-side\n",
      "WrapTaypes.Prt.4.5_\n",
      "https://knxwledge.bandcamp.com/album/wraptaypes-prt-45\n",
      "Hexual.Sealings.Pt.4.b-side_\n",
      "https://knxwledge.bandcamp.com/album/hexual-sealings-pt-4-b-side\n",
      "Hexual.Sealings.Pt.3.5\n",
      "https://knxwledge.bandcamp.com/album/hexual-sealings-pt-35\n",
      "togethrniss_∆_side\n",
      "https://knxwledge.bandcamp.com/album/togethrniss-side\n",
      "Buttrskotch-LR023\n",
      "https://knxwledge.bandcamp.com/album/buttrskotch-lr023\n",
      "Hexual.Sealings.Vol.3_[bootleg]\n",
      "https://knxwledge.bandcamp.com/album/hexual-sealings-vol-3-bootleg\n",
      "Hexual.Sealings.Vol.2.5\n",
      "https://knxwledge.bandcamp.com/album/hexual-sealings-vol-25\n",
      "WrapTaypes.Prt.4\n",
      "https://knxwledge.bandcamp.com/album/wraptaypes-prt-4\n",
      "togethrniss_b_side\n",
      "https://knxwledge.bandcamp.com/album/togethrniss-b-side\n",
      "klemintine|taype\n",
      "https://knxwledge.bandcamp.com/album/klemintine-taype\n",
      "[DB]FiXXX's\n",
      "https://knxwledge.bandcamp.com/album/db-fixxxs\n",
      "WrapTaypes.Prt3\n",
      "https://knxwledge.bandcamp.com/album/wraptaypes-prt3-2\n",
      "koapastetik.LP.\n",
      "https://knxwledge.bandcamp.com/album/koapastetik-lp\n",
      "knt.remembr\n",
      "https://knxwledge.bandcamp.com/album/knt-remembr\n",
      "karma.loops.prt4\n",
      "https://knxwledge.bandcamp.com/album/karma-loops-prt4\n",
      "karma.loops.prt3\n",
      "https://knxwledge.bandcamp.com/album/karma-loops-prt3\n",
      "kameo.EP\n",
      "https://knxwledge.bandcamp.com/album/kameo-ep\n",
      "klarity.EP\n",
      "https://knxwledge.bandcamp.com/album/klarity-ep\n",
      "kuntent.EP\n",
      "https://knxwledge.bandcamp.com/album/kuntent-ep\n",
      "WrapTaypes.Port2[bootleg]\n",
      "https://knxwledge.bandcamp.com/album/wraptaypes-port2-bootleg\n",
      "karma.loops.prt2\n",
      "https://knxwledge.bandcamp.com/album/karma-loops-prt2\n",
      "karma.loops.prt.1\n",
      "https://knxwledge.bandcamp.com/album/karma-loops-prt-1\n",
      "Hexual.Sealings.Vol.2\n",
      "https://knxwledge.bandcamp.com/album/hexual-sealings-vol-2\n",
      "komfi.EP\n",
      "https://knxwledge.bandcamp.com/album/komfi-ep\n",
      "Takeitbak.Medli\n",
      "https://knxwledge.bandcamp.com/track/takeitbak-medli\n",
      "Ovrstnd.LP\n",
      "knxwledge\n",
      "https://knxwledge.bandcamp.com/album/ovrstnd-lp\n",
      "Krimbos[Medli]\n",
      "https://knxwledge.bandcamp.com/track/krimbos-medli\n",
      "WrapTaypes.Port.1\n",
      "https://knxwledge.bandcamp.com/album/wraptaypes-port-1\n",
      "Petaluma[dnt.ask]\n",
      "https://knxwledge.bandcamp.com/track/petaluma-dnt-ask\n",
      "UndrTheWeathr.EP.\n",
      "https://knxwledge.bandcamp.com/album/undrtheweathr-ep\n",
      "Konsistensi.EP\n",
      "https://knxwledge.bandcamp.com/album/konsistensi-ep\n",
      "HexualSealings.EP.1.5\n",
      "https://knxwledge.bandcamp.com/album/hexualsealings-ep-15\n",
      "Randomb.EP\n",
      "https://knxwledge.bandcamp.com/album/randomb-ep\n",
      "Hud.Dreems.EP\n",
      "https://knxwledge.bandcamp.com/album/hud-dreems-ep\n",
      "ShadySide.EP\n",
      "Knxwledge\n",
      "https://knxwledge.bandcamp.com/album/shadyside-ep\n",
      "Flowrs.EP\n",
      "https://knxwledge.bandcamp.com/album/flowrs-ep\n",
      "Komposure.EP\n",
      "Knxwledge\n",
      "https://knxwledge.bandcamp.com/album/komposure-ep\n",
      "Old.Klouds.LP\n",
      "https://knxwledge.bandcamp.com/album/old-klouds-lp\n",
      "Hexual.Sealings.LP\n",
      "https://knxwledge.bandcamp.com/album/hexual-sealings-lp\n",
      "Knxwledge-Dryice\n",
      "https://knxwledge.bandcamp.com/track/knxwledge-dryice\n",
      "Gwapes.EP\n",
      "Knx.\n",
      "https://knxwledge.bandcamp.com/album/gwapes-ep\n",
      "K∆NN∆LOUPE.EP\n",
      "Knxwledge\n",
      "https://knxwledge.bandcamp.com/album/k-nn-loupe-ep\n",
      "SKR∆WBERRiES.FUNR∆iSRS VOL.3\n",
      "https://knxwledge.bandcamp.com/album/skr-wberries-funr-isrs-vol-3\n",
      "3P\n",
      "https://knxwledge.bandcamp.com/album/3p\n"
     ]
    }
   ],
   "source": [
    "#if it went to the music page, the title should have changed\n",
    "if browser.title == browser_title: #then we are on the same page\n",
    "    album_names,album_urls = get_albums_urls(browser,page_type='album')\n",
    "elif 'Music' in browser.title:\n",
    "    album_names,album_urls = get_albums_urls(browser,page_type='music')\n",
    "else:\n",
    "    DO_NOT_SCRAPE = True\n",
    "    print('ERROR - page not album or music type: %s' % artist_url)"
   ]
  },
  {
   "cell_type": "code",
   "execution_count": 126,
   "metadata": {},
   "outputs": [
    {
     "data": {
      "text/plain": [
       "'Music | Knxwledge.'"
      ]
     },
     "execution_count": 126,
     "metadata": {},
     "output_type": "execute_result"
    }
   ],
   "source": [
    "browser.title"
   ]
  },
  {
   "cell_type": "code",
   "execution_count": 108,
   "metadata": {},
   "outputs": [],
   "source": [
    "a = []\n",
    "\n",
    "if ((a==1) & (1==1)):\n",
    "    print('ok')"
   ]
  },
  {
   "cell_type": "code",
   "execution_count": 109,
   "metadata": {
    "collapsed": true
   },
   "outputs": [],
   "source": [
    "if a:\n",
    "    print('ok')"
   ]
  },
  {
   "cell_type": "code",
   "execution_count": null,
   "metadata": {
    "collapsed": true
   },
   "outputs": [],
   "source": []
  },
  {
   "cell_type": "code",
   "execution_count": null,
   "metadata": {
    "collapsed": true
   },
   "outputs": [],
   "source": [
    "if not DO_NOT_SCRAPE:\n",
    "    if album_urls:\n",
    "        for url in album_urls:\n",
    "            os.system(\"scrapy crawl bandcamp -a start_urls='%s' -a artist_name='%s'\" % (str(url),artist_name))\n",
    "    else:\n",
    "        print('ERROR - no album urls: %s' % artist_url)\n",
    "        error_urls.append(artist_url)"
   ]
  },
  {
   "cell_type": "code",
   "execution_count": 151,
   "metadata": {
    "collapsed": true
   },
   "outputs": [],
   "source": [
    "artist_name = 'Middle Kids'"
   ]
  },
  {
   "cell_type": "code",
   "execution_count": 231,
   "metadata": {
    "collapsed": true,
    "scrolled": false
   },
   "outputs": [],
   "source": [
    "'''\n",
    "run bandcamp spider\n",
    "'''\n",
    "cd '/Users/shayneufeld/github/pricecamp/scrapers/bandcamp_spider'\n",
    "\n",
    "album_url = album_urls\n",
    "artist_name = 'Middle Kids'\n",
    "\n",
    "for url in album_urls:\n",
    "    os.system(\"scrapy crawl bandcamp -a start_urls='%s' -a artist_name='%s'\" % (str(url),artist_name))"
   ]
  },
  {
   "cell_type": "code",
   "execution_count": 216,
   "metadata": {},
   "outputs": [
    {
     "data": {
      "text/plain": [
       "\"'\""
      ]
     },
     "execution_count": 216,
     "metadata": {},
     "output_type": "execute_result"
    }
   ],
   "source": [
    "test = str(album_url[1:])\n",
    "test[1]"
   ]
  },
  {
   "cell_type": "code",
   "execution_count": 217,
   "metadata": {
    "collapsed": true
   },
   "outputs": [],
   "source": [
    "test = test.replace(\"[\",'')\n",
    "test = test.replace(\"]\",'')\n",
    "test = test.replace(\"'\",'')\n",
    "test = test.replace(\" \",'')\n",
    "test = test.split(',')"
   ]
  },
  {
   "cell_type": "code",
   "execution_count": 221,
   "metadata": {},
   "outputs": [
    {
     "data": {
      "text/plain": [
       "'https://middlekids.bandcamp.com/track/egde-of-town'"
      ]
     },
     "execution_count": 221,
     "metadata": {},
     "output_type": "execute_result"
    }
   ],
   "source": [
    "test[1]"
   ]
  },
  {
   "cell_type": "code",
   "execution_count": 203,
   "metadata": {},
   "outputs": [
    {
     "data": {
      "text/plain": [
       "\"'\""
      ]
     },
     "execution_count": 203,
     "metadata": {},
     "output_type": "execute_result"
    }
   ],
   "source": [
    "test[0][1]"
   ]
  },
  {
   "cell_type": "code",
   "execution_count": 63,
   "metadata": {},
   "outputs": [
    {
     "ename": "TypeError",
     "evalue": "Mismatch between array dtype ('<U157') and format specifier ('%.18e')",
     "output_type": "error",
     "traceback": [
      "\u001b[0;31m---------------------------------------------------------------------------\u001b[0m",
      "\u001b[0;31mTypeError\u001b[0m                                 Traceback (most recent call last)",
      "\u001b[0;32m~/anaconda/envs/insight/lib/python3.6/site-packages/numpy/lib/npyio.py\u001b[0m in \u001b[0;36msavetxt\u001b[0;34m(fname, X, fmt, delimiter, newline, header, footer, comments)\u001b[0m\n\u001b[1;32m   1253\u001b[0m                 \u001b[0;32mtry\u001b[0m\u001b[0;34m:\u001b[0m\u001b[0;34m\u001b[0m\u001b[0m\n\u001b[0;32m-> 1254\u001b[0;31m                     \u001b[0mfh\u001b[0m\u001b[0;34m.\u001b[0m\u001b[0mwrite\u001b[0m\u001b[0;34m(\u001b[0m\u001b[0masbytes\u001b[0m\u001b[0;34m(\u001b[0m\u001b[0mformat\u001b[0m \u001b[0;34m%\u001b[0m \u001b[0mtuple\u001b[0m\u001b[0;34m(\u001b[0m\u001b[0mrow\u001b[0m\u001b[0;34m)\u001b[0m \u001b[0;34m+\u001b[0m \u001b[0mnewline\u001b[0m\u001b[0;34m)\u001b[0m\u001b[0;34m)\u001b[0m\u001b[0;34m\u001b[0m\u001b[0m\n\u001b[0m\u001b[1;32m   1255\u001b[0m                 \u001b[0;32mexcept\u001b[0m \u001b[0mTypeError\u001b[0m\u001b[0;34m:\u001b[0m\u001b[0;34m\u001b[0m\u001b[0m\n",
      "\u001b[0;31mTypeError\u001b[0m: must be real number, not numpy.str_",
      "\nDuring handling of the above exception, another exception occurred:\n",
      "\u001b[0;31mTypeError\u001b[0m                                 Traceback (most recent call last)",
      "\u001b[0;32m<ipython-input-63-8828ea8770f7>\u001b[0m in \u001b[0;36m<module>\u001b[0;34m()\u001b[0m\n\u001b[0;32m----> 1\u001b[0;31m \u001b[0mnp\u001b[0m\u001b[0;34m.\u001b[0m\u001b[0msavetxt\u001b[0m\u001b[0;34m(\u001b[0m\u001b[0;34m'/Users/shayneufeld/Dropbox/insight/pricecamp/urls_scraped'\u001b[0m\u001b[0;34m,\u001b[0m\u001b[0mlist\u001b[0m\u001b[0;34m(\u001b[0m\u001b[0murls_scraped\u001b[0m\u001b[0;34m)\u001b[0m\u001b[0;34m)\u001b[0m\u001b[0;34m\u001b[0m\u001b[0m\n\u001b[0m",
      "\u001b[0;32m~/anaconda/envs/insight/lib/python3.6/site-packages/numpy/lib/npyio.py\u001b[0m in \u001b[0;36msavetxt\u001b[0;34m(fname, X, fmt, delimiter, newline, header, footer, comments)\u001b[0m\n\u001b[1;32m   1256\u001b[0m                     raise TypeError(\"Mismatch between array dtype ('%s') and \"\n\u001b[1;32m   1257\u001b[0m                                     \u001b[0;34m\"format specifier ('%s')\"\u001b[0m\u001b[0;34m\u001b[0m\u001b[0m\n\u001b[0;32m-> 1258\u001b[0;31m                                     % (str(X.dtype), format))\n\u001b[0m\u001b[1;32m   1259\u001b[0m         \u001b[0;32mif\u001b[0m \u001b[0mlen\u001b[0m\u001b[0;34m(\u001b[0m\u001b[0mfooter\u001b[0m\u001b[0;34m)\u001b[0m \u001b[0;34m>\u001b[0m \u001b[0;36m0\u001b[0m\u001b[0;34m:\u001b[0m\u001b[0;34m\u001b[0m\u001b[0m\n\u001b[1;32m   1260\u001b[0m             \u001b[0mfooter\u001b[0m \u001b[0;34m=\u001b[0m \u001b[0mfooter\u001b[0m\u001b[0;34m.\u001b[0m\u001b[0mreplace\u001b[0m\u001b[0;34m(\u001b[0m\u001b[0;34m'\\n'\u001b[0m\u001b[0;34m,\u001b[0m \u001b[0;34m'\\n'\u001b[0m \u001b[0;34m+\u001b[0m \u001b[0mcomments\u001b[0m\u001b[0;34m)\u001b[0m\u001b[0;34m\u001b[0m\u001b[0m\n",
      "\u001b[0;31mTypeError\u001b[0m: Mismatch between array dtype ('<U157') and format specifier ('%.18e')"
     ]
    }
   ],
   "source": [
    "np.savetxt('/Users/shayneufeld/Dropbox/insight/pricecamp/urls_scraped',list(urls_scraped))"
   ]
  },
  {
   "cell_type": "code",
   "execution_count": 29,
   "metadata": {
    "collapsed": true
   },
   "outputs": [],
   "source": [
    "file_names = os.listdir(folder)"
   ]
  },
  {
   "cell_type": "code",
   "execution_count": 26,
   "metadata": {},
   "outputs": [
    {
     "data": {
      "text/plain": [
       "'/Users/shayneufeld/dropbox/insight/pricecamp/data/albums_fixed/that-positive-feeling-music-license-Alumo.csv'"
      ]
     },
     "execution_count": 26,
     "metadata": {},
     "output_type": "execute_result"
    }
   ],
   "source": [
    "file_name"
   ]
  },
  {
   "cell_type": "code",
   "execution_count": 32,
   "metadata": {},
   "outputs": [
    {
     "data": {
      "text/plain": [
       "'that-positive-feeling-music-license-Alumo.csv'"
      ]
     },
     "execution_count": 32,
     "metadata": {},
     "output_type": "execute_result"
    }
   ],
   "source": [
    "file_name = album_name + '-' + artist_name + '.csv'\n",
    "file_name"
   ]
  },
  {
   "cell_type": "code",
   "execution_count": 33,
   "metadata": {},
   "outputs": [
    {
     "data": {
      "text/plain": [
       "True"
      ]
     },
     "execution_count": 33,
     "metadata": {},
     "output_type": "execute_result"
    }
   ],
   "source": [
    "file_name in file_names"
   ]
  },
  {
   "cell_type": "code",
   "execution_count": null,
   "metadata": {
    "collapsed": true
   },
   "outputs": [],
   "source": [
    "artist_name = df[df.url==url[6:]].head(1).artist_name.values\n",
    "artist_name"
   ]
  },
  {
   "cell_type": "code",
   "execution_count": 31,
   "metadata": {},
   "outputs": [
    {
     "data": {
      "text/plain": [
       "'adrift-in-sleepwakefulness-[Bucketheadland].csv'"
      ]
     },
     "execution_count": 31,
     "metadata": {},
     "output_type": "execute_result"
    }
   ],
   "source": [
    "file_names[100]"
   ]
  },
  {
   "cell_type": "code",
   "execution_count": null,
   "metadata": {
    "collapsed": true
   },
   "outputs": [],
   "source": [
    "type(artist_name) is not str"
   ]
  },
  {
   "cell_type": "code",
   "execution_count": null,
   "metadata": {
    "collapsed": true
   },
   "outputs": [],
   "source": [
    "urls_scraped = []\n",
    "folder =  '/Users/shayneufeld/Dropbox/insight/pricecamp/data/albums_fixed/'\n",
    "files = os.listdir(folder)\n",
    "\n",
    "for i,file in enumerate(files):\n",
    "    try:\n",
    "        if not file[0] == '.':\n",
    "            df = pd.read_csv(os.path.join(folder,file))\n",
    "            url = df.album_url.values[0]\n",
    "            urls_scraped.append(url)\n",
    "    except:\n",
    "        pass"
   ]
  },
  {
   "cell_type": "code",
   "execution_count": null,
   "metadata": {
    "collapsed": true,
    "scrolled": true
   },
   "outputs": [],
   "source": [
    "urls_scraped"
   ]
  },
  {
   "cell_type": "code",
   "execution_count": null,
   "metadata": {
    "collapsed": true,
    "scrolled": false
   },
   "outputs": [],
   "source": [
    "d = {'url':urls_scraped}\n",
    "urls_scraped_df = pd.DataFrame(data = d)\n",
    "urls_scraped_df.to_csv('/Users/shayneufeld/Dropbox/insight/pricecamp/data/urls_scraped.csv')"
   ]
  },
  {
   "cell_type": "markdown",
   "metadata": {
    "collapsed": true
   },
   "source": []
  }
 ],
 "metadata": {
  "kernelspec": {
   "display_name": "Python 3",
   "language": "python",
   "name": "python3"
  },
  "language_info": {
   "codemirror_mode": {
    "name": "ipython",
    "version": 3
   },
   "file_extension": ".py",
   "mimetype": "text/x-python",
   "name": "python",
   "nbconvert_exporter": "python",
   "pygments_lexer": "ipython3",
   "version": "3.6.1"
  }
 },
 "nbformat": 4,
 "nbformat_minor": 2
}
