{
 "cells": [
  {
   "cell_type": "markdown",
   "metadata": {},
   "source": [
    "# model.py for flaskapp"
   ]
  },
  {
   "cell_type": "code",
   "execution_count": 106,
   "metadata": {
    "collapsed": true
   },
   "outputs": [],
   "source": [
    "#!/usr/bin/env python3\n",
    "# -*- coding: utf-8 -*-\n",
    "\"\"\"\n",
    "Created on Thu Aug  3 18:20:32 2017\n",
    "\n",
    "@author: shayneufeld\n",
    "\"\"\"\n",
    "import pandas as pd\n",
    "import numpy as np\n",
    "import pickle\n",
    "\n",
    "\n",
    "#variables to load in\n",
    "artist_table = pd.read_csv('/Users/shayneufeld/Dropbox/insight/pricecamp/data/artist_table.csv',index_col=0)\n",
    "als_model = pickle.load(open('/Users/shayneufeld/GitHub/pricecamp/models/als_model.sav', 'rb'))\n",
    "forest_model = pickle.load(open('/Users/shayneufeld/GitHub/pricecamp/models/rf_model.sav','rb'))\n",
    "album_features = pd.read_csv('/Users/shayneufeld/GitHub/pricecamp/data/album_features.csv',index_col=0)\n",
    "prices_genres_features = np.loadtxt('/Users/shayneufeld/Dropbox/insight/pricecamp/data/prices_genres_features.csv')\n",
    "sales_df = pd.read_csv('/Users/shayneufeld/Dropbox/insight/pricecamp/data/sales.csv',index_col=0)\n",
    "\n",
    "def predictNumBuyers(artist_key=[], model = forest_model,features=prices_genres_features,data=album_features):\n",
    "    #use random forest classifier to predict how an album will sell\n",
    "    #the classifier uses item types + prices, as well as a dimensionality \n",
    "    #reduced form of the genre tags as features, and returns a prediction of\n",
    "    #sales as:\n",
    "        # low ( <100)\n",
    "        # med (100-500)\n",
    "        # hi  (>500)\n",
    "        \n",
    "    x = features[artist_key,:]\n",
    "    y_predict = model.predict(x)\n",
    "    \n",
    "    return y_predict[0]\n",
    "    \n",
    "\n",
    "def getRelatedArtists(artist_key=[],model=als_model,data=artist_table):\n",
    "    #use alternating least squares matrix factorization to identify\n",
    "    #similar artists\n",
    "    als_result = model.similar_items(artist_key,N=50)\n",
    "\n",
    "    results = als_result\n",
    "    als_ = pd.DataFrame()\n",
    "\n",
    "    for als_r in results[1:]: #exclude the artist in question\n",
    "        als_ = als_.append(artist_table[artist_table.artist_id==als_r[0]])\n",
    "        \n",
    "    related_artists = als_.name.values\n",
    "    \n",
    "    return related_artists\n",
    "\n",
    "\n",
    "def getRelatedSales(related_artists = [],sales=sales_df):\n",
    "    # based on related artists, search for all sales made by those \n",
    "    # related artists that have been captured in the sales table.\n",
    "    related_sales_als = pd.DataFrame()\n",
    "\n",
    "    for als_artist in related_artists:\n",
    "        related_sales_als_ = sales[sales.artist_name==als_artist].copy()\n",
    "        related_sales_als = related_sales_als.append(related_sales_als_)\n",
    "        \n",
    "    return related_sales_als\n",
    "\n",
    "\n",
    "def recommendPrices(related_sales = []):  \n",
    "    #based on the related sales, determine the best products and prices\n",
    "    #that would account for the most revenue\n",
    "    item_types = related_sales.item_type.unique()\n",
    "\n",
    "\n",
    "    price_analysis = pd.DataFrame(data=None,index=['Price','Revenue','Frac_Revenue'],columns=['a','b','t','p'])\n",
    "    \n",
    "    for i,item_type in enumerate(item_types):\n",
    "        test=related_sales[related_sales.item_type==item_type]\n",
    "        x = np.histogram(test.amount_paid_usd.values)[1][:-1]\n",
    "        y = np.histogram(test.amount_paid_usd.values)[0]*x\n",
    "        \n",
    "        opt = x[np.where(y==y.max())]\n",
    "        rev = y.max()\n",
    "        price_analysis.loc['Price',item_type] = np.round(opt[0])\n",
    "        price_analysis.loc['Revenue',item_type] = rev\n",
    "        \n",
    "    #get fraction of revenue for each type\n",
    "    price_analysis.loc['Frac_Revenue',:] = price_analysis.loc['Revenue',:].values / price_analysis.loc['Revenue',:].values.sum(axis=0)\n",
    "    \n",
    "    rec = pd.DataFrame()\n",
    "    for col in price_analysis.columns.values:\n",
    "        if price_analysis.loc['Frac_Revenue',col] > 0.2:\n",
    "            rec = rec.append(price_analysis[col])\n",
    "    \n",
    "    #re-normalize the fraction revenue column to sum to 1 with the recomended items\n",
    "    rec['Frac_Revenue'] = np.round(rec.Frac_Revenue.values / rec.Frac_Revenue.values.sum(),2)\n",
    "    \n",
    "    #add type of item to the dataframe\n",
    "    items = []\n",
    "    for item in rec.index.values:\n",
    "        if item == 'a':\n",
    "            items.append('digital album')\n",
    "        elif item == 'p':\n",
    "            items.append('physical')\n",
    "        elif item == 'b':\n",
    "            items.append('bundle')\n",
    "        elif item == 't':\n",
    "            items.append('track')\n",
    "    \n",
    "    rec['Type'] = items\n",
    "    rec = rec.drop('Revenue',axis=1)\n",
    "    return rec\n",
    "\n",
    "\n",
    "def predictRevenue(rec_items=[],num_sales=[]):\n",
    "    \n",
    "    lower_bound,upper_bound = 0,0\n",
    "    lower,higher = 0,0\n",
    "    \n",
    "    if num_sales == 'low':\n",
    "        lower = 0\n",
    "        higher = 100\n",
    "    \n",
    "    elif num_sales == 'med':\n",
    "        lower = 100\n",
    "        higher = 500\n",
    "        \n",
    "    elif num_sales == 'hi':\n",
    "        lower = 500\n",
    "        higher = 0\n",
    "        \n",
    "        \n",
    "    for item in rec_items.iterrows():\n",
    "        lower_bound += lower*item[1].Price\n",
    "        upper_bound += higher*item[1].Price\n",
    "    \n",
    "    revenue = []\n",
    "    if num_sales == 'low':\n",
    "        revenue = '$<' + str(np.round(upper_bound))\n",
    "    elif num_sales == 'med':\n",
    "        revenue = '$ ' + str(np.round(lower_bound)) + ' - ' + str(np.round(upper_bound,0))\n",
    "    elif num_sales == 'hi':\n",
    "        revenue = '$>' + str(np.round(lower_bound))\n",
    "    else:\n",
    "        'Error: bad input'\n",
    "    \n",
    "    return revenue\n",
    "\n",
    "\n",
    "def getArtistKey(artist_name = [],data=artist_table):\n",
    "    #find the artist id corresponding to the artist name\n",
    "    #this id is required for using the als model\n",
    "    return data[data.name==artist_name].artist_id.values[0]"
   ]
  },
  {
   "cell_type": "markdown",
   "metadata": {},
   "source": [
    "# logic in views.py"
   ]
  },
  {
   "cell_type": "code",
   "execution_count": 37,
   "metadata": {
    "collapsed": true
   },
   "outputs": [],
   "source": [
    "artist_name = '2814'"
   ]
  },
  {
   "cell_type": "code",
   "execution_count": 107,
   "metadata": {},
   "outputs": [
    {
     "name": "stderr",
     "output_type": "stream",
     "text": [
      "/Users/shayneufeld/anaconda/envs/insight/lib/python3.6/site-packages/sklearn/utils/validation.py:395: DeprecationWarning: Passing 1d arrays as data is deprecated in 0.17 and will raise ValueError in 0.19. Reshape your data either using X.reshape(-1, 1) if your data has a single feature or X.reshape(1, -1) if it contains a single sample.\n",
      "  DeprecationWarning)\n"
     ]
    }
   ],
   "source": [
    "artist_key = getArtistKey(artist_name)\n",
    "related_artists = getRelatedArtists(artist_key=artist_key)\n",
    "related_sales = getRelatedSales(related_artists=related_artists)\n",
    "rec_items = recommendPrices(related_sales=related_sales)\n",
    "num_sales = predictNumBuyers(artist_key=artist_key)\n",
    "predicted_revenue = predictRevenue(rec_items=rec_items,num_sales=num_sales)"
   ]
  },
  {
   "cell_type": "code",
   "execution_count": 92,
   "metadata": {},
   "outputs": [
    {
     "data": {
      "text/plain": [
       "'med'"
      ]
     },
     "execution_count": 92,
     "metadata": {},
     "output_type": "execute_result"
    }
   ],
   "source": [
    "num_sales"
   ]
  },
  {
   "cell_type": "code",
   "execution_count": 108,
   "metadata": {},
   "outputs": [
    {
     "data": {
      "text/html": [
       "<div>\n",
       "<style>\n",
       "    .dataframe thead tr:only-child th {\n",
       "        text-align: right;\n",
       "    }\n",
       "\n",
       "    .dataframe thead th {\n",
       "        text-align: left;\n",
       "    }\n",
       "\n",
       "    .dataframe tbody tr th {\n",
       "        vertical-align: top;\n",
       "    }\n",
       "</style>\n",
       "<table border=\"1\" class=\"dataframe\">\n",
       "  <thead>\n",
       "    <tr style=\"text-align: right;\">\n",
       "      <th></th>\n",
       "      <th>Frac_Revenue</th>\n",
       "      <th>Price</th>\n",
       "      <th>Type</th>\n",
       "    </tr>\n",
       "  </thead>\n",
       "  <tbody>\n",
       "    <tr>\n",
       "      <th>a</th>\n",
       "      <td>0.37</td>\n",
       "      <td>4.0</td>\n",
       "      <td>digital album</td>\n",
       "    </tr>\n",
       "    <tr>\n",
       "      <th>p</th>\n",
       "      <td>0.63</td>\n",
       "      <td>9.0</td>\n",
       "      <td>physical</td>\n",
       "    </tr>\n",
       "  </tbody>\n",
       "</table>\n",
       "</div>"
      ],
      "text/plain": [
       "   Frac_Revenue  Price           Type\n",
       "a          0.37    4.0  digital album\n",
       "p          0.63    9.0       physical"
      ]
     },
     "execution_count": 108,
     "metadata": {},
     "output_type": "execute_result"
    }
   ],
   "source": [
    "rec_items"
   ]
  },
  {
   "cell_type": "code",
   "execution_count": 109,
   "metadata": {},
   "outputs": [
    {
     "data": {
      "text/plain": [
       "'$ 1300.0 - 6500.0'"
      ]
     },
     "execution_count": 109,
     "metadata": {},
     "output_type": "execute_result"
    }
   ],
   "source": [
    "predicted_revenue"
   ]
  }
 ],
 "metadata": {
  "kernelspec": {
   "display_name": "Python 3",
   "language": "python",
   "name": "python3"
  },
  "language_info": {
   "codemirror_mode": {
    "name": "ipython",
    "version": 3
   },
   "file_extension": ".py",
   "mimetype": "text/x-python",
   "name": "python",
   "nbconvert_exporter": "python",
   "pygments_lexer": "ipython3",
   "version": "3.6.1"
  }
 },
 "nbformat": 4,
 "nbformat_minor": 2
}
