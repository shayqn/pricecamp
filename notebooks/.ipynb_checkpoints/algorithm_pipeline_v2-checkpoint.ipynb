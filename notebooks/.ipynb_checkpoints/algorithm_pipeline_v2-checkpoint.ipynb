{
 "cells": [
  {
   "cell_type": "markdown",
   "metadata": {},
   "source": [
    "# matrix factorization on artists (or albums) and supporters"
   ]
  },
  {
   "cell_type": "markdown",
   "metadata": {},
   "source": [
    "## 1. read in albums_supporters table\n",
    "## 2. construct similarity matrix (sparse I think!)\n",
    "## 3. try matrix similarity to return similar artists or albums"
   ]
  },
  {
   "cell_type": "code",
   "execution_count": 139,
   "metadata": {},
   "outputs": [],
   "source": [
    "import os\n",
    "import pandas as pd\n",
    "import sqlalchemy\n",
    "from sqlalchemy import create_engine\n",
    "from sqlalchemy_utils import database_exists, create_database\n",
    "from scipy.sparse import coo_matrix\n",
    "import scipy\n",
    "import psycopg2\n",
    "import tqdm\n",
    "import numpy as np\n",
    "from scipy.sparse import linalg\n",
    "import seaborn as sns\n",
    "import matplotlib.pyplot as plt\n",
    "import seaborn as sns\n",
    "import implicit\n",
    "from sklearn import linear_model\n",
    "from sklearn.tree import DecisionTreeRegressor\n",
    "from timeit import default_timer as timer\n",
    "%matplotlib inline"
   ]
  },
  {
   "cell_type": "markdown",
   "metadata": {},
   "source": [
    "## connect to database"
   ]
  },
  {
   "cell_type": "code",
   "execution_count": 3,
   "metadata": {
    "collapsed": true
   },
   "outputs": [],
   "source": [
    "#In Python: Define a database name (we're using a dataset on births, so I call it \n",
    "# birth_db), and your username for your computer (CHANGE IT BELOW). \n",
    "dbname = 'music_db'\n",
    "username = 'shayneufeld'\n",
    "\n",
    "# connect:\n",
    "con = None\n",
    "con = psycopg2.connect(database = dbname, user = username)"
   ]
  },
  {
   "cell_type": "markdown",
   "metadata": {},
   "source": [
    "## read in album_supporters table"
   ]
  },
  {
   "cell_type": "code",
   "execution_count": 4,
   "metadata": {
    "collapsed": true
   },
   "outputs": [],
   "source": [
    "# query:\n",
    "sql_query = \"\"\"\n",
    "SELECT * FROM album_supporters;\n",
    "\"\"\"\n",
    "album_supporters = pd.read_sql_query(sql_query,con)"
   ]
  },
  {
   "cell_type": "markdown",
   "metadata": {},
   "source": [
    "## read in album_info tabl"
   ]
  },
  {
   "cell_type": "code",
   "execution_count": 5,
   "metadata": {
    "collapsed": true
   },
   "outputs": [],
   "source": [
    "# query:\n",
    "sql_query = \"\"\"\n",
    "SELECT * FROM album_info;\n",
    "\"\"\"\n",
    "album_info = pd.read_sql_query(sql_query,con)"
   ]
  },
  {
   "cell_type": "markdown",
   "metadata": {},
   "source": [
    "## load in sales.csv"
   ]
  },
  {
   "cell_type": "code",
   "execution_count": 13,
   "metadata": {
    "collapsed": true
   },
   "outputs": [],
   "source": [
    "sales = pd.read_csv('/Users/shayneufeld/Dropbox/insight/pricecamp/data/sales.csv',index_col=0)"
   ]
  },
  {
   "cell_type": "markdown",
   "metadata": {},
   "source": [
    "### if artist table is already created, load it here. Otherwise, start making it below:"
   ]
  },
  {
   "cell_type": "code",
   "execution_count": 12,
   "metadata": {},
   "outputs": [
    {
     "data": {
      "text/html": [
       "<div>\n",
       "<style>\n",
       "    .dataframe thead tr:only-child th {\n",
       "        text-align: right;\n",
       "    }\n",
       "\n",
       "    .dataframe thead th {\n",
       "        text-align: left;\n",
       "    }\n",
       "\n",
       "    .dataframe tbody tr th {\n",
       "        vertical-align: top;\n",
       "    }\n",
       "</style>\n",
       "<table border=\"1\" class=\"dataframe\">\n",
       "  <thead>\n",
       "    <tr style=\"text-align: right;\">\n",
       "      <th></th>\n",
       "      <th>artist_id</th>\n",
       "      <th>name</th>\n",
       "      <th>num_albums</th>\n",
       "      <th>num_buyers</th>\n",
       "      <th>num_buys</th>\n",
       "      <th>tags</th>\n",
       "      <th>num_recorded_sales</th>\n",
       "    </tr>\n",
       "  </thead>\n",
       "  <tbody>\n",
       "    <tr>\n",
       "      <th>0</th>\n",
       "      <td>0</td>\n",
       "      <td>(Sandy) Alex G</td>\n",
       "      <td>4</td>\n",
       "      <td>2323</td>\n",
       "      <td>3441</td>\n",
       "      <td>'alex g', 'pop', 'domino''nsfw', 'pop''pop', '...</td>\n",
       "      <td>35.0</td>\n",
       "    </tr>\n",
       "    <tr>\n",
       "      <th>1</th>\n",
       "      <td>1</td>\n",
       "      <td>,,abrightfar,,</td>\n",
       "      <td>1</td>\n",
       "      <td>3</td>\n",
       "      <td>6</td>\n",
       "      <td>'experimental', 'abrightfar', 'ambient', 'brok...</td>\n",
       "      <td>0.0</td>\n",
       "    </tr>\n",
       "    <tr>\n",
       "      <th>2</th>\n",
       "      <td>2</td>\n",
       "      <td>...Of Sinking Ships</td>\n",
       "      <td>1</td>\n",
       "      <td>25</td>\n",
       "      <td>50</td>\n",
       "      <td>'atmospheric', 'hopesfall', 'indie', 'indie ro...</td>\n",
       "      <td>0.0</td>\n",
       "    </tr>\n",
       "    <tr>\n",
       "      <th>3</th>\n",
       "      <td>3</td>\n",
       "      <td>1800HaightStreet</td>\n",
       "      <td>1</td>\n",
       "      <td>166</td>\n",
       "      <td>166</td>\n",
       "      <td>'chicago house', 'deep techno', 'detroit house...</td>\n",
       "      <td>2.0</td>\n",
       "    </tr>\n",
       "    <tr>\n",
       "      <th>4</th>\n",
       "      <td>4</td>\n",
       "      <td>1970's Film Stock</td>\n",
       "      <td>1</td>\n",
       "      <td>5</td>\n",
       "      <td>10</td>\n",
       "      <td>'1970s', 'experimental', 'broken machine films...</td>\n",
       "      <td>0.0</td>\n",
       "    </tr>\n",
       "  </tbody>\n",
       "</table>\n",
       "</div>"
      ],
      "text/plain": [
       "   artist_id                 name  num_albums  num_buyers  num_buys  \\\n",
       "0          0       (Sandy) Alex G           4        2323      3441   \n",
       "1          1       ,,abrightfar,,           1           3         6   \n",
       "2          2  ...Of Sinking Ships           1          25        50   \n",
       "3          3     1800HaightStreet           1         166       166   \n",
       "4          4    1970's Film Stock           1           5        10   \n",
       "\n",
       "                                                tags  num_recorded_sales  \n",
       "0  'alex g', 'pop', 'domino''nsfw', 'pop''pop', '...                35.0  \n",
       "1  'experimental', 'abrightfar', 'ambient', 'brok...                 0.0  \n",
       "2  'atmospheric', 'hopesfall', 'indie', 'indie ro...                 0.0  \n",
       "3  'chicago house', 'deep techno', 'detroit house...                 2.0  \n",
       "4  '1970s', 'experimental', 'broken machine films...                 0.0  "
      ]
     },
     "execution_count": 12,
     "metadata": {},
     "output_type": "execute_result"
    }
   ],
   "source": [
    "artist_table = pd.read_csv('/Users/shayneufeld/Dropbox/insight/pricecamp/data/artist_table.csv', index_col=0)\n",
    "artist_table.head(5)"
   ]
  },
  {
   "cell_type": "markdown",
   "metadata": {},
   "source": [
    "## create a sparse matrix of artist and supporters. If already made, simply load it in the following cell"
   ]
  },
  {
   "cell_type": "code",
   "execution_count": null,
   "metadata": {
    "collapsed": true
   },
   "outputs": [],
   "source": [
    "artist_matrix = album_supporters[['artist_name', 'contrib_url']].copy()\n",
    "\n",
    "artist_matrix['artist_name'] = artist_matrix['artist_name'].astype('category')\n",
    "artist_matrix['contrib_url'] = artist_matrix['contrib_url'].astype('category')\n",
    "artist_matrix['buys'] = 1\n",
    "\n",
    "buys = coo_matrix((artist_matrix['buys'].astype(float),\n",
    "                  (artist_matrix['artist_name'].cat.codes,\n",
    "                  artist_matrix['contrib_url'].cat.codes)))\n",
    "\n",
    "artist_key = dict(enumerate(artist_matrix.artist_name.cat.categories))\n",
    "\n",
    "# try saving matrix\n",
    "scipy.sparse.save_npz('/Users/shayneufeld/Dropbox/insight/pricecamp/data/supporters_sparse_matrix.npz', buys)"
   ]
  },
  {
   "cell_type": "code",
   "execution_count": 27,
   "metadata": {},
   "outputs": [],
   "source": [
    "#load sparse matrix\n",
    "buys = scipy.sparse.load_npz('/Users/shayneufeld/Dropbox/insight/pricecamp/data/supporters_sparse_matrix.npz')"
   ]
  },
  {
   "cell_type": "markdown",
   "metadata": {},
   "source": [
    "# create an artist_table"
   ]
  },
  {
   "cell_type": "code",
   "execution_count": 165,
   "metadata": {},
   "outputs": [
    {
     "name": "stderr",
     "output_type": "stream",
     "text": [
      "1657it [06:48,  3.89it/s]\n"
     ]
    }
   ],
   "source": [
    "# create a table for each artist, containing number of albums & tags\n",
    "artist_table = pd.DataFrame()\n",
    "\n",
    "for i,key in tqdm.tqdm(enumerate(artist_key)):\n",
    "    artist = artist_key[key]\n",
    "    artist_info = album_info[album_info.artist_name == artist]\n",
    "    artist_supp = album_supporters[album_supporters.artist_name == artist]\n",
    "    \n",
    "    total_supp = artist_supp.shape[0]\n",
    "    unique_supp = artist_supp.contrib_url.unique().shape[0]\n",
    "    num_albums = artist_supp.album_name.unique().shape[0]\n",
    "    \n",
    "    artist_sales = sales[sales.artist_name==name]\n",
    "    num_sales = artist_sales.shape[0]\n",
    "    \n",
    "    artist_tags = str()\n",
    "    for album_tags in artist_info.tags.values:\n",
    "        artist_tags = artist_tags + str(album_tags[1:-1])\n",
    "    \n",
    "    d = {'name':artist,'tags':artist_tags,\n",
    "         'num_albums':num_albums,'num_buys':total_supp,\n",
    "        'num_buyers':unique_supp,'artist_id':key,'num_recorded_sales':num_sales}\n",
    "    \n",
    "    artist_table = artist_table.append(pd.DataFrame(data=d,index=[i]))"
   ]
  },
  {
   "cell_type": "code",
   "execution_count": 14,
   "metadata": {},
   "outputs": [
    {
     "data": {
      "text/html": [
       "<div>\n",
       "<style>\n",
       "    .dataframe thead tr:only-child th {\n",
       "        text-align: right;\n",
       "    }\n",
       "\n",
       "    .dataframe thead th {\n",
       "        text-align: left;\n",
       "    }\n",
       "\n",
       "    .dataframe tbody tr th {\n",
       "        vertical-align: top;\n",
       "    }\n",
       "</style>\n",
       "<table border=\"1\" class=\"dataframe\">\n",
       "  <thead>\n",
       "    <tr style=\"text-align: right;\">\n",
       "      <th></th>\n",
       "      <th>artist_id</th>\n",
       "      <th>name</th>\n",
       "      <th>num_albums</th>\n",
       "      <th>num_buyers</th>\n",
       "      <th>num_buys</th>\n",
       "      <th>tags</th>\n",
       "      <th>num_recorded_sales</th>\n",
       "    </tr>\n",
       "  </thead>\n",
       "  <tbody>\n",
       "    <tr>\n",
       "      <th>0</th>\n",
       "      <td>0</td>\n",
       "      <td>(Sandy) Alex G</td>\n",
       "      <td>4</td>\n",
       "      <td>2323</td>\n",
       "      <td>3441</td>\n",
       "      <td>'alex g', 'pop', 'domino''nsfw', 'pop''pop', '...</td>\n",
       "      <td>35.0</td>\n",
       "    </tr>\n",
       "    <tr>\n",
       "      <th>1</th>\n",
       "      <td>1</td>\n",
       "      <td>,,abrightfar,,</td>\n",
       "      <td>1</td>\n",
       "      <td>3</td>\n",
       "      <td>6</td>\n",
       "      <td>'experimental', 'abrightfar', 'ambient', 'brok...</td>\n",
       "      <td>0.0</td>\n",
       "    </tr>\n",
       "    <tr>\n",
       "      <th>2</th>\n",
       "      <td>2</td>\n",
       "      <td>...Of Sinking Ships</td>\n",
       "      <td>1</td>\n",
       "      <td>25</td>\n",
       "      <td>50</td>\n",
       "      <td>'atmospheric', 'hopesfall', 'indie', 'indie ro...</td>\n",
       "      <td>0.0</td>\n",
       "    </tr>\n",
       "    <tr>\n",
       "      <th>3</th>\n",
       "      <td>3</td>\n",
       "      <td>1800HaightStreet</td>\n",
       "      <td>1</td>\n",
       "      <td>166</td>\n",
       "      <td>166</td>\n",
       "      <td>'chicago house', 'deep techno', 'detroit house...</td>\n",
       "      <td>2.0</td>\n",
       "    </tr>\n",
       "    <tr>\n",
       "      <th>4</th>\n",
       "      <td>4</td>\n",
       "      <td>1970's Film Stock</td>\n",
       "      <td>1</td>\n",
       "      <td>5</td>\n",
       "      <td>10</td>\n",
       "      <td>'1970s', 'experimental', 'broken machine films...</td>\n",
       "      <td>0.0</td>\n",
       "    </tr>\n",
       "  </tbody>\n",
       "</table>\n",
       "</div>"
      ],
      "text/plain": [
       "   artist_id                 name  num_albums  num_buyers  num_buys  \\\n",
       "0          0       (Sandy) Alex G           4        2323      3441   \n",
       "1          1       ,,abrightfar,,           1           3         6   \n",
       "2          2  ...Of Sinking Ships           1          25        50   \n",
       "3          3     1800HaightStreet           1         166       166   \n",
       "4          4    1970's Film Stock           1           5        10   \n",
       "\n",
       "                                                tags  num_recorded_sales  \n",
       "0  'alex g', 'pop', 'domino''nsfw', 'pop''pop', '...                35.0  \n",
       "1  'experimental', 'abrightfar', 'ambient', 'brok...                 0.0  \n",
       "2  'atmospheric', 'hopesfall', 'indie', 'indie ro...                 0.0  \n",
       "3  'chicago house', 'deep techno', 'detroit house...                 2.0  \n",
       "4  '1970s', 'experimental', 'broken machine films...                 0.0  "
      ]
     },
     "execution_count": 14,
     "metadata": {},
     "output_type": "execute_result"
    }
   ],
   "source": [
    "artist_table.head(5)"
   ]
  },
  {
   "cell_type": "code",
   "execution_count": 24,
   "metadata": {
    "collapsed": true
   },
   "outputs": [],
   "source": [
    "def bm25_weight(X, K1=100, B=0.8):\n",
    "    \"\"\" Weighs each row of a sparse matrix X  by BM25 weighting \"\"\"\n",
    "    # calculate idf per term (user)\n",
    "    X = coo_matrix(X)\n",
    "\n",
    "    N = float(X.shape[0])\n",
    "    idf = np.log(N / (1 + np.bincount(X.col)))\n",
    "\n",
    "    # calculate length_norm per document (artist)\n",
    "    row_sums = np.ravel(X.sum(axis=1))\n",
    "    average_length = row_sums.mean()\n",
    "    length_norm = (1.0 - B) + B * row_sums / average_length\n",
    "\n",
    "    # weight matrix rows by bm25\n",
    "    X.data = X.data * (K1 + 1.0) / (K1 * length_norm[X.row] + X.data) * idf[X.col]\n",
    "    return X"
   ]
  },
  {
   "cell_type": "markdown",
   "metadata": {},
   "source": [
    "## Implicit Alternating Least Squares"
   ]
  },
  {
   "cell_type": "code",
   "execution_count": 25,
   "metadata": {
    "collapsed": true
   },
   "outputs": [],
   "source": [
    "# initialize a model\n",
    "als = implicit.als.AlternatingLeastSquares(factors=50)"
   ]
  },
  {
   "cell_type": "code",
   "execution_count": 28,
   "metadata": {},
   "outputs": [
    {
     "name": "stdout",
     "output_type": "stream",
     "text": [
      "Time to fit als model: 13 s\n"
     ]
    }
   ],
   "source": [
    "# train the model on a sparse matrix of item/user/confidence weights\n",
    "start = timer()\n",
    "als.fit(buys)\n",
    "end = timer()\n",
    "print('Time to fit als model: %.0f s' % (end-start))"
   ]
  },
  {
   "cell_type": "code",
   "execution_count": 34,
   "metadata": {},
   "outputs": [],
   "source": [
    "artist_id = 998\n",
    "als_result = als.similar_items(artist_id,N=50)\n",
    "\n",
    "results = als_result\n",
    "als_ = pd.DataFrame()\n",
    "\n",
    "for als_r in results:\n",
    "    als_ = als_.append(artist_table[artist_table.artist_id==als_r[0]])\n",
    "    \n",
    "#print('Artist: %s' % artist_key[artist_id])\n",
    "#print('Related artists: %s' % related_artists)"
   ]
  },
  {
   "cell_type": "code",
   "execution_count": 35,
   "metadata": {
    "collapsed": true
   },
   "outputs": [],
   "source": [
    "related_artists = als_.name.values\n",
    "related_sales_als = pd.DataFrame()\n",
    "\n",
    "for als_artist in related_artists:\n",
    "    related_sales_als_ = sales[sales.artist_name==als_artist].copy()\n",
    "    related_sales_als = related_sales_als.append(related_sales_als_)"
   ]
  },
  {
   "cell_type": "code",
   "execution_count": 36,
   "metadata": {},
   "outputs": [
    {
     "name": "stdout",
     "output_type": "stream",
     "text": [
      "Num related sales (als): 146\n"
     ]
    }
   ],
   "source": [
    "print('Num related sales (als): %.0f' % related_sales_als.shape[0])"
   ]
  },
  {
   "cell_type": "code",
   "execution_count": 42,
   "metadata": {},
   "outputs": [
    {
     "data": {
      "text/plain": [
       "<matplotlib.text.Text at 0x14f6f7240>"
      ]
     },
     "execution_count": 42,
     "metadata": {},
     "output_type": "execute_result"
    },
    {
     "data": {
      "image/png": "[encoded data removed]",
      "text/plain": [
       "<matplotlib.figure.Figure at 0x14f7ae278>"
      ]
     },
     "metadata": {},
     "output_type": "display_data"
    }
   ],
   "source": [
    "related_sales = related_sales_als\n",
    "item_types = related_sales.item_type.unique()\n",
    "best_price = {}\n",
    "revs = {}\n",
    "plt.figure(figsize=(12,5))\n",
    "fontsize=20\n",
    "for i,item_type in enumerate(item_types):\n",
    "    test=related_sales[related_sales.item_type==item_type]\n",
    "    x = np.histogram(test.amount_paid_usd.values)[1][:-1]\n",
    "    y = np.histogram(test.amount_paid_usd.values)[0]*x\n",
    "    \n",
    "    opt = x[np.where(y==y.max())]\n",
    "    rev = y.max()\n",
    "    best_price[item_type] = np.round(opt[0])\n",
    "    revs[item_type] = rev\n",
    "    \n",
    "    plt.plot(x,y,linewidth=5)\n",
    "    plt.scatter(x,y,label=item_type,linewidth=5)\n",
    "plt.legend(loc='best',fontsize=fontsize)\n",
    "plt.xticks(fontsize=fontsize)\n",
    "plt.yticks(fontsize=fontsize)\n",
    "plt.xlabel('item price ($)',fontsize=fontsize)\n",
    "plt.ylabel('revenue ($)', fontsize=fontsize)"
   ]
  },
  {
   "cell_type": "code",
   "execution_count": 40,
   "metadata": {},
   "outputs": [
    {
     "data": {
      "text/plain": [
       "{'a': 7.0, 'b': 33.0, 'p': 18.0, 't': 2.0}"
      ]
     },
     "execution_count": 40,
     "metadata": {},
     "output_type": "execute_result"
    }
   ],
   "source": [
    "best_price"
   ]
  },
  {
   "cell_type": "code",
   "execution_count": 58,
   "metadata": {},
   "outputs": [],
   "source": [
    "rev_sum = 0\n",
    "frac_rev = {}\n",
    "for key in revs:\n",
    "    rev_sum += revs[key]\n",
    "for key in best_price:\n",
    "    frac = revs[key]/rev_sum\n",
    "    if frac > .20:\n",
    "        frac_rev[key] = frac"
   ]
  },
  {
   "cell_type": "code",
   "execution_count": 59,
   "metadata": {},
   "outputs": [
    {
     "data": {
      "text/plain": [
       "{'a': 0.23746210035161189, 'p': 0.66550874793480952}"
      ]
     },
     "execution_count": 59,
     "metadata": {},
     "output_type": "execute_result"
    }
   ],
   "source": [
    "frac_rev"
   ]
  },
  {
   "cell_type": "markdown",
   "metadata": {},
   "source": [
    "# model to predict number of buyers given prices"
   ]
  },
  {
   "cell_type": "code",
   "execution_count": 63,
   "metadata": {},
   "outputs": [
    {
     "data": {
      "text/html": [
       "<div>\n",
       "<style>\n",
       "    .dataframe thead tr:only-child th {\n",
       "        text-align: right;\n",
       "    }\n",
       "\n",
       "    .dataframe thead th {\n",
       "        text-align: left;\n",
       "    }\n",
       "\n",
       "    .dataframe tbody tr th {\n",
       "        vertical-align: top;\n",
       "    }\n",
       "</style>\n",
       "<table border=\"1\" class=\"dataframe\">\n",
       "  <thead>\n",
       "    <tr style=\"text-align: right;\">\n",
       "      <th></th>\n",
       "      <th>index</th>\n",
       "      <th>Bundle</th>\n",
       "      <th>Vinyl</th>\n",
       "      <th>CD</th>\n",
       "      <th>Tape</th>\n",
       "      <th>Digital</th>\n",
       "      <th>Unclassified</th>\n",
       "      <th>album_name</th>\n",
       "      <th>artist_name</th>\n",
       "      <th>location</th>\n",
       "      <th>tags</th>\n",
       "      <th>year</th>\n",
       "    </tr>\n",
       "  </thead>\n",
       "  <tbody>\n",
       "    <tr>\n",
       "      <th>0</th>\n",
       "      <td>0</td>\n",
       "      <td>None</td>\n",
       "      <td>None</td>\n",
       "      <td>None</td>\n",
       "      <td>None</td>\n",
       "      <td>$1</td>\n",
       "      <td>None</td>\n",
       "      <td>\"Condos\"-LiveatTheBellHouse</td>\n",
       "      <td>Welcome to Night Vale</td>\n",
       "      <td>New York</td>\n",
       "      <td>['podcasts']</td>\n",
       "      <td>2014.0</td>\n",
       "    </tr>\n",
       "    <tr>\n",
       "      <th>1</th>\n",
       "      <td>1</td>\n",
       "      <td>(</td>\n",
       "      <td>None</td>\n",
       "      <td>None</td>\n",
       "      <td>None</td>\n",
       "      <td>70.4</td>\n",
       "      <td>None</td>\n",
       "      <td>\"Emerson\"UnreleasedDemo</td>\n",
       "      <td>Wintergatan</td>\n",
       "      <td>Gothenburg</td>\n",
       "      <td>['pop']</td>\n",
       "      <td>2017.0</td>\n",
       "    </tr>\n",
       "    <tr>\n",
       "      <th>2</th>\n",
       "      <td>2</td>\n",
       "      <td>$60.30</td>\n",
       "      <td>None</td>\n",
       "      <td>None</td>\n",
       "      <td>None</td>\n",
       "      <td>$13</td>\n",
       "      <td>None</td>\n",
       "      <td>\"ILLESTRUSSIA\"</td>\n",
       "      <td>PLAYA x TIGHT EYEZ x MMP</td>\n",
       "      <td>Ukraine</td>\n",
       "      <td>['300', 'hip-hop/rap', 'instrumental hip-hop',...</td>\n",
       "      <td>2016.0</td>\n",
       "    </tr>\n",
       "    <tr>\n",
       "      <th>3</th>\n",
       "      <td>3</td>\n",
       "      <td>None</td>\n",
       "      <td>None</td>\n",
       "      <td>None</td>\n",
       "      <td>None</td>\n",
       "      <td>$1</td>\n",
       "      <td>None</td>\n",
       "      <td>\"TheDebate\"-LiveatRoulette</td>\n",
       "      <td>Welcome to Night Vale</td>\n",
       "      <td>New York</td>\n",
       "      <td>['podcasts', 'night vale']</td>\n",
       "      <td>2014.0</td>\n",
       "    </tr>\n",
       "    <tr>\n",
       "      <th>4</th>\n",
       "      <td>4</td>\n",
       "      <td>None</td>\n",
       "      <td>None</td>\n",
       "      <td>None</td>\n",
       "      <td>None</td>\n",
       "      <td>$5</td>\n",
       "      <td>None</td>\n",
       "      <td>\"TheInvestigators\"Live</td>\n",
       "      <td>Welcome to Night Vale</td>\n",
       "      <td>New York</td>\n",
       "      <td>['podcasts', 'cecil baldwin', 'comedy', 'night...</td>\n",
       "      <td>2016.0</td>\n",
       "    </tr>\n",
       "  </tbody>\n",
       "</table>\n",
       "</div>"
      ],
      "text/plain": [
       "   index   Bundle Vinyl    CD  Tape Digital Unclassified  \\\n",
       "0      0     None  None  None  None      $1         None   \n",
       "1      1        (  None  None  None    70.4         None   \n",
       "2      2  $60.30   None  None  None     $13         None   \n",
       "3      3     None  None  None  None      $1         None   \n",
       "4      4     None  None  None  None      $5         None   \n",
       "\n",
       "                    album_name               artist_name    location  \\\n",
       "0  \"Condos\"-LiveatTheBellHouse     Welcome to Night Vale    New York   \n",
       "1      \"Emerson\"UnreleasedDemo               Wintergatan  Gothenburg   \n",
       "2               \"ILLESTRUSSIA\"  PLAYA x TIGHT EYEZ x MMP     Ukraine   \n",
       "3   \"TheDebate\"-LiveatRoulette     Welcome to Night Vale    New York   \n",
       "4       \"TheInvestigators\"Live     Welcome to Night Vale    New York   \n",
       "\n",
       "                                                tags    year  \n",
       "0                                       ['podcasts']  2014.0  \n",
       "1                                            ['pop']  2017.0  \n",
       "2  ['300', 'hip-hop/rap', 'instrumental hip-hop',...  2016.0  \n",
       "3                         ['podcasts', 'night vale']  2014.0  \n",
       "4  ['podcasts', 'cecil baldwin', 'comedy', 'night...  2016.0  "
      ]
     },
     "execution_count": 63,
     "metadata": {},
     "output_type": "execute_result"
    }
   ],
   "source": [
    "album_feat.head(5)"
   ]
  },
  {
   "cell_type": "code",
   "execution_count": 85,
   "metadata": {},
   "outputs": [],
   "source": [
    "album_feat = album_info.copy()\n",
    "for col in album_feat:\n",
    "    album_feat.loc[album_feat[col].isnull(),col] = 0"
   ]
  },
  {
   "cell_type": "code",
   "execution_count": 75,
   "metadata": {},
   "outputs": [
    {
     "name": "stderr",
     "output_type": "stream",
     "text": [
      "100%|██████████| 5477/5477 [17:43<00:00,  4.76it/s]\n"
     ]
    }
   ],
   "source": [
    "#get number of buyers for each albums\n",
    "for album in tqdm.tqdm(album_feat.album_name.values):\n",
    "    num_buyers = album_supporters[album_supporters.album_name == album].shape[0]\n",
    "    album_feat.loc[album_feat.album_name == album,'num_buyers'] = num_buyers"
   ]
  },
  {
   "cell_type": "code",
   "execution_count": 87,
   "metadata": {},
   "outputs": [],
   "source": [
    "album_feat['num_buyers'] = num_buyers"
   ]
  },
  {
   "cell_type": "code",
   "execution_count": 88,
   "metadata": {},
   "outputs": [
    {
     "data": {
      "text/html": [
       "<div>\n",
       "<style>\n",
       "    .dataframe thead tr:only-child th {\n",
       "        text-align: right;\n",
       "    }\n",
       "\n",
       "    .dataframe thead th {\n",
       "        text-align: left;\n",
       "    }\n",
       "\n",
       "    .dataframe tbody tr th {\n",
       "        vertical-align: top;\n",
       "    }\n",
       "</style>\n",
       "<table border=\"1\" class=\"dataframe\">\n",
       "  <thead>\n",
       "    <tr style=\"text-align: right;\">\n",
       "      <th></th>\n",
       "      <th>index</th>\n",
       "      <th>Bundle</th>\n",
       "      <th>Vinyl</th>\n",
       "      <th>CD</th>\n",
       "      <th>Tape</th>\n",
       "      <th>Digital</th>\n",
       "      <th>Unclassified</th>\n",
       "      <th>album_name</th>\n",
       "      <th>artist_name</th>\n",
       "      <th>location</th>\n",
       "      <th>tags</th>\n",
       "      <th>year</th>\n",
       "      <th>num_buyers</th>\n",
       "    </tr>\n",
       "  </thead>\n",
       "  <tbody>\n",
       "    <tr>\n",
       "      <th>0</th>\n",
       "      <td>0</td>\n",
       "      <td>0</td>\n",
       "      <td>0</td>\n",
       "      <td>0</td>\n",
       "      <td>0</td>\n",
       "      <td>$1</td>\n",
       "      <td>0</td>\n",
       "      <td>\"Condos\"-LiveatTheBellHouse</td>\n",
       "      <td>Welcome to Night Vale</td>\n",
       "      <td>New York</td>\n",
       "      <td>['podcasts']</td>\n",
       "      <td>2014.0</td>\n",
       "      <td>13326.0</td>\n",
       "    </tr>\n",
       "    <tr>\n",
       "      <th>1</th>\n",
       "      <td>1</td>\n",
       "      <td>(</td>\n",
       "      <td>0</td>\n",
       "      <td>0</td>\n",
       "      <td>0</td>\n",
       "      <td>70.4</td>\n",
       "      <td>0</td>\n",
       "      <td>\"Emerson\"UnreleasedDemo</td>\n",
       "      <td>Wintergatan</td>\n",
       "      <td>Gothenburg</td>\n",
       "      <td>['pop']</td>\n",
       "      <td>2017.0</td>\n",
       "      <td>988.0</td>\n",
       "    </tr>\n",
       "    <tr>\n",
       "      <th>2</th>\n",
       "      <td>2</td>\n",
       "      <td>$60.30</td>\n",
       "      <td>0</td>\n",
       "      <td>0</td>\n",
       "      <td>0</td>\n",
       "      <td>$13</td>\n",
       "      <td>0</td>\n",
       "      <td>\"ILLESTRUSSIA\"</td>\n",
       "      <td>PLAYA x TIGHT EYEZ x MMP</td>\n",
       "      <td>Ukraine</td>\n",
       "      <td>['300', 'hip-hop/rap', 'instrumental hip-hop',...</td>\n",
       "      <td>2016.0</td>\n",
       "      <td>140.0</td>\n",
       "    </tr>\n",
       "    <tr>\n",
       "      <th>3</th>\n",
       "      <td>3</td>\n",
       "      <td>0</td>\n",
       "      <td>0</td>\n",
       "      <td>0</td>\n",
       "      <td>0</td>\n",
       "      <td>$1</td>\n",
       "      <td>0</td>\n",
       "      <td>\"TheDebate\"-LiveatRoulette</td>\n",
       "      <td>Welcome to Night Vale</td>\n",
       "      <td>New York</td>\n",
       "      <td>['podcasts', 'night vale']</td>\n",
       "      <td>2014.0</td>\n",
       "      <td>1803.0</td>\n",
       "    </tr>\n",
       "    <tr>\n",
       "      <th>4</th>\n",
       "      <td>4</td>\n",
       "      <td>0</td>\n",
       "      <td>0</td>\n",
       "      <td>0</td>\n",
       "      <td>0</td>\n",
       "      <td>$5</td>\n",
       "      <td>0</td>\n",
       "      <td>\"TheInvestigators\"Live</td>\n",
       "      <td>Welcome to Night Vale</td>\n",
       "      <td>New York</td>\n",
       "      <td>['podcasts', 'cecil baldwin', 'comedy', 'night...</td>\n",
       "      <td>2016.0</td>\n",
       "      <td>9981.0</td>\n",
       "    </tr>\n",
       "  </tbody>\n",
       "</table>\n",
       "</div>"
      ],
      "text/plain": [
       "   index   Bundle Vinyl CD Tape Digital Unclassified  \\\n",
       "0      0        0     0  0    0      $1            0   \n",
       "1      1        (     0  0    0    70.4            0   \n",
       "2      2  $60.30      0  0    0     $13            0   \n",
       "3      3        0     0  0    0      $1            0   \n",
       "4      4        0     0  0    0      $5            0   \n",
       "\n",
       "                    album_name               artist_name    location  \\\n",
       "0  \"Condos\"-LiveatTheBellHouse     Welcome to Night Vale    New York   \n",
       "1      \"Emerson\"UnreleasedDemo               Wintergatan  Gothenburg   \n",
       "2               \"ILLESTRUSSIA\"  PLAYA x TIGHT EYEZ x MMP     Ukraine   \n",
       "3   \"TheDebate\"-LiveatRoulette     Welcome to Night Vale    New York   \n",
       "4       \"TheInvestigators\"Live     Welcome to Night Vale    New York   \n",
       "\n",
       "                                                tags    year  num_buyers  \n",
       "0                                       ['podcasts']  2014.0     13326.0  \n",
       "1                                            ['pop']  2017.0       988.0  \n",
       "2  ['300', 'hip-hop/rap', 'instrumental hip-hop',...  2016.0       140.0  \n",
       "3                         ['podcasts', 'night vale']  2014.0      1803.0  \n",
       "4  ['podcasts', 'cecil baldwin', 'comedy', 'night...  2016.0      9981.0  "
      ]
     },
     "execution_count": 88,
     "metadata": {},
     "output_type": "execute_result"
    }
   ],
   "source": [
    "album_feat.head(5)"
   ]
  },
  {
   "cell_type": "code",
   "execution_count": 94,
   "metadata": {},
   "outputs": [],
   "source": [
    "album_feat2 = album_feat.copy()\n",
    "for col in ['Bundle','Vinyl','CD','Tape','Digital','Unclassified']:\n",
    "    items = album_feat[col].values\n",
    "    prices = []\n",
    "    for item in items:\n",
    "        if not item == 0:\n",
    "            if ((item[0] == '$') or (item[0] == '£') or (item[0] == '€')):\n",
    "                price = float(item[1:])\n",
    "\n",
    "            else:\n",
    "                try:\n",
    "                    price = (float(item))\n",
    "                except:\n",
    "                    price = None\n",
    "        else:\n",
    "            price = 0\n",
    "        \n",
    "        prices.append(price)\n",
    "        \n",
    "    album_feat2.loc[:,col] = prices"
   ]
  },
  {
   "cell_type": "code",
   "execution_count": 95,
   "metadata": {
    "scrolled": false
   },
   "outputs": [
    {
     "data": {
      "text/html": [
       "<div>\n",
       "<style>\n",
       "    .dataframe thead tr:only-child th {\n",
       "        text-align: right;\n",
       "    }\n",
       "\n",
       "    .dataframe thead th {\n",
       "        text-align: left;\n",
       "    }\n",
       "\n",
       "    .dataframe tbody tr th {\n",
       "        vertical-align: top;\n",
       "    }\n",
       "</style>\n",
       "<table border=\"1\" class=\"dataframe\">\n",
       "  <thead>\n",
       "    <tr style=\"text-align: right;\">\n",
       "      <th></th>\n",
       "      <th>index</th>\n",
       "      <th>Bundle</th>\n",
       "      <th>Vinyl</th>\n",
       "      <th>CD</th>\n",
       "      <th>Tape</th>\n",
       "      <th>Digital</th>\n",
       "      <th>Unclassified</th>\n",
       "      <th>album_name</th>\n",
       "      <th>artist_name</th>\n",
       "      <th>location</th>\n",
       "      <th>tags</th>\n",
       "      <th>year</th>\n",
       "      <th>num_buyers</th>\n",
       "    </tr>\n",
       "  </thead>\n",
       "  <tbody>\n",
       "    <tr>\n",
       "      <th>0</th>\n",
       "      <td>0</td>\n",
       "      <td>0.0</td>\n",
       "      <td>0.0</td>\n",
       "      <td>0.0</td>\n",
       "      <td>0.0</td>\n",
       "      <td>1.0</td>\n",
       "      <td>0.0</td>\n",
       "      <td>\"Condos\"-LiveatTheBellHouse</td>\n",
       "      <td>Welcome to Night Vale</td>\n",
       "      <td>New York</td>\n",
       "      <td>['podcasts']</td>\n",
       "      <td>2014.0</td>\n",
       "      <td>13326.0</td>\n",
       "    </tr>\n",
       "    <tr>\n",
       "      <th>1</th>\n",
       "      <td>1</td>\n",
       "      <td>NaN</td>\n",
       "      <td>0.0</td>\n",
       "      <td>0.0</td>\n",
       "      <td>0.0</td>\n",
       "      <td>70.4</td>\n",
       "      <td>0.0</td>\n",
       "      <td>\"Emerson\"UnreleasedDemo</td>\n",
       "      <td>Wintergatan</td>\n",
       "      <td>Gothenburg</td>\n",
       "      <td>['pop']</td>\n",
       "      <td>2017.0</td>\n",
       "      <td>988.0</td>\n",
       "    </tr>\n",
       "    <tr>\n",
       "      <th>2</th>\n",
       "      <td>2</td>\n",
       "      <td>60.3</td>\n",
       "      <td>0.0</td>\n",
       "      <td>0.0</td>\n",
       "      <td>0.0</td>\n",
       "      <td>13.0</td>\n",
       "      <td>0.0</td>\n",
       "      <td>\"ILLESTRUSSIA\"</td>\n",
       "      <td>PLAYA x TIGHT EYEZ x MMP</td>\n",
       "      <td>Ukraine</td>\n",
       "      <td>['300', 'hip-hop/rap', 'instrumental hip-hop',...</td>\n",
       "      <td>2016.0</td>\n",
       "      <td>140.0</td>\n",
       "    </tr>\n",
       "    <tr>\n",
       "      <th>3</th>\n",
       "      <td>3</td>\n",
       "      <td>0.0</td>\n",
       "      <td>0.0</td>\n",
       "      <td>0.0</td>\n",
       "      <td>0.0</td>\n",
       "      <td>1.0</td>\n",
       "      <td>0.0</td>\n",
       "      <td>\"TheDebate\"-LiveatRoulette</td>\n",
       "      <td>Welcome to Night Vale</td>\n",
       "      <td>New York</td>\n",
       "      <td>['podcasts', 'night vale']</td>\n",
       "      <td>2014.0</td>\n",
       "      <td>1803.0</td>\n",
       "    </tr>\n",
       "    <tr>\n",
       "      <th>4</th>\n",
       "      <td>4</td>\n",
       "      <td>0.0</td>\n",
       "      <td>0.0</td>\n",
       "      <td>0.0</td>\n",
       "      <td>0.0</td>\n",
       "      <td>5.0</td>\n",
       "      <td>0.0</td>\n",
       "      <td>\"TheInvestigators\"Live</td>\n",
       "      <td>Welcome to Night Vale</td>\n",
       "      <td>New York</td>\n",
       "      <td>['podcasts', 'cecil baldwin', 'comedy', 'night...</td>\n",
       "      <td>2016.0</td>\n",
       "      <td>9981.0</td>\n",
       "    </tr>\n",
       "    <tr>\n",
       "      <th>5</th>\n",
       "      <td>5</td>\n",
       "      <td>0.0</td>\n",
       "      <td>0.0</td>\n",
       "      <td>0.0</td>\n",
       "      <td>0.0</td>\n",
       "      <td>1.0</td>\n",
       "      <td>0.0</td>\n",
       "      <td>\"TheLibrarian\"-LiveatSkirball</td>\n",
       "      <td>Welcome to Night Vale</td>\n",
       "      <td>New York</td>\n",
       "      <td>['night vale', 'podcasts', 'welcome to night v...</td>\n",
       "      <td>2015.0</td>\n",
       "      <td>2955.0</td>\n",
       "    </tr>\n",
       "    <tr>\n",
       "      <th>6</th>\n",
       "      <td>6</td>\n",
       "      <td>0.0</td>\n",
       "      <td>0.0</td>\n",
       "      <td>0.0</td>\n",
       "      <td>0.0</td>\n",
       "      <td>7.0</td>\n",
       "      <td>0.0</td>\n",
       "      <td>\"Thisiswhatyoulearned.\"</td>\n",
       "      <td>People Like You</td>\n",
       "      <td>Boston</td>\n",
       "      <td>['alternative', 'broken world media', 'drum &amp; ...</td>\n",
       "      <td>2014.0</td>\n",
       "      <td>145.0</td>\n",
       "    </tr>\n",
       "    <tr>\n",
       "      <th>7</th>\n",
       "      <td>7</td>\n",
       "      <td>0.0</td>\n",
       "      <td>0.0</td>\n",
       "      <td>0.0</td>\n",
       "      <td>0.0</td>\n",
       "      <td>0.0</td>\n",
       "      <td>0.0</td>\n",
       "      <td>#BASEDSHARK</td>\n",
       "      <td>Mayhem</td>\n",
       "      <td>Hamilton</td>\n",
       "      <td>['electronic']</td>\n",
       "      <td>2011.0</td>\n",
       "      <td>2157.0</td>\n",
       "    </tr>\n",
       "    <tr>\n",
       "      <th>8</th>\n",
       "      <td>8</td>\n",
       "      <td>0.0</td>\n",
       "      <td>0.0</td>\n",
       "      <td>0.0</td>\n",
       "      <td>0.0</td>\n",
       "      <td>10.0</td>\n",
       "      <td>NaN</td>\n",
       "      <td>#extrasinamovie|1.20.16|Raleigh,NC|TheRitz</td>\n",
       "      <td>Papadosio</td>\n",
       "      <td>Asheville</td>\n",
       "      <td>['rock', 'alternative', 'electronic', 'improv'...</td>\n",
       "      <td>2016.0</td>\n",
       "      <td>878.0</td>\n",
       "    </tr>\n",
       "    <tr>\n",
       "      <th>9</th>\n",
       "      <td>9</td>\n",
       "      <td>0.0</td>\n",
       "      <td>0.0</td>\n",
       "      <td>0.0</td>\n",
       "      <td>0.0</td>\n",
       "      <td>10.0</td>\n",
       "      <td>NaN</td>\n",
       "      <td>#extrasinamovie|1.21.16|Nashville,TN</td>\n",
       "      <td>Papadosio</td>\n",
       "      <td>Asheville</td>\n",
       "      <td>['rock', 'alternative', 'electronic', 'improv'...</td>\n",
       "      <td>2016.0</td>\n",
       "      <td>880.0</td>\n",
       "    </tr>\n",
       "  </tbody>\n",
       "</table>\n",
       "</div>"
      ],
      "text/plain": [
       "   index  Bundle  Vinyl   CD  Tape  Digital  Unclassified  \\\n",
       "0      0     0.0    0.0  0.0   0.0      1.0           0.0   \n",
       "1      1     NaN    0.0  0.0   0.0     70.4           0.0   \n",
       "2      2    60.3    0.0  0.0   0.0     13.0           0.0   \n",
       "3      3     0.0    0.0  0.0   0.0      1.0           0.0   \n",
       "4      4     0.0    0.0  0.0   0.0      5.0           0.0   \n",
       "5      5     0.0    0.0  0.0   0.0      1.0           0.0   \n",
       "6      6     0.0    0.0  0.0   0.0      7.0           0.0   \n",
       "7      7     0.0    0.0  0.0   0.0      0.0           0.0   \n",
       "8      8     0.0    0.0  0.0   0.0     10.0           NaN   \n",
       "9      9     0.0    0.0  0.0   0.0     10.0           NaN   \n",
       "\n",
       "                                   album_name               artist_name  \\\n",
       "0                 \"Condos\"-LiveatTheBellHouse     Welcome to Night Vale   \n",
       "1                     \"Emerson\"UnreleasedDemo               Wintergatan   \n",
       "2                              \"ILLESTRUSSIA\"  PLAYA x TIGHT EYEZ x MMP   \n",
       "3                  \"TheDebate\"-LiveatRoulette     Welcome to Night Vale   \n",
       "4                      \"TheInvestigators\"Live     Welcome to Night Vale   \n",
       "5               \"TheLibrarian\"-LiveatSkirball     Welcome to Night Vale   \n",
       "6                     \"Thisiswhatyoulearned.\"           People Like You   \n",
       "7                                 #BASEDSHARK                    Mayhem   \n",
       "8  #extrasinamovie|1.20.16|Raleigh,NC|TheRitz                 Papadosio   \n",
       "9        #extrasinamovie|1.21.16|Nashville,TN                 Papadosio   \n",
       "\n",
       "     location                                               tags    year  \\\n",
       "0    New York                                       ['podcasts']  2014.0   \n",
       "1  Gothenburg                                            ['pop']  2017.0   \n",
       "2     Ukraine  ['300', 'hip-hop/rap', 'instrumental hip-hop',...  2016.0   \n",
       "3    New York                         ['podcasts', 'night vale']  2014.0   \n",
       "4    New York  ['podcasts', 'cecil baldwin', 'comedy', 'night...  2016.0   \n",
       "5    New York  ['night vale', 'podcasts', 'welcome to night v...  2015.0   \n",
       "6      Boston  ['alternative', 'broken world media', 'drum & ...  2014.0   \n",
       "7    Hamilton                                     ['electronic']  2011.0   \n",
       "8   Asheville  ['rock', 'alternative', 'electronic', 'improv'...  2016.0   \n",
       "9   Asheville  ['rock', 'alternative', 'electronic', 'improv'...  2016.0   \n",
       "\n",
       "   num_buyers  \n",
       "0     13326.0  \n",
       "1       988.0  \n",
       "2       140.0  \n",
       "3      1803.0  \n",
       "4      9981.0  \n",
       "5      2955.0  \n",
       "6       145.0  \n",
       "7      2157.0  \n",
       "8       878.0  \n",
       "9       880.0  "
      ]
     },
     "execution_count": 95,
     "metadata": {},
     "output_type": "execute_result"
    }
   ],
   "source": [
    "album_feat2.head(10)"
   ]
  },
  {
   "cell_type": "code",
   "execution_count": 119,
   "metadata": {},
   "outputs": [
    {
     "name": "stderr",
     "output_type": "stream",
     "text": [
      "5477it [00:29, 188.72it/s]\n"
     ]
    }
   ],
   "source": [
    "album_feat3 = pd.DataFrame()\n",
    "for row in tqdm.tqdm(album_feat2.iterrows()):\n",
    "    if row[1][['Bundle','Vinyl','Digital','Tape','CD']].sum() > 0:\n",
    "        album_feat3 = album_feat3.append(row[1])"
   ]
  },
  {
   "cell_type": "code",
   "execution_count": 120,
   "metadata": {},
   "outputs": [
    {
     "data": {
      "text/plain": [
       "(4675, 13)"
      ]
     },
     "execution_count": 120,
     "metadata": {},
     "output_type": "execute_result"
    }
   ],
   "source": [
    "album_feat3.shape"
   ]
  },
  {
   "cell_type": "code",
   "execution_count": 124,
   "metadata": {},
   "outputs": [],
   "source": [
    "album_feat3 = album_feat3.fillna(value=0)"
   ]
  },
  {
   "cell_type": "code",
   "execution_count": 179,
   "metadata": {},
   "outputs": [],
   "source": [
    "x = album_feat3[['Bundle','Vinyl','Digital','Tape','CD']].values\n",
    "y = album_feat3['num_buyers'].values"
   ]
  },
  {
   "cell_type": "code",
   "execution_count": 183,
   "metadata": {
    "collapsed": true
   },
   "outputs": [],
   "source": [
    "#split into training and testing\n",
    "n_trials = x.shape[0]\n",
    "shuf_inds = np.random.permutation(n_trials)\n",
    "split_ind = int(n_trials*0.8)\n",
    "\n",
    "x_train = x[shuf_inds[:split_ind],:]\n",
    "y_train = y[shuf_inds[:split_ind]]\n",
    "\n",
    "x_test = x[shuf_inds[split_ind:],:]\n",
    "y_test = y[shuf_inds[split_ind:]]"
   ]
  },
  {
   "cell_type": "code",
   "execution_count": 184,
   "metadata": {},
   "outputs": [
    {
     "data": {
      "text/plain": [
       "0.015936164978230916"
      ]
     },
     "execution_count": 184,
     "metadata": {},
     "output_type": "execute_result"
    }
   ],
   "source": [
    "linreg = linear_model.LinearRegression(normalize=True)\n",
    "\n",
    "linreg.fit(x_train,y_train)\n",
    "linreg.score(x_test,y_test)"
   ]
  },
  {
   "cell_type": "markdown",
   "metadata": {},
   "source": [
    "That is very bad. Let's try a decision tree before I start doing any feature engineering"
   ]
  },
  {
   "cell_type": "code",
   "execution_count": 185,
   "metadata": {},
   "outputs": [
    {
     "data": {
      "text/plain": [
       "0.33788336562863208"
      ]
     },
     "execution_count": 185,
     "metadata": {},
     "output_type": "execute_result"
    }
   ],
   "source": [
    "tree = DecisionTreeRegressor()\n",
    "tree.fit(x_train,y_train)\n",
    "tree.score(x_test,y_test)"
   ]
  },
  {
   "cell_type": "markdown",
   "metadata": {},
   "source": [
    "already a considerable improvement. but it's also pretty sensitive to the specific training/testing set (from just manually trying it a few different times). \n",
    "\n",
    "a couple different ways forward:\n",
    "\n",
    "1. add in the tags as features. probably reduce dimensions using PCAs.\n",
    "    - then you would use the optimal prices as input features and determine the predicted number of buys\n",
    "    - downside: it could be that the tags dominate the feature importance, and the optimal prices don't make much of a difference? but if that's true ... it's true ... \n",
    "    \n",
    "2. get all the tags. do PCA. do clustering on the PCs. look for ~10 clusters or something. now fit separate prediction models for each cluster."
   ]
  },
  {
   "cell_type": "markdown",
   "metadata": {},
   "source": [
    "Okay - plan:\n",
    "\n",
    "1. get all the tags. one hot encode them. PCA --> reduce dimensions. use to predict # sold. see how it does"
   ]
  },
  {
   "cell_type": "code",
   "execution_count": 206,
   "metadata": {},
   "outputs": [
    {
     "name": "stderr",
     "output_type": "stream",
     "text": [
      "4675it [00:00, 6463.77it/s]\n"
     ]
    }
   ],
   "source": [
    "tags = []\n",
    "for row in tqdm.tqdm(album_feat3.iterrows()):\n",
    "    tag_str = row[1].tags\n",
    "    tag_str = tag_str.replace('[','')\n",
    "    tag_str = tag_str.replace(']','')\n",
    "    tag_str = tag_str.replace(\"'\",'')\n",
    "    tag_str = tag_str.replace(\" \",'')\n",
    "    for tag in tag_str.split(sep=','):\n",
    "        tags.append(tag)"
   ]
  },
  {
   "cell_type": "code",
   "execution_count": 212,
   "metadata": {},
   "outputs": [],
   "source": [
    "tags = np.unique(tags)\n",
    "\n"
   ]
  }
 ],
 "metadata": {
  "kernelspec": {
   "display_name": "Python 3",
   "language": "python",
   "name": "python3"
  },
  "language_info": {
   "codemirror_mode": {
    "name": "ipython",
    "version": 3
   },
   "file_extension": ".py",
   "mimetype": "text/x-python",
   "name": "python",
   "nbconvert_exporter": "python",
   "pygments_lexer": "ipython3",
   "version": "3.6.1"
  }
 },
 "nbformat": 4,
 "nbformat_minor": 2
}
