{
 "cells": [
  {
   "cell_type": "markdown",
   "metadata": {},
   "source": [
    "# matrix factorization on artists (or albums) and supporters"
   ]
  },
  {
   "cell_type": "markdown",
   "metadata": {},
   "source": [
    "## 1. read in albums_supporters table\n",
    "## 2. construct similarity matrix (sparse I think!)\n",
    "## 3. try matrix similarity to return similar artists or albums"
   ]
  },
  {
   "cell_type": "code",
   "execution_count": 29,
   "metadata": {},
   "outputs": [],
   "source": [
    "import os\n",
    "import pandas as pd\n",
    "import sqlalchemy\n",
    "from sqlalchemy import create_engine\n",
    "from sqlalchemy_utils import database_exists, create_database\n",
    "from scipy.sparse import coo_matrix\n",
    "import scipy\n",
    "import psycopg2\n",
    "import tqdm\n",
    "import numpy as np"
   ]
  },
  {
   "cell_type": "markdown",
   "metadata": {},
   "source": [
    "## connect to database"
   ]
  },
  {
   "cell_type": "code",
   "execution_count": 2,
   "metadata": {
    "collapsed": true
   },
   "outputs": [],
   "source": [
    "#In Python: Define a database name (we're using a dataset on births, so I call it \n",
    "# birth_db), and your username for your computer (CHANGE IT BELOW). \n",
    "dbname = 'music_db'\n",
    "username = 'shayneufeld'\n",
    "\n",
    "# connect:\n",
    "con = None\n",
    "con = psycopg2.connect(database = dbname, user = username)"
   ]
  },
  {
   "cell_type": "markdown",
   "metadata": {},
   "source": [
    "## read in album_supporters table"
   ]
  },
  {
   "cell_type": "code",
   "execution_count": 3,
   "metadata": {
    "collapsed": true
   },
   "outputs": [],
   "source": [
    "# query:\n",
    "sql_query = \"\"\"\n",
    "SELECT * FROM album_supporters;\n",
    "\"\"\"\n",
    "album_supporters = pd.read_sql_query(sql_query,con)"
   ]
  },
  {
   "cell_type": "markdown",
   "metadata": {},
   "source": [
    "## read in album_info tabl"
   ]
  },
  {
   "cell_type": "code",
   "execution_count": 73,
   "metadata": {
    "collapsed": true
   },
   "outputs": [],
   "source": [
    "# query:\n",
    "sql_query = \"\"\"\n",
    "SELECT * FROM album_info;\n",
    "\"\"\"\n",
    "album_info = pd.read_sql_query(sql_query,con)"
   ]
  },
  {
   "cell_type": "code",
   "execution_count": 81,
   "metadata": {},
   "outputs": [
    {
     "data": {
      "text/html": [
       "<div>\n",
       "<style>\n",
       "    .dataframe thead tr:only-child th {\n",
       "        text-align: right;\n",
       "    }\n",
       "\n",
       "    .dataframe thead th {\n",
       "        text-align: left;\n",
       "    }\n",
       "\n",
       "    .dataframe tbody tr th {\n",
       "        vertical-align: top;\n",
       "    }\n",
       "</style>\n",
       "<table border=\"1\" class=\"dataframe\">\n",
       "  <thead>\n",
       "    <tr style=\"text-align: right;\">\n",
       "      <th></th>\n",
       "      <th>index</th>\n",
       "      <th>Bundle</th>\n",
       "      <th>Vinyl</th>\n",
       "      <th>CD</th>\n",
       "      <th>Tape</th>\n",
       "      <th>Digital</th>\n",
       "      <th>Unclassified</th>\n",
       "      <th>album_name</th>\n",
       "      <th>artist_name</th>\n",
       "      <th>location</th>\n",
       "      <th>tags</th>\n",
       "      <th>year</th>\n",
       "    </tr>\n",
       "  </thead>\n",
       "  <tbody>\n",
       "    <tr>\n",
       "      <th>0</th>\n",
       "      <td>0</td>\n",
       "      <td>None</td>\n",
       "      <td>None</td>\n",
       "      <td>None</td>\n",
       "      <td>None</td>\n",
       "      <td>$1</td>\n",
       "      <td>None</td>\n",
       "      <td>\"Condos\"-LiveatTheBellHouse</td>\n",
       "      <td>Welcome to Night Vale</td>\n",
       "      <td>New York</td>\n",
       "      <td>['podcasts']</td>\n",
       "      <td>2014.0</td>\n",
       "    </tr>\n",
       "  </tbody>\n",
       "</table>\n",
       "</div>"
      ],
      "text/plain": [
       "   index Bundle Vinyl    CD  Tape Digital Unclassified  \\\n",
       "0      0   None  None  None  None      $1         None   \n",
       "\n",
       "                    album_name            artist_name  location          tags  \\\n",
       "0  \"Condos\"-LiveatTheBellHouse  Welcome to Night Vale  New York  ['podcasts']   \n",
       "\n",
       "     year  \n",
       "0  2014.0  "
      ]
     },
     "execution_count": 81,
     "metadata": {},
     "output_type": "execute_result"
    }
   ],
   "source": [
    "album_info[album_info.artist_name == artist].head(1)"
   ]
  },
  {
   "cell_type": "code",
   "execution_count": 82,
   "metadata": {},
   "outputs": [],
   "source": [
    "# create a table for each artist, containing number of albums & tags\n",
    "artist_table = pd.DataFrame()\n",
    "for artist in album_info.artist_name.unique():\n",
    "    artist_record = album_info[album_info.artist_name == artist]\n",
    "    d = {'artist_name':artist,'tags':artist_record.tags.values[0],'num_albums':artist_record.shape[0]}\n",
    "    artist_table = artist_table.append(pd.DataFrame(data=d,index=[0]))"
   ]
  },
  {
   "cell_type": "markdown",
   "metadata": {},
   "source": [
    "## summary of supporters table"
   ]
  },
  {
   "cell_type": "code",
   "execution_count": 9,
   "metadata": {},
   "outputs": [
    {
     "name": "stdout",
     "output_type": "stream",
     "text": [
      "Number of artists: 943\n",
      "Number of albums: 2995\n",
      "Number of supporters: 157024\n",
      "Number of sales: 796367\n"
     ]
    }
   ],
   "source": [
    "num_artists = album_supporters.artist_name.unique().shape[0]\n",
    "num_albums = album_supporters.album_url.unique().shape[0]\n",
    "num_supporters = album_supporters.contrib_url.unique().shape[0]\n",
    "num_sales = album_supporters.shape[0]\n",
    "\n",
    "print('Number of artists: %.0f' % num_artists)\n",
    "print('Number of albums: %.0f' % num_albums)\n",
    "print('Number of supporters: %.0f' % num_supporters)\n",
    "print('Number of sales: %.0f' % num_sales)"
   ]
  },
  {
   "cell_type": "markdown",
   "metadata": {},
   "source": [
    "# create sparse matrix\n",
    "\n",
    "from: http://www.benfrederickson.com/matrix-factorization/\n",
    "```\n",
    "# read in triples of user/artist/playcount from the input dataset\n",
    "data = pandas.read_table(\"usersha1-artmbid-artname-plays.tsv\", \n",
    "                         usecols=[0, 2, 3], \n",
    "                         names=['user', 'artist', 'plays'])\n",
    "\n",
    "# map each artist and user to a unique numeric value\n",
    "data['user'] = data['user'].astype(\"category\")\n",
    "data['artist'] = data['artist'].astype(\"category\")\n",
    "\n",
    "# create a sparse matrix of all the artist/user/play triples\n",
    "plays = coo_matrix((data['plays'].astype(float), \n",
    "                   (data['artist'].cat.codes, \n",
    "                    data['user'].cat.codes)))\n",
    "```"
   ]
  },
  {
   "cell_type": "code",
   "execution_count": 19,
   "metadata": {
    "collapsed": true
   },
   "outputs": [],
   "source": [
    "artist_matrix = album_supporters[['artist_name', 'contrib_url']].copy()"
   ]
  },
  {
   "cell_type": "code",
   "execution_count": 22,
   "metadata": {},
   "outputs": [],
   "source": [
    "artist_matrix['artist_name'] = artist_matrix['artist_name'].astype('category')\n",
    "artist_matrix['contrib_url'] = artist_matrix['contrib_url'].astype('category')\n",
    "artist_matrix['buys'] = 1"
   ]
  },
  {
   "cell_type": "code",
   "execution_count": 26,
   "metadata": {},
   "outputs": [],
   "source": [
    "buys = coo_matrix((artist_matrix['buys'].astype(float),\n",
    "                  (artist_matrix['artist_name'].cat.codes,\n",
    "                  artist_matrix['contrib_url'].cat.codes)))"
   ]
  },
  {
   "cell_type": "code",
   "execution_count": 40,
   "metadata": {
    "collapsed": true
   },
   "outputs": [],
   "source": [
    "def bm25_weight(X, K1=100, B=0.8):\n",
    "    \"\"\" Weighs each row of a sparse matrix X  by BM25 weighting \"\"\"\n",
    "    # calculate idf per term (user)\n",
    "    X = coo_matrix(X)\n",
    "\n",
    "    N = float(X.shape[0])\n",
    "    idf = np.log(N / (1 + np.bincount(X.col)))\n",
    "\n",
    "    # calculate length_norm per document (artist)\n",
    "    row_sums = np.ravel(X.sum(axis=1))\n",
    "    average_length = row_sums.mean()\n",
    "    length_norm = (1.0 - B) + B * row_sums / average_length\n",
    "\n",
    "    # weight matrix rows by bm25\n",
    "    X.data = X.data * (K1 + 1.0) / (K1 * length_norm[X.row] + X.data) * idf[X.col]\n",
    "    return X"
   ]
  },
  {
   "cell_type": "code",
   "execution_count": 42,
   "metadata": {
    "collapsed": true
   },
   "outputs": [],
   "source": [
    "from scipy.sparse import linalg"
   ]
  },
  {
   "cell_type": "code",
   "execution_count": 43,
   "metadata": {},
   "outputs": [],
   "source": [
    "artist_factors, _, user_factors = linalg.svds(bm25_weight(buys), 50)"
   ]
  },
  {
   "cell_type": "code",
   "execution_count": 104,
   "metadata": {
    "collapsed": true
   },
   "outputs": [],
   "source": [
    "class TopRelated(object):\n",
    "    def __init__(self, artist_factors):\n",
    "        # fully normalize artist_factors, so can compare with only the dot product\n",
    "        norms = np.linalg.norm(artist_factors, axis=-1)\n",
    "        self.factors = artist_factors / norms[:, np.newaxis]\n",
    "\n",
    "    def get_related(self, artistid, N=20):\n",
    "        scores = self.factors.dot(self.factors[artistid])\n",
    "        best = np.argpartition(scores, -N)[-N:]\n",
    "        return sorted(zip(best, scores[best]), key=lambda x: -x[1])"
   ]
  },
  {
   "cell_type": "code",
   "execution_count": 105,
   "metadata": {},
   "outputs": [],
   "source": [
    "top20 = TopRelated(artist_factors)\n",
    "result = top20.get_related(678)\n",
    "related_artists = []\n",
    "for r in result:\n",
    "    artist_name = artist_key[r[0]]\n",
    "    tags = artist_table[artist_table.artist_name==artist_name].tags.values\n",
    "    related_artists.append(artist_name)\n",
    "    #print('%s : %.02f : %s\\n\\n' %(artist_name,r[1],tags))\n",
    "    \n",
    "    "
   ]
  },
  {
   "cell_type": "code",
   "execution_count": 56,
   "metadata": {},
   "outputs": [],
   "source": [
    "artist_key = dict( enumerate(artist_matrix.artist_name.cat.categories))"
   ]
  },
  {
   "cell_type": "markdown",
   "metadata": {},
   "source": [
    "## Implicit Alternating Least Squares\n",
    "\n",
    "haven't gotten this to work yet (can't figure out what the 'factors' in put in alternating least squares is supposed to be. Contacted the author of the post. For now, I'll settle with LSA and move on."
   ]
  },
  {
   "cell_type": "code",
   "execution_count": 98,
   "metadata": {
    "collapsed": true
   },
   "outputs": [],
   "source": [
    "def alternating_least_squares(Cui, factors=50, regularization=0.8, iterations=20):\n",
    "    users, items = Cui.shape\n",
    "\n",
    "    X = np.random.rand(users, factors) * 0.01\n",
    "    Y = np.random.rand(items, factors) * 0.01\n",
    "\n",
    "    Ciu = Cui.T.tocsr()\n",
    "    for iteration in range(iterations):\n",
    "        least_squares(Cui, X, Y, regularization)\n",
    "        least_squares(Ciu, Y, X, regularization)\n",
    "\n",
    "    return X, Y\n",
    "\n",
    "def least_squares(Cui, X, Y, regularization):\n",
    "    users, factors = X.shape\n",
    "    YtY = Y.T.dot(Y)\n",
    "\n",
    "    for u in range(users):\n",
    "        # accumulate YtCuY + regularization * I in A\n",
    "        A = YtY + regularization * np.eye(factors)\n",
    "\n",
    "        # accumulate YtCuPu in b\n",
    "        b = np.zeros(factors)\n",
    "\n",
    "        for i, confidence in nonzeros(Cui, u):\n",
    "            factor = Y[i]\n",
    "            A += (confidence - 1) * np.outer(factor, factor)\n",
    "            b += confidence * factor\n",
    "\n",
    "        # Xu = (YtCuY + regularization * I)^-1 (YtCuPu)\n",
    "        X[u] = np.linalg.solve(A, b)"
   ]
  },
  {
   "cell_type": "code",
   "execution_count": 99,
   "metadata": {
    "scrolled": true
   },
   "outputs": [
    {
     "ename": "TypeError",
     "evalue": "nonzero() takes 1 positional argument but 2 were given",
     "output_type": "error",
     "traceback": [
      "\u001b[0;31m---------------------------------------------------------------------------\u001b[0m",
      "\u001b[0;31mTypeError\u001b[0m                                 Traceback (most recent call last)",
      "\u001b[0;32m<ipython-input-99-47e47d3c32da>\u001b[0m in \u001b[0;36m<module>\u001b[0;34m()\u001b[0m\n\u001b[0;32m----> 1\u001b[0;31m \u001b[0martist_factors\u001b[0m\u001b[0;34m,\u001b[0m \u001b[0muser_factors\u001b[0m \u001b[0;34m=\u001b[0m \u001b[0malternating_least_squares\u001b[0m\u001b[0;34m(\u001b[0m\u001b[0mbm25_weight\u001b[0m\u001b[0;34m(\u001b[0m\u001b[0mbuys\u001b[0m\u001b[0;34m)\u001b[0m\u001b[0;34m)\u001b[0m\u001b[0;34m\u001b[0m\u001b[0m\n\u001b[0m",
      "\u001b[0;32m<ipython-input-98-f25609865a24>\u001b[0m in \u001b[0;36malternating_least_squares\u001b[0;34m(Cui, factors, regularization, iterations)\u001b[0m\n\u001b[1;32m      7\u001b[0m     \u001b[0mCiu\u001b[0m \u001b[0;34m=\u001b[0m \u001b[0mCui\u001b[0m\u001b[0;34m.\u001b[0m\u001b[0mT\u001b[0m\u001b[0;34m.\u001b[0m\u001b[0mtocsr\u001b[0m\u001b[0;34m(\u001b[0m\u001b[0;34m)\u001b[0m\u001b[0;34m\u001b[0m\u001b[0m\n\u001b[1;32m      8\u001b[0m     \u001b[0;32mfor\u001b[0m \u001b[0miteration\u001b[0m \u001b[0;32min\u001b[0m \u001b[0mrange\u001b[0m\u001b[0;34m(\u001b[0m\u001b[0miterations\u001b[0m\u001b[0;34m)\u001b[0m\u001b[0;34m:\u001b[0m\u001b[0;34m\u001b[0m\u001b[0m\n\u001b[0;32m----> 9\u001b[0;31m         \u001b[0mleast_squares\u001b[0m\u001b[0;34m(\u001b[0m\u001b[0mCui\u001b[0m\u001b[0;34m,\u001b[0m \u001b[0mX\u001b[0m\u001b[0;34m,\u001b[0m \u001b[0mY\u001b[0m\u001b[0;34m,\u001b[0m \u001b[0mregularization\u001b[0m\u001b[0;34m)\u001b[0m\u001b[0;34m\u001b[0m\u001b[0m\n\u001b[0m\u001b[1;32m     10\u001b[0m         \u001b[0mleast_squares\u001b[0m\u001b[0;34m(\u001b[0m\u001b[0mCiu\u001b[0m\u001b[0;34m,\u001b[0m \u001b[0mY\u001b[0m\u001b[0;34m,\u001b[0m \u001b[0mX\u001b[0m\u001b[0;34m,\u001b[0m \u001b[0mregularization\u001b[0m\u001b[0;34m)\u001b[0m\u001b[0;34m\u001b[0m\u001b[0m\n\u001b[1;32m     11\u001b[0m \u001b[0;34m\u001b[0m\u001b[0m\n",
      "\u001b[0;32m<ipython-input-98-f25609865a24>\u001b[0m in \u001b[0;36mleast_squares\u001b[0;34m(Cui, X, Y, regularization)\u001b[0m\n\u001b[1;32m     23\u001b[0m         \u001b[0mb\u001b[0m \u001b[0;34m=\u001b[0m \u001b[0mnp\u001b[0m\u001b[0;34m.\u001b[0m\u001b[0mzeros\u001b[0m\u001b[0;34m(\u001b[0m\u001b[0mfactors\u001b[0m\u001b[0;34m)\u001b[0m\u001b[0;34m\u001b[0m\u001b[0m\n\u001b[1;32m     24\u001b[0m \u001b[0;34m\u001b[0m\u001b[0m\n\u001b[0;32m---> 25\u001b[0;31m         \u001b[0;32mfor\u001b[0m \u001b[0mi\u001b[0m\u001b[0;34m,\u001b[0m \u001b[0mconfidence\u001b[0m \u001b[0;32min\u001b[0m \u001b[0mnp\u001b[0m\u001b[0;34m.\u001b[0m\u001b[0mnonzero\u001b[0m\u001b[0;34m(\u001b[0m\u001b[0mCui\u001b[0m\u001b[0;34m,\u001b[0m \u001b[0mu\u001b[0m\u001b[0;34m)\u001b[0m\u001b[0;34m:\u001b[0m\u001b[0;34m\u001b[0m\u001b[0m\n\u001b[0m\u001b[1;32m     26\u001b[0m             \u001b[0mfactor\u001b[0m \u001b[0;34m=\u001b[0m \u001b[0mY\u001b[0m\u001b[0;34m[\u001b[0m\u001b[0mi\u001b[0m\u001b[0;34m]\u001b[0m\u001b[0;34m\u001b[0m\u001b[0m\n\u001b[1;32m     27\u001b[0m             \u001b[0mA\u001b[0m \u001b[0;34m+=\u001b[0m \u001b[0;34m(\u001b[0m\u001b[0mconfidence\u001b[0m \u001b[0;34m-\u001b[0m \u001b[0;36m1\u001b[0m\u001b[0;34m)\u001b[0m \u001b[0;34m*\u001b[0m \u001b[0mnp\u001b[0m\u001b[0;34m.\u001b[0m\u001b[0mouter\u001b[0m\u001b[0;34m(\u001b[0m\u001b[0mfactor\u001b[0m\u001b[0;34m,\u001b[0m \u001b[0mfactor\u001b[0m\u001b[0;34m)\u001b[0m\u001b[0;34m\u001b[0m\u001b[0m\n",
      "\u001b[0;31mTypeError\u001b[0m: nonzero() takes 1 positional argument but 2 were given"
     ]
    }
   ],
   "source": [
    "artist_factors, user_factors = alternating_least_squares(bm25_weight(buys))"
   ]
  },
  {
   "cell_type": "markdown",
   "metadata": {},
   "source": [
    "## Given a set of similar artists, we want to:\n",
    "\n",
    "1. look at the sales data for these artists at see what kind of merchandise / for what price they are buying\n",
    "2. based on this ratio"
   ]
  },
  {
   "cell_type": "code",
   "execution_count": 203,
   "metadata": {},
   "outputs": [],
   "source": [
    "sales = pd.read_csv('/Users/shayneufeld/Dropbox/insight/pricecamp/data/sales.csv',index_col=0)"
   ]
  },
  {
   "cell_type": "code",
   "execution_count": 198,
   "metadata": {},
   "outputs": [
    {
     "name": "stdout",
     "output_type": "stream",
     "text": [
      "Artist: Sabled Sun\n",
      "Related artists: ['Sabled Sun', 'Atrium Carceri', 'Neizvestija', 'Dark Matter', 'Halgrath', 'Apocryphos, Kammarheit, Atrium Carceri', 'Randal Collier-Ford', 'Cryobiosis', 'Aveparthe', 'Kolhoosi 13', 'Dronny Darko & protoU', 'Sjellos', 'Alphaxone', 'Atrium Carceri & Eldar', 'Metatron Omega', 'Council of Nine', 'Ugasanie', 'Flowers for Bodysnatchers', 'Dronny Darko', 'Aegri Somnia']\n"
     ]
    }
   ],
   "source": [
    "artist_id = 680\n",
    "result = top20.get_related(artist_id)\n",
    "related_artists = []\n",
    "for r in result:\n",
    "    artist_name = artist_key[r[0]]\n",
    "    tags = artist_table[artist_table.artist_name==artist_name].tags.values\n",
    "    related_artists.append(artist_name)\n",
    "    \n",
    "print('Artist: %s' % artist_key[artist_id])\n",
    "print('Related artists: %s' % related_artists)"
   ]
  },
  {
   "cell_type": "code",
   "execution_count": 199,
   "metadata": {},
   "outputs": [
    {
     "name": "stdout",
     "output_type": "stream",
     "text": [
      "Sabled Sun: 3\n",
      "Atrium Carceri: 10\n",
      "Neizvestija: 0\n",
      "Dark Matter: 1\n",
      "Halgrath: 0\n",
      "Apocryphos, Kammarheit, Atrium Carceri: 2\n",
      "Randal Collier-Ford: 24\n",
      "Cryobiosis: 1\n",
      "Aveparthe: 0\n",
      "Kolhoosi 13: 1\n",
      "Dronny Darko & protoU: 0\n",
      "Sjellos: 0\n",
      "Alphaxone: 0\n",
      "Atrium Carceri & Eldar: 0\n",
      "Metatron Omega: 3\n",
      "Council of Nine: 12\n",
      "Ugasanie: 2\n",
      "Flowers for Bodysnatchers: 4\n",
      "Dronny Darko: 0\n",
      "Aegri Somnia: 2\n"
     ]
    }
   ],
   "source": [
    "related_sales = pd.DataFrame()\n",
    "for artist in related_artists:\n",
    "    related_sales_ = sales[sales.artist_name==artist].copy()\n",
    "    print('%s: %.0f' % (artist,related_sales_.shape[0]))\n",
    "    related_sales = related_sales.append(related_sales_)"
   ]
  },
  {
   "cell_type": "code",
   "execution_count": 200,
   "metadata": {},
   "outputs": [
    {
     "data": {
      "text/plain": [
       "65"
      ]
     },
     "execution_count": 200,
     "metadata": {},
     "output_type": "execute_result"
    }
   ],
   "source": [
    "related_sales.shape[0]"
   ]
  },
  {
   "cell_type": "code",
   "execution_count": 177,
   "metadata": {
    "collapsed": true
   },
   "outputs": [],
   "source": [
    "import seaborn as sns\n",
    "import matplotlib.pyplot as plt\n",
    "import seaborn as sns\n",
    "%matplotlib inline"
   ]
  },
  {
   "cell_type": "code",
   "execution_count": 178,
   "metadata": {
    "scrolled": true
   },
   "outputs": [
    {
     "data": {
      "text/plain": [
       "<matplotlib.axes._subplots.AxesSubplot at 0x1297caf98>"
      ]
     },
     "execution_count": 178,
     "metadata": {},
     "output_type": "execute_result"
    },
    {
     "data": {
      "image/png": "[encoded data removed]",
      "text/plain": [
       "<matplotlib.figure.Figure at 0x12b23b3c8>"
      ]
     },
     "metadata": {},
     "output_type": "display_data"
    }
   ],
   "source": [
    "sns.barplot(x='item_type',y='amount_paid_usd',data=related_sales)"
   ]
  },
  {
   "cell_type": "code",
   "execution_count": 194,
   "metadata": {},
   "outputs": [
    {
     "name": "stdout",
     "output_type": "stream",
     "text": [
      "a sales: 507 revenue: $3899\n",
      "t sales: 39 revenue: $48\n",
      "p sales: 155 revenue: $3498\n"
     ]
    }
   ],
   "source": [
    "item_types = related_sales.item_type.unique()\n",
    "num_sales,rev = np.zeros(len(item_types)),np.zeros(len(item_types))\n",
    "\n",
    "for i,item_type in enumerate(item_types):\n",
    "    num_sales[i] = related_sales[related_sales.item_type==item_type].shape[0]\n",
    "    rev[i] = related_sales[related_sales.item_type==item_type].amount_paid_usd.sum()\n",
    "    print('%s sales: %.0f revenue: $%.0f' % (item_type,num_sales[i],rev[i]))"
   ]
  },
  {
   "cell_type": "code",
   "execution_count": 195,
   "metadata": {},
   "outputs": [
    {
     "data": {
      "text/plain": [
       "<matplotlib.text.Text at 0x140aead30>"
      ]
     },
     "execution_count": 195,
     "metadata": {},
     "output_type": "execute_result"
    },
    {
     "data": {
      "image/png": "[encoded data removed]",
      "text/plain": [
       "<matplotlib.figure.Figure at 0x140564710>"
      ]
     },
     "metadata": {},
     "output_type": "display_data"
    }
   ],
   "source": [
    "plt.figure(figsize=(12,5))\n",
    "fontsize=20\n",
    "for i,item_type in enumerate(item_types):\n",
    "    test=related_sales[related_sales.item_type==item_type]\n",
    "    x = np.histogram(test.amount_paid_usd.values)[1][:-1]\n",
    "    y = np.histogram(test.amount_paid_usd.values)[0]*x\n",
    "    plt.plot(x,y,label=item_type,linewidth=5)\n",
    "plt.legend(loc='best',fontsize=fontsize)\n",
    "plt.xticks(fontsize=fontsize)\n",
    "plt.yticks(fontsize=fontsize)\n",
    "plt.xlabel('item price ($)',fontsize=fontsize)\n",
    "plt.ylabel('revenue ($)', fontsize=fontsize)"
   ]
  },
  {
   "cell_type": "code",
   "execution_count": 202,
   "metadata": {},
   "outputs": [
    {
     "data": {
      "text/plain": [
       "',,abrightfar,,'"
      ]
     },
     "execution_count": 202,
     "metadata": {},
     "output_type": "execute_result"
    }
   ],
   "source": [
    "artist_name"
   ]
  },
  {
   "cell_type": "code",
   "execution_count": 210,
   "metadata": {},
   "outputs": [
    {
     "name": "stderr",
     "output_type": "stream",
     "text": [
      "100%|██████████| 943/943 [06:38<00:00,  2.61it/s]\n"
     ]
    }
   ],
   "source": [
    "# how many artists can I actually do this for right now?\n",
    "\n",
    "num_sales = []\n",
    "for key in tqdm.tqdm(artist_key):\n",
    "    result = top20.get_related(key)\n",
    "    n = 0\n",
    "    for r in result:\n",
    "        artist_name = artist_key[r[0]]\n",
    "        n += sales[sales.artist_name==artist_name].shape[0]\n",
    "    num_sales.append(n)"
   ]
  },
  {
   "cell_type": "code",
   "execution_count": 212,
   "metadata": {},
   "outputs": [
    {
     "data": {
      "text/plain": [
       "<matplotlib.text.Text at 0x10d379dd8>"
      ]
     },
     "execution_count": 212,
     "metadata": {},
     "output_type": "execute_result"
    },
    {
     "data": {
      "image/png": "[encoded data removed]",
      "text/plain": [
       "<matplotlib.figure.Figure at 0x13f477a58>"
      ]
     },
     "metadata": {},
     "output_type": "display_data"
    }
   ],
   "source": [
    "plt.hist(np.asarray(num_sales),bins=50)\n",
    "plt.title('sh')"
   ]
  },
  {
   "cell_type": "code",
   "execution_count": 214,
   "metadata": {},
   "outputs": [
    {
     "data": {
      "text/plain": [
       "128"
      ]
     },
     "execution_count": 214,
     "metadata": {},
     "output_type": "execute_result"
    }
   ],
   "source": [
    "np.sum(np.asarray(num_sales) > 400)"
   ]
  },
  {
   "cell_type": "markdown",
   "metadata": {},
   "source": [
    "Right now there is only 128 bands with similar bands that total over 400 purchases. \n",
    "\n",
    "This is weird. I selected bands to scrape based on >=20 sales. So you would think there should be minium 400 sales for the 20 related artists. \n",
    "\n",
    "This could be because of the whole record thing messing everything up. When an artist looks like a record on the sales data, then that label is scraped and its actually a bunch of different artists. \n",
    "\n",
    "But is that really accounting for ~850 of the artists? That seems unlikely. "
   ]
  }
 ],
 "metadata": {
  "kernelspec": {
   "display_name": "Python 3",
   "language": "python",
   "name": "python3"
  },
  "language_info": {
   "codemirror_mode": {
    "name": "ipython",
    "version": 3
   },
   "file_extension": ".py",
   "mimetype": "text/x-python",
   "name": "python",
   "nbconvert_exporter": "python",
   "pygments_lexer": "ipython3",
   "version": "3.6.1"
  }
 },
 "nbformat": 4,
 "nbformat_minor": 2
}
