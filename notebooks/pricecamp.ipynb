{
 "cells": [
  {
   "cell_type": "code",
   "execution_count": 3,
   "metadata": {
    "collapsed": true
   },
   "outputs": [],
   "source": [
    "import sklearn\n",
    "import matplotlib.pyplot as plt\n",
    "import seaborn as sns\n",
    "import pandas as pd\n",
    "import numpy as np\n",
    "from bs4 import BeautifulSoup\n",
    "import urllib\n",
    "import numpy as np\n",
    "import os\n",
    "import tqdm\n",
    "%matplotlib inline"
   ]
  },
  {
   "cell_type": "code",
   "execution_count": 19,
   "metadata": {},
   "outputs": [
    {
     "name": "stdout",
     "output_type": "stream",
     "text": [
      "There are 213499 unique records in the database now\n",
      "Total revenue: 1625843.64\n"
     ]
    }
   ],
   "source": [
    "df = pd.read_csv('/Users/shayneufeld/Dropbox/insight/pricecamp/data/sales.csv',index_col=0)\n",
    "df = df.drop_duplicates()\n",
    "print('There are %.0f unique records in the database now' % df.shape[0])\n",
    "print('Total revenue: %.02f' % df.amount_paid_usd.sum())"
   ]
  },
  {
   "cell_type": "code",
   "execution_count": 21,
   "metadata": {},
   "outputs": [
    {
     "data": {
      "text/plain": [
       "1295"
      ]
     },
     "execution_count": 21,
     "metadata": {},
     "output_type": "execute_result"
    }
   ],
   "source": [
    "np.sum(df['artist_name'].value_counts() > 20)"
   ]
  },
  {
   "cell_type": "code",
   "execution_count": 6,
   "metadata": {},
   "outputs": [
    {
     "name": "stderr",
     "output_type": "stream",
     "text": [
      "100%|██████████| 50050/50050 [13:22<00:00, 62.40it/s]\n"
     ]
    }
   ],
   "source": [
    "urls_to_scrape = []\n",
    "for artist in tqdm.tqdm(df.artist_name.unique()):\n",
    "    temp = df[df.artist_name == artist]\n",
    "    if temp.shape[0] > 20:\n",
    "        urls_to_scrape.append(temp.url.values[1])"
   ]
  },
  {
   "cell_type": "code",
   "execution_count": 7,
   "metadata": {},
   "outputs": [
    {
     "data": {
      "text/plain": [
       "750"
      ]
     },
     "execution_count": 7,
     "metadata": {},
     "output_type": "execute_result"
    }
   ],
   "source": [
    "len(urls_to_scrape)"
   ]
  },
  {
   "cell_type": "code",
   "execution_count": 34,
   "metadata": {},
   "outputs": [
    {
     "name": "stdout",
     "output_type": "stream",
     "text": [
      "Number of albums scraped: 7257\n"
     ]
    }
   ],
   "source": [
    "files = os.listdir('/Users/shayneufeld/Dropbox/insight/pricecamp/data/albums_info/')\n",
    "print('Number of albums scraped: %.0f' % (len(files)-1))"
   ]
  },
  {
   "cell_type": "code",
   "execution_count": 8,
   "metadata": {
    "collapsed": true
   },
   "outputs": [],
   "source": [
    "n=0\n",
    "for url in urls_to_scrape:\n",
    "    if 'track' in url:\n",
    "        n+=1\n",
    "        #urls_to_scrape.remove(url)"
   ]
  },
  {
   "cell_type": "code",
   "execution_count": 77,
   "metadata": {},
   "outputs": [
    {
     "data": {
      "text/plain": [
       "'//garoad.bandcamp.com/album/va-11-hall-a-second-round'"
      ]
     },
     "execution_count": 77,
     "metadata": {},
     "output_type": "execute_result"
    }
   ],
   "source": [
    "urls_to_scrape[0]"
   ]
  },
  {
   "cell_type": "code",
   "execution_count": 12,
   "metadata": {
    "collapsed": true
   },
   "outputs": [],
   "source": [
    "urls_df = pd.DataFrame(data={'urls':urls_to_scrape})\n",
    "urls_df.to_csv('/Users/shayneufeld/Dropbox/insight/pricecamp/data/urls_to_scrape_0802.csv')"
   ]
  },
  {
   "cell_type": "code",
   "execution_count": null,
   "metadata": {
    "collapsed": true
   },
   "outputs": [],
   "source": [
    "df.amount_paid_usd"
   ]
  },
  {
   "cell_type": "code",
   "execution_count": 19,
   "metadata": {},
   "outputs": [
    {
     "name": "stderr",
     "output_type": "stream",
     "text": [
      "151209it [00:22, 6708.47it/s]\n"
     ]
    }
   ],
   "source": [
    "count = 0\n",
    "rev = 0 \n",
    "for i,url in tqdm.tqdm(enumerate(df.url.values)):\n",
    "    if (('album' in url) or ('track' in url)):\n",
    "        rev+=df.iloc[i].amount_paid_usd\n",
    "        count+=1"
   ]
  },
  {
   "cell_type": "code",
   "execution_count": 20,
   "metadata": {},
   "outputs": [
    {
     "name": "stdout",
     "output_type": "stream",
     "text": [
      "There are 142452 album + track sales totaling 990310 revenue which is 0.86 of total revenue\n"
     ]
    }
   ],
   "source": [
    "frac = rev / df.amount_paid_usd.sum()\n",
    "\n",
    "print('There are %.0f album + track sales totaling %.0f revenue which is %.02f of total revenue' % (count,rev,frac))"
   ]
  },
  {
   "cell_type": "code",
   "execution_count": 20,
   "metadata": {},
   "outputs": [
    {
     "data": {
      "text/plain": [
       "[<matplotlib.lines.Line2D at 0x11a424208>]"
      ]
     },
     "execution_count": 20,
     "metadata": {},
     "output_type": "execute_result"
    },
    {
     "data": {
      "image/png": "[encoded data removed]",
      "text/plain": [
       "<matplotlib.figure.Figure at 0x11a407f28>"
      ]
     },
     "metadata": {},
     "output_type": "display_data"
    }
   ],
   "source": [
    "df.index = np.arange(df.shape[0])\n",
    "\n",
    "plt.figure(figsize=(15,5))\n",
    "plt.plot(df.utc_date.values, df.amount_paid_usd.cumsum().values)\n",
    "#plt.xlim(1.5*700000e9,1.5*740000e9)"
   ]
  },
  {
   "cell_type": "markdown",
   "metadata": {},
   "source": [
    "# Histogram of price per sale"
   ]
  },
  {
   "cell_type": "code",
   "execution_count": 17,
   "metadata": {},
   "outputs": [
    {
     "data": {
      "text/plain": [
       "(array([     0.,   5000.,  10000.,  15000.,  20000.,  25000.,  30000.,\n",
       "         35000.,  40000.,  45000.]), <a list of 10 Text yticklabel objects>)"
      ]
     },
     "execution_count": 17,
     "metadata": {},
     "output_type": "execute_result"
    },
    {
     "data": {
      "image/png": "[encoded data removed]",
      "text/plain": [
       "<matplotlib.figure.Figure at 0x116f99b38>"
      ]
     },
     "metadata": {},
     "output_type": "display_data"
    }
   ],
   "source": [
    "df = df.drop_duplicates()\n",
    "plt.figure(figsize=(12,6))\n",
    "paid_usd = df.amount_paid_usd.values\n",
    "plt.hist(paid_usd,bins=500,color='black')\n",
    "#plt.title('hist')\n",
    "plt.xlim(0,75)\n",
    "sns.despine()\n",
    "plt.xlabel('price ($)',fontsize=30)\n",
    "plt.ylabel('units sold',fontsize=30)\n",
    "plt.xticks(fontsize=20)\n",
    "plt.yticks(fontsize=20)"
   ]
  },
  {
   "cell_type": "markdown",
   "metadata": {},
   "source": [
    "# Most popular albums (Top 25)"
   ]
  },
  {
   "cell_type": "code",
   "execution_count": 18,
   "metadata": {},
   "outputs": [
    {
     "data": {
      "text/plain": [
       "DMVU - Bloccd - Limited White Vinyl w/ Truth remix (DDDX)     223\n",
       "healing                                                       137\n",
       "Piano Sonata                                                  115\n",
       "Herdersmat part 9-15 [MORDBOX002]                              86\n",
       "wave 003                                                       84\n",
       "Jeff Rosenstock/SkaSucks Split 7\"                              79\n",
       "Travelin                                                       78\n",
       "Remixes                                                        64\n",
       "who told you to think??!!?!?!?!                                63\n",
       "Thank You For Being A Friend                                   61\n",
       "Ripe & Majestic (Instrumental Rarities & Unreleased Beats)     58\n",
       "DARK CASTLE VINYL Discography                                  58\n",
       "Avalon                                                         56\n",
       "Tchornobog                                                     55\n",
       "Losing                                                         54\n",
       "Super Freak/Like I Love You Funk 45                            52\n",
       "Magnatron 2.0                                                  50\n",
       "Breaking Class                                                 47\n",
       "Distant Systems - [FS008]                                      46\n",
       "Akiha Den Den                                                  45\n",
       "Hallelujah Anyhow                                              45\n",
       "SQ777-2: HEEL AESTHETIC                                        45\n",
       "魔術                                                             45\n",
       "Fools Gold                                                     45\n",
       "Real Numbers - Frank Infatuation b/w Leave It Behind           44\n",
       "Name: album_title, dtype: int64"
      ]
     },
     "execution_count": 18,
     "metadata": {},
     "output_type": "execute_result"
    }
   ],
   "source": [
    "df.album_title.value_counts()[0:25]"
   ]
  },
  {
   "cell_type": "markdown",
   "metadata": {},
   "source": [
    "# Most popular bands (Top 25)"
   ]
  },
  {
   "cell_type": "code",
   "execution_count": 19,
   "metadata": {
    "scrolled": true
   },
   "outputs": [
    {
     "data": {
      "text/plain": [
       "Various Artists                 1064\n",
       "JOY                              981\n",
       "Converge                         432\n",
       "Ty Segall                        377\n",
       "Flamingosis                      355\n",
       "Aviators                         299\n",
       "Darren Korb                      290\n",
       "Bucketheadland                   266\n",
       "Berried Alive                    265\n",
       "Tchornobog                       234\n",
       "HOME                             223\n",
       "In Love With A Ghost             219\n",
       "Amanda Palmer                    212\n",
       "DMVU, TRUTH                      211\n",
       "Red Letter Media                 202\n",
       "MIKE                             200\n",
       "CunninLynguists                  172\n",
       "Japanese Breakfast               169\n",
       "The Midnight                     162\n",
       "BADBADNOTGOOD                    161\n",
       "Stellardrone                     159\n",
       "wavemob                          156\n",
       "Various                          155\n",
       "Eneferens                        147\n",
       "マクロスMACROSS 82-99                145\n",
       "Magic Sword                      145\n",
       "Wintersun                        145\n",
       "Sinmara                          142\n",
       "Justin Johnson                   142\n",
       "Cynthia Lin                      140\n",
       "                                ... \n",
       "Stephan Bazbaz                     1\n",
       "Capitol 1212 feat. Tenor Fly       1\n",
       "Well Room                          1\n",
       "JΔIME                              1\n",
       "Sam Rosenthal                      1\n",
       "Lazertüth                          1\n",
       "Djantrix                           1\n",
       "Doctor Randomercam                 1\n",
       "Igna                               1\n",
       "Flood Manual                       1\n",
       "POUPPÉE FABRIKK                    1\n",
       "HipóLite                           1\n",
       "Miniature Philosopher              1\n",
       "Rival Colors                       1\n",
       "Colin Bass                         1\n",
       "Virtual_dreams_98                  1\n",
       "Highest Intention                  1\n",
       "Rock This Town Records             1\n",
       "Gisaza                             1\n",
       "The Radio Silence                  1\n",
       "The MC Type                        1\n",
       "Masiro                             1\n",
       "OMY                                1\n",
       "Katie Frank                        1\n",
       "Sunny Day Real Estate              1\n",
       "Bekelé Berhanu                     1\n",
       "DJ Lil Sprite                      1\n",
       "Sean Dixon, Jared Wilson           1\n",
       "BAHRAMJI AND SWANN                 1\n",
       "Chryste Panie                      1\n",
       "Name: artist_name, Length: 47902, dtype: int64"
      ]
     },
     "execution_count": 19,
     "metadata": {},
     "output_type": "execute_result"
    }
   ],
   "source": [
    "counts = df.artist_name.value_counts()\n",
    "counts[counts > 20].shape\n",
    "df.artist_name.value_counts()"
   ]
  },
  {
   "cell_type": "markdown",
   "metadata": {},
   "source": [
    "# Average sale price be category\n",
    "still not sure what this means yet.\n",
    "\n",
    "guesses:\n",
    "- p: physical sale\n",
    "- a: album download\n",
    "- t: single download\n",
    "- b: bundle sale"
   ]
  },
  {
   "cell_type": "code",
   "execution_count": 49,
   "metadata": {
    "scrolled": true
   },
   "outputs": [
    {
     "data": {
      "text/plain": [
       "(array([0, 1, 2, 3]), <a list of 4 Text xticklabel objects>)"
      ]
     },
     "execution_count": 49,
     "metadata": {},
     "output_type": "execute_result"
    },
    {
     "data": {
      "image/png": "[encoded data removed]",
      "text/plain": [
       "<matplotlib.figure.Figure at 0x11c37e978>"
      ]
     },
     "metadata": {},
     "output_type": "display_data"
    }
   ],
   "source": [
    "sns.barplot(x='item_type',y='amount_paid_usd',data=df)\n",
    "plt.xticks(rotation='vertical')"
   ]
  },
  {
   "cell_type": "markdown",
   "metadata": {},
   "source": [
    "New guess:\n",
    "- p - physical album\n",
    "- a - digital album\n",
    "- t - song \n",
    "- b - bundle"
   ]
  }
 ],
 "metadata": {
  "kernelspec": {
   "display_name": "Python 3",
   "language": "python",
   "name": "python3"
  },
  "language_info": {
   "codemirror_mode": {
    "name": "ipython",
    "version": 3
   },
   "file_extension": ".py",
   "mimetype": "text/x-python",
   "name": "python",
   "nbconvert_exporter": "python",
   "pygments_lexer": "ipython3",
   "version": "3.6.1"
  }
 },
 "nbformat": 4,
 "nbformat_minor": 2
}
