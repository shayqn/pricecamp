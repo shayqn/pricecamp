{
 "cells": [
  {
   "cell_type": "code",
   "execution_count": 1,
   "metadata": {
    "collapsed": true
   },
   "outputs": [],
   "source": [
    "import os\n",
    "import pandas as pd\n",
    "from sqlalchemy import create_engine\n",
    "from sqlalchemy_utils import database_exists, create_database\n",
    "import psycopg2\n",
    "import matplotlib.pyplot as plt\n",
    "import seaborn as sns\n",
    "import numpy as np\n",
    "from tqdm import tqdm\n",
    "%matplotlib inline"
   ]
  },
  {
   "cell_type": "markdown",
   "metadata": {},
   "source": [
    "## connect to database"
   ]
  },
  {
   "cell_type": "code",
   "execution_count": 2,
   "metadata": {},
   "outputs": [
    {
     "name": "stdout",
     "output_type": "stream",
     "text": [
      "bandcamp_table has 1520438 rows\n"
     ]
    }
   ],
   "source": [
    "#In Python: Define a database name (we're using a dataset on births, so I call it \n",
    "# birth_db), and your username for your computer (CHANGE IT BELOW). \n",
    "dbname = 'music_db'\n",
    "username = 'shayneufeld'\n",
    "\n",
    "# connect:\n",
    "con = None\n",
    "con = psycopg2.connect(database = dbname, user = username)\n",
    "\n",
    "sql_query = \"\"\"\n",
    "SELECT * FROM bandcamp_table;\n",
    "\"\"\"\n",
    "bandcamp_table = pd.read_sql_query(sql_query,con)\n",
    "print('bandcamp_table has %.0f rows' % bandcamp_table.shape[0])"
   ]
  },
  {
   "cell_type": "markdown",
   "metadata": {},
   "source": [
    "## look for albums with the most shared followers"
   ]
  },
  {
   "cell_type": "code",
   "execution_count": 103,
   "metadata": {},
   "outputs": [
    {
     "data": {
      "text/plain": [
       "array(['https://dreamcatalogue.bandcamp.com/album/--18'], dtype=object)"
      ]
     },
     "execution_count": 103,
     "metadata": {},
     "output_type": "execute_result"
    }
   ],
   "source": [
    "a = bandcamp_table[bandcamp_table.contrib_url == 'https://bandcamp.com/FrealFan2?from=fanthanks']\n",
    "a.album_url.unique()"
   ]
  },
  {
   "cell_type": "code",
   "execution_count": 100,
   "metadata": {},
   "outputs": [
    {
     "data": {
      "text/plain": [
       "index                                                     1111\n",
       "artist_name                                             [2814]\n",
       "contrib_name                                     ['Carlos L.']\n",
       "contrib_url      https://bandcamp.com/FrealFan2?from=fanthanks\n",
       "album_name                                                --18\n",
       "album_url       https://dreamcatalogue.bandcamp.com/album/--18\n",
       "Name: 4000, dtype: object"
      ]
     },
     "execution_count": 100,
     "metadata": {},
     "output_type": "execute_result"
    }
   ],
   "source": [
    "bandcamp_table.iloc[4000,:]"
   ]
  },
  {
   "cell_type": "markdown",
   "metadata": {},
   "source": [
    "Note! It's saying about that there are ~170,000 duplicates in the database. how could that be. if every item is different. but still. I checked with an example two cells up. it seems to be true. \n",
    "\n",
    "so i'm going to drop those for now:"
   ]
  },
  {
   "cell_type": "code",
   "execution_count": 5,
   "metadata": {},
   "outputs": [
    {
     "data": {
      "text/plain": [
       "476180"
      ]
     },
     "execution_count": 5,
     "metadata": {},
     "output_type": "execute_result"
    }
   ],
   "source": [
    "bandcamp_table = bandcamp_table.drop_duplicates()\n",
    "bandcamp_table.shape[0]"
   ]
  },
  {
   "cell_type": "code",
   "execution_count": 6,
   "metadata": {},
   "outputs": [
    {
     "name": "stdout",
     "output_type": "stream",
     "text": [
      "BANDCAMP ALBUM SCRAPING\n",
      "There are 2464 different artists and 243019 supporters that supported 2986 different products\n"
     ]
    }
   ],
   "source": [
    "artists = bandcamp_table.artist_name.unique()\n",
    "supporters = bandcamp_table.contrib_url.unique()\n",
    "items = bandcamp_table.album_url.unique()\n",
    "num_artists = artists.shape[0]\n",
    "num_supporters = supporters.shape[0]\n",
    "num_items = items.shape[0]\n",
    "\n",
    "print('BANDCAMP ALBUM SCRAPING')\n",
    "print('There are %.0f different artists and %.0f supporters that supported %.0f different products' % \n",
    "      (num_artists,num_supporters,num_items))\n"
   ]
  },
  {
   "cell_type": "code",
   "execution_count": 9,
   "metadata": {},
   "outputs": [
    {
     "data": {
      "text/html": [
       "<div>\n",
       "<style>\n",
       "    .dataframe thead tr:only-child th {\n",
       "        text-align: right;\n",
       "    }\n",
       "\n",
       "    .dataframe thead th {\n",
       "        text-align: left;\n",
       "    }\n",
       "\n",
       "    .dataframe tbody tr th {\n",
       "        vertical-align: top;\n",
       "    }\n",
       "</style>\n",
       "<table border=\"1\" class=\"dataframe\">\n",
       "  <thead>\n",
       "    <tr style=\"text-align: right;\">\n",
       "      <th></th>\n",
       "      <th>index</th>\n",
       "      <th>artist_name</th>\n",
       "      <th>contrib_name</th>\n",
       "      <th>contrib_url</th>\n",
       "      <th>album_name</th>\n",
       "      <th>album_url</th>\n",
       "    </tr>\n",
       "  </thead>\n",
       "  <tbody>\n",
       "    <tr>\n",
       "      <th>0</th>\n",
       "      <td>0</td>\n",
       "      <td>[2814]</td>\n",
       "      <td>['geniodelic515']</td>\n",
       "      <td>https://bandcamp.com/geniodelic515?from=fanthanks</td>\n",
       "      <td>--18</td>\n",
       "      <td>https://dreamcatalogue.bandcamp.com/album/--18</td>\n",
       "    </tr>\n",
       "    <tr>\n",
       "      <th>1</th>\n",
       "      <td>1</td>\n",
       "      <td>[2814]</td>\n",
       "      <td>['vaporwavedepression']</td>\n",
       "      <td>https://bandcamp.com/vaporwavedepression?from=...</td>\n",
       "      <td>--18</td>\n",
       "      <td>https://dreamcatalogue.bandcamp.com/album/--18</td>\n",
       "    </tr>\n",
       "    <tr>\n",
       "      <th>2</th>\n",
       "      <td>2</td>\n",
       "      <td>[2814]</td>\n",
       "      <td>['DJW']</td>\n",
       "      <td>https://bandcamp.com/danisthefan?from=fanthanks</td>\n",
       "      <td>--18</td>\n",
       "      <td>https://dreamcatalogue.bandcamp.com/album/--18</td>\n",
       "    </tr>\n",
       "    <tr>\n",
       "      <th>3</th>\n",
       "      <td>3</td>\n",
       "      <td>[2814]</td>\n",
       "      <td>['jsr123']</td>\n",
       "      <td>https://bandcamp.com/jsr123?from=fanthanks</td>\n",
       "      <td>--18</td>\n",
       "      <td>https://dreamcatalogue.bandcamp.com/album/--18</td>\n",
       "    </tr>\n",
       "    <tr>\n",
       "      <th>4</th>\n",
       "      <td>4</td>\n",
       "      <td>[2814]</td>\n",
       "      <td>['KingBo0?']</td>\n",
       "      <td>https://bandcamp.com/kingbo0?from=fanthanks</td>\n",
       "      <td>--18</td>\n",
       "      <td>https://dreamcatalogue.bandcamp.com/album/--18</td>\n",
       "    </tr>\n",
       "  </tbody>\n",
       "</table>\n",
       "</div>"
      ],
      "text/plain": [
       "   index artist_name             contrib_name  \\\n",
       "0      0      [2814]        ['geniodelic515']   \n",
       "1      1      [2814]  ['vaporwavedepression']   \n",
       "2      2      [2814]                  ['DJW']   \n",
       "3      3      [2814]               ['jsr123']   \n",
       "4      4      [2814]             ['KingBo0?']   \n",
       "\n",
       "                                         contrib_url album_name  \\\n",
       "0  https://bandcamp.com/geniodelic515?from=fanthanks       --18   \n",
       "1  https://bandcamp.com/vaporwavedepression?from=...       --18   \n",
       "2    https://bandcamp.com/danisthefan?from=fanthanks       --18   \n",
       "3         https://bandcamp.com/jsr123?from=fanthanks       --18   \n",
       "4        https://bandcamp.com/kingbo0?from=fanthanks       --18   \n",
       "\n",
       "                                        album_url  \n",
       "0  https://dreamcatalogue.bandcamp.com/album/--18  \n",
       "1  https://dreamcatalogue.bandcamp.com/album/--18  \n",
       "2  https://dreamcatalogue.bandcamp.com/album/--18  \n",
       "3  https://dreamcatalogue.bandcamp.com/album/--18  \n",
       "4  https://dreamcatalogue.bandcamp.com/album/--18  "
      ]
     },
     "execution_count": 9,
     "metadata": {},
     "output_type": "execute_result"
    }
   ],
   "source": [
    "bandcamp_table.head(5)"
   ]
  },
  {
   "cell_type": "markdown",
   "metadata": {},
   "source": [
    "## top 10 supporters"
   ]
  },
  {
   "cell_type": "code",
   "execution_count": 7,
   "metadata": {
    "scrolled": true
   },
   "outputs": [
    {
     "data": {
      "text/plain": [
       "https://bandcamp.com/cguts?from=fanthanks              93\n",
       "https://bandcamp.com/camryn?from=fanthanks             62\n",
       "https://bandcamp.com/chip11under?from=fanthanks        59\n",
       "https://bandcamp.com/kaz?from=fanthanks                57\n",
       "https://bandcamp.com/johnmay?from=fanthanks            56\n",
       "https://bandcamp.com/mikeallin?from=fanthanks          51\n",
       "https://bandcamp.com/mbarry?from=fanthanks             51\n",
       "https://bandcamp.com/jonathansprague?from=fanthanks    50\n",
       "https://bandcamp.com/sebsokk?from=fanthanks            50\n",
       "https://bandcamp.com/_ohm?from=fanthanks               50\n",
       "Name: contrib_url, dtype: int64"
      ]
     },
     "execution_count": 7,
     "metadata": {},
     "output_type": "execute_result"
    }
   ],
   "source": [
    "bandcamp_table.contrib_url.value_counts()[0:10]"
   ]
  },
  {
   "cell_type": "code",
   "execution_count": 8,
   "metadata": {},
   "outputs": [
    {
     "data": {
      "text/plain": [
       "(0, 20)"
      ]
     },
     "execution_count": 8,
     "metadata": {},
     "output_type": "execute_result"
    },
    {
     "data": {
      "image/png": "[encoded data removed]",
      "text/plain": [
       "<matplotlib.figure.Figure at 0x1395a8278>"
      ]
     },
     "metadata": {},
     "output_type": "display_data"
    }
   ],
   "source": [
    "supporter_counts = bandcamp_table.contrib_url.value_counts()\n",
    "plt.figure(figsize=(12,5))\n",
    "plt.hist(supporter_counts,bins=150)\n",
    "plt.title('number of albums per supporter')\n",
    "plt.xlim(0,20)"
   ]
  },
  {
   "cell_type": "markdown",
   "metadata": {},
   "source": [
    "# Construct adjaceny matrix of bands x users"
   ]
  },
  {
   "cell_type": "code",
   "execution_count": 18,
   "metadata": {},
   "outputs": [
    {
     "name": "stderr",
     "output_type": "stream",
     "text": [
      "\n",
      "0it [00:00, ?it/s]\u001b[A\n",
      "4it [00:22, 11.72s/it]"
     ]
    },
    {
     "ename": "KeyboardInterrupt",
     "evalue": "",
     "output_type": "error",
     "traceback": [
      "\u001b[0;31m---------------------------------------------------------------------------\u001b[0m",
      "\u001b[0;31mKeyboardInterrupt\u001b[0m                         Traceback (most recent call last)",
      "\u001b[0;32m<ipython-input-18-ed206af0788f>\u001b[0m in \u001b[0;36m<module>\u001b[0;34m()\u001b[0m\n\u001b[1;32m      7\u001b[0m     \u001b[0;32mif\u001b[0m \u001b[0martist_df\u001b[0m\u001b[0;34m.\u001b[0m\u001b[0mshape\u001b[0m\u001b[0;34m[\u001b[0m\u001b[0;36m0\u001b[0m\u001b[0;34m]\u001b[0m \u001b[0;34m>\u001b[0m \u001b[0;36m50\u001b[0m\u001b[0;34m:\u001b[0m\u001b[0;34m\u001b[0m\u001b[0m\n\u001b[1;32m      8\u001b[0m         \u001b[0;32mfor\u001b[0m \u001b[0msupporter\u001b[0m \u001b[0;32min\u001b[0m \u001b[0martist_df\u001b[0m\u001b[0;34m.\u001b[0m\u001b[0mcontrib_url\u001b[0m\u001b[0;34m.\u001b[0m\u001b[0mvalues\u001b[0m\u001b[0;34m:\u001b[0m\u001b[0;34m\u001b[0m\u001b[0m\n\u001b[0;32m----> 9\u001b[0;31m             \u001b[0msupporter_ids\u001b[0m\u001b[0;34m.\u001b[0m\u001b[0mappend\u001b[0m\u001b[0;34m(\u001b[0m\u001b[0mnp\u001b[0m\u001b[0;34m.\u001b[0m\u001b[0mwhere\u001b[0m\u001b[0;34m(\u001b[0m\u001b[0msupporters\u001b[0m \u001b[0;34m==\u001b[0m \u001b[0msupporter\u001b[0m\u001b[0;34m)\u001b[0m\u001b[0;34m[\u001b[0m\u001b[0;36m0\u001b[0m\u001b[0;34m]\u001b[0m\u001b[0;34m[\u001b[0m\u001b[0;36m0\u001b[0m\u001b[0;34m]\u001b[0m\u001b[0;34m)\u001b[0m\u001b[0;34m\u001b[0m\u001b[0m\n\u001b[0m\u001b[1;32m     10\u001b[0m \u001b[0;34m\u001b[0m\u001b[0m\n\u001b[1;32m     11\u001b[0m         \u001b[0madj_matrix\u001b[0m\u001b[0;34m[\u001b[0m\u001b[0mi\u001b[0m\u001b[0;34m,\u001b[0m\u001b[0msupporter_ids\u001b[0m\u001b[0;34m]\u001b[0m \u001b[0;34m=\u001b[0m \u001b[0;36m1\u001b[0m\u001b[0;34m\u001b[0m\u001b[0m\n",
      "\u001b[0;31mKeyboardInterrupt\u001b[0m: "
     ]
    }
   ],
   "source": [
    "adj_matrix = np.zeros((num_artists,num_supporters))\n",
    "\n",
    "for i,artist in tqdm(enumerate(artists)):\n",
    "    \n",
    "    artist_df = bandcamp_table[bandcamp_table.artist_name == artist]\n",
    "    supporter_ids = []\n",
    "    if artist_df.shape[0] > 50:\n",
    "        for supporter in artist_df.contrib_url.values:\n",
    "            supporter_ids.append(np.where(supporters == supporter)[0][0])\n",
    "\n",
    "        adj_matrix[i,supporter_ids] = 1"
   ]
  },
  {
   "cell_type": "code",
   "execution_count": 109,
   "metadata": {},
   "outputs": [
    {
     "name": "stderr",
     "output_type": "stream",
     "text": [
      "2141it [1:20:05,  1.41it/s]\n"
     ]
    }
   ],
   "source": [
    "np.savetxt('/Users/shayneufeld/Dropbox/insight/pricecamp/adj_matrix.csv',adj_matrix)"
   ]
  },
  {
   "cell_type": "code",
   "execution_count": 32,
   "metadata": {},
   "outputs": [
    {
     "data": {
      "text/plain": [
       "(2464,)"
      ]
     },
     "execution_count": 32,
     "metadata": {},
     "output_type": "execute_result"
    }
   ],
   "source": [
    "artists.shape"
   ]
  },
  {
   "cell_type": "code",
   "execution_count": 28,
   "metadata": {},
   "outputs": [
    {
     "data": {
      "text/html": [
       "<div>\n",
       "<style>\n",
       "    .dataframe thead tr:only-child th {\n",
       "        text-align: right;\n",
       "    }\n",
       "\n",
       "    .dataframe thead th {\n",
       "        text-align: left;\n",
       "    }\n",
       "\n",
       "    .dataframe tbody tr th {\n",
       "        vertical-align: top;\n",
       "    }\n",
       "</style>\n",
       "<table border=\"1\" class=\"dataframe\">\n",
       "  <thead>\n",
       "    <tr style=\"text-align: right;\">\n",
       "      <th></th>\n",
       "      <th>index</th>\n",
       "      <th>artist_name</th>\n",
       "      <th>contrib_name</th>\n",
       "      <th>contrib_url</th>\n",
       "      <th>album_name</th>\n",
       "      <th>album_url</th>\n",
       "    </tr>\n",
       "  </thead>\n",
       "  <tbody>\n",
       "    <tr>\n",
       "      <th>0</th>\n",
       "      <td>0</td>\n",
       "      <td>[2814]</td>\n",
       "      <td>['geniodelic515']</td>\n",
       "      <td>https://bandcamp.com/geniodelic515?from=fanthanks</td>\n",
       "      <td>--18</td>\n",
       "      <td>https://dreamcatalogue.bandcamp.com/album/--18</td>\n",
       "    </tr>\n",
       "    <tr>\n",
       "      <th>1</th>\n",
       "      <td>1</td>\n",
       "      <td>[2814]</td>\n",
       "      <td>['vaporwavedepression']</td>\n",
       "      <td>https://bandcamp.com/vaporwavedepression?from=...</td>\n",
       "      <td>--18</td>\n",
       "      <td>https://dreamcatalogue.bandcamp.com/album/--18</td>\n",
       "    </tr>\n",
       "  </tbody>\n",
       "</table>\n",
       "</div>"
      ],
      "text/plain": [
       "   index artist_name             contrib_name  \\\n",
       "0      0      [2814]        ['geniodelic515']   \n",
       "1      1      [2814]  ['vaporwavedepression']   \n",
       "\n",
       "                                         contrib_url album_name  \\\n",
       "0  https://bandcamp.com/geniodelic515?from=fanthanks       --18   \n",
       "1  https://bandcamp.com/vaporwavedepression?from=...       --18   \n",
       "\n",
       "                                        album_url  \n",
       "0  https://dreamcatalogue.bandcamp.com/album/--18  \n",
       "1  https://dreamcatalogue.bandcamp.com/album/--18  "
      ]
     },
     "execution_count": 28,
     "metadata": {},
     "output_type": "execute_result"
    }
   ],
   "source": [
    "bandcamp_table.head(2)"
   ]
  },
  {
   "cell_type": "code",
   "execution_count": 30,
   "metadata": {
    "scrolled": true
   },
   "outputs": [
    {
     "name": "stderr",
     "output_type": "stream",
     "text": [
      "\n",
      "  0%|          | 0/243019 [00:00<?, ?it/s]\u001b[A\n",
      "  0%|          | 2/243019 [00:00<5:53:26, 11.46it/s]\u001b[A\n",
      "  0%|          | 4/243019 [00:00<5:42:38, 11.82it/s]\u001b[A\n",
      "  0%|          | 6/243019 [00:00<5:29:22, 12.30it/s]\u001b[A\n",
      "  0%|          | 8/243019 [00:00<5:23:54, 12.50it/s]\u001b[A\n",
      "  0%|          | 10/243019 [00:00<5:14:33, 12.88it/s]\u001b[A\n",
      "  0%|          | 12/243019 [00:00<5:11:19, 13.01it/s]\u001b[A\n",
      "  0%|          | 14/243019 [00:01<4:59:29, 13.52it/s]\u001b[A\n",
      "  0%|          | 16/243019 [00:01<4:48:13, 14.05it/s]\u001b[A\n",
      "  0%|          | 18/243019 [00:01<4:48:52, 14.02it/s]\u001b[A\n",
      "  0%|          | 20/243019 [00:01<4:43:21, 14.29it/s]\u001b[A\n",
      "  0%|          | 22/243019 [00:01<4:35:11, 14.72it/s]\u001b[A\n",
      "  0%|          | 24/243019 [00:01<4:23:59, 15.34it/s]\u001b[A\n",
      "  0%|          | 26/243019 [00:01<4:22:24, 15.43it/s]\u001b[A\n",
      "  0%|          | 28/243019 [00:01<4:20:25, 15.55it/s]\u001b[A\n",
      "  0%|          | 30/243019 [00:02<4:17:39, 15.72it/s]\u001b[A\n",
      "  0%|          | 32/243019 [00:02<4:23:38, 15.36it/s]\u001b[A\n",
      "  0%|          | 34/243019 [00:02<4:16:27, 15.79it/s]\u001b[A\n",
      "  0%|          | 36/243019 [00:02<4:16:14, 15.80it/s]\u001b[A\n",
      "  0%|          | 38/243019 [00:02<4:21:54, 15.46it/s]\u001b[A\n",
      "  0%|          | 40/243019 [00:02<4:37:40, 14.58it/s]\u001b[A\n",
      "  0%|          | 42/243019 [00:02<4:23:20, 15.38it/s]\u001b[A\n",
      "  0%|          | 44/243019 [00:02<4:17:23, 15.73it/s]\u001b[A\n",
      "  0%|          | 46/243019 [00:03<4:09:02, 16.26it/s]\u001b[A\n",
      "  0%|          | 48/243019 [00:03<4:11:23, 16.11it/s]\u001b[A\n",
      "  0%|          | 50/243019 [00:03<4:06:18, 16.44it/s]\u001b[A\n",
      "  0%|          | 52/243019 [00:03<4:05:43, 16.48it/s]\u001b[A\n",
      "  0%|          | 54/243019 [00:03<3:59:49, 16.88it/s]\u001b[A\n",
      "  0%|          | 56/243019 [00:03<4:11:52, 16.08it/s]\u001b[A\n",
      "  0%|          | 58/243019 [00:03<4:10:35, 16.16it/s]\u001b[A\n",
      "  0%|          | 60/243019 [00:03<4:11:56, 16.07it/s]\u001b[A\n",
      "  0%|          | 62/243019 [00:04<4:06:07, 16.45it/s]\u001b[A\n",
      "  0%|          | 64/243019 [00:04<4:04:43, 16.55it/s]\u001b[A\n",
      "  0%|          | 66/243019 [00:04<4:03:59, 16.60it/s]\u001b[A\n",
      "  0%|          | 68/243019 [00:04<4:07:22, 16.37it/s]\u001b[A\n",
      "  0%|          | 70/243019 [00:04<3:59:01, 16.94it/s]\u001b[A\n",
      "  0%|          | 72/243019 [00:04<4:00:06, 16.86it/s]\u001b[A\n",
      "  0%|          | 74/243019 [00:04<4:01:14, 16.78it/s]\u001b[A\n",
      "  0%|          | 76/243019 [00:04<4:01:21, 16.78it/s]\u001b[A\n",
      "  0%|          | 78/243019 [00:05<4:02:11, 16.72it/s]\u001b[A\n",
      "  0%|          | 80/243019 [00:05<4:01:09, 16.79it/s]\u001b[A\n",
      "  0%|          | 82/243019 [00:05<4:07:12, 16.38it/s]\u001b[A\n",
      "  0%|          | 84/243019 [00:05<4:35:50, 14.68it/s]\u001b[A\n",
      "  0%|          | 86/243019 [00:05<4:29:03, 15.05it/s]\u001b[A\n",
      "  0%|          | 88/243019 [00:05<4:21:10, 15.50it/s]\u001b[A\n",
      "  0%|          | 90/243019 [00:05<4:17:36, 15.72it/s]\u001b[A\n",
      "  0%|          | 92/243019 [00:05<4:17:04, 15.75it/s]\u001b[A\n",
      "  0%|          | 94/243019 [00:06<4:06:18, 16.44it/s]\u001b[A\n",
      "  0%|          | 867/243019 [00:51<4:08:14, 16.26it/s]"
     ]
    },
    {
     "ename": "KeyboardInterrupt",
     "evalue": "",
     "output_type": "error",
     "traceback": [
      "\u001b[0;31m---------------------------------------------------------------------------\u001b[0m",
      "\u001b[0;31mKeyboardInterrupt\u001b[0m                         Traceback (most recent call last)",
      "\u001b[0;32m<ipython-input-30-7f0dd62694bd>\u001b[0m in \u001b[0;36m<module>\u001b[0;34m()\u001b[0m\n\u001b[1;32m      1\u001b[0m \u001b[0;32mfor\u001b[0m \u001b[0msupporter\u001b[0m \u001b[0;32min\u001b[0m \u001b[0mtqdm\u001b[0m\u001b[0;34m(\u001b[0m\u001b[0msupporters\u001b[0m\u001b[0;34m)\u001b[0m\u001b[0;34m:\u001b[0m\u001b[0;34m\u001b[0m\u001b[0m\n\u001b[0;32m----> 2\u001b[0;31m     \u001b[0mi\u001b[0m \u001b[0;34m=\u001b[0m \u001b[0mbandcamp_table\u001b[0m\u001b[0;34m.\u001b[0m\u001b[0mloc\u001b[0m\u001b[0;34m[\u001b[0m\u001b[0mbandcamp_table\u001b[0m\u001b[0;34m.\u001b[0m\u001b[0mcontrib_url\u001b[0m\u001b[0;34m==\u001b[0m\u001b[0msupporter\u001b[0m\u001b[0;34m]\u001b[0m\u001b[0;34m\u001b[0m\u001b[0m\n\u001b[0m",
      "\u001b[0;32m~/anaconda/envs/insight/lib/python3.6/site-packages/pandas/core/ops.py\u001b[0m in \u001b[0;36mwrapper\u001b[0;34m(self, other, axis)\u001b[0m\n\u001b[1;32m    859\u001b[0m \u001b[0;34m\u001b[0m\u001b[0m\n\u001b[1;32m    860\u001b[0m             \u001b[0;32mwith\u001b[0m \u001b[0mnp\u001b[0m\u001b[0;34m.\u001b[0m\u001b[0merrstate\u001b[0m\u001b[0;34m(\u001b[0m\u001b[0mall\u001b[0m\u001b[0;34m=\u001b[0m\u001b[0;34m'ignore'\u001b[0m\u001b[0;34m)\u001b[0m\u001b[0;34m:\u001b[0m\u001b[0;34m\u001b[0m\u001b[0m\n\u001b[0;32m--> 861\u001b[0;31m                 \u001b[0mres\u001b[0m \u001b[0;34m=\u001b[0m \u001b[0mna_op\u001b[0m\u001b[0;34m(\u001b[0m\u001b[0mvalues\u001b[0m\u001b[0;34m,\u001b[0m \u001b[0mother\u001b[0m\u001b[0;34m)\u001b[0m\u001b[0;34m\u001b[0m\u001b[0m\n\u001b[0m\u001b[1;32m    862\u001b[0m             \u001b[0;32mif\u001b[0m \u001b[0mis_scalar\u001b[0m\u001b[0;34m(\u001b[0m\u001b[0mres\u001b[0m\u001b[0;34m)\u001b[0m\u001b[0;34m:\u001b[0m\u001b[0;34m\u001b[0m\u001b[0m\n\u001b[1;32m    863\u001b[0m                 raise TypeError('Could not compare %s type with Series' %\n",
      "\u001b[0;32m~/anaconda/envs/insight/lib/python3.6/site-packages/pandas/core/ops.py\u001b[0m in \u001b[0;36mna_op\u001b[0;34m(x, y)\u001b[0m\n\u001b[1;32m    763\u001b[0m \u001b[0;34m\u001b[0m\u001b[0m\n\u001b[1;32m    764\u001b[0m         \u001b[0;32mif\u001b[0m \u001b[0mis_object_dtype\u001b[0m\u001b[0;34m(\u001b[0m\u001b[0mx\u001b[0m\u001b[0;34m.\u001b[0m\u001b[0mdtype\u001b[0m\u001b[0;34m)\u001b[0m\u001b[0;34m:\u001b[0m\u001b[0;34m\u001b[0m\u001b[0m\n\u001b[0;32m--> 765\u001b[0;31m             \u001b[0mresult\u001b[0m \u001b[0;34m=\u001b[0m \u001b[0m_comp_method_OBJECT_ARRAY\u001b[0m\u001b[0;34m(\u001b[0m\u001b[0mop\u001b[0m\u001b[0;34m,\u001b[0m \u001b[0mx\u001b[0m\u001b[0;34m,\u001b[0m \u001b[0my\u001b[0m\u001b[0;34m)\u001b[0m\u001b[0;34m\u001b[0m\u001b[0m\n\u001b[0m\u001b[1;32m    766\u001b[0m         \u001b[0;32melse\u001b[0m\u001b[0;34m:\u001b[0m\u001b[0;34m\u001b[0m\u001b[0m\n\u001b[1;32m    767\u001b[0m \u001b[0;34m\u001b[0m\u001b[0m\n",
      "\u001b[0;32m~/anaconda/envs/insight/lib/python3.6/site-packages/pandas/core/ops.py\u001b[0m in \u001b[0;36m_comp_method_OBJECT_ARRAY\u001b[0;34m(op, x, y)\u001b[0m\n\u001b[1;32m    743\u001b[0m         \u001b[0mresult\u001b[0m \u001b[0;34m=\u001b[0m \u001b[0mlib\u001b[0m\u001b[0;34m.\u001b[0m\u001b[0mvec_compare\u001b[0m\u001b[0;34m(\u001b[0m\u001b[0mx\u001b[0m\u001b[0;34m,\u001b[0m \u001b[0my\u001b[0m\u001b[0;34m,\u001b[0m \u001b[0mop\u001b[0m\u001b[0;34m)\u001b[0m\u001b[0;34m\u001b[0m\u001b[0m\n\u001b[1;32m    744\u001b[0m     \u001b[0;32melse\u001b[0m\u001b[0;34m:\u001b[0m\u001b[0;34m\u001b[0m\u001b[0m\n\u001b[0;32m--> 745\u001b[0;31m         \u001b[0mresult\u001b[0m \u001b[0;34m=\u001b[0m \u001b[0mlib\u001b[0m\u001b[0;34m.\u001b[0m\u001b[0mscalar_compare\u001b[0m\u001b[0;34m(\u001b[0m\u001b[0mx\u001b[0m\u001b[0;34m,\u001b[0m \u001b[0my\u001b[0m\u001b[0;34m,\u001b[0m \u001b[0mop\u001b[0m\u001b[0;34m)\u001b[0m\u001b[0;34m\u001b[0m\u001b[0m\n\u001b[0m\u001b[1;32m    746\u001b[0m     \u001b[0;32mreturn\u001b[0m \u001b[0mresult\u001b[0m\u001b[0;34m\u001b[0m\u001b[0m\n\u001b[1;32m    747\u001b[0m \u001b[0;34m\u001b[0m\u001b[0m\n",
      "\u001b[0;31mKeyboardInterrupt\u001b[0m: "
     ]
    },
    {
     "name": "stderr",
     "output_type": "stream",
     "text": [
      "\r",
      "          \r",
      "  0%|          | 867/243019 [01:06<5:08:10, 13.10it/s]"
     ]
    }
   ],
   "source": [
    "for supporter in tqdm(supporters):\n",
    "    i = bandcamp_table.loc[bandcamp_table.contrib_url==supporter]"
   ]
  },
  {
   "cell_type": "code",
   "execution_count": 121,
   "metadata": {
    "collapsed": true
   },
   "outputs": [],
   "source": [
    "from scipy.cluster.hierarchy import dendrogram\n",
    "from scipy.cluster.hierarchy import linkage\n",
    "\n",
    "import scipy.sparse as sparse\n",
    "import sklearn.cluster as cluster"
   ]
  },
  {
   "cell_type": "code",
   "execution_count": 85,
   "metadata": {},
   "outputs": [
    {
     "data": {
      "image/png": "[encoded data removed]",
      "text/plain": [
       "<matplotlib.figure.Figure at 0x12138a358>"
      ]
     },
     "metadata": {},
     "output_type": "display_data"
    }
   ],
   "source": [
    "# try using scipy hierarchical clustering\n",
    "z = linkage(adj_matrix)\n",
    "\n",
    "dendro = dendrogram(z)"
   ]
  },
  {
   "cell_type": "code",
   "execution_count": 141,
   "metadata": {},
   "outputs": [
    {
     "data": {
      "text/plain": [
       "(2141, 221690)"
      ]
     },
     "execution_count": 141,
     "metadata": {},
     "output_type": "execute_result"
    }
   ],
   "source": [
    "adj_matrix.shape"
   ]
  },
  {
   "cell_type": "code",
   "execution_count": 114,
   "metadata": {
    "collapsed": true
   },
   "outputs": [],
   "source": [
    "#the file is really big. try using a scipy sparse matrix and do k-means clustering on that\n",
    "adj_sparse = sparse.csc_matrix(adj_matrix)"
   ]
  },
  {
   "cell_type": "code",
   "execution_count": 116,
   "metadata": {},
   "outputs": [
    {
     "data": {
      "text/plain": [
       "373348"
      ]
     },
     "execution_count": 116,
     "metadata": {},
     "output_type": "execute_result"
    }
   ],
   "source": [
    "#number of non-zero elements in the sparse matrix\n",
    "adj_sparse.nnz"
   ]
  },
  {
   "cell_type": "code",
   "execution_count": 119,
   "metadata": {
    "collapsed": true
   },
   "outputs": [],
   "source": [
    "#save sparse matrix\n",
    "sparse.save_npz('/Users/shayneufeld/Dropbox/insight/pricecamp/adj_sparse',adj_sparse,compressed=True)"
   ]
  },
  {
   "cell_type": "code",
   "execution_count": 124,
   "metadata": {
    "collapsed": true
   },
   "outputs": [],
   "source": [
    "#k-means clustering\n",
    "\n",
    "kmeans = cluster.KMeans(n_clusters=10)\n",
    "cluster_ids = kmeans.fit_predict(adj_sparse)"
   ]
  },
  {
   "cell_type": "code",
   "execution_count": 161,
   "metadata": {},
   "outputs": [
    {
     "data": {
      "text/plain": [
       "<matplotlib.text.Text at 0x14cdf27b8>"
      ]
     },
     "execution_count": 161,
     "metadata": {},
     "output_type": "execute_result"
    },
    {
     "data": {
      "image/png": "[encoded data removed]",
      "text/plain": [
       "<matplotlib.figure.Figure at 0x14caeca58>"
      ]
     },
     "metadata": {},
     "output_type": "display_data"
    }
   ],
   "source": [
    "plt.hist(cluster_ids)\n",
    "plt.title('kmeans clustering')"
   ]
  },
  {
   "cell_type": "markdown",
   "metadata": {},
   "source": [
    "that doesn't look good. everything was clustered into cluster 0"
   ]
  },
  {
   "cell_type": "code",
   "execution_count": 144,
   "metadata": {},
   "outputs": [
    {
     "data": {
      "text/plain": [
       "(221690,)"
      ]
     },
     "execution_count": 144,
     "metadata": {},
     "output_type": "execute_result"
    }
   ],
   "source": [
    "# how many columns have only 1?\n",
    "\n",
    "num_supports = adj_matrix.sum(axis=0)\n",
    "num_supports.shape"
   ]
  },
  {
   "cell_type": "code",
   "execution_count": 153,
   "metadata": {
    "collapsed": true
   },
   "outputs": [],
   "source": [
    "solo_supporters = np.where(num_supports == 1)\n",
    "multi_supporters = np.where(num_supports > 2)"
   ]
  },
  {
   "cell_type": "code",
   "execution_count": 158,
   "metadata": {},
   "outputs": [
    {
     "data": {
      "text/plain": [
       "array([     1,      3,      4, ..., 208362, 211554, 212034])"
      ]
     },
     "execution_count": 158,
     "metadata": {},
     "output_type": "execute_result"
    }
   ],
   "source": [
    "multi_supporters[0]"
   ]
  },
  {
   "cell_type": "code",
   "execution_count": 155,
   "metadata": {},
   "outputs": [
    {
     "data": {
      "text/plain": [
       "(array([     0,      2,      8, ..., 221687, 221688, 221689]),)"
      ]
     },
     "execution_count": 155,
     "metadata": {},
     "output_type": "execute_result"
    }
   ],
   "source": [
    "solo_supporters[:5]"
   ]
  },
  {
   "cell_type": "code",
   "execution_count": 159,
   "metadata": {},
   "outputs": [
    {
     "data": {
      "text/plain": [
       "(2141, 32252)"
      ]
     },
     "execution_count": 159,
     "metadata": {},
     "output_type": "execute_result"
    }
   ],
   "source": [
    "adj_matrix_multi = adj_matrix[:,multi_supporters[0]]\n",
    "adj_matrix_multi.shape"
   ]
  }
 ],
 "metadata": {
  "kernelspec": {
   "display_name": "Python 3",
   "language": "python",
   "name": "python3"
  },
  "language_info": {
   "codemirror_mode": {
    "name": "ipython",
    "version": 3
   },
   "file_extension": ".py",
   "mimetype": "text/x-python",
   "name": "python",
   "nbconvert_exporter": "python",
   "pygments_lexer": "ipython3",
   "version": "3.6.1"
  }
 },
 "nbformat": 4,
 "nbformat_minor": 2
}
