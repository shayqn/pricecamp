{
 "cells": [
  {
   "cell_type": "code",
   "execution_count": 31,
   "metadata": {
    "collapsed": true
   },
   "outputs": [],
   "source": [
    "from selenium import webdriver\n",
    "from selenium.webdriver.common.keys import Keys\n",
    "#browser = webdriver.Chrome()\n",
    "browser = webdriver.Firefox()\n",
    "#import selenium\n",
    "import sys\n",
    "sys.path.append('/Users/shayneufeld/browser_drivers')\n",
    "import time"
   ]
  },
  {
   "cell_type": "code",
   "execution_count": 119,
   "metadata": {
    "collapsed": true
   },
   "outputs": [],
   "source": [
    "browser.get('https://cryochamber.bandcamp.com/album/deus-sive-natura')\n",
    "#browser.get_screenshot_as_png()"
   ]
  },
  {
   "cell_type": "code",
   "execution_count": 120,
   "metadata": {},
   "outputs": [
    {
     "data": {
      "text/plain": [
       "'Music | Big Thief'"
      ]
     },
     "execution_count": 120,
     "metadata": {},
     "output_type": "execute_result"
    }
   ],
   "source": [
    "browser.title"
   ]
  },
  {
   "cell_type": "code",
   "execution_count": 122,
   "metadata": {},
   "outputs": [
    {
     "data": {
      "text/plain": [
       "True"
      ]
     },
     "execution_count": 122,
     "metadata": {},
     "output_type": "execute_result"
    }
   ],
   "source": [
    "'Music' in browser.title"
   ]
  },
  {
   "cell_type": "code",
   "execution_count": 104,
   "metadata": {},
   "outputs": [
    {
     "name": "stdout",
     "output_type": "stream",
     "text": [
      "HEX.10.8_\n",
      "https://knxwledge.bandcamp.com/album/hex-108\n",
      "WT.PRT.11_\n",
      "https://knxwledge.bandcamp.com/album/wt-prt-11\n",
      "GREENTXTS.V1\n",
      "https://knxwledge.bandcamp.com/album/greentxts-v1\n",
      "WT.PRT10.8_\n",
      "https://knxwledge.bandcamp.com/album/wt-prt108\n",
      "Fa-lala_\n",
      "https://knxwledge.bandcamp.com/track/fa-lala\n",
      "WT.PRT10_\n",
      "https://knxwledge.bandcamp.com/album/wt-prt10\n",
      "HEX10.\n",
      "https://knxwledge.bandcamp.com/album/hex10\n",
      "WT.9.8_\n",
      "https://knxwledge.bandcamp.com/album/wt-98\n",
      "HEX.9.8_\n",
      "https://knxwledge.bandcamp.com/album/hex-98\n",
      "Knxwledge - WrapTaypes\n",
      "https://knxwledge.bandcamp.com/album/knxwledge-wraptaypes\n",
      "WT.PRT9_\n",
      "https://knxwledge.bandcamp.com/album/wt-prt9\n",
      "H.S.PRT9_\n",
      "https://knxwledge.bandcamp.com/album/h-s-prt9\n",
      "HS8.8_\n",
      "https://knxwledge.bandcamp.com/album/hs88\n",
      "Hud Dreems\n",
      "https://knxwledge.bandcamp.com/album/hud-dreems\n",
      "WT.PRT.8_\n",
      "https://knxwledge.bandcamp.com/album/wt-prt-8\n",
      "WT.PRT.7.5_\n",
      "https://knxwledge.bandcamp.com/album/wt-prt-75\n",
      "H.S.PRT.8*\n",
      "https://knxwledge.bandcamp.com/album/h-s-prt-8\n",
      "2PK.4TRK_\n",
      "https://knxwledge.bandcamp.com/album/2pk-4trk\n",
      "WrapTaypes.Prt.7_\n",
      "https://knxwledge.bandcamp.com/album/wraptaypes-prt-7\n",
      "Hexual.Sealings.PRT.7.5\n",
      "https://knxwledge.bandcamp.com/album/hexual-sealings-prt-75\n",
      "Kauliflowr\n",
      "https://knxwledge.bandcamp.com/album/kauliflowr\n",
      "Knxwledge - Rap Jointz Vol.1\n",
      "https://knxwledge.bandcamp.com/album/knxwledge-rap-jointz-vol-1\n",
      "HexualSealings.Prt.7\n",
      "https://knxwledge.bandcamp.com/album/hexualsealings-prt-7\n",
      "WrapTaypes.Prt6.6_[bootleg]\n",
      "https://knxwledge.bandcamp.com/album/wraptaypes-prt66-bootleg\n",
      "Hexual.Sealings.Prt.6_\n",
      "https://knxwledge.bandcamp.com/album/hexual-sealings-prt-6\n",
      "WrapTaypes.Prt.6\n",
      "https://knxwledge.bandcamp.com/album/wraptaypes-prt-6\n",
      "Hexual.Sealings.Prt5.5_\n",
      "https://knxwledge.bandcamp.com/album/hexual-sealings-prt55\n",
      "Ovrstnd.∆.Sde\n",
      "https://knxwledge.bandcamp.com/album/ovrstnd-sde\n",
      "Ovrstnd.B.Sde_\n",
      "https://knxwledge.bandcamp.com/album/ovrstnd-b-sde\n",
      "WrapTaypes.PRT.5.5[bootleg]\n",
      "https://knxwledge.bandcamp.com/album/wraptaypes-prt-55-bootleg\n",
      "Hexual.Sealings.Prt.5\n",
      "https://knxwledge.bandcamp.com/album/hexual-sealings-prt-5\n",
      "karma.loops.PRT.5\n",
      "https://knxwledge.bandcamp.com/album/karma-loops-prt-5\n",
      "Hexual.Sealings.Prt.4.5_\n",
      "https://knxwledge.bandcamp.com/album/hexual-sealings-prt-45\n",
      "WrapTaypes.PRT.5\n",
      "https://knxwledge.bandcamp.com/album/wraptaypes-prt-5\n",
      "relevnt.b/sde_LP.\n",
      "https://knxwledge.bandcamp.com/album/relevnt-b-sde-lp\n",
      "Hud.Dreems.PRT.1.5\n",
      "https://knxwledge.bandcamp.com/album/hud-dreems-prt-15\n",
      "hex.4.∆.side_\n",
      "https://knxwledge.bandcamp.com/album/hex-4-side\n",
      "WrapTaypes.Prt.4.5_\n",
      "https://knxwledge.bandcamp.com/album/wraptaypes-prt-45\n",
      "Hexual.Sealings.Pt.4.b-side_\n",
      "https://knxwledge.bandcamp.com/album/hexual-sealings-pt-4-b-side\n",
      "Hexual.Sealings.Pt.3.5\n",
      "https://knxwledge.bandcamp.com/album/hexual-sealings-pt-35\n",
      "togethrniss_∆_side\n",
      "https://knxwledge.bandcamp.com/album/togethrniss-side\n",
      "Buttrskotch-LR023\n",
      "https://knxwledge.bandcamp.com/album/buttrskotch-lr023\n",
      "Hexual.Sealings.Vol.3_[bootleg]\n",
      "https://knxwledge.bandcamp.com/album/hexual-sealings-vol-3-bootleg\n",
      "Hexual.Sealings.Vol.2.5\n",
      "https://knxwledge.bandcamp.com/album/hexual-sealings-vol-25\n",
      "WrapTaypes.Prt.4\n",
      "https://knxwledge.bandcamp.com/album/wraptaypes-prt-4\n",
      "togethrniss_b_side\n",
      "https://knxwledge.bandcamp.com/album/togethrniss-b-side\n",
      "klemintine|taype\n",
      "https://knxwledge.bandcamp.com/album/klemintine-taype\n",
      "[DB]FiXXX's\n",
      "https://knxwledge.bandcamp.com/album/db-fixxxs\n",
      "WrapTaypes.Prt3\n",
      "https://knxwledge.bandcamp.com/album/wraptaypes-prt3-2\n",
      "koapastetik.LP.\n",
      "https://knxwledge.bandcamp.com/album/koapastetik-lp\n",
      "knt.remembr\n",
      "https://knxwledge.bandcamp.com/album/knt-remembr\n",
      "karma.loops.prt4\n",
      "https://knxwledge.bandcamp.com/album/karma-loops-prt4\n",
      "karma.loops.prt3\n",
      "https://knxwledge.bandcamp.com/album/karma-loops-prt3\n",
      "kameo.EP\n",
      "https://knxwledge.bandcamp.com/album/kameo-ep\n",
      "klarity.EP\n",
      "https://knxwledge.bandcamp.com/album/klarity-ep\n",
      "kuntent.EP\n",
      "https://knxwledge.bandcamp.com/album/kuntent-ep\n",
      "WrapTaypes.Port2[bootleg]\n",
      "https://knxwledge.bandcamp.com/album/wraptaypes-port2-bootleg\n",
      "karma.loops.prt2\n",
      "https://knxwledge.bandcamp.com/album/karma-loops-prt2\n",
      "karma.loops.prt.1\n",
      "https://knxwledge.bandcamp.com/album/karma-loops-prt-1\n",
      "Hexual.Sealings.Vol.2\n",
      "https://knxwledge.bandcamp.com/album/hexual-sealings-vol-2\n",
      "komfi.EP\n",
      "https://knxwledge.bandcamp.com/album/komfi-ep\n",
      "Takeitbak.Medli\n",
      "https://knxwledge.bandcamp.com/track/takeitbak-medli\n",
      "Ovrstnd.LP\n",
      "knxwledge\n",
      "https://knxwledge.bandcamp.com/album/ovrstnd-lp\n",
      "Krimbos[Medli]\n",
      "https://knxwledge.bandcamp.com/track/krimbos-medli\n",
      "WrapTaypes.Port.1\n",
      "https://knxwledge.bandcamp.com/album/wraptaypes-port-1\n",
      "Petaluma[dnt.ask]\n",
      "https://knxwledge.bandcamp.com/track/petaluma-dnt-ask\n",
      "UndrTheWeathr.EP.\n",
      "https://knxwledge.bandcamp.com/album/undrtheweathr-ep\n",
      "Konsistensi.EP\n",
      "https://knxwledge.bandcamp.com/album/konsistensi-ep\n",
      "HexualSealings.EP.1.5\n",
      "https://knxwledge.bandcamp.com/album/hexualsealings-ep-15\n",
      "Randomb.EP\n",
      "https://knxwledge.bandcamp.com/album/randomb-ep\n",
      "Hud.Dreems.EP\n",
      "https://knxwledge.bandcamp.com/album/hud-dreems-ep\n",
      "ShadySide.EP\n",
      "Knxwledge\n",
      "https://knxwledge.bandcamp.com/album/shadyside-ep\n",
      "Flowrs.EP\n",
      "https://knxwledge.bandcamp.com/album/flowrs-ep\n",
      "Komposure.EP\n",
      "Knxwledge\n",
      "https://knxwledge.bandcamp.com/album/komposure-ep\n",
      "Old.Klouds.LP\n",
      "https://knxwledge.bandcamp.com/album/old-klouds-lp\n",
      "Hexual.Sealings.LP\n",
      "https://knxwledge.bandcamp.com/album/hexual-sealings-lp\n",
      "Knxwledge-Dryice\n",
      "https://knxwledge.bandcamp.com/track/knxwledge-dryice\n",
      "Gwapes.EP\n",
      "Knx.\n",
      "https://knxwledge.bandcamp.com/album/gwapes-ep\n",
      "K∆NN∆LOUPE.EP\n",
      "Knxwledge\n",
      "https://knxwledge.bandcamp.com/album/k-nn-loupe-ep\n",
      "SKR∆WBERRiES.FUNR∆iSRS VOL.3\n",
      "https://knxwledge.bandcamp.com/album/skr-wberries-funr-isrs-vol-3\n",
      "3P\n",
      "https://knxwledge.bandcamp.com/album/3p\n"
     ]
    }
   ],
   "source": [
    "a = browser.find_elements_by_css_selector('.music-grid-item')\n",
    "\n",
    "for elem in a:\n",
    "    print(elem.text)\n",
    "    print(elem.find_element_by_tag_name('a').get_attribute('href'))"
   ]
  },
  {
   "cell_type": "code",
   "execution_count": 99,
   "metadata": {},
   "outputs": [
    {
     "data": {
      "text/plain": [
       "3"
      ]
     },
     "execution_count": 99,
     "metadata": {},
     "output_type": "execute_result"
    }
   ],
   "source": []
  },
  {
   "cell_type": "code",
   "execution_count": 100,
   "metadata": {
    "scrolled": true
   },
   "outputs": [
    {
     "name": "stdout",
     "output_type": "stream",
     "text": [
      "____ merch\n",
      "\n",
      "\n",
      "HEX.10.8_\n",
      "WT.PRT.11_\n",
      "GREENTXTS.V1\n",
      "WT.PRT10.8_\n",
      "Fa-lala_\n",
      "WT.PRT10_\n",
      "HEX10.\n",
      "WT.9.8_\n",
      "HEX.9.8_\n",
      "Knxwledge - WrapTaypes\n",
      "WT.PRT9_\n",
      "H.S.PRT9_\n",
      "HS8.8_\n",
      "Hud Dreems\n",
      "WT.PRT.8_\n",
      "WT.PRT.7.5_\n",
      "H.S.PRT.8*\n",
      "2PK.4TRK_\n",
      "WrapTaypes.Prt.7_\n",
      "Hexual.Sealings.PRT.7.5\n",
      "Kauliflowr\n",
      "Knxwledge - Rap Jointz Vol.1\n",
      "HexualSealings.Prt.7\n",
      "WrapTaypes.Prt6.6_[bootleg]\n",
      "Hexual.Sealings.Prt.6_\n",
      "WrapTaypes.Prt.6\n",
      "Hexual.Sealings.Prt5.5_\n",
      "Ovrstnd.∆.Sde\n",
      "Ovrstnd.B.Sde_\n",
      "WrapTaypes.PRT.5.5[bootleg]\n",
      "Hexual.Sealings.Prt.5\n",
      "karma.loops.PRT.5\n",
      "Hexual.Sealings.Prt.4.5_\n",
      "WrapTaypes.PRT.5\n",
      "relevnt.b/sde_LP.\n",
      "Hud.Dreems.PRT.1.5\n",
      "hex.4.∆.side_\n",
      "WrapTaypes.Prt.4.5_\n",
      "Hexual.Sealings.Pt.4.b-side_\n",
      "Hexual.Sealings.Pt.3.5\n",
      "togethrniss_∆_side\n",
      "Buttrskotch-LR023\n",
      "Hexual.Sealings.Vol.3_[bootleg]\n",
      "Hexual.Sealings.Vol.2.5\n",
      "WrapTaypes.Prt.4\n",
      "togethrniss_b_side\n",
      "klemintine|taype\n",
      "[DB]FiXXX's\n",
      "WrapTaypes.Prt3\n",
      "koapastetik.LP.\n",
      "knt.remembr\n",
      "karma.loops.prt4\n",
      "karma.loops.prt3\n",
      "kameo.EP\n",
      "klarity.EP\n",
      "kuntent.EP\n",
      "WrapTaypes.Port2[bootleg]\n",
      "karma.loops.prt2\n",
      "karma.loops.prt.1\n",
      "Hexual.Sealings.Vol.2\n",
      "komfi.EP\n",
      "Takeitbak.Medli\n",
      "Ovrstnd.LP\n",
      "knxwledge\n",
      "Krimbos[Medli]\n",
      "WrapTaypes.Port.1\n",
      "Petaluma[dnt.ask]\n",
      "UndrTheWeathr.EP.\n",
      "Konsistensi.EP\n",
      "HexualSealings.EP.1.5\n",
      "Randomb.EP\n",
      "Hud.Dreems.EP\n",
      "ShadySide.EP\n",
      "Knxwledge\n",
      "Flowrs.EP\n",
      "Komposure.EP\n",
      "Knxwledge\n",
      "Old.Klouds.LP\n",
      "Hexual.Sealings.LP\n",
      "Knxwledge-Dryice\n",
      "Gwapes.EP\n",
      "Knx.\n",
      "K∆NN∆LOUPE.EP\n",
      "Knxwledge\n",
      "SKR∆WBERRiES.FUNR∆iSRS VOL.3\n",
      "3P\n",
      "\n",
      "\n",
      "stonesthrow.com\n",
      "\n",
      "\n"
     ]
    }
   ],
   "source": [
    "elems = browser.find_elements_by_tag_name('ol')\n",
    "\n",
    "for el in elems:\n",
    "    print(el.text)\n",
    "    print('\\n')"
   ]
  },
  {
   "cell_type": "code",
   "execution_count": null,
   "metadata": {
    "collapsed": true
   },
   "outputs": [],
   "source": []
  },
  {
   "cell_type": "code",
   "execution_count": 89,
   "metadata": {},
   "outputs": [
    {
     "data": {
      "text/plain": [
       "['HEX.10.8_',\n",
       " 'WT.PRT.11_',\n",
       " 'GREENTXTS.V1',\n",
       " 'WT.PRT10.8_',\n",
       " 'Fa-lala_',\n",
       " 'WT.PRT10_',\n",
       " 'HEX10.',\n",
       " 'WT.9.8_',\n",
       " 'HEX.9.8_',\n",
       " 'Knxwledge - WrapTaypes',\n",
       " 'WT.PRT9_',\n",
       " 'H.S.PRT9_',\n",
       " 'HS8.8_',\n",
       " 'Hud Dreems',\n",
       " 'WT.PRT.8_',\n",
       " 'WT.PRT.7.5_',\n",
       " 'H.S.PRT.8*',\n",
       " '2PK.4TRK_',\n",
       " 'WrapTaypes.Prt.7_',\n",
       " 'Hexual.Sealings.PRT.7.5',\n",
       " 'Kauliflowr',\n",
       " 'Knxwledge - Rap Jointz Vol.1',\n",
       " 'HexualSealings.Prt.7',\n",
       " 'WrapTaypes.Prt6.6_[bootleg]',\n",
       " 'Hexual.Sealings.Prt.6_',\n",
       " 'WrapTaypes.Prt.6',\n",
       " 'Hexual.Sealings.Prt5.5_',\n",
       " 'Ovrstnd.∆.Sde',\n",
       " 'Ovrstnd.B.Sde_',\n",
       " 'WrapTaypes.PRT.5.5[bootleg]',\n",
       " 'Hexual.Sealings.Prt.5',\n",
       " 'karma.loops.PRT.5',\n",
       " 'Hexual.Sealings.Prt.4.5_',\n",
       " 'WrapTaypes.PRT.5',\n",
       " 'relevnt.b/sde_LP.',\n",
       " 'Hud.Dreems.PRT.1.5',\n",
       " 'hex.4.∆.side_',\n",
       " 'WrapTaypes.Prt.4.5_',\n",
       " 'Hexual.Sealings.Pt.4.b-side_',\n",
       " 'Hexual.Sealings.Pt.3.5',\n",
       " 'togethrniss_∆_side',\n",
       " 'Buttrskotch-LR023',\n",
       " 'Hexual.Sealings.Vol.3_[bootleg]',\n",
       " 'Hexual.Sealings.Vol.2.5',\n",
       " 'WrapTaypes.Prt.4',\n",
       " 'togethrniss_b_side',\n",
       " 'klemintine|taype',\n",
       " \"[DB]FiXXX's\",\n",
       " 'WrapTaypes.Prt3',\n",
       " 'koapastetik.LP.',\n",
       " 'knt.remembr',\n",
       " 'karma.loops.prt4',\n",
       " 'karma.loops.prt3',\n",
       " 'kameo.EP',\n",
       " 'klarity.EP',\n",
       " 'kuntent.EP',\n",
       " 'WrapTaypes.Port2[bootleg]',\n",
       " 'karma.loops.prt2',\n",
       " 'karma.loops.prt.1',\n",
       " 'Hexual.Sealings.Vol.2',\n",
       " 'komfi.EP',\n",
       " 'Takeitbak.Medli',\n",
       " 'Ovrstnd.LP',\n",
       " 'knxwledge',\n",
       " 'Krimbos[Medli]',\n",
       " 'WrapTaypes.Port.1',\n",
       " 'Petaluma[dnt.ask]',\n",
       " 'UndrTheWeathr.EP.',\n",
       " 'Konsistensi.EP',\n",
       " 'HexualSealings.EP.1.5',\n",
       " 'Randomb.EP',\n",
       " 'Hud.Dreems.EP',\n",
       " 'ShadySide.EP',\n",
       " 'Knxwledge',\n",
       " 'Flowrs.EP',\n",
       " 'Komposure.EP',\n",
       " 'Knxwledge',\n",
       " 'Old.Klouds.LP',\n",
       " 'Hexual.Sealings.LP',\n",
       " 'Knxwledge-Dryice',\n",
       " 'Gwapes.EP',\n",
       " 'Knx.',\n",
       " 'K∆NN∆LOUPE.EP',\n",
       " 'Knxwledge',\n",
       " 'SKR∆WBERRiES.FUNR∆iSRS VOL.3',\n",
       " '3P']"
      ]
     },
     "execution_count": 89,
     "metadata": {},
     "output_type": "execute_result"
    }
   ],
   "source": [
    "text.split('\\n')"
   ]
  },
  {
   "cell_type": "code",
   "execution_count": 17,
   "metadata": {
    "scrolled": true
   },
   "outputs": [
    {
     "ename": "AttributeError",
     "evalue": "'WebDriver' object has no attribute 'find_elements_by_css_select'",
     "output_type": "error",
     "traceback": [
      "\u001b[0;31m---------------------------------------------------------------------------\u001b[0m",
      "\u001b[0;31mStaleElementReferenceException\u001b[0m            Traceback (most recent call last)",
      "\u001b[0;32m<ipython-input-17-02c7cd618a0c>\u001b[0m in \u001b[0;36m<module>\u001b[0;34m()\u001b[0m\n\u001b[1;32m     15\u001b[0m             \u001b[0mel\u001b[0m\u001b[0;34m.\u001b[0m\u001b[0mclick\u001b[0m\u001b[0;34m(\u001b[0m\u001b[0;34m)\u001b[0m\u001b[0;34m\u001b[0m\u001b[0m\n\u001b[0;32m---> 16\u001b[0;31m             \u001b[0mtext\u001b[0m \u001b[0;34m=\u001b[0m \u001b[0mel\u001b[0m\u001b[0;34m.\u001b[0m\u001b[0mfind_element_by_tag_name\u001b[0m\u001b[0;34m(\u001b[0m\u001b[0;34m'a'\u001b[0m\u001b[0;34m)\u001b[0m\u001b[0;34m.\u001b[0m\u001b[0mtext\u001b[0m\u001b[0;34m\u001b[0m\u001b[0m\n\u001b[0m\u001b[1;32m     17\u001b[0m         \u001b[0;32mexcept\u001b[0m\u001b[0;34m:\u001b[0m\u001b[0;34m\u001b[0m\u001b[0m\n",
      "\u001b[0;32m~/anaconda/envs/insight/lib/python3.6/site-packages/selenium/webdriver/remote/webelement.py\u001b[0m in \u001b[0;36mfind_element_by_tag_name\u001b[0;34m(self, name)\u001b[0m\n\u001b[1;32m    228\u001b[0m         \"\"\"\n\u001b[0;32m--> 229\u001b[0;31m         \u001b[0;32mreturn\u001b[0m \u001b[0mself\u001b[0m\u001b[0;34m.\u001b[0m\u001b[0mfind_element\u001b[0m\u001b[0;34m(\u001b[0m\u001b[0mby\u001b[0m\u001b[0;34m=\u001b[0m\u001b[0mBy\u001b[0m\u001b[0;34m.\u001b[0m\u001b[0mTAG_NAME\u001b[0m\u001b[0;34m,\u001b[0m \u001b[0mvalue\u001b[0m\u001b[0;34m=\u001b[0m\u001b[0mname\u001b[0m\u001b[0;34m)\u001b[0m\u001b[0;34m\u001b[0m\u001b[0m\n\u001b[0m\u001b[1;32m    230\u001b[0m \u001b[0;34m\u001b[0m\u001b[0m\n",
      "\u001b[0;32m~/anaconda/envs/insight/lib/python3.6/site-packages/selenium/webdriver/remote/webelement.py\u001b[0m in \u001b[0;36mfind_element\u001b[0;34m(self, by, value)\u001b[0m\n\u001b[1;32m    509\u001b[0m         return self._execute(Command.FIND_CHILD_ELEMENT,\n\u001b[0;32m--> 510\u001b[0;31m                              {\"using\": by, \"value\": value})['value']\n\u001b[0m\u001b[1;32m    511\u001b[0m \u001b[0;34m\u001b[0m\u001b[0m\n",
      "\u001b[0;32m~/anaconda/envs/insight/lib/python3.6/site-packages/selenium/webdriver/remote/webelement.py\u001b[0m in \u001b[0;36m_execute\u001b[0;34m(self, command, params)\u001b[0m\n\u001b[1;32m    492\u001b[0m         \u001b[0mparams\u001b[0m\u001b[0;34m[\u001b[0m\u001b[0;34m'id'\u001b[0m\u001b[0;34m]\u001b[0m \u001b[0;34m=\u001b[0m \u001b[0mself\u001b[0m\u001b[0;34m.\u001b[0m\u001b[0m_id\u001b[0m\u001b[0;34m\u001b[0m\u001b[0m\n\u001b[0;32m--> 493\u001b[0;31m         \u001b[0;32mreturn\u001b[0m \u001b[0mself\u001b[0m\u001b[0;34m.\u001b[0m\u001b[0m_parent\u001b[0m\u001b[0;34m.\u001b[0m\u001b[0mexecute\u001b[0m\u001b[0;34m(\u001b[0m\u001b[0mcommand\u001b[0m\u001b[0;34m,\u001b[0m \u001b[0mparams\u001b[0m\u001b[0;34m)\u001b[0m\u001b[0;34m\u001b[0m\u001b[0m\n\u001b[0m\u001b[1;32m    494\u001b[0m \u001b[0;34m\u001b[0m\u001b[0m\n",
      "\u001b[0;32m~/anaconda/envs/insight/lib/python3.6/site-packages/selenium/webdriver/remote/webdriver.py\u001b[0m in \u001b[0;36mexecute\u001b[0;34m(self, driver_command, params)\u001b[0m\n\u001b[1;32m    255\u001b[0m         \u001b[0;32mif\u001b[0m \u001b[0mresponse\u001b[0m\u001b[0;34m:\u001b[0m\u001b[0;34m\u001b[0m\u001b[0m\n\u001b[0;32m--> 256\u001b[0;31m             \u001b[0mself\u001b[0m\u001b[0;34m.\u001b[0m\u001b[0merror_handler\u001b[0m\u001b[0;34m.\u001b[0m\u001b[0mcheck_response\u001b[0m\u001b[0;34m(\u001b[0m\u001b[0mresponse\u001b[0m\u001b[0;34m)\u001b[0m\u001b[0;34m\u001b[0m\u001b[0m\n\u001b[0m\u001b[1;32m    257\u001b[0m             response['value'] = self._unwrap_value(\n",
      "\u001b[0;32m~/anaconda/envs/insight/lib/python3.6/site-packages/selenium/webdriver/remote/errorhandler.py\u001b[0m in \u001b[0;36mcheck_response\u001b[0;34m(self, response)\u001b[0m\n\u001b[1;32m    193\u001b[0m             \u001b[0;32mraise\u001b[0m \u001b[0mexception_class\u001b[0m\u001b[0;34m(\u001b[0m\u001b[0mmessage\u001b[0m\u001b[0;34m,\u001b[0m \u001b[0mscreen\u001b[0m\u001b[0;34m,\u001b[0m \u001b[0mstacktrace\u001b[0m\u001b[0;34m,\u001b[0m \u001b[0mvalue\u001b[0m\u001b[0;34m[\u001b[0m\u001b[0;34m'alert'\u001b[0m\u001b[0;34m]\u001b[0m\u001b[0;34m.\u001b[0m\u001b[0mget\u001b[0m\u001b[0;34m(\u001b[0m\u001b[0;34m'text'\u001b[0m\u001b[0;34m)\u001b[0m\u001b[0;34m)\u001b[0m\u001b[0;34m\u001b[0m\u001b[0m\n\u001b[0;32m--> 194\u001b[0;31m         \u001b[0;32mraise\u001b[0m \u001b[0mexception_class\u001b[0m\u001b[0;34m(\u001b[0m\u001b[0mmessage\u001b[0m\u001b[0;34m,\u001b[0m \u001b[0mscreen\u001b[0m\u001b[0;34m,\u001b[0m \u001b[0mstacktrace\u001b[0m\u001b[0;34m)\u001b[0m\u001b[0;34m\u001b[0m\u001b[0m\n\u001b[0m\u001b[1;32m    195\u001b[0m \u001b[0;34m\u001b[0m\u001b[0m\n",
      "\u001b[0;31mStaleElementReferenceException\u001b[0m: Message: The element reference of <div class=\"showMore\"> stale: either the element is no longer attached to the DOM or the page has been refreshed\n",
      "\nDuring handling of the above exception, another exception occurred:\n",
      "\u001b[0;31mAttributeError\u001b[0m                            Traceback (most recent call last)",
      "\u001b[0;32m<ipython-input-17-02c7cd618a0c>\u001b[0m in \u001b[0;36m<module>\u001b[0;34m()\u001b[0m\n\u001b[1;32m     16\u001b[0m             \u001b[0mtext\u001b[0m \u001b[0;34m=\u001b[0m \u001b[0mel\u001b[0m\u001b[0;34m.\u001b[0m\u001b[0mfind_element_by_tag_name\u001b[0m\u001b[0;34m(\u001b[0m\u001b[0;34m'a'\u001b[0m\u001b[0;34m)\u001b[0m\u001b[0;34m.\u001b[0m\u001b[0mtext\u001b[0m\u001b[0;34m\u001b[0m\u001b[0m\n\u001b[1;32m     17\u001b[0m         \u001b[0;32mexcept\u001b[0m\u001b[0;34m:\u001b[0m\u001b[0;34m\u001b[0m\u001b[0m\n\u001b[0;32m---> 18\u001b[0;31m             \u001b[0mdata\u001b[0m \u001b[0;34m=\u001b[0m \u001b[0mbrowser\u001b[0m\u001b[0;34m.\u001b[0m\u001b[0mfind_elements_by_css_select\u001b[0m\u001b[0;34m(\u001b[0m\u001b[0;34m'.pagedata'\u001b[0m\u001b[0;34m)\u001b[0m\u001b[0;34m\u001b[0m\u001b[0m\n\u001b[0m",
      "\u001b[0;31mAttributeError\u001b[0m: 'WebDriver' object has no attribute 'find_elements_by_css_select'"
     ]
    }
   ],
   "source": [
    "showMore = browser.find_elements_by_css_selector('.showMore')\n",
    "#there are 2 possible showMore buttons - for shows and for albums\n",
    "#if there is a shows one, it comes first\n",
    "if len(showMore) == 1:\n",
    "    el = showMore[0]\n",
    "elif len(showMore) == 2:\n",
    "    el = showMore[1]\n",
    "\n",
    "#if there is a show more button, make sure it's 'more albums'\n",
    "if el:\n",
    "    text = el.find_element_by_tag_name('a').text\n",
    "\n",
    "    while text == 'more releases...':\n",
    "        try:\n",
    "            el.click()\n",
    "            text = el.find_element_by_tag_name('a').text\n",
    "        except:\n",
    "            data = browser.find_elements_by_css_selector('.pagedata')"
   ]
  },
  {
   "cell_type": "code",
   "execution_count": 18,
   "metadata": {
    "collapsed": true
   },
   "outputs": [],
   "source": [
    "data = browser.find_elements_by_css_selector('.pagedata')"
   ]
  },
  {
   "cell_type": "code",
   "execution_count": 27,
   "metadata": {},
   "outputs": [],
   "source": [
    "a = browser.find_element_by_id('pagedata')"
   ]
  },
  {
   "cell_type": "code",
   "execution_count": 30,
   "metadata": {},
   "outputs": [
    {
     "data": {
      "text/plain": [
       "<bound method WebElement.value_of_css_property of <selenium.webdriver.firefox.webelement.FirefoxWebElement (session=\"ab7bf912-f5af-3a4a-9450-ea67437e2090\", element=\"1a347506-dd27-554e-a12f-d0a947a21a83\")>>"
      ]
     },
     "execution_count": 30,
     "metadata": {},
     "output_type": "execute_result"
    }
   ],
   "source": []
  },
  {
   "cell_type": "code",
   "execution_count": 31,
   "metadata": {},
   "outputs": [
    {
     "name": "stdout",
     "output_type": "stream",
     "text": [
      "ok\n"
     ]
    }
   ],
   "source": [
    "if x:\n",
    "    print('ok')"
   ]
  },
  {
   "cell_type": "code",
   "execution_count": 13,
   "metadata": {
    "collapsed": true,
    "scrolled": false
   },
   "outputs": [],
   "source": [
    "browser.execute_script('$(\".more-writing\", self.$container).trigger( \"click\" );')\n",
    "browser.execute_script('$(\".more-writing\", self.$container).trigger( \"click\" );')\n",
    "browser.execute_script('$(\".more-writing\", self.$container).trigger( \"click\" );')\n",
    "browser.execute_script('$(\".more-thumbs\", self.$container).trigger( \"click\" );')\n",
    "browser.execute_script('$(\".more-thumbs\", self.$container).trigger( \"click\" );')\n",
    "browser.execute_script('$(\".more-thumbs\", self.$container).trigger( \"click\" );')\n"
   ]
  },
  {
   "cell_type": "code",
   "execution_count": 119,
   "metadata": {
    "collapsed": true
   },
   "outputs": [],
   "source": [
    "#click on more to reveal allt the supporters (both with and without comments)\n",
    "\n",
    "more_thumbs_el = browser.find_element_by_css_selector('.more-thumbs')\n",
    "more_writing_el = browser.find_element_by_css_selector('.more-writing')\n",
    "\n",
    "for el in [more_writing_el,more_thumbs_el]:\n",
    "    while True:\n",
    "        try:\n",
    "            el.click()\n",
    "            time.sleep(1)\n",
    "        except:\n",
    "            break"
   ]
  },
  {
   "cell_type": "code",
   "execution_count": 139,
   "metadata": {
    "collapsed": true
   },
   "outputs": [],
   "source": [
    "a = browser.find_elements_by_class_name(\"writing\")\n",
    "b = browser.find_elements_by_class_name(\"no-writing\")\n",
    "#a.find_element_by_class_name('collected-by tralbum collectors')"
   ]
  },
  {
   "cell_type": "code",
   "execution_count": 131,
   "metadata": {},
   "outputs": [
    {
     "data": {
      "text/plain": [
       "[]"
      ]
     },
     "execution_count": 131,
     "metadata": {},
     "output_type": "execute_result"
    }
   ],
   "source": [
    "b = a[0].find_element_by_class_name('name')\n",
    "b.find_elements()"
   ]
  },
  {
   "cell_type": "code",
   "execution_count": 143,
   "metadata": {},
   "outputs": [
    {
     "ename": "IndexError",
     "evalue": "list index out of range",
     "output_type": "error",
     "traceback": [
      "\u001b[0;31m---------------------------------------------------------------------------\u001b[0m",
      "\u001b[0;31mIndexError\u001b[0m                                Traceback (most recent call last)",
      "\u001b[0;32m<ipython-input-143-8ebebe6a3bf2>\u001b[0m in \u001b[0;36m<module>\u001b[0;34m()\u001b[0m\n\u001b[0;32m----> 1\u001b[0;31m \u001b[0mb\u001b[0m\u001b[0;34m[\u001b[0m\u001b[0;36m1\u001b[0m\u001b[0;34m]\u001b[0m\u001b[0;34m.\u001b[0m\u001b[0mtext\u001b[0m\u001b[0;34m\u001b[0m\u001b[0m\n\u001b[0m",
      "\u001b[0;31mIndexError\u001b[0m: list index out of range"
     ]
    }
   ],
   "source": [
    "b = b.find_elements_by_class_name('')"
   ]
  },
  {
   "cell_type": "code",
   "execution_count": 138,
   "metadata": {},
   "outputs": [
    {
     "data": {
      "text/plain": [
       "16"
      ]
     },
     "execution_count": 138,
     "metadata": {},
     "output_type": "execute_result"
    }
   ],
   "source": [
    "'''\n",
    "writing contributors\n",
    "'''\n",
    "a = response.css('div.writing') #all the writing contributors\n",
    "\n",
    "#then need to loop through\n",
    "a[0].css('div.name::text').extract() #contributor name\n",
    "a[0].css('a::attr(href)').extract_first() #contributor link\n",
    "\n",
    "\n",
    "'''\n",
    "no-writing contributors\n",
    "'''\n",
    "\"\"\"\n",
    "NOTE: it looks like everything is actually included in no-writing contributors.\n",
    "\"\"\"\n",
    "\n",
    "#names\n",
    "a = response.css('div.round3')\n",
    "#then need to loop through\n",
    "a[0].css('div.name::text').extract() #contributor name\n",
    "\n",
    "\n",
    "#links\n",
    "nowriting = response.css('div.no-writing')\n",
    "#then need to loop through\n",
    "a[0].extract()"
   ]
  },
  {
   "cell_type": "code",
   "execution_count": 144,
   "metadata": {
    "collapsed": true
   },
   "outputs": [],
   "source": [
    "import pandas as pd"
   ]
  },
  {
   "cell_type": "code",
   "execution_count": 147,
   "metadata": {
    "collapsed": true
   },
   "outputs": [],
   "source": [
    "df = pd.DataFrame(data=None,columns=['artist_name','artist_url','contrib_name','contrib_url'])\n",
    "df['artist_url'] = [0,1,2,3]"
   ]
  },
  {
   "cell_type": "code",
   "execution_count": 151,
   "metadata": {},
   "outputs": [
    {
     "data": {
      "text/html": [
       "<div>\n",
       "<style>\n",
       "    .dataframe thead tr:only-child th {\n",
       "        text-align: right;\n",
       "    }\n",
       "\n",
       "    .dataframe thead th {\n",
       "        text-align: left;\n",
       "    }\n",
       "\n",
       "    .dataframe tbody tr th {\n",
       "        vertical-align: top;\n",
       "    }\n",
       "</style>\n",
       "<table border=\"1\" class=\"dataframe\">\n",
       "  <thead>\n",
       "    <tr style=\"text-align: right;\">\n",
       "      <th></th>\n",
       "      <th>artist_name</th>\n",
       "      <th>artist_url</th>\n",
       "      <th>contrib_name</th>\n",
       "      <th>contrib_url</th>\n",
       "    </tr>\n",
       "  </thead>\n",
       "  <tbody>\n",
       "    <tr>\n",
       "      <th>0</th>\n",
       "      <td>johnny</td>\n",
       "      <td>0</td>\n",
       "      <td>NaN</td>\n",
       "      <td>NaN</td>\n",
       "    </tr>\n",
       "    <tr>\n",
       "      <th>1</th>\n",
       "      <td>johnny</td>\n",
       "      <td>1</td>\n",
       "      <td>NaN</td>\n",
       "      <td>NaN</td>\n",
       "    </tr>\n",
       "    <tr>\n",
       "      <th>2</th>\n",
       "      <td>johnny</td>\n",
       "      <td>2</td>\n",
       "      <td>NaN</td>\n",
       "      <td>NaN</td>\n",
       "    </tr>\n",
       "    <tr>\n",
       "      <th>3</th>\n",
       "      <td>johnny</td>\n",
       "      <td>3</td>\n",
       "      <td>NaN</td>\n",
       "      <td>NaN</td>\n",
       "    </tr>\n",
       "  </tbody>\n",
       "</table>\n",
       "</div>"
      ],
      "text/plain": [
       "  artist_name  artist_url contrib_name contrib_url\n",
       "0      johnny           0          NaN         NaN\n",
       "1      johnny           1          NaN         NaN\n",
       "2      johnny           2          NaN         NaN\n",
       "3      johnny           3          NaN         NaN"
      ]
     },
     "execution_count": 151,
     "metadata": {},
     "output_type": "execute_result"
    }
   ],
   "source": [
    "df['artist_name'] = 'johnny'\n",
    "df"
   ]
  },
  {
   "cell_type": "code",
   "execution_count": null,
   "metadata": {
    "collapsed": true
   },
   "outputs": [],
   "source": [
    "browser.get_screenshot_as_png()"
   ]
  },
  {
   "cell_type": "code",
   "execution_count": 20,
   "metadata": {
    "scrolled": true
   },
   "outputs": [
    {
     "ename": "WebDriverException",
     "evalue": "Message: Failed to decode response from marionette\n",
     "output_type": "error",
     "traceback": [
      "\u001b[0;31m---------------------------------------------------------------------------\u001b[0m",
      "\u001b[0;31mWebDriverException\u001b[0m                        Traceback (most recent call last)",
      "\u001b[0;32m<ipython-input-20-2888d0b6de2b>\u001b[0m in \u001b[0;36m<module>\u001b[0;34m()\u001b[0m\n\u001b[0;32m----> 1\u001b[0;31m \u001b[0mbrowser\u001b[0m\u001b[0;34m.\u001b[0m\u001b[0mquit\u001b[0m\u001b[0;34m(\u001b[0m\u001b[0;34m)\u001b[0m\u001b[0;34m\u001b[0m\u001b[0m\n\u001b[0m",
      "\u001b[0;32m~/anaconda/envs/insight/lib/python3.6/site-packages/selenium/webdriver/firefox/webdriver.py\u001b[0m in \u001b[0;36mquit\u001b[0;34m(self)\u001b[0m\n\u001b[1;32m    179\u001b[0m         \u001b[0;34m\"\"\"Quits the driver and close every associated window.\"\"\"\u001b[0m\u001b[0;34m\u001b[0m\u001b[0m\n\u001b[1;32m    180\u001b[0m         \u001b[0;32mtry\u001b[0m\u001b[0;34m:\u001b[0m\u001b[0;34m\u001b[0m\u001b[0m\n\u001b[0;32m--> 181\u001b[0;31m             \u001b[0mRemoteWebDriver\u001b[0m\u001b[0;34m.\u001b[0m\u001b[0mquit\u001b[0m\u001b[0;34m(\u001b[0m\u001b[0mself\u001b[0m\u001b[0;34m)\u001b[0m\u001b[0;34m\u001b[0m\u001b[0m\n\u001b[0m\u001b[1;32m    182\u001b[0m         \u001b[0;32mexcept\u001b[0m \u001b[0;34m(\u001b[0m\u001b[0mhttp_client\u001b[0m\u001b[0;34m.\u001b[0m\u001b[0mBadStatusLine\u001b[0m\u001b[0;34m,\u001b[0m \u001b[0msocket\u001b[0m\u001b[0;34m.\u001b[0m\u001b[0merror\u001b[0m\u001b[0;34m)\u001b[0m\u001b[0;34m:\u001b[0m\u001b[0;34m\u001b[0m\u001b[0m\n\u001b[1;32m    183\u001b[0m             \u001b[0;31m# Happens if Firefox shutsdown before we've read the response from\u001b[0m\u001b[0;34m\u001b[0m\u001b[0;34m\u001b[0m\u001b[0m\n",
      "\u001b[0;32m~/anaconda/envs/insight/lib/python3.6/site-packages/selenium/webdriver/remote/webdriver.py\u001b[0m in \u001b[0;36mquit\u001b[0;34m(self)\u001b[0m\n\u001b[1;32m    549\u001b[0m         \"\"\"\n\u001b[1;32m    550\u001b[0m         \u001b[0;32mtry\u001b[0m\u001b[0;34m:\u001b[0m\u001b[0;34m\u001b[0m\u001b[0m\n\u001b[0;32m--> 551\u001b[0;31m             \u001b[0mself\u001b[0m\u001b[0;34m.\u001b[0m\u001b[0mexecute\u001b[0m\u001b[0;34m(\u001b[0m\u001b[0mCommand\u001b[0m\u001b[0;34m.\u001b[0m\u001b[0mQUIT\u001b[0m\u001b[0;34m)\u001b[0m\u001b[0;34m\u001b[0m\u001b[0m\n\u001b[0m\u001b[1;32m    552\u001b[0m         \u001b[0;32mfinally\u001b[0m\u001b[0;34m:\u001b[0m\u001b[0;34m\u001b[0m\u001b[0m\n\u001b[1;32m    553\u001b[0m             \u001b[0mself\u001b[0m\u001b[0;34m.\u001b[0m\u001b[0mstop_client\u001b[0m\u001b[0;34m(\u001b[0m\u001b[0;34m)\u001b[0m\u001b[0;34m\u001b[0m\u001b[0m\n",
      "\u001b[0;32m~/anaconda/envs/insight/lib/python3.6/site-packages/selenium/webdriver/remote/webdriver.py\u001b[0m in \u001b[0;36mexecute\u001b[0;34m(self, driver_command, params)\u001b[0m\n\u001b[1;32m    254\u001b[0m         \u001b[0mresponse\u001b[0m \u001b[0;34m=\u001b[0m \u001b[0mself\u001b[0m\u001b[0;34m.\u001b[0m\u001b[0mcommand_executor\u001b[0m\u001b[0;34m.\u001b[0m\u001b[0mexecute\u001b[0m\u001b[0;34m(\u001b[0m\u001b[0mdriver_command\u001b[0m\u001b[0;34m,\u001b[0m \u001b[0mparams\u001b[0m\u001b[0;34m)\u001b[0m\u001b[0;34m\u001b[0m\u001b[0m\n\u001b[1;32m    255\u001b[0m         \u001b[0;32mif\u001b[0m \u001b[0mresponse\u001b[0m\u001b[0;34m:\u001b[0m\u001b[0;34m\u001b[0m\u001b[0m\n\u001b[0;32m--> 256\u001b[0;31m             \u001b[0mself\u001b[0m\u001b[0;34m.\u001b[0m\u001b[0merror_handler\u001b[0m\u001b[0;34m.\u001b[0m\u001b[0mcheck_response\u001b[0m\u001b[0;34m(\u001b[0m\u001b[0mresponse\u001b[0m\u001b[0;34m)\u001b[0m\u001b[0;34m\u001b[0m\u001b[0m\n\u001b[0m\u001b[1;32m    257\u001b[0m             response['value'] = self._unwrap_value(\n\u001b[1;32m    258\u001b[0m                 response.get('value', None))\n",
      "\u001b[0;32m~/anaconda/envs/insight/lib/python3.6/site-packages/selenium/webdriver/remote/errorhandler.py\u001b[0m in \u001b[0;36mcheck_response\u001b[0;34m(self, response)\u001b[0m\n\u001b[1;32m    192\u001b[0m         \u001b[0;32melif\u001b[0m \u001b[0mexception_class\u001b[0m \u001b[0;34m==\u001b[0m \u001b[0mUnexpectedAlertPresentException\u001b[0m \u001b[0;32mand\u001b[0m \u001b[0;34m'alert'\u001b[0m \u001b[0;32min\u001b[0m \u001b[0mvalue\u001b[0m\u001b[0;34m:\u001b[0m\u001b[0;34m\u001b[0m\u001b[0m\n\u001b[1;32m    193\u001b[0m             \u001b[0;32mraise\u001b[0m \u001b[0mexception_class\u001b[0m\u001b[0;34m(\u001b[0m\u001b[0mmessage\u001b[0m\u001b[0;34m,\u001b[0m \u001b[0mscreen\u001b[0m\u001b[0;34m,\u001b[0m \u001b[0mstacktrace\u001b[0m\u001b[0;34m,\u001b[0m \u001b[0mvalue\u001b[0m\u001b[0;34m[\u001b[0m\u001b[0;34m'alert'\u001b[0m\u001b[0;34m]\u001b[0m\u001b[0;34m.\u001b[0m\u001b[0mget\u001b[0m\u001b[0;34m(\u001b[0m\u001b[0;34m'text'\u001b[0m\u001b[0;34m)\u001b[0m\u001b[0;34m)\u001b[0m\u001b[0;34m\u001b[0m\u001b[0m\n\u001b[0;32m--> 194\u001b[0;31m         \u001b[0;32mraise\u001b[0m \u001b[0mexception_class\u001b[0m\u001b[0;34m(\u001b[0m\u001b[0mmessage\u001b[0m\u001b[0;34m,\u001b[0m \u001b[0mscreen\u001b[0m\u001b[0;34m,\u001b[0m \u001b[0mstacktrace\u001b[0m\u001b[0;34m)\u001b[0m\u001b[0;34m\u001b[0m\u001b[0m\n\u001b[0m\u001b[1;32m    195\u001b[0m \u001b[0;34m\u001b[0m\u001b[0m\n\u001b[1;32m    196\u001b[0m     \u001b[0;32mdef\u001b[0m \u001b[0m_value_or_default\u001b[0m\u001b[0;34m(\u001b[0m\u001b[0mself\u001b[0m\u001b[0;34m,\u001b[0m \u001b[0mobj\u001b[0m\u001b[0;34m,\u001b[0m \u001b[0mkey\u001b[0m\u001b[0;34m,\u001b[0m \u001b[0mdefault\u001b[0m\u001b[0;34m)\u001b[0m\u001b[0;34m:\u001b[0m\u001b[0;34m\u001b[0m\u001b[0m\n",
      "\u001b[0;31mWebDriverException\u001b[0m: Message: Failed to decode response from marionette\n"
     ]
    }
   ],
   "source": [
    "browser.quit()"
   ]
  }
 ],
 "metadata": {
  "kernelspec": {
   "display_name": "Python 3",
   "language": "python",
   "name": "python3"
  },
  "language_info": {
   "codemirror_mode": {
    "name": "ipython",
    "version": 3
   },
   "file_extension": ".py",
   "mimetype": "text/x-python",
   "name": "python",
   "nbconvert_exporter": "python",
   "pygments_lexer": "ipython3",
   "version": "3.6.1"
  }
 },
 "nbformat": 4,
 "nbformat_minor": 2
}
