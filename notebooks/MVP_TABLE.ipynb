{
 "cells": [
  {
   "cell_type": "code",
   "execution_count": 1,
   "metadata": {
    "collapsed": true
   },
   "outputs": [],
   "source": [
    "import os\n",
    "import pandas as pd\n",
    "from sqlalchemy import create_engine\n",
    "from sqlalchemy_utils import database_exists, create_database\n",
    "import psycopg2\n",
    "import matplotlib.pyplot as plt\n",
    "import seaborn as sns\n",
    "import numpy as np\n",
    "from tqdm import tqdm\n",
    "%matplotlib inline"
   ]
  },
  {
   "cell_type": "markdown",
   "metadata": {},
   "source": [
    "## connect to database"
   ]
  },
  {
   "cell_type": "code",
   "execution_count": 5,
   "metadata": {},
   "outputs": [
    {
     "name": "stdout",
     "output_type": "stream",
     "text": [
      "postgres://shayneufeld@localhost/music_db\n"
     ]
    }
   ],
   "source": [
    "#In Python: Define a database name (we're using a dataset on births, so I call it \n",
    "# birth_db), and your username for your computer (CHANGE IT BELOW). \n",
    "dbname = 'music_db'\n",
    "username = 'shayneufeld'\n",
    "\n",
    "# connect:\n",
    "con = None\n",
    "con = psycopg2.connect(database = dbname, user = username)\n",
    "\n",
    "engine = create_engine('postgres://%s@localhost/%s'%(username,dbname))\n",
    "print(engine.url)"
   ]
  },
  {
   "cell_type": "markdown",
   "metadata": {},
   "source": [
    "# retrieve spotify table, bandcamp table, and sales table"
   ]
  },
  {
   "cell_type": "code",
   "execution_count": 295,
   "metadata": {
    "scrolled": false
   },
   "outputs": [
    {
     "name": "stdout",
     "output_type": "stream",
     "text": [
      "bandcamp_table has 1520438 rows\n"
     ]
    }
   ],
   "source": [
    "#bandcamp table\n",
    "sql_query = \"\"\"\n",
    "SELECT * FROM bandcamp_table;\n",
    "\"\"\"\n",
    "bandcamp_table = pd.read_sql_query(sql_query,con)\n",
    "print('bandcamp_table has %.0f rows' % bandcamp_table.shape[0])\n",
    "\n",
    "#spotify table\n",
    "sql_query = \"\"\"\n",
    "SELECT * FROM spotify_table WHERE match=True;\n",
    "\"\"\"\n",
    "spotify_table = pd.read_sql_query(sql_query,con)\n",
    "\n",
    "#sales table\n",
    "sql_query = \"\"\"\n",
    "SELECT * FROM sales_table;\n",
    "\"\"\"\n",
    "sales_table = pd.read_sql_query(sql_query,con)"
   ]
  },
  {
   "cell_type": "code",
   "execution_count": 301,
   "metadata": {},
   "outputs": [
    {
     "data": {
      "text/plain": [
       "(471754, 5)"
      ]
     },
     "execution_count": 301,
     "metadata": {},
     "output_type": "execute_result"
    }
   ],
   "source": [
    "#drop duplicated values\n",
    "bandcamp_table = bandcamp_table.drop_duplicates()\n",
    "bandcamp_table.shape"
   ]
  },
  {
   "cell_type": "code",
   "execution_count": 302,
   "metadata": {},
   "outputs": [
    {
     "data": {
      "text/html": [
       "<div>\n",
       "<style>\n",
       "    .dataframe thead tr:only-child th {\n",
       "        text-align: right;\n",
       "    }\n",
       "\n",
       "    .dataframe thead th {\n",
       "        text-align: left;\n",
       "    }\n",
       "\n",
       "    .dataframe tbody tr th {\n",
       "        vertical-align: top;\n",
       "    }\n",
       "</style>\n",
       "<table border=\"1\" class=\"dataframe\">\n",
       "  <thead>\n",
       "    <tr style=\"text-align: right;\">\n",
       "      <th></th>\n",
       "      <th>index</th>\n",
       "      <th>Unnamed: 0.1</th>\n",
       "      <th>Unnamed: 0.1.1</th>\n",
       "      <th>artist_genres</th>\n",
       "      <th>artist_id</th>\n",
       "      <th>artist_name</th>\n",
       "      <th>artist_spotify_url</th>\n",
       "      <th>artist_total_followers</th>\n",
       "      <th>bc_artist_name</th>\n",
       "      <th>match</th>\n",
       "      <th>popularity</th>\n",
       "      <th>related_artists_sp</th>\n",
       "    </tr>\n",
       "  </thead>\n",
       "  <tbody>\n",
       "    <tr>\n",
       "      <th>0</th>\n",
       "      <td>2</td>\n",
       "      <td>2.0</td>\n",
       "      <td>0.0</td>\n",
       "      <td>['deep psytrance']</td>\n",
       "      <td>4mcgQslFqVoXe78ADfBoLX</td>\n",
       "      <td>Whitebear</td>\n",
       "      <td>https://open.spotify.com/artist/4mcgQslFqVoXe7...</td>\n",
       "      <td>3264</td>\n",
       "      <td>Whitebear</td>\n",
       "      <td>True</td>\n",
       "      <td>27</td>\n",
       "      <td>['Mr. Bill', 'Bumble', 'Kalya Scintilla', 'SIX...</td>\n",
       "    </tr>\n",
       "    <tr>\n",
       "      <th>1</th>\n",
       "      <td>4</td>\n",
       "      <td>4.0</td>\n",
       "      <td>0.0</td>\n",
       "      <td>none</td>\n",
       "      <td>43YBvuW0iMYrQlpSsJJQWp</td>\n",
       "      <td>We Were Friends</td>\n",
       "      <td>https://open.spotify.com/artist/43YBvuW0iMYrQl...</td>\n",
       "      <td>69</td>\n",
       "      <td>We Were Friends</td>\n",
       "      <td>True</td>\n",
       "      <td>3</td>\n",
       "      <td>['Matt Steele', 'Flowerpot Press', 'The Auspic...</td>\n",
       "    </tr>\n",
       "  </tbody>\n",
       "</table>\n",
       "</div>"
      ],
      "text/plain": [
       "   index  Unnamed: 0.1  Unnamed: 0.1.1       artist_genres  \\\n",
       "0      2           2.0             0.0  ['deep psytrance']   \n",
       "1      4           4.0             0.0                none   \n",
       "\n",
       "                artist_id      artist_name  \\\n",
       "0  4mcgQslFqVoXe78ADfBoLX        Whitebear   \n",
       "1  43YBvuW0iMYrQlpSsJJQWp  We Were Friends   \n",
       "\n",
       "                                  artist_spotify_url artist_total_followers  \\\n",
       "0  https://open.spotify.com/artist/4mcgQslFqVoXe7...                   3264   \n",
       "1  https://open.spotify.com/artist/43YBvuW0iMYrQl...                     69   \n",
       "\n",
       "    bc_artist_name  match popularity  \\\n",
       "0        Whitebear   True         27   \n",
       "1  We Were Friends   True          3   \n",
       "\n",
       "                                  related_artists_sp  \n",
       "0  ['Mr. Bill', 'Bumble', 'Kalya Scintilla', 'SIX...  \n",
       "1  ['Matt Steele', 'Flowerpot Press', 'The Auspic...  "
      ]
     },
     "execution_count": 302,
     "metadata": {},
     "output_type": "execute_result"
    }
   ],
   "source": [
    "spotify_table.head(2)"
   ]
  },
  {
   "cell_type": "code",
   "execution_count": 303,
   "metadata": {},
   "outputs": [
    {
     "data": {
      "text/html": [
       "<div>\n",
       "<style>\n",
       "    .dataframe thead tr:only-child th {\n",
       "        text-align: right;\n",
       "    }\n",
       "\n",
       "    .dataframe thead th {\n",
       "        text-align: left;\n",
       "    }\n",
       "\n",
       "    .dataframe tbody tr th {\n",
       "        vertical-align: top;\n",
       "    }\n",
       "</style>\n",
       "<table border=\"1\" class=\"dataframe\">\n",
       "  <thead>\n",
       "    <tr style=\"text-align: right;\">\n",
       "      <th></th>\n",
       "      <th>artist_genres</th>\n",
       "      <th>artist_id</th>\n",
       "      <th>artist_name</th>\n",
       "      <th>artist_spotify_url</th>\n",
       "      <th>artist_total_followers</th>\n",
       "      <th>bc_artist_name</th>\n",
       "      <th>match</th>\n",
       "      <th>popularity</th>\n",
       "      <th>related_artists_sp</th>\n",
       "    </tr>\n",
       "  </thead>\n",
       "  <tbody>\n",
       "    <tr>\n",
       "      <th>0</th>\n",
       "      <td>['deep psytrance']</td>\n",
       "      <td>4mcgQslFqVoXe78ADfBoLX</td>\n",
       "      <td>Whitebear</td>\n",
       "      <td>https://open.spotify.com/artist/4mcgQslFqVoXe7...</td>\n",
       "      <td>3264</td>\n",
       "      <td>Whitebear</td>\n",
       "      <td>True</td>\n",
       "      <td>27</td>\n",
       "      <td>['Mr. Bill', 'Bumble', 'Kalya Scintilla', 'SIX...</td>\n",
       "    </tr>\n",
       "    <tr>\n",
       "      <th>1</th>\n",
       "      <td>none</td>\n",
       "      <td>43YBvuW0iMYrQlpSsJJQWp</td>\n",
       "      <td>We Were Friends</td>\n",
       "      <td>https://open.spotify.com/artist/43YBvuW0iMYrQl...</td>\n",
       "      <td>69</td>\n",
       "      <td>We Were Friends</td>\n",
       "      <td>True</td>\n",
       "      <td>3</td>\n",
       "      <td>['Matt Steele', 'Flowerpot Press', 'The Auspic...</td>\n",
       "    </tr>\n",
       "  </tbody>\n",
       "</table>\n",
       "</div>"
      ],
      "text/plain": [
       "        artist_genres               artist_id      artist_name  \\\n",
       "0  ['deep psytrance']  4mcgQslFqVoXe78ADfBoLX        Whitebear   \n",
       "1                none  43YBvuW0iMYrQlpSsJJQWp  We Were Friends   \n",
       "\n",
       "                                  artist_spotify_url artist_total_followers  \\\n",
       "0  https://open.spotify.com/artist/4mcgQslFqVoXe7...                   3264   \n",
       "1  https://open.spotify.com/artist/43YBvuW0iMYrQl...                     69   \n",
       "\n",
       "    bc_artist_name  match popularity  \\\n",
       "0        Whitebear   True         27   \n",
       "1  We Were Friends   True          3   \n",
       "\n",
       "                                  related_artists_sp  \n",
       "0  ['Mr. Bill', 'Bumble', 'Kalya Scintilla', 'SIX...  \n",
       "1  ['Matt Steele', 'Flowerpot Press', 'The Auspic...  "
      ]
     },
     "execution_count": 303,
     "metadata": {},
     "output_type": "execute_result"
    }
   ],
   "source": [
    "# drop the index + 2 unnamed columns\n",
    "cols = spotify_table.columns.values\n",
    "spotify_table = spotify_table.drop(cols[:3],axis=1)\n",
    "spotify_table.head(2)"
   ]
  },
  {
   "cell_type": "code",
   "execution_count": 304,
   "metadata": {},
   "outputs": [
    {
     "data": {
      "text/html": [
       "<div>\n",
       "<style>\n",
       "    .dataframe thead tr:only-child th {\n",
       "        text-align: right;\n",
       "    }\n",
       "\n",
       "    .dataframe thead th {\n",
       "        text-align: left;\n",
       "    }\n",
       "\n",
       "    .dataframe tbody tr th {\n",
       "        vertical-align: top;\n",
       "    }\n",
       "</style>\n",
       "<table border=\"1\" class=\"dataframe\">\n",
       "  <thead>\n",
       "    <tr style=\"text-align: right;\">\n",
       "      <th></th>\n",
       "      <th>index</th>\n",
       "      <th>addl_count</th>\n",
       "      <th>album_title</th>\n",
       "      <th>amount_over_fmt</th>\n",
       "      <th>amount_paid</th>\n",
       "      <th>amount_paid_fmt</th>\n",
       "      <th>amount_paid_usd</th>\n",
       "      <th>art_id</th>\n",
       "      <th>art_url</th>\n",
       "      <th>artist_name</th>\n",
       "      <th>...</th>\n",
       "      <th>item_description</th>\n",
       "      <th>item_price</th>\n",
       "      <th>item_slug</th>\n",
       "      <th>item_type</th>\n",
       "      <th>package_image_id</th>\n",
       "      <th>releases</th>\n",
       "      <th>slug_type</th>\n",
       "      <th>track_album_slug_text</th>\n",
       "      <th>url</th>\n",
       "      <th>utc_date</th>\n",
       "    </tr>\n",
       "  </thead>\n",
       "  <tbody>\n",
       "    <tr>\n",
       "      <th>0</th>\n",
       "      <td>0</td>\n",
       "      <td>NaN</td>\n",
       "      <td>S/T</td>\n",
       "      <td>None</td>\n",
       "      <td>7.0</td>\n",
       "      <td>$7</td>\n",
       "      <td>7.0</td>\n",
       "      <td>NaN</td>\n",
       "      <td>//f4.bcbits.com/img/0010845335_37.jpg</td>\n",
       "      <td>SIDDIQ</td>\n",
       "      <td>...</td>\n",
       "      <td>LIMITED CASSETTE ACTION!</td>\n",
       "      <td>7.0</td>\n",
       "      <td>None</td>\n",
       "      <td>p</td>\n",
       "      <td>10845335.0</td>\n",
       "      <td>NaN</td>\n",
       "      <td>a</td>\n",
       "      <td>None</td>\n",
       "      <td>//illuminatedpaths.bandcamp.com/album/s-t-7</td>\n",
       "      <td>1.500604e+09</td>\n",
       "    </tr>\n",
       "    <tr>\n",
       "      <th>1</th>\n",
       "      <td>0</td>\n",
       "      <td>NaN</td>\n",
       "      <td>None</td>\n",
       "      <td>None</td>\n",
       "      <td>5.0</td>\n",
       "      <td>$5</td>\n",
       "      <td>5.0</td>\n",
       "      <td>1.960132e+09</td>\n",
       "      <td>//f4.bcbits.com/img/a1960131950_7.jpg</td>\n",
       "      <td>EGYPT</td>\n",
       "      <td>...</td>\n",
       "      <td>ENDLESS FLIGHT</td>\n",
       "      <td>5.0</td>\n",
       "      <td>None</td>\n",
       "      <td>a</td>\n",
       "      <td>NaN</td>\n",
       "      <td>NaN</td>\n",
       "      <td>a</td>\n",
       "      <td>None</td>\n",
       "      <td>//egypt1.bandcamp.com/album/endless-flight</td>\n",
       "      <td>1.500604e+09</td>\n",
       "    </tr>\n",
       "  </tbody>\n",
       "</table>\n",
       "<p>2 rows × 23 columns</p>\n",
       "</div>"
      ],
      "text/plain": [
       "   index  addl_count album_title amount_over_fmt  amount_paid amount_paid_fmt  \\\n",
       "0      0         NaN         S/T            None          7.0              $7   \n",
       "1      0         NaN        None            None          5.0              $5   \n",
       "\n",
       "   amount_paid_usd        art_id                                art_url  \\\n",
       "0              7.0           NaN  //f4.bcbits.com/img/0010845335_37.jpg   \n",
       "1              5.0  1.960132e+09  //f4.bcbits.com/img/a1960131950_7.jpg   \n",
       "\n",
       "  artist_name      ...               item_description item_price item_slug  \\\n",
       "0      SIDDIQ      ...       LIMITED CASSETTE ACTION!        7.0      None   \n",
       "1       EGYPT      ...                 ENDLESS FLIGHT        5.0      None   \n",
       "\n",
       "  item_type  package_image_id releases slug_type  track_album_slug_text  \\\n",
       "0         p        10845335.0      NaN         a                   None   \n",
       "1         a               NaN      NaN         a                   None   \n",
       "\n",
       "                                           url      utc_date  \n",
       "0  //illuminatedpaths.bandcamp.com/album/s-t-7  1.500604e+09  \n",
       "1   //egypt1.bandcamp.com/album/endless-flight  1.500604e+09  \n",
       "\n",
       "[2 rows x 23 columns]"
      ]
     },
     "execution_count": 304,
     "metadata": {},
     "output_type": "execute_result"
    }
   ],
   "source": [
    "sales_table.head(2)"
   ]
  },
  {
   "cell_type": "code",
   "execution_count": 305,
   "metadata": {},
   "outputs": [
    {
     "data": {
      "text/html": [
       "<div>\n",
       "<style>\n",
       "    .dataframe thead tr:only-child th {\n",
       "        text-align: right;\n",
       "    }\n",
       "\n",
       "    .dataframe thead th {\n",
       "        text-align: left;\n",
       "    }\n",
       "\n",
       "    .dataframe tbody tr th {\n",
       "        vertical-align: top;\n",
       "    }\n",
       "</style>\n",
       "<table border=\"1\" class=\"dataframe\">\n",
       "  <thead>\n",
       "    <tr style=\"text-align: right;\">\n",
       "      <th></th>\n",
       "      <th>addl_count</th>\n",
       "      <th>album_title</th>\n",
       "      <th>amount_over_fmt</th>\n",
       "      <th>amount_paid</th>\n",
       "      <th>amount_paid_fmt</th>\n",
       "      <th>amount_paid_usd</th>\n",
       "      <th>art_id</th>\n",
       "      <th>art_url</th>\n",
       "      <th>artist_name</th>\n",
       "      <th>country</th>\n",
       "      <th>...</th>\n",
       "      <th>item_description</th>\n",
       "      <th>item_price</th>\n",
       "      <th>item_slug</th>\n",
       "      <th>item_type</th>\n",
       "      <th>package_image_id</th>\n",
       "      <th>releases</th>\n",
       "      <th>slug_type</th>\n",
       "      <th>track_album_slug_text</th>\n",
       "      <th>url</th>\n",
       "      <th>utc_date</th>\n",
       "    </tr>\n",
       "  </thead>\n",
       "  <tbody>\n",
       "    <tr>\n",
       "      <th>0</th>\n",
       "      <td>NaN</td>\n",
       "      <td>S/T</td>\n",
       "      <td>None</td>\n",
       "      <td>7.0</td>\n",
       "      <td>$7</td>\n",
       "      <td>7.0</td>\n",
       "      <td>NaN</td>\n",
       "      <td>//f4.bcbits.com/img/0010845335_37.jpg</td>\n",
       "      <td>SIDDIQ</td>\n",
       "      <td>United States</td>\n",
       "      <td>...</td>\n",
       "      <td>LIMITED CASSETTE ACTION!</td>\n",
       "      <td>7.0</td>\n",
       "      <td>None</td>\n",
       "      <td>p</td>\n",
       "      <td>10845335.0</td>\n",
       "      <td>NaN</td>\n",
       "      <td>a</td>\n",
       "      <td>None</td>\n",
       "      <td>//illuminatedpaths.bandcamp.com/album/s-t-7</td>\n",
       "      <td>1.500604e+09</td>\n",
       "    </tr>\n",
       "    <tr>\n",
       "      <th>1</th>\n",
       "      <td>NaN</td>\n",
       "      <td>None</td>\n",
       "      <td>None</td>\n",
       "      <td>5.0</td>\n",
       "      <td>$5</td>\n",
       "      <td>5.0</td>\n",
       "      <td>1.960132e+09</td>\n",
       "      <td>//f4.bcbits.com/img/a1960131950_7.jpg</td>\n",
       "      <td>EGYPT</td>\n",
       "      <td>United States</td>\n",
       "      <td>...</td>\n",
       "      <td>ENDLESS FLIGHT</td>\n",
       "      <td>5.0</td>\n",
       "      <td>None</td>\n",
       "      <td>a</td>\n",
       "      <td>NaN</td>\n",
       "      <td>NaN</td>\n",
       "      <td>a</td>\n",
       "      <td>None</td>\n",
       "      <td>//egypt1.bandcamp.com/album/endless-flight</td>\n",
       "      <td>1.500604e+09</td>\n",
       "    </tr>\n",
       "  </tbody>\n",
       "</table>\n",
       "<p>2 rows × 22 columns</p>\n",
       "</div>"
      ],
      "text/plain": [
       "   addl_count album_title amount_over_fmt  amount_paid amount_paid_fmt  \\\n",
       "0         NaN         S/T            None          7.0              $7   \n",
       "1         NaN        None            None          5.0              $5   \n",
       "\n",
       "   amount_paid_usd        art_id                                art_url  \\\n",
       "0              7.0           NaN  //f4.bcbits.com/img/0010845335_37.jpg   \n",
       "1              5.0  1.960132e+09  //f4.bcbits.com/img/a1960131950_7.jpg   \n",
       "\n",
       "  artist_name        country      ...               item_description  \\\n",
       "0      SIDDIQ  United States      ...       LIMITED CASSETTE ACTION!   \n",
       "1       EGYPT  United States      ...                 ENDLESS FLIGHT   \n",
       "\n",
       "  item_price item_slug  item_type package_image_id releases  slug_type  \\\n",
       "0        7.0      None          p       10845335.0      NaN          a   \n",
       "1        5.0      None          a              NaN      NaN          a   \n",
       "\n",
       "   track_album_slug_text                                          url  \\\n",
       "0                   None  //illuminatedpaths.bandcamp.com/album/s-t-7   \n",
       "1                   None   //egypt1.bandcamp.com/album/endless-flight   \n",
       "\n",
       "       utc_date  \n",
       "0  1.500604e+09  \n",
       "1  1.500604e+09  \n",
       "\n",
       "[2 rows x 22 columns]"
      ]
     },
     "execution_count": 305,
     "metadata": {},
     "output_type": "execute_result"
    }
   ],
   "source": [
    "# drop extra index row\n",
    "sales_table = sales_table.drop('index',axis=1)\n",
    "sales_table.head(2)"
   ]
  },
  {
   "cell_type": "markdown",
   "metadata": {},
   "source": [
    "# The plan\n",
    "\n",
    "## the database\n",
    "for each artist in `spotify_table`:\n",
    "    - get # spotify followers\n",
    "    - get spotify genres\n",
    "    \n",
    "    - look up that artist in the `bandcamp_table`:\n",
    "        - get # total BC supporters\n",
    "        - get avg # supporters per album\n",
    "        - get # BC albums\n",
    "    - look up that artist in `sales_table`:\n",
    "        - get total revenue\n",
    "        - get total # sales\n",
    "        - then break it down for a,p,t,b: #sales, average price, total revenue\n",
    "\n",
    "## MVP\n",
    "\n",
    "1. input: artist name\n",
    "2. search database for artists with similar # of followers & at least 1 shared genre\n",
    "3. for those artists, return average values for all the other columns"
   ]
  },
  {
   "cell_type": "code",
   "execution_count": 306,
   "metadata": {},
   "outputs": [
    {
     "name": "stdout",
     "output_type": "stream",
     "text": [
      "There are 13737 artists to parse through\n"
     ]
    }
   ],
   "source": [
    "artists = spotify_table.artist_name.unique()\n",
    "print('There are %.0f artists to parse through' % artists.shape[0])"
   ]
  },
  {
   "cell_type": "code",
   "execution_count": 307,
   "metadata": {},
   "outputs": [
    {
     "data": {
      "text/html": [
       "<div>\n",
       "<style>\n",
       "    .dataframe thead tr:only-child th {\n",
       "        text-align: right;\n",
       "    }\n",
       "\n",
       "    .dataframe thead th {\n",
       "        text-align: left;\n",
       "    }\n",
       "\n",
       "    .dataframe tbody tr th {\n",
       "        vertical-align: top;\n",
       "    }\n",
       "</style>\n",
       "<table border=\"1\" class=\"dataframe\">\n",
       "  <thead>\n",
       "    <tr style=\"text-align: right;\">\n",
       "      <th></th>\n",
       "      <th>artist_genres</th>\n",
       "      <th>artist_id</th>\n",
       "      <th>artist_name</th>\n",
       "      <th>artist_spotify_url</th>\n",
       "      <th>artist_total_followers</th>\n",
       "      <th>bc_artist_name</th>\n",
       "      <th>match</th>\n",
       "      <th>popularity</th>\n",
       "      <th>related_artists_sp</th>\n",
       "    </tr>\n",
       "  </thead>\n",
       "  <tbody>\n",
       "    <tr>\n",
       "      <th>0</th>\n",
       "      <td>['deep psytrance']</td>\n",
       "      <td>4mcgQslFqVoXe78ADfBoLX</td>\n",
       "      <td>Whitebear</td>\n",
       "      <td>https://open.spotify.com/artist/4mcgQslFqVoXe7...</td>\n",
       "      <td>3264</td>\n",
       "      <td>Whitebear</td>\n",
       "      <td>True</td>\n",
       "      <td>27</td>\n",
       "      <td>['Mr. Bill', 'Bumble', 'Kalya Scintilla', 'SIX...</td>\n",
       "    </tr>\n",
       "    <tr>\n",
       "      <th>1</th>\n",
       "      <td>none</td>\n",
       "      <td>43YBvuW0iMYrQlpSsJJQWp</td>\n",
       "      <td>We Were Friends</td>\n",
       "      <td>https://open.spotify.com/artist/43YBvuW0iMYrQl...</td>\n",
       "      <td>69</td>\n",
       "      <td>We Were Friends</td>\n",
       "      <td>True</td>\n",
       "      <td>3</td>\n",
       "      <td>['Matt Steele', 'Flowerpot Press', 'The Auspic...</td>\n",
       "    </tr>\n",
       "  </tbody>\n",
       "</table>\n",
       "</div>"
      ],
      "text/plain": [
       "        artist_genres               artist_id      artist_name  \\\n",
       "0  ['deep psytrance']  4mcgQslFqVoXe78ADfBoLX        Whitebear   \n",
       "1                none  43YBvuW0iMYrQlpSsJJQWp  We Were Friends   \n",
       "\n",
       "                                  artist_spotify_url artist_total_followers  \\\n",
       "0  https://open.spotify.com/artist/4mcgQslFqVoXe7...                   3264   \n",
       "1  https://open.spotify.com/artist/43YBvuW0iMYrQl...                     69   \n",
       "\n",
       "    bc_artist_name  match popularity  \\\n",
       "0        Whitebear   True         27   \n",
       "1  We Were Friends   True          3   \n",
       "\n",
       "                                  related_artists_sp  \n",
       "0  ['Mr. Bill', 'Bumble', 'Kalya Scintilla', 'SIX...  \n",
       "1  ['Matt Steele', 'Flowerpot Press', 'The Auspic...  "
      ]
     },
     "execution_count": 307,
     "metadata": {},
     "output_type": "execute_result"
    }
   ],
   "source": [
    "spotify_table.head(2)"
   ]
  },
  {
   "cell_type": "code",
   "execution_count": 341,
   "metadata": {},
   "outputs": [
    {
     "data": {
      "text/plain": [
       "'Glass Machines'"
      ]
     },
     "execution_count": 341,
     "metadata": {},
     "output_type": "execute_result"
    }
   ],
   "source": [
    "artist"
   ]
  },
  {
   "cell_type": "code",
   "execution_count": 340,
   "metadata": {},
   "outputs": [
    {
     "data": {
      "text/plain": [
       "(array([11129]),)"
      ]
     },
     "execution_count": 340,
     "metadata": {},
     "output_type": "execute_result"
    }
   ],
   "source": [
    "np.where(artists == artist)"
   ]
  },
  {
   "cell_type": "code",
   "execution_count": 342,
   "metadata": {
    "collapsed": true
   },
   "outputs": [],
   "source": [
    "spotify_table.loc[spotify_table.artist_name==artist,'artist_total_followers'] = 2"
   ]
  },
  {
   "cell_type": "code",
   "execution_count": 343,
   "metadata": {
    "collapsed": true,
    "scrolled": false
   },
   "outputs": [],
   "source": [
    "for artist in artists[11129:]:\n",
    "    #retrieve record in spotify_table\n",
    "    sp = spotify_table[spotify_table.artist_name == artist]\n",
    "    \n",
    "    #get relevant information from spotify_table\n",
    "    sp_follows = sp.artist_total_followers.values[0]\n",
    "    sp_genres = sp.artist_genres\n",
    "    sp_related_artists = sp.related_artists_sp.values[0]\n",
    "    sp_popularity = sp.popularity\n",
    "    \n",
    "    #retrieve sales records for that artist\n",
    "    bc_name = sp.artist_name.values[0]\n",
    "    \n",
    "    sales = sales_table[sales_table.artist_name == bc_name]\n",
    "    \n",
    "    #get info on total sales\n",
    "    total_revenue = sales.amount_paid_usd.sum()\n",
    "    total_sales = sales.shape[0]\n",
    "    total_avgprice = sales.amount_paid_usd.mean()\n",
    "    \n",
    "    #get info on different product types\n",
    "    a_total_revenue = sales[sales.item_type == 'a'].amount_paid_usd.sum()\n",
    "    a_total_sales =sales[sales.item_type == 'a'].shape[0]\n",
    "    a_avgprice = sales[sales.item_type == 'a'].amount_paid_usd.mean()\n",
    "    \n",
    "    p_total_revenue = sales[sales.item_type == 'p'].amount_paid_usd.sum()\n",
    "    p_total_sales =sales[sales.item_type == 'p'].shape[0]\n",
    "    p_avgprice = sales[sales.item_type == 'p'].amount_paid_usd.mean()\n",
    "    \n",
    "    t_total_revenue = sales[sales.item_type == 't'].amount_paid_usd.sum()\n",
    "    t_total_sales =sales[sales.item_type == 't'].shape[0]\n",
    "    t_avgprice = sales[sales.item_type == 't'].amount_paid_usd.mean()\n",
    "    \n",
    "    b_total_revenue = sales[sales.item_type == 'b'].amount_paid_usd.sum()\n",
    "    b_total_sales =sales[sales.item_type == 'b'].shape[0]\n",
    "    b_avgprice = sales[sales.item_type == 'b'].amount_paid_usd.mean()\n",
    "    \n",
    "    #retrieve bandcamp_table info\n",
    "    bandcamp = bandcamp_table[bandcamp_table.artist_name == bc_name]\n",
    "    \n",
    "    if bandcamp.shape[0]==0:\n",
    "        bc_name_adj = '[' + bc_name + ']'\n",
    "        bandcamp = bandcamp_table[bandcamp_table.artist_name == bc_name_adj]\n",
    "    \n",
    "    if bandcamp.shape[0]==0:\n",
    "        not_found.append(bc_name)\n",
    "        bc_total_supporters = None\n",
    "        bc_num_albums = None\n",
    "        bc_avg_supporters = None\n",
    "    else:\n",
    "        bc_total_supporters = bandcamp.shape[0]\n",
    "        bc_num_albums = bandcamp.album_url.unique().shape[0]\n",
    "        bc_avg_supporters = bandcamp.shape[0] / bc_num_albums\n",
    "\n",
    "    d = {\n",
    "        'sp_artist': artist,\n",
    "        'bc_artist': bc_name,\n",
    "        'sp_num_followers': int(sp_follows),\n",
    "        'sp_popularity': int(sp_popularity.values[0]),\n",
    "        'sp_genres': sp_genres.values[0],\n",
    "        'sp_related_artists':sp_related_artists,\n",
    "        'bc_num_supporters': bc_total_supporters,\n",
    "        'bc_avg_supporters': bc_avg_supporters,\n",
    "        'bc_num_albums': bc_num_albums,\n",
    "        'sales_total_revenue': total_revenue,\n",
    "        'sales_total_sales': total_sales,\n",
    "        'sales_avgprice': total_avgprice,\n",
    "        'sales_album_dl_revenue': a_total_revenue,\n",
    "        'sales_album_dl_sales': a_total_sales,\n",
    "        'sales_album_dl_avgprice': a_avgprice,\n",
    "        'sales_album_p_revenue': p_total_revenue,\n",
    "        'sales_album_p_sales': p_total_sales,\n",
    "        'sales_album_p_avgprice': p_avgprice,\n",
    "        'sales_track_dl_revenue': t_total_revenue,\n",
    "        'sales_track_dl_sales': t_total_sales,\n",
    "        'sales_track_dl_avgprice': t_avgprice,\n",
    "        'sales_bundle_revenue': b_total_revenue,\n",
    "        'sales_bundle_sales': b_total_sales,\n",
    "        'sales_bundle_avgprice': b_avgprice\n",
    "    }\n",
    "\n",
    "    master_table = master_table.append(pd.DataFrame(data=d,index=[0]))\n",
    "    master_table.to_csv('/Users/shayneufeld/Dropbox/insight/pricecamp/master_table.csv')"
   ]
  },
  {
   "cell_type": "code",
   "execution_count": 344,
   "metadata": {},
   "outputs": [
    {
     "data": {
      "text/plain": [
       "(13737, 24)"
      ]
     },
     "execution_count": 344,
     "metadata": {},
     "output_type": "execute_result"
    }
   ],
   "source": [
    "master_table.shape"
   ]
  },
  {
   "cell_type": "markdown",
   "metadata": {},
   "source": [
    "## add master_table to db (this was done aft"
   ]
  },
  {
   "cell_type": "code",
   "execution_count": 3,
   "metadata": {
    "collapsed": true
   },
   "outputs": [],
   "source": [
    "master_table = pd.read_csv('/Users/shayneufeld/Dropbox/insight/pricecamp/master_table.csv')"
   ]
  },
  {
   "cell_type": "code",
   "execution_count": 6,
   "metadata": {},
   "outputs": [],
   "source": [
    "master_table.to_sql('artist_summary_table', engine, if_exists='replace')"
   ]
  },
  {
   "cell_type": "markdown",
   "metadata": {},
   "source": [
    "## add trimmed data (only artists with sales data and spotify genres)"
   ]
  },
  {
   "cell_type": "code",
   "execution_count": 8,
   "metadata": {},
   "outputs": [],
   "source": [
    "data_trimmed = master_table[master_table.sp_genres != 'none']\n",
    "data_trimmed = data_trimmed[~data_trimmed.bc_num_albums.isnull()]\n",
    "data_trimmed.to_sql('artist_table_trimmed',engine,if_exists='replace')"
   ]
  },
  {
   "cell_type": "code",
   "execution_count": 31,
   "metadata": {},
   "outputs": [
    {
     "name": "stdout",
     "output_type": "stream",
     "text": [
      "<50 - 477\n",
      "50:500 - 431\n",
      ">500 - 129\n"
     ]
    },
    {
     "data": {
      "image/png": "[encoded data removed]",
      "text/plain": [
       "<matplotlib.figure.Figure at 0x1168e90b8>"
      ]
     },
     "metadata": {},
     "output_type": "display_data"
    }
   ],
   "source": [
    "plt.hist(data_trimmed.bc_num_supporters.values,bins=100)\n",
    "plt.title('sh')\n",
    "\n",
    "small = data_trimmed[data_trimmed.bc_num_supporters < 50].shape[0]\n",
    "large = data_trimmed[data_trimmed.bc_num_supporters > 500].shape[0]\n",
    "med = data_trimmed.shape[0] - small - large\n",
    "\n",
    "print('<50 - %.0f' % small)\n",
    "print('50:500 - %.0f' % med)\n",
    "print('>500 - %.0f' % large)"
   ]
  },
  {
   "cell_type": "code",
   "execution_count": null,
   "metadata": {
    "collapsed": true
   },
   "outputs": [],
   "source": []
  },
  {
   "cell_type": "code",
   "execution_count": 22,
   "metadata": {},
   "outputs": [],
   "source": [
    "data_trimmed.to_csv('/Users/shayneufeld/Dropbox/insight/pricecamp/master_table_trimmed.csv')"
   ]
  },
  {
   "cell_type": "code",
   "execution_count": 20,
   "metadata": {},
   "outputs": [
    {
     "data": {
      "text/html": [
       "<div>\n",
       "<style>\n",
       "    .dataframe thead tr:only-child th {\n",
       "        text-align: right;\n",
       "    }\n",
       "\n",
       "    .dataframe thead th {\n",
       "        text-align: left;\n",
       "    }\n",
       "\n",
       "    .dataframe tbody tr th {\n",
       "        vertical-align: top;\n",
       "    }\n",
       "</style>\n",
       "<table border=\"1\" class=\"dataframe\">\n",
       "  <thead>\n",
       "    <tr style=\"text-align: right;\">\n",
       "      <th></th>\n",
       "      <th>artist</th>\n",
       "      <th>num_followers</th>\n",
       "    </tr>\n",
       "  </thead>\n",
       "  <tbody>\n",
       "    <tr>\n",
       "      <th>7642</th>\n",
       "      <td>bl00dwave</td>\n",
       "      <td>4612.000000</td>\n",
       "    </tr>\n",
       "    <tr>\n",
       "      <th>46</th>\n",
       "      <td>Mystery Skulls</td>\n",
       "      <td>4274.500000</td>\n",
       "    </tr>\n",
       "    <tr>\n",
       "      <th>4133</th>\n",
       "      <td>Riverwave 川の波</td>\n",
       "      <td>3375.000000</td>\n",
       "    </tr>\n",
       "    <tr>\n",
       "      <th>8260</th>\n",
       "      <td>Dan Mason ダン·メイソン</td>\n",
       "      <td>2841.000000</td>\n",
       "    </tr>\n",
       "    <tr>\n",
       "      <th>901</th>\n",
       "      <td>Yussef Kamaal</td>\n",
       "      <td>2666.000000</td>\n",
       "    </tr>\n",
       "    <tr>\n",
       "      <th>250</th>\n",
       "      <td>FM-84</td>\n",
       "      <td>2590.000000</td>\n",
       "    </tr>\n",
       "    <tr>\n",
       "      <th>965</th>\n",
       "      <td>Carpenter Brut</td>\n",
       "      <td>2589.500000</td>\n",
       "    </tr>\n",
       "    <tr>\n",
       "      <th>1519</th>\n",
       "      <td>Cloudkicker</td>\n",
       "      <td>2284.000000</td>\n",
       "    </tr>\n",
       "    <tr>\n",
       "      <th>582</th>\n",
       "      <td>Sufjan Stevens</td>\n",
       "      <td>2051.750000</td>\n",
       "    </tr>\n",
       "    <tr>\n",
       "      <th>776</th>\n",
       "      <td>JD senuTi</td>\n",
       "      <td>2004.000000</td>\n",
       "    </tr>\n",
       "    <tr>\n",
       "      <th>540</th>\n",
       "      <td>Theophany</td>\n",
       "      <td>1823.000000</td>\n",
       "    </tr>\n",
       "    <tr>\n",
       "      <th>274</th>\n",
       "      <td>Noname</td>\n",
       "      <td>1663.000000</td>\n",
       "    </tr>\n",
       "    <tr>\n",
       "      <th>414</th>\n",
       "      <td>The Helix Nebula</td>\n",
       "      <td>1490.000000</td>\n",
       "    </tr>\n",
       "    <tr>\n",
       "      <th>1357</th>\n",
       "      <td>Turnover</td>\n",
       "      <td>1484.000000</td>\n",
       "    </tr>\n",
       "    <tr>\n",
       "      <th>4461</th>\n",
       "      <td>The Oh Hellos</td>\n",
       "      <td>1474.500000</td>\n",
       "    </tr>\n",
       "    <tr>\n",
       "      <th>48</th>\n",
       "      <td>Elder</td>\n",
       "      <td>1437.000000</td>\n",
       "    </tr>\n",
       "    <tr>\n",
       "      <th>429</th>\n",
       "      <td>Ephixa</td>\n",
       "      <td>1423.500000</td>\n",
       "    </tr>\n",
       "    <tr>\n",
       "      <th>315</th>\n",
       "      <td>Watsky</td>\n",
       "      <td>1340.000000</td>\n",
       "    </tr>\n",
       "    <tr>\n",
       "      <th>2682</th>\n",
       "      <td>Chipzel</td>\n",
       "      <td>1326.500000</td>\n",
       "    </tr>\n",
       "    <tr>\n",
       "      <th>562</th>\n",
       "      <td>Slowdive</td>\n",
       "      <td>1325.000000</td>\n",
       "    </tr>\n",
       "    <tr>\n",
       "      <th>464</th>\n",
       "      <td>Plini</td>\n",
       "      <td>1266.000000</td>\n",
       "    </tr>\n",
       "    <tr>\n",
       "      <th>203</th>\n",
       "      <td>Ken Ashcorp</td>\n",
       "      <td>1262.500000</td>\n",
       "    </tr>\n",
       "    <tr>\n",
       "      <th>316</th>\n",
       "      <td>CBMC</td>\n",
       "      <td>1189.000000</td>\n",
       "    </tr>\n",
       "    <tr>\n",
       "      <th>3411</th>\n",
       "      <td>Lifeformed</td>\n",
       "      <td>1129.500000</td>\n",
       "    </tr>\n",
       "    <tr>\n",
       "      <th>1400</th>\n",
       "      <td>Snarky Puppy</td>\n",
       "      <td>1126.000000</td>\n",
       "    </tr>\n",
       "    <tr>\n",
       "      <th>1277</th>\n",
       "      <td>Eric Buchholz</td>\n",
       "      <td>1064.000000</td>\n",
       "    </tr>\n",
       "    <tr>\n",
       "      <th>213</th>\n",
       "      <td>Japanese Breakfast</td>\n",
       "      <td>1059.000000</td>\n",
       "    </tr>\n",
       "    <tr>\n",
       "      <th>51</th>\n",
       "      <td>Julien Baker</td>\n",
       "      <td>1047.666667</td>\n",
       "    </tr>\n",
       "    <tr>\n",
       "      <th>1506</th>\n",
       "      <td>Disasterpeace</td>\n",
       "      <td>895.285714</td>\n",
       "    </tr>\n",
       "    <tr>\n",
       "      <th>326</th>\n",
       "      <td>Rob Cantor</td>\n",
       "      <td>874.000000</td>\n",
       "    </tr>\n",
       "    <tr>\n",
       "      <th>...</th>\n",
       "      <td>...</td>\n",
       "      <td>...</td>\n",
       "    </tr>\n",
       "    <tr>\n",
       "      <th>7175</th>\n",
       "      <td>Osunlade</td>\n",
       "      <td>1.000000</td>\n",
       "    </tr>\n",
       "    <tr>\n",
       "      <th>1036</th>\n",
       "      <td>Lee Scott</td>\n",
       "      <td>1.000000</td>\n",
       "    </tr>\n",
       "    <tr>\n",
       "      <th>9945</th>\n",
       "      <td>KO3</td>\n",
       "      <td>1.000000</td>\n",
       "    </tr>\n",
       "    <tr>\n",
       "      <th>818</th>\n",
       "      <td>Half Pint</td>\n",
       "      <td>1.000000</td>\n",
       "    </tr>\n",
       "    <tr>\n",
       "      <th>446</th>\n",
       "      <td>Ona</td>\n",
       "      <td>1.000000</td>\n",
       "    </tr>\n",
       "    <tr>\n",
       "      <th>800</th>\n",
       "      <td>David Day</td>\n",
       "      <td>1.000000</td>\n",
       "    </tr>\n",
       "    <tr>\n",
       "      <th>786</th>\n",
       "      <td>Sleeparchive</td>\n",
       "      <td>1.000000</td>\n",
       "    </tr>\n",
       "    <tr>\n",
       "      <th>2524</th>\n",
       "      <td>Bob Schneider</td>\n",
       "      <td>1.000000</td>\n",
       "    </tr>\n",
       "    <tr>\n",
       "      <th>487</th>\n",
       "      <td>Crazy P</td>\n",
       "      <td>1.000000</td>\n",
       "    </tr>\n",
       "    <tr>\n",
       "      <th>314</th>\n",
       "      <td>Damsel in the Dollhouse</td>\n",
       "      <td>1.000000</td>\n",
       "    </tr>\n",
       "    <tr>\n",
       "      <th>293</th>\n",
       "      <td>6Blocc</td>\n",
       "      <td>1.000000</td>\n",
       "    </tr>\n",
       "    <tr>\n",
       "      <th>4606</th>\n",
       "      <td>Oleg Poliakov</td>\n",
       "      <td>1.000000</td>\n",
       "    </tr>\n",
       "    <tr>\n",
       "      <th>1223</th>\n",
       "      <td>Summoner</td>\n",
       "      <td>1.000000</td>\n",
       "    </tr>\n",
       "    <tr>\n",
       "      <th>105</th>\n",
       "      <td>Mark Instinct</td>\n",
       "      <td>1.000000</td>\n",
       "    </tr>\n",
       "    <tr>\n",
       "      <th>1335</th>\n",
       "      <td>Robert Davies</td>\n",
       "      <td>1.000000</td>\n",
       "    </tr>\n",
       "    <tr>\n",
       "      <th>6004</th>\n",
       "      <td>Pinkcourtesyphone</td>\n",
       "      <td>1.000000</td>\n",
       "    </tr>\n",
       "    <tr>\n",
       "      <th>1250</th>\n",
       "      <td>Hironori Takahashi</td>\n",
       "      <td>1.000000</td>\n",
       "    </tr>\n",
       "    <tr>\n",
       "      <th>1240</th>\n",
       "      <td>Daniel Deluxe</td>\n",
       "      <td>1.000000</td>\n",
       "    </tr>\n",
       "    <tr>\n",
       "      <th>12170</th>\n",
       "      <td>Viken Arman</td>\n",
       "      <td>1.000000</td>\n",
       "    </tr>\n",
       "    <tr>\n",
       "      <th>3473</th>\n",
       "      <td>Sola Rosa</td>\n",
       "      <td>1.000000</td>\n",
       "    </tr>\n",
       "    <tr>\n",
       "      <th>199</th>\n",
       "      <td>Defunk</td>\n",
       "      <td>1.000000</td>\n",
       "    </tr>\n",
       "    <tr>\n",
       "      <th>1061</th>\n",
       "      <td>Akasha Project</td>\n",
       "      <td>1.000000</td>\n",
       "    </tr>\n",
       "    <tr>\n",
       "      <th>549</th>\n",
       "      <td>L-Wiz</td>\n",
       "      <td>1.000000</td>\n",
       "    </tr>\n",
       "    <tr>\n",
       "      <th>1168</th>\n",
       "      <td>Vybz Kartel</td>\n",
       "      <td>1.000000</td>\n",
       "    </tr>\n",
       "    <tr>\n",
       "      <th>258</th>\n",
       "      <td>Fatima Al Qadiri</td>\n",
       "      <td>1.000000</td>\n",
       "    </tr>\n",
       "    <tr>\n",
       "      <th>1084</th>\n",
       "      <td>State Azure</td>\n",
       "      <td>1.000000</td>\n",
       "    </tr>\n",
       "    <tr>\n",
       "      <th>1075</th>\n",
       "      <td>Sinistarr</td>\n",
       "      <td>1.000000</td>\n",
       "    </tr>\n",
       "    <tr>\n",
       "      <th>665</th>\n",
       "      <td>Fantasy Island</td>\n",
       "      <td>1.000000</td>\n",
       "    </tr>\n",
       "    <tr>\n",
       "      <th>275</th>\n",
       "      <td>Bon Iver</td>\n",
       "      <td>1.000000</td>\n",
       "    </tr>\n",
       "    <tr>\n",
       "      <th>1055</th>\n",
       "      <td>The Deli</td>\n",
       "      <td>1.000000</td>\n",
       "    </tr>\n",
       "  </tbody>\n",
       "</table>\n",
       "<p>1037 rows × 2 columns</p>\n",
       "</div>"
      ],
      "text/plain": [
       "                        artist  num_followers\n",
       "7642                 bl00dwave    4612.000000\n",
       "46              Mystery Skulls    4274.500000\n",
       "4133             Riverwave 川の波    3375.000000\n",
       "8260         Dan Mason ダン·メイソン    2841.000000\n",
       "901              Yussef Kamaal    2666.000000\n",
       "250                      FM-84    2590.000000\n",
       "965             Carpenter Brut    2589.500000\n",
       "1519               Cloudkicker    2284.000000\n",
       "582             Sufjan Stevens    2051.750000\n",
       "776                  JD senuTi    2004.000000\n",
       "540                  Theophany    1823.000000\n",
       "274                     Noname    1663.000000\n",
       "414           The Helix Nebula    1490.000000\n",
       "1357                  Turnover    1484.000000\n",
       "4461             The Oh Hellos    1474.500000\n",
       "48                       Elder    1437.000000\n",
       "429                     Ephixa    1423.500000\n",
       "315                     Watsky    1340.000000\n",
       "2682                   Chipzel    1326.500000\n",
       "562                   Slowdive    1325.000000\n",
       "464                      Plini    1266.000000\n",
       "203                Ken Ashcorp    1262.500000\n",
       "316                       CBMC    1189.000000\n",
       "3411                Lifeformed    1129.500000\n",
       "1400              Snarky Puppy    1126.000000\n",
       "1277             Eric Buchholz    1064.000000\n",
       "213         Japanese Breakfast    1059.000000\n",
       "51                Julien Baker    1047.666667\n",
       "1506             Disasterpeace     895.285714\n",
       "326                 Rob Cantor     874.000000\n",
       "...                        ...            ...\n",
       "7175                  Osunlade       1.000000\n",
       "1036                 Lee Scott       1.000000\n",
       "9945                       KO3       1.000000\n",
       "818                  Half Pint       1.000000\n",
       "446                        Ona       1.000000\n",
       "800                  David Day       1.000000\n",
       "786               Sleeparchive       1.000000\n",
       "2524             Bob Schneider       1.000000\n",
       "487                    Crazy P       1.000000\n",
       "314    Damsel in the Dollhouse       1.000000\n",
       "293                     6Blocc       1.000000\n",
       "4606             Oleg Poliakov       1.000000\n",
       "1223                  Summoner       1.000000\n",
       "105              Mark Instinct       1.000000\n",
       "1335             Robert Davies       1.000000\n",
       "6004         Pinkcourtesyphone       1.000000\n",
       "1250        Hironori Takahashi       1.000000\n",
       "1240             Daniel Deluxe       1.000000\n",
       "12170              Viken Arman       1.000000\n",
       "3473                 Sola Rosa       1.000000\n",
       "199                     Defunk       1.000000\n",
       "1061            Akasha Project       1.000000\n",
       "549                      L-Wiz       1.000000\n",
       "1168               Vybz Kartel       1.000000\n",
       "258           Fatima Al Qadiri       1.000000\n",
       "1084               State Azure       1.000000\n",
       "1075                 Sinistarr       1.000000\n",
       "665             Fantasy Island       1.000000\n",
       "275                   Bon Iver       1.000000\n",
       "1055                  The Deli       1.000000\n",
       "\n",
       "[1037 rows x 2 columns]"
      ]
     },
     "execution_count": 20,
     "metadata": {},
     "output_type": "execute_result"
    }
   ],
   "source": [
    "data_trimmed.bc_avg_supporters.sort_values(ascending=False).values\n",
    "popular_artists_inds = data_trimmed.bc_avg_supporters.sort_values(ascending=False).index.values\n",
    "popular_artists = data_trimmed.loc[popular_artists_inds,'bc_artist']\n",
    "d = {'artist':popular_artists,'num_followers':data_trimmed.bc_avg_supporters.sort_values(ascending=False).values}\n",
    "pd.DataFrame(data=d)"
   ]
  },
  {
   "cell_type": "code",
   "execution_count": 247,
   "metadata": {
    "scrolled": false
   },
   "outputs": [
    {
     "data": {
      "text/plain": [
       "<matplotlib.text.Text at 0x12750a630>"
      ]
     },
     "execution_count": 247,
     "metadata": {},
     "output_type": "execute_result"
    },
    {
     "data": {
      "image/png": "[encoded data removed]",
      "text/plain": [
       "<matplotlib.figure.Figure at 0x1248dc470>"
      ]
     },
     "metadata": {},
     "output_type": "display_data"
    }
   ],
   "source": [
    "plt.scatter(master_table.bc_num_supporters.values,master_table.sp_num_followers)\n",
    "plt.xlabel('bandcamp')\n",
    "plt.ylabel('spotify')"
   ]
  },
  {
   "cell_type": "markdown",
   "metadata": {},
   "source": [
    "plt.scatter(master_table.sp_num_followers,master_table.sales_total_revenue.values)"
   ]
  },
  {
   "cell_type": "code",
   "execution_count": 183,
   "metadata": {},
   "outputs": [
    {
     "data": {
      "text/plain": [
       "185657"
      ]
     },
     "execution_count": 183,
     "metadata": {},
     "output_type": "execute_result"
    }
   ],
   "source": [
    "int(sp.artist_total_followers.values[0])"
   ]
  },
  {
   "cell_type": "code",
   "execution_count": 253,
   "metadata": {
    "collapsed": true
   },
   "outputs": [],
   "source": [
    "num_supporters = master_table[master_table.bc_num_supporters = None].bc_num_supporters.values"
   ]
  },
  {
   "cell_type": "code",
   "execution_count": 261,
   "metadata": {},
   "outputs": [
    {
     "data": {
      "text/html": [
       "<div>\n",
       "<style>\n",
       "    .dataframe thead tr:only-child th {\n",
       "        text-align: right;\n",
       "    }\n",
       "\n",
       "    .dataframe thead th {\n",
       "        text-align: left;\n",
       "    }\n",
       "\n",
       "    .dataframe tbody tr th {\n",
       "        vertical-align: top;\n",
       "    }\n",
       "</style>\n",
       "<table border=\"1\" class=\"dataframe\">\n",
       "  <thead>\n",
       "    <tr style=\"text-align: right;\">\n",
       "      <th></th>\n",
       "      <th>bc_artist</th>\n",
       "      <th>bc_avg_supporters</th>\n",
       "      <th>bc_num_albums</th>\n",
       "      <th>bc_num_supporters</th>\n",
       "      <th>sales_album_dl_avgprice</th>\n",
       "      <th>sales_album_dl_revenue</th>\n",
       "      <th>sales_album_dl_sales</th>\n",
       "      <th>sales_album_p_avgprice</th>\n",
       "      <th>sales_album_p_revenue</th>\n",
       "      <th>sales_album_p_sales</th>\n",
       "      <th>...</th>\n",
       "      <th>sales_total_revenue</th>\n",
       "      <th>sales_total_sales</th>\n",
       "      <th>sales_track_dl_avgprice</th>\n",
       "      <th>sales_track_dl_revenue</th>\n",
       "      <th>sales_track_dl_sales</th>\n",
       "      <th>sp_artist</th>\n",
       "      <th>sp_genres</th>\n",
       "      <th>sp_num_followers</th>\n",
       "      <th>sp_popularity</th>\n",
       "      <th>sp_related_artists</th>\n",
       "    </tr>\n",
       "  </thead>\n",
       "  <tbody>\n",
       "  </tbody>\n",
       "</table>\n",
       "<p>0 rows × 24 columns</p>\n",
       "</div>"
      ],
      "text/plain": [
       "Empty DataFrame\n",
       "Columns: [bc_artist, bc_avg_supporters, bc_num_albums, bc_num_supporters, sales_album_dl_avgprice, sales_album_dl_revenue, sales_album_dl_sales, sales_album_p_avgprice, sales_album_p_revenue, sales_album_p_sales, sales_avgprice, sales_bundle_avgprice, sales_bundle_revenue, sales_bundle_sales, sales_total_revenue, sales_total_sales, sales_track_dl_avgprice, sales_track_dl_revenue, sales_track_dl_sales, sp_artist, sp_genres, sp_num_followers, sp_popularity, sp_related_artists]\n",
       "Index: []\n",
       "\n",
       "[0 rows x 24 columns]"
      ]
     },
     "execution_count": 261,
     "metadata": {},
     "output_type": "execute_result"
    }
   ],
   "source": [
    "master_table[master_table.bc_num_supporters == None]"
   ]
  },
  {
   "cell_type": "code",
   "execution_count": 277,
   "metadata": {
    "collapsed": true
   },
   "outputs": [],
   "source": [
    "num_supporters = master_table.bc_num_supporters.values[master_table.bc_num_supporters.values != None]"
   ]
  },
  {
   "cell_type": "code",
   "execution_count": 280,
   "metadata": {},
   "outputs": [
    {
     "data": {
      "text/plain": [
       "(array([ 196.,   22.,   13.,    7.,    2.,    5.,    1.,    0.,    0.,\n",
       "           0.,    1.,    0.,    1.,    1.,    0.,    1.,    0.,    0.,\n",
       "           0.,    0.,    0.,    1.,    0.,    2.,    0.,    0.,    0.,\n",
       "           0.,    0.,    0.,    0.,    0.,    0.,    0.,    0.,    0.,\n",
       "           0.,    0.,    0.,    0.,    0.,    0.,    0.,    0.,    0.,\n",
       "           0.,    0.,    0.,    0.,    1.]),\n",
       " array([  1.00000000e+00,   2.38760000e+02,   4.76520000e+02,\n",
       "          7.14280000e+02,   9.52040000e+02,   1.18980000e+03,\n",
       "          1.42756000e+03,   1.66532000e+03,   1.90308000e+03,\n",
       "          2.14084000e+03,   2.37860000e+03,   2.61636000e+03,\n",
       "          2.85412000e+03,   3.09188000e+03,   3.32964000e+03,\n",
       "          3.56740000e+03,   3.80516000e+03,   4.04292000e+03,\n",
       "          4.28068000e+03,   4.51844000e+03,   4.75620000e+03,\n",
       "          4.99396000e+03,   5.23172000e+03,   5.46948000e+03,\n",
       "          5.70724000e+03,   5.94500000e+03,   6.18276000e+03,\n",
       "          6.42052000e+03,   6.65828000e+03,   6.89604000e+03,\n",
       "          7.13380000e+03,   7.37156000e+03,   7.60932000e+03,\n",
       "          7.84708000e+03,   8.08484000e+03,   8.32260000e+03,\n",
       "          8.56036000e+03,   8.79812000e+03,   9.03588000e+03,\n",
       "          9.27364000e+03,   9.51140000e+03,   9.74916000e+03,\n",
       "          9.98692000e+03,   1.02246800e+04,   1.04624400e+04,\n",
       "          1.07002000e+04,   1.09379600e+04,   1.11757200e+04,\n",
       "          1.14134800e+04,   1.16512400e+04,   1.18890000e+04]),\n",
       " <a list of 50 Patch objects>)"
      ]
     },
     "execution_count": 280,
     "metadata": {},
     "output_type": "execute_result"
    },
    {
     "data": {
      "image/png": "[encoded data removed]",
      "text/plain": [
       "<matplotlib.figure.Figure at 0x1268cf2e8>"
      ]
     },
     "metadata": {},
     "output_type": "display_data"
    }
   ],
   "source": [
    "plt.hist(num_supporters,bins=50)"
   ]
  }
 ],
 "metadata": {
  "kernelspec": {
   "display_name": "Python 3",
   "language": "python",
   "name": "python3"
  },
  "language_info": {
   "codemirror_mode": {
    "name": "ipython",
    "version": 3
   },
   "file_extension": ".py",
   "mimetype": "text/x-python",
   "name": "python",
   "nbconvert_exporter": "python",
   "pygments_lexer": "ipython3",
   "version": "3.6.1"
  }
 },
 "nbformat": 4,
 "nbformat_minor": 2
}
