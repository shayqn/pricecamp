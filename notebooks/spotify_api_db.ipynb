{
 "cells": [
  {
   "cell_type": "markdown",
   "metadata": {},
   "source": [
    "# spotify database\n",
    "\n",
    "## table 1: albums\n",
    "\n",
    "## table 2: related artists (maybe for each one add country / popularity)\n",
    "    - can't do 'top genre' as far as i can tell; it's just listed alphabetically.\n",
    "\n",
    "## table 3: artist: # followers, popularity\n",
    "\n",
    "## table 4: artist: genres"
   ]
  },
  {
   "cell_type": "markdown",
   "metadata": {},
   "source": [
    "### 7.20.2017\n",
    "I've gone through the api - it seems like the the useful parameters that spotify can provide are:\n",
    "1. artist - number of followers\n",
    "2. artist - genres\n",
    "3. artist - related artists\n",
    "4. artist - popularity metric\n",
    "5. artist - album list\n",
    "6. artist - song list\n",
    "\n",
    "No available data on spotify for other users. "
   ]
  },
  {
   "cell_type": "code",
   "execution_count": 22,
   "metadata": {
    "collapsed": true
   },
   "outputs": [],
   "source": [
    "import sys\n",
    "import spotipy\n",
    "import spotipy.util as util\n",
    "import json\n",
    "import pandas as pd\n",
    "import numpy as np"
   ]
  },
  {
   "cell_type": "code",
   "execution_count": 23,
   "metadata": {
    "collapsed": true
   },
   "outputs": [],
   "source": [
    "import spotipy, requests\n",
    "from spotipy.oauth2 import SpotifyClientCredentials\n",
    "from collections import defaultdict\n",
    "\n",
    "client_credentials_manager = SpotifyClientCredentials(client_id='a86b71d482194d3a87fed76c17765e28', \n",
    "                                                      client_secret='2916196c21ea4dcba4060b58d12be9bc')\n",
    "\n",
    "sp = spotipy.Spotify(client_credentials_manager=client_credentials_manager)"
   ]
  },
  {
   "cell_type": "code",
   "execution_count": 24,
   "metadata": {
    "collapsed": true
   },
   "outputs": [],
   "source": [
    "def get_related_artists(artist_id):\n",
    "    results = sp.artist_related_artists(artist_id)\n",
    "    related_artists = []\n",
    "    for artist in results['artists']:\n",
    "        related_artists.append(artist['name'])\n",
    "    return related_artists"
   ]
  },
  {
   "cell_type": "code",
   "execution_count": 5,
   "metadata": {
    "collapsed": true
   },
   "outputs": [],
   "source": [
    "def get_artist_albums(artist_url):\n",
    "    data = sp.artist_albums(artist_url)\n",
    "    albums = []\n",
    "    for item in data['items'][0]:\n",
    "        albums.append(item['name'])"
   ]
  },
  {
   "cell_type": "code",
   "execution_count": 6,
   "metadata": {
    "collapsed": true
   },
   "outputs": [],
   "source": [
    "def get_artist_genres(artist_url):\n",
    "    data = sp.artist(artist_url)\n",
    "    return data['genres']"
   ]
  },
  {
   "cell_type": "code",
   "execution_count": 94,
   "metadata": {
    "collapsed": true
   },
   "outputs": [],
   "source": [
    "def get_artist_popularity(artist_url):\n",
    "    data = sp.artist_albums(artist_url)\n",
    "    return data['popularity']"
   ]
  },
  {
   "cell_type": "code",
   "execution_count": 25,
   "metadata": {
    "collapsed": true
   },
   "outputs": [],
   "source": [
    "df = pd.read_csv('/Users/shayneufeld/Dropbox/insight/pricecamp/data/sales.csv',index_col=0)"
   ]
  },
  {
   "cell_type": "code",
   "execution_count": 26,
   "metadata": {},
   "outputs": [
    {
     "data": {
      "text/plain": [
       "28606"
      ]
     },
     "execution_count": 26,
     "metadata": {},
     "output_type": "execute_result"
    }
   ],
   "source": [
    "artist_names = df.artist_name.unique()\n",
    "artist_names.shape[0]"
   ]
  },
  {
   "cell_type": "code",
   "execution_count": 29,
   "metadata": {},
   "outputs": [
    {
     "data": {
      "text/plain": [
       "28050"
      ]
     },
     "execution_count": 29,
     "metadata": {},
     "output_type": "execute_result"
    }
   ],
   "source": [
    "spotify_df = pd.read_csv('/Users/shayneufeld/Dropbox/insight/pricecamp/spotify_df.csv')\n",
    "spotify_df.shape[0]"
   ]
  },
  {
   "cell_type": "code",
   "execution_count": 9,
   "metadata": {},
   "outputs": [
    {
     "data": {
      "text/plain": [
       "(array([806]),)"
      ]
     },
     "execution_count": 9,
     "metadata": {},
     "output_type": "execute_result"
    }
   ],
   "source": [
    "np.where(artist_names=='FOLLOW ME NOT')"
   ]
  },
  {
   "cell_type": "code",
   "execution_count": 10,
   "metadata": {
    "collapsed": true
   },
   "outputs": [],
   "source": [
    "artist_names[806] = 'follow me not'"
   ]
  },
  {
   "cell_type": "code",
   "execution_count": 20,
   "metadata": {},
   "outputs": [
    {
     "data": {
      "text/plain": [
       "'Giulio Fagiolini'"
      ]
     },
     "execution_count": 20,
     "metadata": {},
     "output_type": "execute_result"
    }
   ],
   "source": [
    "artist"
   ]
  },
  {
   "cell_type": "code",
   "execution_count": 12,
   "metadata": {},
   "outputs": [
    {
     "data": {
      "text/plain": [
       "(array([28152]),)"
      ]
     },
     "execution_count": 12,
     "metadata": {},
     "output_type": "execute_result"
    }
   ],
   "source": [
    "np.where(artist_names == artist)"
   ]
  },
  {
   "cell_type": "code",
   "execution_count": 15,
   "metadata": {},
   "outputs": [
    {
     "data": {
      "text/plain": [
       "28153"
      ]
     },
     "execution_count": 15,
     "metadata": {},
     "output_type": "execute_result"
    }
   ],
   "source": [
    "artist_names.shape[0]"
   ]
  },
  {
   "cell_type": "code",
   "execution_count": 28,
   "metadata": {
    "scrolled": true
   },
   "outputs": [
    {
     "name": "stdout",
     "output_type": "stream",
     "text": [
      "error searching: Techno Animal\n",
      "error searching: St. Lenox\n",
      "error searching: Alex Calder\n",
      "error searching: Nick Delatovic\n",
      "error searching: Helen Newby\n",
      "error searching: John Craigie\n",
      "error searching: FOSTIONER\n",
      "error searching: Phil Legard\n",
      "error searching: Hybegnu\n",
      "error searching: 813\n",
      "error searching: Big Jacks\n",
      "error searching: J GRGRY\n",
      "error searching: Tomsaw\n",
      "error searching: Summoner's Circle\n",
      "error searching: Sounds From The Marshes & Elsa Sihvola\n",
      "error searching: Ilona Pointeau\n",
      "error searching: Lou Turner & The Styrofoam Winos\n",
      "error searching: Dimlite\n",
      "error searching: RARE FUTURES ////\n",
      "error searching: Joey Churko & The Drop-Outs\n",
      "error searching: Jonson\n",
      "error searching: ParadoxVestige\n",
      "error searching: Bottin feat. Lavinia Claws\n",
      "error searching: Night Nail\n",
      "error searching: Impulse + Submerged / Submerged + Flea Accela\n",
      "error searching: FullaFaith\n",
      "error searching: CYBEREALITYライフ\n",
      "error searching: Lonelyspeck\n",
      "error searching: The Floozies\n",
      "error searching: Havel\n",
      "error searching: NANI NANI KIDS\n",
      "error searching: SHREDDER\n",
      "error searching: Mystral\n",
      "error searching: Bozack Morris Presents\n",
      "error searching: 1995 Zellers\n",
      "error searching: Christopher Cerrone, Marc Lowenstein, Cedric Berry, Ashley Faatoalia, Delaram Kamareh, Ashley Knight\n",
      "error searching: Accela / Process\n",
      "error searching: Eunoïa\n",
      "error searching: Bengee\n",
      "error searching: Brendon Moeller\n",
      "error searching: Precious Jules\n",
      "error searching: Oklou\n",
      "error searching: IAMSANI\n",
      "error searching: Malala & Pink Flamingo\n",
      "error searching: DETROIT DIESEL\n",
      "error searching: Outblinker\n",
      "error searching: Muckafurgason\n",
      "error searching: Submanifold\n",
      "error searching: Red Robin\n",
      "error searching: Butch County\n",
      "error searching: Leet\n",
      "error searching: Fake Tides\n",
      "error searching: Black Marvin\n",
      "error searching: Semen & Garfuckel\n",
      "error searching: White Walls\n",
      "error searching: Cruz de Navajas\n",
      "error searching: Eschaton and Parallel\n",
      "error searching: B12 Records\n",
      "error searching: Alex Jones\n",
      "error searching: Sinicle\n",
      "error searching: Andreas Florin\n",
      "error searching: Woven In\n",
      "error searching: Gelbart\n",
      "error searching: Centre Source Records\n",
      "error searching: Vandroya\n",
      "error searching: Devon Welsh\n",
      "error searching: The Southern Ocean Sea Band\n",
      "error searching: Post Pluto\n",
      "error searching: Damnations Day\n",
      "error searching: Malevich\n",
      "error searching: Polaris and Krzysztof Horn\n",
      "error searching: Kalidia\n",
      "error searching: Chevalier\n",
      "error searching: Lenore.\n",
      "error searching: Virus Productions\n",
      "error searching: Entertainment Law\n",
      "error searching: AKATHARTA\n",
      "error searching: MANAS\n",
      "error searching: Bullet\n",
      "error searching: Svarga\n",
      "error searching: The Pajammas\n",
      "error searching: Simon Wilkinson\n",
      "error searching: Tintamare\n",
      "error searching: Born Without Bones\n",
      "error searching: TryHardNinja\n",
      "error searching: Self Proclaimed Narcissist\n",
      "error searching: Volvo Physics\n",
      "error searching: FANGS on FUR\n",
      "error searching: Aidan Knight\n",
      "error searching: Smith. X Spankalicious\n",
      "error searching: Villins\n",
      "error searching: Yoe Mase\n",
      "error searching: Morgan Ågren, Henry Kaiser, Trey Gunn\n",
      "error searching: Bilirubin\n",
      "error searching: Sam de la Vega\n",
      "error searching: Flat Sucks\n",
      "error searching: Jessie Davis\n",
      "error searching: Alexis Antes\n",
      "error searching: The Boys\n",
      "error searching: Rastaban\n",
      "error searching: Subversive Intentions\n",
      "error searching: Curt Quinn\n",
      "error searching: Dj Asfalte\n",
      "error searching: Sissy Spacek\n",
      "error searching: CainTheBoss\n",
      "error searching: Herr von und zu Nein\n",
      "error searching: Anri Jamid\n",
      "error searching: Onryō\n",
      "error searching: Breaka\n",
      "error searching: The Royal High Jinx\n",
      "error searching: Swans of Never\n",
      "error searching: Henry Bemis is a Superhero\n",
      "error searching: The Dimples\n",
      "error searching: Charivari\n",
      "error searching: Cranely Gardens\n",
      "error searching: Occlude\n",
      "error searching: Cognizant\n",
      "error searching: Vapors of Morphine\n",
      "error searching: Le Pine\n",
      "error searching: Sunstroke\n",
      "error searching: Darts & Arrows\n",
      "error searching: Daniel Greiner\n",
      "error searching: Dérive\n",
      "error searching: The Quick Brown Fox\n",
      "error searching: loops de la crème\n",
      "error searching: CBS\n",
      "error searching: Big Bliss\n",
      "error searching: staHHr\n",
      "error searching: Ariel View\n",
      "error searching: lofter\n",
      "error searching: Empty\n",
      "error searching: Sound Architects\n",
      "error searching: Metanite\n",
      "error searching: Ramteen\n",
      "error searching: PLAMA\n",
      "error searching: Justin Cudmore\n",
      "error searching: Serendip Lab\n",
      "error searching: Karun Ramani\n",
      "error searching: Modigs\n",
      "error searching: syndrome 81\n",
      "error searching: Teams\n",
      "error searching: Been Stellar\n",
      "error searching: duranduranduran\n",
      "error searching: Sapphire Slows\n",
      "error searching: The Nods\n",
      "error searching: Rokk Mass Entertainment\n",
      "error searching: J.C. Schütz\n",
      "error searching: Sowulo\n",
      "error searching: Sabrepulse\n",
      "error searching: Ninfas\n",
      "error searching: Small Culture\n",
      "error searching: NON\n",
      "error searching: Masta Gravity\n",
      "error searching: Lady Desirée\n",
      "error searching: Artie Enso\n",
      "error searching: DJ Noriken\n",
      "error searching: Toby Fox\n",
      "error searching: Spacelectro\n",
      "error searching: KXLT\n",
      "error searching: Unceremonial\n",
      "error searching: the tidal sleep\n",
      "error searching: Pharmakustik & Thorsten Soltau\n",
      "error searching: JUNNAGAOSA & AQUiDELA\n",
      "error searching: Reaper\n",
      "error searching: Sex Work Sounds\n",
      "error searching: Hum / Kryptogen Rundfunk\n",
      "error searching: Slimey Things\n",
      "error searching: Lord Echo ft Mara TK\n",
      "error searching: Bailey Wiley\n",
      "error searching: Death Signals\n",
      "error searching: The Tills\n",
      "error searching: Balance of Terror\n",
      "error searching: psalters\n",
      "error searching: sons of sofa\n",
      "error searching: Shuko & F. Of Audiotreats\n",
      "error searching: Party Cannon\n",
      "error searching: Shuko\n",
      "error searching: Super Guitar Bros\n",
      "error searching: Adiós Mundo Cruel\n",
      "error searching: Antonio & Curtis Heron\n",
      "error searching: Kandle\n",
      "error searching: The STACKS\n",
      "error searching: The Hotelier\n",
      "error searching: The Map Room\n",
      "error searching: Savage Kulture\n",
      "error searching: el morabba3\n",
      "error searching: Louis Baker\n",
      "error searching: Raw Collective\n",
      "error searching: Rosehip Orchestra\n",
      "error searching: El Golpe Ska\n",
      "error searching: Tom Brosseau\n",
      "error searching: State of the Union\n",
      "error searching: Sena Dagadu\n",
      "error searching: Sundecay\n",
      "error searching: wimps\n",
      "error searching: The Malady of Sevendials\n",
      "error searching: Warforged\n",
      "error searching: Clay Krucial Perry III,\n",
      "error searching: BENICE\n",
      "error searching: D-Lo\n",
      "error searching: Los Disidentes Del Sucio Motel\n",
      "error searching: Zontarian Moments\n",
      "error searching: Stella Donnelly\n",
      "error searching: PITY PARTY(GIRLS CLUB)\n",
      "error searching: Les Bicyclettes de Belsize\n",
      "error searching: Wanwan\n",
      "error searching: Geneviève Racette\n",
      "error searching: Madwreck\n",
      "error searching: Plastic Faction\n",
      "error searching: Genome6.66Mbp\n",
      "error searching: Crushed Vinyl\n",
      "error searching: Juel's House\n",
      "error searching: The Unhappy Birthdays\n",
      "error searching: DJ Amaya\n",
      "error searching: jib kidder\n",
      "error searching: Herva\n",
      "error searching: Rolo Tomassi\n",
      "error searching: mewithoutYou\n",
      "error searching: Orphic\n",
      "error searching: Reckno\n",
      "error searching: balam acab\n",
      "error searching: 12. Shadient\n",
      "error searching: GGU:LL\n",
      "error searching: Groeni\n",
      "error searching: the Swamp Monsters!\n",
      "error searching: midnighthappy\n",
      "error searching: The Maskeraders\n",
      "error searching: Abuse of Power\n",
      "error searching: Ducky Senpai\n",
      "error searching: G.R.I.T.\n",
      "error searching: Cquel\n",
      "error searching: AquAplAy\n",
      "error searching: finnocitta\n",
      "error searching: Withered Hand\n",
      "error searching: Dex Amora\n",
      "error searching: SubtomiK\n",
      "error searching: Pg.lost\n",
      "error searching: Tall Shores\n",
      "error searching: Mood481\n",
      "error searching: Ali Baker\n",
      "error searching: Charles Barabé\n",
      "error searching: divorcer\n",
      "error searching: Lil Armstrong\n",
      "error searching: Anchorhead\n",
      "error searching: Typesun\n",
      "error searching: TSTI\n",
      "error searching: Once N For All\n",
      "error searching: 8stops7\n",
      "error searching: Funkanomics\n",
      "error searching: MOIRE PATTERNS\n",
      "error searching: flunkie.\n",
      "error searching: Illusionment\n",
      "error searching: The Funk Hunters and Chali 2na\n",
      "error searching: Greada\n",
      "error searching: Eyedress\n",
      "error searching: K+lab\n",
      "error searching: War Master\n",
      "error searching: Emerson Kay\n",
      "error searching: Rhythmus 23\n",
      "error searching: Leonor Dely\n",
      "error searching: Rocketchip\n",
      "error searching: Marc R.\n",
      "error searching: Su Na & DUVV\n",
      "error searching: Veuve\n",
      "error searching: youlmnfga\n",
      "error searching: Los Animales Superforros\n",
      "error searching: Kaahele\n",
      "error searching: Mish\n",
      "error searching: Low Leaf\n"
     ]
    },
    {
     "name": "stdout",
     "output_type": "stream",
     "text": [
      "error searching: Fyzex\n",
      "error searching: ゴッドOD\n",
      "error searching: Bad Sign\n",
      "error searching: Noizenecio\n",
      "error searching: Sebadoh\n",
      "error searching: Simon Doom\n",
      "error searching: Spectrasonics\n",
      "error searching: Paper Void\n",
      "error searching: Emily Scholz\n",
      "error searching: helen\n",
      "error searching: Arthur Shea\n",
      "error searching: Negative Gain Productions\n",
      "error searching: Old Wives\n",
      "error searching: EAZYBAKED\n",
      "error searching: 忍\n",
      "error searching: Spirit of...\n",
      "error searching: God Said Kill\n",
      "error searching: Merzbow Vs Nordvargr\n",
      "error searching: Holtoug\n",
      "error searching: Mexicoma\n",
      "error searching: Uncle Lucius\n",
      "error searching: KORRONTZI\n",
      "error searching: Idan Raichel\n",
      "error searching: OldJack\n",
      "error searching: The Curtis Mayflower\n",
      "error searching: Pity Sex\n",
      "error searching: Lula Pena\n",
      "error searching: MARTIN NONSTATIC\n",
      "error searching: George Cessna\n",
      "error searching: Cherryweather\n",
      "error searching: Copper Core\n",
      "error searching: BLANKFIELD\n",
      "error searching: Halv Drøm, DSX, Privacy, Sekunde\n",
      "error searching: Brian Grainger\n",
      "error searching: 9 beet superstretch\n",
      "error searching: Husbands\n",
      "error searching: Jean Leloup\n",
      "error searching: The Sequence Incarnate\n",
      "error searching: school shooter\n",
      "error searching: GOOO\n",
      "error searching: Mistress / v1984 / Rabit / Why Be\n",
      "error searching: Christian Death\n",
      "error searching: Jimmy Synthetic\n",
      "error searching: Dent Moses\n",
      "error searching: Hyper\n",
      "error searching: ARCTIC\n",
      "error searching: eleh\n",
      "error searching: Bears and Other Carnivores\n",
      "error searching: Owoso\n",
      "error searching: Submerged vs. Bill Laswell\n",
      "error searching: Vomitself\n",
      "error searching: neck of the woods\n",
      "error searching: Sulfur Giant\n",
      "error searching: Ozama\n",
      "error searching: Generation Of Vipers\n",
      "error searching: Supersónika, Rubio Druida\n",
      "error searching: 313 Acid Queen\n",
      "error searching: Lucille Furs\n",
      "error searching: RPG 7\n",
      "error searching: WHITE SHAPE\n",
      "error searching: Forgotten Kingdoms\n",
      "error searching: BEDFORMS\n",
      "error searching: Juss B & Feonix\n",
      "error searching: WOLFSKULL\n",
      "error searching: Amin Payne\n",
      "error searching: Static Noise Bird\n",
      "error searching: Khan Jamal Creative Arts Ensemble\n",
      "error searching: Danny Mulhern\n",
      "error searching: impakt\n",
      "error searching: ALONE IN THE HOLLOW GARDEN\n",
      "error searching: Evil Waves\n",
      "error searching: Starfox Mulder\n",
      "error searching: San Charbel\n",
      "error searching: The Be Colony\n",
      "error searching: Cairo Jag\n",
      "error searching: Wei Zhongle\n",
      "error searching: Plastic Crimewave Syndicate\n",
      "error searching: Woolymammoth\n",
      "error searching: BYBYE\n",
      "error searching: Human Cull\n",
      "error searching: Joryj Kłoc\n",
      "error searching: Usnea\n",
      "error searching: Jean Jackets\n",
      "error searching: SpeedBird\n",
      "error searching: Woy\n",
      "error searching: Mighty Fang\n",
      "error searching: John Reed\n",
      "error searching: Scout.\n",
      "error searching: Ephemeral Mists\n",
      "error searching: Escape Artists Present...Sons Of Mammal\n",
      "error searching: Suffer In Rot\n",
      "error searching: Piffery Goodz\n",
      "error searching: Si Phili\n",
      "error searching: CYBERCORPSE\n",
      "error searching: Bryte x Gafacci\n",
      "error searching: Ben Matthews\n",
      "error searching: Nokuit\n",
      "error searching: Grisman, Leslie, Hargreaves & Smith\n",
      "error searching: Lilitz\n",
      "error searching: Lád Cúig\n",
      "error searching: Breakforce One\n",
      "error searching: Human Petting Zoo & Kyle hall\n",
      "error searching: Æthenor\n",
      "error searching: Breathless Arbor Vitae\n",
      "error searching: Human Petting Zoo // happy boy\n",
      "error searching: STUTS\n",
      "error searching: Human Petting Zoo // Flower the Skunk\n",
      "error searching: The Neso\n",
      "error searching: Buzz Rodeo\n",
      "error searching: Cassels\n",
      "error searching: Capitol Swizzle Credit\n",
      "error searching: DETROIT UNDERGROUND\n",
      "error searching: Pluperfect\n",
      "error searching: Ospalý Pohyb\n",
      "error searching: Solex City\n",
      "error searching: Capstan\n",
      "error searching: mesmi\n",
      "error searching: Nosebleed\n",
      "error searching: Bridie Jackson\n",
      "error searching: Pool Cosby\n",
      "error searching: Ashtray Navigations\n",
      "error searching: season of strangers\n",
      "error searching: Lara Madden\n",
      "error searching: Bloody Mummers\n",
      "error searching: Hark! How the Bells\n",
      "error searching: Aereogramme\n",
      "error searching: Eric's Trip\n",
      "error searching: Mussa Kussa\n",
      "error searching: VALD\n",
      "error searching: Jordan Becker\n",
      "error searching: Kris Force, Anni Hogan, Jarboe, Zoe Keating, Meredith Yayanos\n",
      "error searching: BAKER YA MAKER\n",
      "error searching: Glenn Underground\n",
      "error searching: Kali Phoenix\n",
      "error searching: Sea Offs\n",
      "error searching: Inward Creature\n",
      "error searching: IC Jonez\n",
      "error searching: KMLN\n",
      "error searching: La Bastard\n",
      "error searching: Omelette (Jordan Murray, Stephen Magnusson, Mark Shepherd, Ronny Ferella)\n",
      "error searching: Moonstriker\n",
      "error searching: Mircea Tiberian & Toma Dimitriu\n",
      "error searching: Kotovsky\n",
      "error searching: Erik Wollo:\n",
      "error searching: Mike Schommer\n",
      "error searching: The Dixie Giants\n",
      "error searching: Autumn Release Programme 1988\n",
      "error searching: Elurra\n",
      "error searching: METERSE\n",
      "error searching: Tim Burness\n",
      "error searching: Roy Weard\n",
      "error searching: Screaming dEAD Balloons\n",
      "error searching: ibrahim\n",
      "error searching: JCL\n",
      "error searching: ABORTED FETUS\n",
      "error searching: The White Panda\n",
      "error searching: Pyramidal\n",
      "error searching: BecomingTheDevourer\n",
      "error searching: Mytrip\n",
      "error searching: Jeremiah Jae\n",
      "error searching: Jepeto Solutions\n",
      "error searching: Damaged Bug\n",
      "error searching: HERON\n",
      "error searching: Hypnagoga Press\n",
      "error searching: Antimaniax\n",
      "error searching: Marty Friedman\n",
      "error searching: Prof. Winkler\n",
      "error searching: Love Potion\n",
      "error searching: Geoff Barrow and Ben Salisbury\n",
      "error searching: La Fin\n",
      "error searching: ben lukas boysen\n",
      "error searching: Lost Pairadice Records\n",
      "error searching: blake skowron\n",
      "error searching: Planet V\n",
      "error searching: AMB\n",
      "error searching: mdnyt\n",
      "error searching: Re|eece\n",
      "error searching: 地獄の宮殿の巫女\n",
      "error searching: Hell and Mizmor\n",
      "error searching: Jakob Juhkam\n",
      "error searching: whitney ballen\n",
      "error searching: Leather Lung\n",
      "error searching: Boyz & Girl\n",
      "error searching: KAL\n",
      "error searching: No One is Joking\n",
      "error searching: Mat Jr\n",
      "error searching: Dorisburg & Efraim Kent\n"
     ]
    }
   ],
   "source": [
    "for artist in artist_names[28050:]:\n",
    "    if artist not in spotify_df.bc_artist_name.values:\n",
    "        search = sp.search(artist,type='artist',limit=10)\n",
    "        try:\n",
    "            results = search['artists']\n",
    "            try:\n",
    "                item = results['items'][0]\n",
    "                artist_name = item['name']\n",
    "                artist_id = item['id']\n",
    "                artist_spotify_url = item['external_urls']['spotify']\n",
    "                artist_genres = item['genres']\n",
    "                artist_total_followers = item['followers']['total']\n",
    "                artist_popularity = item['popularity']\n",
    "                bc_artist_name = artist\n",
    "                sp_artist = sp.artist(artist_id)\n",
    "                related_artists = str(get_related_artists(artist_id))\n",
    "\n",
    "\n",
    "                if not artist_genres:\n",
    "                    artist_genres = 'none'\n",
    "\n",
    "                if artist_name == artist:\n",
    "\n",
    "                    d = {'bc_artist_name':artist,'artist_name':artist_name, 'artist_id':artist_id,\n",
    "                        'artist_spotify_url':artist_spotify_url,'artist_genres':str(artist_genres), \n",
    "                        'artist_total_followers':artist_total_followers,'related_artists_sp':related_artists,\n",
    "                        'match':True,'popularity':artist_popularity}\n",
    "\n",
    "                    spotify_df = spotify_df.append(pd.DataFrame(data = d, index = [0]))\n",
    "\n",
    "                else:\n",
    "                    d = {'bc_artist_name':artist,'artist_name':artist_name, 'artist_id':artist_id,\n",
    "                    'artist_spotify_url':artist_spotify_url,'artist_genres':str(artist_genres), \n",
    "                    'artist_total_followers':artist_total_followers,'related_artists_sp':related_artists,\n",
    "                    'match':False,'popularity':artist_popularity}\n",
    "\n",
    "                    spotify_df = spotify_df.append(pd.DataFrame(data = d, index = [0]))\n",
    "\n",
    "            except:\n",
    "                d = {'bc_artist_name':artist,'artist_name':'none', 'artist_id':artist_id,\n",
    "                'artist_spotify_url':'none','artist_genres':'none', \n",
    "                'artist_total_followers':'none','related_artists_sp':'none',\n",
    "                'match':False,'popularity':'none'}\n",
    "\n",
    "                spotify_df = spotify_df.append(pd.DataFrame(data = d, index = [0]))\n",
    "                spotify_df.to_csv('/Users/shayneufeld/Dropbox/insight/pricecamp/spotify_df.csv')\n",
    "        except:\n",
    "            print('error searching: %s' % artist)"
   ]
  },
  {
   "cell_type": "code",
   "execution_count": 184,
   "metadata": {},
   "outputs": [],
   "source": [
    "spotify_df.to_csv('/Users/shayneufeld/Dropbox/insight/pricecamp/spotify_df.csv')"
   ]
  },
  {
   "cell_type": "code",
   "execution_count": null,
   "metadata": {
    "collapsed": true
   },
   "outputs": [],
   "source": []
  },
  {
   "cell_type": "code",
   "execution_count": 30,
   "metadata": {
    "scrolled": true
   },
   "outputs": [
    {
     "data": {
      "text/plain": [
       "(28050, 13)"
      ]
     },
     "execution_count": 30,
     "metadata": {},
     "output_type": "execute_result"
    }
   ],
   "source": [
    "spotify_df.shape"
   ]
  },
  {
   "cell_type": "code",
   "execution_count": 31,
   "metadata": {},
   "outputs": [
    {
     "data": {
      "text/html": [
       "<div>\n",
       "<style>\n",
       "    .dataframe thead tr:only-child th {\n",
       "        text-align: right;\n",
       "    }\n",
       "\n",
       "    .dataframe thead th {\n",
       "        text-align: left;\n",
       "    }\n",
       "\n",
       "    .dataframe tbody tr th {\n",
       "        vertical-align: top;\n",
       "    }\n",
       "</style>\n",
       "<table border=\"1\" class=\"dataframe\">\n",
       "  <thead>\n",
       "    <tr style=\"text-align: right;\">\n",
       "      <th></th>\n",
       "      <th>Unnamed: 0</th>\n",
       "      <th>Unnamed: 0.1</th>\n",
       "      <th>Unnamed: 0.1.1</th>\n",
       "      <th>Unnamed: 0.1.1</th>\n",
       "      <th>artist_genres</th>\n",
       "      <th>artist_id</th>\n",
       "      <th>artist_name</th>\n",
       "      <th>artist_spotify_url</th>\n",
       "      <th>artist_total_followers</th>\n",
       "      <th>bc_artist_name</th>\n",
       "      <th>match</th>\n",
       "      <th>popularity</th>\n",
       "      <th>related_artists_sp</th>\n",
       "    </tr>\n",
       "  </thead>\n",
       "  <tbody>\n",
       "    <tr>\n",
       "      <th>0</th>\n",
       "      <td>0</td>\n",
       "      <td>0.0</td>\n",
       "      <td>0.0</td>\n",
       "      <td>0.0</td>\n",
       "      <td>none</td>\n",
       "      <td>3cOzi726Iav1toV2LRVEjp</td>\n",
       "      <td>Ali Siddiq</td>\n",
       "      <td>https://open.spotify.com/artist/3cOzi726Iav1to...</td>\n",
       "      <td>1019</td>\n",
       "      <td>SIDDIQ</td>\n",
       "      <td>False</td>\n",
       "      <td>27</td>\n",
       "      <td>['Melanie Comarcho', 'Red Grant', 'Faizon Love...</td>\n",
       "    </tr>\n",
       "    <tr>\n",
       "      <th>1</th>\n",
       "      <td>1</td>\n",
       "      <td>1.0</td>\n",
       "      <td>0.0</td>\n",
       "      <td>0.0</td>\n",
       "      <td>['alternative metal', 'christian alternative r...</td>\n",
       "      <td>1d5wNTZ8WZYE5WuXXjug9w</td>\n",
       "      <td>Egypt Central</td>\n",
       "      <td>https://open.spotify.com/artist/1d5wNTZ8WZYE5W...</td>\n",
       "      <td>63527</td>\n",
       "      <td>EGYPT</td>\n",
       "      <td>False</td>\n",
       "      <td>59</td>\n",
       "      <td>['Rev Theory', 'Adelitas Way', 'Evans Blue', '...</td>\n",
       "    </tr>\n",
       "    <tr>\n",
       "      <th>2</th>\n",
       "      <td>2</td>\n",
       "      <td>2.0</td>\n",
       "      <td>0.0</td>\n",
       "      <td>0.0</td>\n",
       "      <td>['deep psytrance']</td>\n",
       "      <td>4mcgQslFqVoXe78ADfBoLX</td>\n",
       "      <td>Whitebear</td>\n",
       "      <td>https://open.spotify.com/artist/4mcgQslFqVoXe7...</td>\n",
       "      <td>3264</td>\n",
       "      <td>Whitebear</td>\n",
       "      <td>True</td>\n",
       "      <td>27</td>\n",
       "      <td>['Mr. Bill', 'Bumble', 'Kalya Scintilla', 'SIX...</td>\n",
       "    </tr>\n",
       "    <tr>\n",
       "      <th>3</th>\n",
       "      <td>3</td>\n",
       "      <td>3.0</td>\n",
       "      <td>0.0</td>\n",
       "      <td>0.0</td>\n",
       "      <td>none</td>\n",
       "      <td>4mcgQslFqVoXe78ADfBoLX</td>\n",
       "      <td>none</td>\n",
       "      <td>none</td>\n",
       "      <td>none</td>\n",
       "      <td>Tiny Waves</td>\n",
       "      <td>False</td>\n",
       "      <td>none</td>\n",
       "      <td>none</td>\n",
       "    </tr>\n",
       "    <tr>\n",
       "      <th>4</th>\n",
       "      <td>4</td>\n",
       "      <td>4.0</td>\n",
       "      <td>0.0</td>\n",
       "      <td>0.0</td>\n",
       "      <td>none</td>\n",
       "      <td>43YBvuW0iMYrQlpSsJJQWp</td>\n",
       "      <td>We Were Friends</td>\n",
       "      <td>https://open.spotify.com/artist/43YBvuW0iMYrQl...</td>\n",
       "      <td>69</td>\n",
       "      <td>We Were Friends</td>\n",
       "      <td>True</td>\n",
       "      <td>3</td>\n",
       "      <td>['Matt Steele', 'Flowerpot Press', 'The Auspic...</td>\n",
       "    </tr>\n",
       "  </tbody>\n",
       "</table>\n",
       "</div>"
      ],
      "text/plain": [
       "   Unnamed: 0  Unnamed: 0.1  Unnamed: 0.1.1  Unnamed: 0.1.1  \\\n",
       "0           0           0.0             0.0             0.0   \n",
       "1           1           1.0             0.0             0.0   \n",
       "2           2           2.0             0.0             0.0   \n",
       "3           3           3.0             0.0             0.0   \n",
       "4           4           4.0             0.0             0.0   \n",
       "\n",
       "                                       artist_genres               artist_id  \\\n",
       "0                                               none  3cOzi726Iav1toV2LRVEjp   \n",
       "1  ['alternative metal', 'christian alternative r...  1d5wNTZ8WZYE5WuXXjug9w   \n",
       "2                                 ['deep psytrance']  4mcgQslFqVoXe78ADfBoLX   \n",
       "3                                               none  4mcgQslFqVoXe78ADfBoLX   \n",
       "4                                               none  43YBvuW0iMYrQlpSsJJQWp   \n",
       "\n",
       "       artist_name                                 artist_spotify_url  \\\n",
       "0       Ali Siddiq  https://open.spotify.com/artist/3cOzi726Iav1to...   \n",
       "1    Egypt Central  https://open.spotify.com/artist/1d5wNTZ8WZYE5W...   \n",
       "2        Whitebear  https://open.spotify.com/artist/4mcgQslFqVoXe7...   \n",
       "3             none                                               none   \n",
       "4  We Were Friends  https://open.spotify.com/artist/43YBvuW0iMYrQl...   \n",
       "\n",
       "  artist_total_followers   bc_artist_name  match popularity  \\\n",
       "0                   1019           SIDDIQ  False         27   \n",
       "1                  63527            EGYPT  False         59   \n",
       "2                   3264        Whitebear   True         27   \n",
       "3                   none       Tiny Waves  False       none   \n",
       "4                     69  We Were Friends   True          3   \n",
       "\n",
       "                                  related_artists_sp  \n",
       "0  ['Melanie Comarcho', 'Red Grant', 'Faizon Love...  \n",
       "1  ['Rev Theory', 'Adelitas Way', 'Evans Blue', '...  \n",
       "2  ['Mr. Bill', 'Bumble', 'Kalya Scintilla', 'SIX...  \n",
       "3                                               none  \n",
       "4  ['Matt Steele', 'Flowerpot Press', 'The Auspic...  "
      ]
     },
     "execution_count": 31,
     "metadata": {},
     "output_type": "execute_result"
    }
   ],
   "source": [
    "spotify_df.head(5)"
   ]
  },
  {
   "cell_type": "code",
   "execution_count": 24,
   "metadata": {},
   "outputs": [
    {
     "data": {
      "text/plain": [
       "'Clonepa'"
      ]
     },
     "execution_count": 24,
     "metadata": {},
     "output_type": "execute_result"
    }
   ],
   "source": [
    "artist"
   ]
  },
  {
   "cell_type": "code",
   "execution_count": 152,
   "metadata": {},
   "outputs": [],
   "source": [
    "search = sp.search('follow me not',type='artist',limit=10)\n",
    "results = search['artists']"
   ]
  },
  {
   "cell_type": "code",
   "execution_count": 136,
   "metadata": {},
   "outputs": [
    {
     "data": {
      "text/plain": [
       "52635"
      ]
     },
     "execution_count": 136,
     "metadata": {},
     "output_type": "execute_result"
    }
   ],
   "source": [
    "df.artist_name.value_counts().values.sum()"
   ]
  },
  {
   "cell_type": "code",
   "execution_count": 127,
   "metadata": {},
   "outputs": [
    {
     "data": {
      "text/plain": [
       "173"
      ]
     },
     "execution_count": 127,
     "metadata": {},
     "output_type": "execute_result"
    }
   ],
   "source": [
    "mismatch_df.shape[0]"
   ]
  },
  {
   "cell_type": "code",
   "execution_count": 124,
   "metadata": {},
   "outputs": [
    {
     "data": {
      "text/plain": [
       "24636"
      ]
     },
     "execution_count": 124,
     "metadata": {},
     "output_type": "execute_result"
    }
   ],
   "source": [
    "df.artist_name.unique().shape[0]"
   ]
  },
  {
   "cell_type": "code",
   "execution_count": 125,
   "metadata": {},
   "outputs": [
    {
     "data": {
      "text/plain": [
       "52636"
      ]
     },
     "execution_count": 125,
     "metadata": {},
     "output_type": "execute_result"
    }
   ],
   "source": [
    "df.shape[0]"
   ]
  },
  {
   "cell_type": "markdown",
   "metadata": {},
   "source": [
    "may want to try and match an album as well (or maybe or an album?)"
   ]
  },
  {
   "cell_type": "code",
   "execution_count": 113,
   "metadata": {
    "scrolled": true
   },
   "outputs": [
    {
     "data": {
      "text/html": [
       "<div>\n",
       "<style>\n",
       "    .dataframe thead tr:only-child th {\n",
       "        text-align: right;\n",
       "    }\n",
       "\n",
       "    .dataframe thead th {\n",
       "        text-align: left;\n",
       "    }\n",
       "\n",
       "    .dataframe tbody tr th {\n",
       "        vertical-align: top;\n",
       "    }\n",
       "</style>\n",
       "<table border=\"1\" class=\"dataframe\">\n",
       "  <thead>\n",
       "    <tr style=\"text-align: right;\">\n",
       "      <th></th>\n",
       "      <th>artist_genres</th>\n",
       "      <th>artist_id</th>\n",
       "      <th>artist_name</th>\n",
       "      <th>artist_spotify_url</th>\n",
       "      <th>artist_total_followers</th>\n",
       "      <th>bc_artist_name</th>\n",
       "    </tr>\n",
       "  </thead>\n",
       "  <tbody>\n",
       "    <tr>\n",
       "      <th>0</th>\n",
       "      <td>['deep psytrance']</td>\n",
       "      <td>4mcgQslFqVoXe78ADfBoLX</td>\n",
       "      <td>Whitebear</td>\n",
       "      <td>https://open.spotify.com/artist/4mcgQslFqVoXe7...</td>\n",
       "      <td>3264</td>\n",
       "      <td>Whitebear</td>\n",
       "    </tr>\n",
       "  </tbody>\n",
       "</table>\n",
       "</div>"
      ],
      "text/plain": [
       "        artist_genres               artist_id artist_name  \\\n",
       "0  ['deep psytrance']  4mcgQslFqVoXe78ADfBoLX   Whitebear   \n",
       "\n",
       "                                  artist_spotify_url  artist_total_followers  \\\n",
       "0  https://open.spotify.com/artist/4mcgQslFqVoXe7...                    3264   \n",
       "\n",
       "  bc_artist_name  \n",
       "0      Whitebear  "
      ]
     },
     "execution_count": 113,
     "metadata": {},
     "output_type": "execute_result"
    }
   ],
   "source": [
    "spotify_df"
   ]
  },
  {
   "cell_type": "code",
   "execution_count": 65,
   "metadata": {},
   "outputs": [
    {
     "data": {
      "text/plain": [
       "3264"
      ]
     },
     "execution_count": 65,
     "metadata": {},
     "output_type": "execute_result"
    }
   ],
   "source": [
    "artist_total_followers"
   ]
  },
  {
   "cell_type": "code",
   "execution_count": 92,
   "metadata": {},
   "outputs": [
    {
     "data": {
      "text/plain": [
       "'deep psytrance'"
      ]
     },
     "execution_count": 92,
     "metadata": {},
     "output_type": "execute_result"
    }
   ],
   "source": [
    "artist_genres[0]"
   ]
  }
 ],
 "metadata": {
  "kernelspec": {
   "display_name": "Python 3",
   "language": "python",
   "name": "python3"
  },
  "language_info": {
   "codemirror_mode": {
    "name": "ipython",
    "version": 3
   },
   "file_extension": ".py",
   "mimetype": "text/x-python",
   "name": "python",
   "nbconvert_exporter": "python",
   "pygments_lexer": "ipython3",
   "version": "3.6.1"
  }
 },
 "nbformat": 4,
 "nbformat_minor": 2
}
